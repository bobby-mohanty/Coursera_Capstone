{
  "cells": [
    {
      "cell_type": "markdown",
      "source": [
        "# Capstone Project - Neighborhoods in Toronto\n",
        "\n",
        "## PART 1\n",
        "### Scraping data from Wikipedia\n",
        "\n",
        "##### Import Libraries and get Web source data"
      ],
      "attachments": {},
      "metadata": {}
    },
    {
      "cell_type": "code",
      "source": [
        "# Install lxml parser\n",
        "!pip install lxml\n",
        "!pip install beautifulsoup4\n",
        "!pip install requests\n",
        "\n",
        "print(\"Libraries installed..\")\n",
        "\n",
        "#Import libraries\n",
        "import requests\n",
        "import json\n",
        "import pandas as pd\n",
        "import numpy as np\n",
        "from bs4 import BeautifulSoup as bs\n",
        "from pandas import json_normalize # tranform JSON file into a pandas dataframe\n",
        "\n",
        "# Matplotlib and associated plotting modules\n",
        "import matplotlib.cm as cm\n",
        "import matplotlib.colors as colors\n",
        "\n",
        "# import k-means from clustering stage\n",
        "from sklearn.cluster import KMeans"
      ],
      "execution_count": 1,
      "outputs": [
        {
          "output_type": "stream",
          "name": "stdout",
          "text": [
            "Requirement already satisfied: lxml in c:\\users\\bobby mohanty\\appdata\\local\\programs\\python\\python39\\lib\\site-packages (4.6.3)WARNING: You are using pip version 21.1.2; however, version 21.1.3 is available.\n",
            "You should consider upgrading via the 'c:\\users\\bobby mohanty\\appdata\\local\\programs\\python\\python39\\python.exe -m pip install --upgrade pip' command.\n",
            "\n",
            "Requirement already satisfied: beautifulsoup4 in c:\\users\\bobby mohanty\\appdata\\local\\programs\\python\\python39\\lib\\site-packages (4.9.3)WARNING: You are using pip version 21.1.2; however, version 21.1.3 is available.\n",
            "You should consider upgrading via the 'c:\\users\\bobby mohanty\\appdata\\local\\programs\\python\\python39\\python.exe -m pip install --upgrade pip' command.\n",
            "\n",
            "Requirement already satisfied: soupsieve>1.2 in c:\\users\\bobby mohanty\\appdata\\local\\programs\\python\\python39\\lib\\site-packages (from beautifulsoup4) (2.2.1)\n",
            "WARNING: You are using pip version 21.1.2; however, version 21.1.3 is available.\n",
            "You should consider upgrading via the 'c:\\users\\bobby mohanty\\appdata\\local\\programs\\python\\python39\\python.exe -m pip install --upgrade pip' command.\n",
            "Requirement already satisfied: requests in c:\\users\\bobby mohanty\\appdata\\local\\programs\\python\\python39\\lib\\site-packages (2.25.1)\n",
            "Requirement already satisfied: certifi>=2017.4.17 in c:\\users\\bobby mohanty\\appdata\\local\\programs\\python\\python39\\lib\\site-packages (from requests) (2021.5.30)\n",
            "Requirement already satisfied: idna<3,>=2.5 in c:\\users\\bobby mohanty\\appdata\\local\\programs\\python\\python39\\lib\\site-packages (from requests) (2.10)\n",
            "Requirement already satisfied: urllib3<1.27,>=1.21.1 in c:\\users\\bobby mohanty\\appdata\\local\\programs\\python\\python39\\lib\\site-packages (from requests) (1.26.5)\n",
            "Requirement already satisfied: chardet<5,>=3.0.2 in c:\\users\\bobby mohanty\\appdata\\local\\programs\\python\\python39\\lib\\site-packages (from requests) (4.0.0)\n",
            "Libraries installed..\n"
          ]
        }
      ],
      "metadata": {}
    },
    {
      "cell_type": "code",
      "source": [
        "# Load Data from Wikipedia\n",
        "web_data = requests.get('https://en.wikipedia.org/wiki/List_of_postal_codes_of_Canada:_M')\n",
        "print(\"Web data loaded..\")"
      ],
      "execution_count": 2,
      "outputs": [
        {
          "output_type": "stream",
          "name": "stdout",
          "text": [
            "Web data loaded..\n"
          ]
        }
      ],
      "metadata": {}
    },
    {
      "cell_type": "markdown",
      "source": [
        "##### Scraping web source data "
      ],
      "attachments": {},
      "metadata": {}
    },
    {
      "cell_type": "code",
      "source": [
        "# initialise the beautiful soup object with 'lxml' parser\n",
        "soup = bs(web_data.text, 'lxml')\n",
        "\n",
        "#using soup object, iterate the .wikitable to get the data from the HTML page and store it into a list\n",
        "table_contents=[]\n",
        "table=soup.find('table')\n",
        "for row in table.findAll('td'):\n",
        "    cell = {}\n",
        "    if row.span.text=='Not assigned':\n",
        "        pass\n",
        "    else:\n",
        "        cell['PostalCode'] = row.p.text[:3]\n",
        "        cell['Borough'] = (row.span.text).split('(')[0]\n",
        "        cell['Neighborhood'] = (((((row.span.text).split('(')[1]).strip(')')).replace(' /',',')).replace(')',' ')).strip(' ')\n",
        "        table_contents.append(cell)"
      ],
      "execution_count": 3,
      "outputs": [],
      "metadata": {}
    },
    {
      "cell_type": "code",
      "source": [
        "df = pd.DataFrame(table_contents)\n",
        "df.head()"
      ],
      "execution_count": 4,
      "outputs": [
        {
          "output_type": "execute_result",
          "data": {
            "text/plain": [
              "  PostalCode           Borough                      Neighborhood\n",
              "0        M3A        North York                         Parkwoods\n",
              "1        M4A        North York                  Victoria Village\n",
              "2        M5A  Downtown Toronto         Regent Park, Harbourfront\n",
              "3        M6A        North York  Lawrence Manor, Lawrence Heights\n",
              "4        M7A      Queen's Park     Ontario Provincial Government"
            ],
            "text/html": "<div>\n<style scoped>\n    .dataframe tbody tr th:only-of-type {\n        vertical-align: middle;\n    }\n\n    .dataframe tbody tr th {\n        vertical-align: top;\n    }\n\n    .dataframe thead th {\n        text-align: right;\n    }\n</style>\n<table border=\"1\" class=\"dataframe\">\n  <thead>\n    <tr style=\"text-align: right;\">\n      <th></th>\n      <th>PostalCode</th>\n      <th>Borough</th>\n      <th>Neighborhood</th>\n    </tr>\n  </thead>\n  <tbody>\n    <tr>\n      <th>0</th>\n      <td>M3A</td>\n      <td>North York</td>\n      <td>Parkwoods</td>\n    </tr>\n    <tr>\n      <th>1</th>\n      <td>M4A</td>\n      <td>North York</td>\n      <td>Victoria Village</td>\n    </tr>\n    <tr>\n      <th>2</th>\n      <td>M5A</td>\n      <td>Downtown Toronto</td>\n      <td>Regent Park, Harbourfront</td>\n    </tr>\n    <tr>\n      <th>3</th>\n      <td>M6A</td>\n      <td>North York</td>\n      <td>Lawrence Manor, Lawrence Heights</td>\n    </tr>\n    <tr>\n      <th>4</th>\n      <td>M7A</td>\n      <td>Queen's Park</td>\n      <td>Ontario Provincial Government</td>\n    </tr>\n  </tbody>\n</table>\n</div>"
          },
          "metadata": {},
          "execution_count": 4
        }
      ],
      "metadata": {}
    },
    {
      "cell_type": "code",
      "source": [
        "# Dataframe Grouped by Postcode and joined with \",\"\n",
        "grpdf = df.groupby(['PostalCode','Borough'], as_index=False, sort=False).agg(','.join)\n",
        "grpdf.head()"
      ],
      "execution_count": 5,
      "outputs": [
        {
          "output_type": "execute_result",
          "data": {
            "text/plain": [
              "  PostalCode           Borough                      Neighborhood\n",
              "0        M3A        North York                         Parkwoods\n",
              "1        M4A        North York                  Victoria Village\n",
              "2        M5A  Downtown Toronto         Regent Park, Harbourfront\n",
              "3        M6A        North York  Lawrence Manor, Lawrence Heights\n",
              "4        M7A      Queen's Park     Ontario Provincial Government"
            ],
            "text/html": "<div>\n<style scoped>\n    .dataframe tbody tr th:only-of-type {\n        vertical-align: middle;\n    }\n\n    .dataframe tbody tr th {\n        vertical-align: top;\n    }\n\n    .dataframe thead th {\n        text-align: right;\n    }\n</style>\n<table border=\"1\" class=\"dataframe\">\n  <thead>\n    <tr style=\"text-align: right;\">\n      <th></th>\n      <th>PostalCode</th>\n      <th>Borough</th>\n      <th>Neighborhood</th>\n    </tr>\n  </thead>\n  <tbody>\n    <tr>\n      <th>0</th>\n      <td>M3A</td>\n      <td>North York</td>\n      <td>Parkwoods</td>\n    </tr>\n    <tr>\n      <th>1</th>\n      <td>M4A</td>\n      <td>North York</td>\n      <td>Victoria Village</td>\n    </tr>\n    <tr>\n      <th>2</th>\n      <td>M5A</td>\n      <td>Downtown Toronto</td>\n      <td>Regent Park, Harbourfront</td>\n    </tr>\n    <tr>\n      <th>3</th>\n      <td>M6A</td>\n      <td>North York</td>\n      <td>Lawrence Manor, Lawrence Heights</td>\n    </tr>\n    <tr>\n      <th>4</th>\n      <td>M7A</td>\n      <td>Queen's Park</td>\n      <td>Ontario Provincial Government</td>\n    </tr>\n  </tbody>\n</table>\n</div>"
          },
          "metadata": {},
          "execution_count": 5
        }
      ],
      "metadata": {}
    },
    {
      "cell_type": "code",
      "source": [
        "print(\"Dataframe shape : \", grpdf.shape)"
      ],
      "execution_count": 6,
      "outputs": [
        {
          "output_type": "stream",
          "name": "stdout",
          "text": [
            "Dataframe shape :  (103, 3)\n"
          ]
        }
      ],
      "metadata": {}
    },
    {
      "cell_type": "markdown",
      "source": [
        "## PART 2\n",
        "\n",
        "### Get Longitude and Latitude data for postal codes\n",
        "\n",
        "##### Load and initialize geo-spatial dataset"
      ],
      "attachments": {},
      "metadata": {}
    },
    {
      "cell_type": "code",
      "source": [
        "# Retreive the geo-spatial data\n",
        "geoData = 'https://cocl.us/Geospatial_data'\n",
        "# Load the data into a dataFrame\n",
        "geoSpatial = pd.read_csv(geoData)\n",
        "# Rename 'Postal Code' column to 'PostalCode'\n",
        "newdf = geoSpatial.rename(columns ={'Postal Code':'PostalCode'}) \n",
        "newdf.head()"
      ],
      "execution_count": 7,
      "outputs": [
        {
          "output_type": "execute_result",
          "data": {
            "text/plain": [
              "  PostalCode   Latitude  Longitude\n",
              "0        M1B  43.806686 -79.194353\n",
              "1        M1C  43.784535 -79.160497\n",
              "2        M1E  43.763573 -79.188711\n",
              "3        M1G  43.770992 -79.216917\n",
              "4        M1H  43.773136 -79.239476"
            ],
            "text/html": "<div>\n<style scoped>\n    .dataframe tbody tr th:only-of-type {\n        vertical-align: middle;\n    }\n\n    .dataframe tbody tr th {\n        vertical-align: top;\n    }\n\n    .dataframe thead th {\n        text-align: right;\n    }\n</style>\n<table border=\"1\" class=\"dataframe\">\n  <thead>\n    <tr style=\"text-align: right;\">\n      <th></th>\n      <th>PostalCode</th>\n      <th>Latitude</th>\n      <th>Longitude</th>\n    </tr>\n  </thead>\n  <tbody>\n    <tr>\n      <th>0</th>\n      <td>M1B</td>\n      <td>43.806686</td>\n      <td>-79.194353</td>\n    </tr>\n    <tr>\n      <th>1</th>\n      <td>M1C</td>\n      <td>43.784535</td>\n      <td>-79.160497</td>\n    </tr>\n    <tr>\n      <th>2</th>\n      <td>M1E</td>\n      <td>43.763573</td>\n      <td>-79.188711</td>\n    </tr>\n    <tr>\n      <th>3</th>\n      <td>M1G</td>\n      <td>43.770992</td>\n      <td>-79.216917</td>\n    </tr>\n    <tr>\n      <th>4</th>\n      <td>M1H</td>\n      <td>43.773136</td>\n      <td>-79.239476</td>\n    </tr>\n  </tbody>\n</table>\n</div>"
          },
          "metadata": {},
          "execution_count": 7
        }
      ],
      "metadata": {}
    },
    {
      "cell_type": "code",
      "source": [
        "# Merge by column name and create a new dataframe\n",
        "mergedf=pd.merge(grpdf, newdf, on='PostalCode')\n",
        "mergedf.head()"
      ],
      "execution_count": 8,
      "outputs": [
        {
          "output_type": "execute_result",
          "data": {
            "text/plain": [
              "  PostalCode           Borough                      Neighborhood   Latitude  \\\n",
              "0        M3A        North York                         Parkwoods  43.753259   \n",
              "1        M4A        North York                  Victoria Village  43.725882   \n",
              "2        M5A  Downtown Toronto         Regent Park, Harbourfront  43.654260   \n",
              "3        M6A        North York  Lawrence Manor, Lawrence Heights  43.718518   \n",
              "4        M7A      Queen's Park     Ontario Provincial Government  43.662301   \n",
              "\n",
              "   Longitude  \n",
              "0 -79.329656  \n",
              "1 -79.315572  \n",
              "2 -79.360636  \n",
              "3 -79.464763  \n",
              "4 -79.389494  "
            ],
            "text/html": "<div>\n<style scoped>\n    .dataframe tbody tr th:only-of-type {\n        vertical-align: middle;\n    }\n\n    .dataframe tbody tr th {\n        vertical-align: top;\n    }\n\n    .dataframe thead th {\n        text-align: right;\n    }\n</style>\n<table border=\"1\" class=\"dataframe\">\n  <thead>\n    <tr style=\"text-align: right;\">\n      <th></th>\n      <th>PostalCode</th>\n      <th>Borough</th>\n      <th>Neighborhood</th>\n      <th>Latitude</th>\n      <th>Longitude</th>\n    </tr>\n  </thead>\n  <tbody>\n    <tr>\n      <th>0</th>\n      <td>M3A</td>\n      <td>North York</td>\n      <td>Parkwoods</td>\n      <td>43.753259</td>\n      <td>-79.329656</td>\n    </tr>\n    <tr>\n      <th>1</th>\n      <td>M4A</td>\n      <td>North York</td>\n      <td>Victoria Village</td>\n      <td>43.725882</td>\n      <td>-79.315572</td>\n    </tr>\n    <tr>\n      <th>2</th>\n      <td>M5A</td>\n      <td>Downtown Toronto</td>\n      <td>Regent Park, Harbourfront</td>\n      <td>43.654260</td>\n      <td>-79.360636</td>\n    </tr>\n    <tr>\n      <th>3</th>\n      <td>M6A</td>\n      <td>North York</td>\n      <td>Lawrence Manor, Lawrence Heights</td>\n      <td>43.718518</td>\n      <td>-79.464763</td>\n    </tr>\n    <tr>\n      <th>4</th>\n      <td>M7A</td>\n      <td>Queen's Park</td>\n      <td>Ontario Provincial Government</td>\n      <td>43.662301</td>\n      <td>-79.389494</td>\n    </tr>\n  </tbody>\n</table>\n</div>"
          },
          "metadata": {},
          "execution_count": 8
        }
      ],
      "metadata": {}
    },
    {
      "cell_type": "markdown",
      "source": [
        "## PART 3\n",
        "\n",
        "### Analysis on the neighbourhoods of Toronto \n",
        "##### Install and Import folium python module"
      ],
      "attachments": {},
      "metadata": {}
    },
    {
      "cell_type": "code",
      "source": [
        "!pip install folium\n",
        "import folium\n",
        "print('Folium imported')"
      ],
      "execution_count": 9,
      "outputs": [
        {
          "output_type": "stream",
          "name": "stderr",
          "text": [
            "WARNING: You are using pip version 21.1.2; however, version 21.1.3 is available.\n",
            "You should consider upgrading via the 'c:\\users\\bobby mohanty\\appdata\\local\\programs\\python\\python39\\python.exe -m pip install --upgrade pip' command.\n",
            "Requirement already satisfied: folium in c:\\users\\bobby mohanty\\appdata\\local\\programs\\python\\python39\\lib\\site-packages (0.12.1)\n",
            "Requirement already satisfied: numpy in c:\\users\\bobby mohanty\\appdata\\local\\programs\\python\\python39\\lib\\site-packages (from folium) (1.20.3)\n",
            "Requirement already satisfied: jinja2>=2.9 in c:\\users\\bobby mohanty\\appdata\\local\\programs\\python\\python39\\lib\\site-packages (from folium) (3.0.1)\n",
            "Requirement already satisfied: requests in c:\\users\\bobby mohanty\\appdata\\local\\programs\\python\\python39\\lib\\site-packages (from folium) (2.25.1)\n",
            "Requirement already satisfied: branca>=0.3.0 in c:\\users\\bobby mohanty\\appdata\\local\\programs\\python\\python39\\lib\\site-packages (from folium) (0.4.2)\n",
            "Requirement already satisfied: MarkupSafe>=2.0 in c:\\users\\bobby mohanty\\appdata\\local\\programs\\python\\python39\\lib\\site-packages (from jinja2>=2.9->folium) (2.0.1)\n",
            "Requirement already satisfied: idna<3,>=2.5 in c:\\users\\bobby mohanty\\appdata\\local\\programs\\python\\python39\\lib\\site-packages (from requests->folium) (2.10)\n",
            "Requirement already satisfied: urllib3<1.27,>=1.21.1 in c:\\users\\bobby mohanty\\appdata\\local\\programs\\python\\python39\\lib\\site-packages (from requests->folium) (1.26.5)\n",
            "Requirement already satisfied: chardet<5,>=3.0.2 in c:\\users\\bobby mohanty\\appdata\\local\\programs\\python\\python39\\lib\\site-packages (from requests->folium) (4.0.0)\n",
            "Requirement already satisfied: certifi>=2017.4.17 in c:\\users\\bobby mohanty\\appdata\\local\\programs\\python\\python39\\lib\\site-packages (from requests->folium) (2021.5.30)\n",
            "Folium imported\n"
          ]
        }
      ],
      "metadata": {}
    },
    {
      "cell_type": "markdown",
      "source": [
        "### 1. Visualize the dataset as a folium map"
      ],
      "attachments": {},
      "metadata": {}
    },
    {
      "cell_type": "code",
      "source": [
        "# Create folium Map object\n",
        "map_toronto = folium.Map(location=[43.651070, -79.347015], zoom_start=11)\n",
        "\n",
        "# add markers to map\n",
        "for lat, lng, borough, neighborhood in zip(mergedf['Latitude'], mergedf['Longitude'], mergedf['Borough'], mergedf['Neighborhood']):\n",
        "    label = '{}, {}'.format(neighborhood, borough)\n",
        "    label = folium.Popup(label, parse_html=True)\n",
        "    folium.CircleMarker(\n",
        "        [lat, lng],\n",
        "        radius=5,\n",
        "        popup=label,\n",
        "        color='blue',\n",
        "        fill=True,\n",
        "        fill_color='#3186cc',\n",
        "        fill_opacity=0.7,\n",
        "        parse_html=False).add_to(map_toronto) \n",
        "    \n",
        "map_toronto"
      ],
      "execution_count": 10,
      "outputs": [
        {
          "output_type": "execute_result",
          "data": {
            "text/plain": [
              "<folium.folium.Map at 0x2dfbccea8b0>"
            ],
            "text/html": "<div style=\"width:100%;\"><div style=\"position:relative;width:100%;height:0;padding-bottom:60%;\"><span style=\"color:#565656\">Make this Notebook Trusted to load map: File -> Trust Notebook</span><iframe src=\"about:blank\" style=\"position:absolute;width:100%;height:100%;left:0;top:0;border:none !important;\" data-html=%3C%21DOCTYPE%20html%3E%0A%3Chead%3E%20%20%20%20%0A%20%20%20%20%3Cmeta%20http-equiv%3D%22content-type%22%20content%3D%22text/html%3B%20charset%3DUTF-8%22%20/%3E%0A%20%20%20%20%0A%20%20%20%20%20%20%20%20%3Cscript%3E%0A%20%20%20%20%20%20%20%20%20%20%20%20L_NO_TOUCH%20%3D%20false%3B%0A%20%20%20%20%20%20%20%20%20%20%20%20L_DISABLE_3D%20%3D%20false%3B%0A%20%20%20%20%20%20%20%20%3C/script%3E%0A%20%20%20%20%0A%20%20%20%20%3Cstyle%3Ehtml%2C%20body%20%7Bwidth%3A%20100%25%3Bheight%3A%20100%25%3Bmargin%3A%200%3Bpadding%3A%200%3B%7D%3C/style%3E%0A%20%20%20%20%3Cstyle%3E%23map%20%7Bposition%3Aabsolute%3Btop%3A0%3Bbottom%3A0%3Bright%3A0%3Bleft%3A0%3B%7D%3C/style%3E%0A%20%20%20%20%3Cscript%20src%3D%22https%3A//cdn.jsdelivr.net/npm/leaflet%401.6.0/dist/leaflet.js%22%3E%3C/script%3E%0A%20%20%20%20%3Cscript%20src%3D%22https%3A//code.jquery.com/jquery-1.12.4.min.js%22%3E%3C/script%3E%0A%20%20%20%20%3Cscript%20src%3D%22https%3A//maxcdn.bootstrapcdn.com/bootstrap/3.2.0/js/bootstrap.min.js%22%3E%3C/script%3E%0A%20%20%20%20%3Cscript%20src%3D%22https%3A//cdnjs.cloudflare.com/ajax/libs/Leaflet.awesome-markers/2.0.2/leaflet.awesome-markers.js%22%3E%3C/script%3E%0A%20%20%20%20%3Clink%20rel%3D%22stylesheet%22%20href%3D%22https%3A//cdn.jsdelivr.net/npm/leaflet%401.6.0/dist/leaflet.css%22/%3E%0A%20%20%20%20%3Clink%20rel%3D%22stylesheet%22%20href%3D%22https%3A//maxcdn.bootstrapcdn.com/bootstrap/3.2.0/css/bootstrap.min.css%22/%3E%0A%20%20%20%20%3Clink%20rel%3D%22stylesheet%22%20href%3D%22https%3A//maxcdn.bootstrapcdn.com/bootstrap/3.2.0/css/bootstrap-theme.min.css%22/%3E%0A%20%20%20%20%3Clink%20rel%3D%22stylesheet%22%20href%3D%22https%3A//maxcdn.bootstrapcdn.com/font-awesome/4.6.3/css/font-awesome.min.css%22/%3E%0A%20%20%20%20%3Clink%20rel%3D%22stylesheet%22%20href%3D%22https%3A//cdnjs.cloudflare.com/ajax/libs/Leaflet.awesome-markers/2.0.2/leaflet.awesome-markers.css%22/%3E%0A%20%20%20%20%3Clink%20rel%3D%22stylesheet%22%20href%3D%22https%3A//cdn.jsdelivr.net/gh/python-visualization/folium/folium/templates/leaflet.awesome.rotate.min.css%22/%3E%0A%20%20%20%20%0A%20%20%20%20%20%20%20%20%20%20%20%20%3Cmeta%20name%3D%22viewport%22%20content%3D%22width%3Ddevice-width%2C%0A%20%20%20%20%20%20%20%20%20%20%20%20%20%20%20%20initial-scale%3D1.0%2C%20maximum-scale%3D1.0%2C%20user-scalable%3Dno%22%20/%3E%0A%20%20%20%20%20%20%20%20%20%20%20%20%3Cstyle%3E%0A%20%20%20%20%20%20%20%20%20%20%20%20%20%20%20%20%23map_b739a702408f4cecbcc7a66b15e3b8e4%20%7B%0A%20%20%20%20%20%20%20%20%20%20%20%20%20%20%20%20%20%20%20%20position%3A%20relative%3B%0A%20%20%20%20%20%20%20%20%20%20%20%20%20%20%20%20%20%20%20%20width%3A%20100.0%25%3B%0A%20%20%20%20%20%20%20%20%20%20%20%20%20%20%20%20%20%20%20%20height%3A%20100.0%25%3B%0A%20%20%20%20%20%20%20%20%20%20%20%20%20%20%20%20%20%20%20%20left%3A%200.0%25%3B%0A%20%20%20%20%20%20%20%20%20%20%20%20%20%20%20%20%20%20%20%20top%3A%200.0%25%3B%0A%20%20%20%20%20%20%20%20%20%20%20%20%20%20%20%20%7D%0A%20%20%20%20%20%20%20%20%20%20%20%20%3C/style%3E%0A%20%20%20%20%20%20%20%20%0A%3C/head%3E%0A%3Cbody%3E%20%20%20%20%0A%20%20%20%20%0A%20%20%20%20%20%20%20%20%20%20%20%20%3Cdiv%20class%3D%22folium-map%22%20id%3D%22map_b739a702408f4cecbcc7a66b15e3b8e4%22%20%3E%3C/div%3E%0A%20%20%20%20%20%20%20%20%0A%3C/body%3E%0A%3Cscript%3E%20%20%20%20%0A%20%20%20%20%0A%20%20%20%20%20%20%20%20%20%20%20%20var%20map_b739a702408f4cecbcc7a66b15e3b8e4%20%3D%20L.map%28%0A%20%20%20%20%20%20%20%20%20%20%20%20%20%20%20%20%22map_b739a702408f4cecbcc7a66b15e3b8e4%22%2C%0A%20%20%20%20%20%20%20%20%20%20%20%20%20%20%20%20%7B%0A%20%20%20%20%20%20%20%20%20%20%20%20%20%20%20%20%20%20%20%20center%3A%20%5B43.65107%2C%20-79.347015%5D%2C%0A%20%20%20%20%20%20%20%20%20%20%20%20%20%20%20%20%20%20%20%20crs%3A%20L.CRS.EPSG3857%2C%0A%20%20%20%20%20%20%20%20%20%20%20%20%20%20%20%20%20%20%20%20zoom%3A%2011%2C%0A%20%20%20%20%20%20%20%20%20%20%20%20%20%20%20%20%20%20%20%20zoomControl%3A%20true%2C%0A%20%20%20%20%20%20%20%20%20%20%20%20%20%20%20%20%20%20%20%20preferCanvas%3A%20false%2C%0A%20%20%20%20%20%20%20%20%20%20%20%20%20%20%20%20%7D%0A%20%20%20%20%20%20%20%20%20%20%20%20%29%3B%0A%0A%20%20%20%20%20%20%20%20%20%20%20%20%0A%0A%20%20%20%20%20%20%20%20%0A%20%20%20%20%0A%20%20%20%20%20%20%20%20%20%20%20%20var%20tile_layer_6203974c30f74245b72673e6ed009618%20%3D%20L.tileLayer%28%0A%20%20%20%20%20%20%20%20%20%20%20%20%20%20%20%20%22https%3A//%7Bs%7D.tile.openstreetmap.org/%7Bz%7D/%7Bx%7D/%7By%7D.png%22%2C%0A%20%20%20%20%20%20%20%20%20%20%20%20%20%20%20%20%7B%22attribution%22%3A%20%22Data%20by%20%5Cu0026copy%3B%20%5Cu003ca%20href%3D%5C%22http%3A//openstreetmap.org%5C%22%5Cu003eOpenStreetMap%5Cu003c/a%5Cu003e%2C%20under%20%5Cu003ca%20href%3D%5C%22http%3A//www.openstreetmap.org/copyright%5C%22%5Cu003eODbL%5Cu003c/a%5Cu003e.%22%2C%20%22detectRetina%22%3A%20false%2C%20%22maxNativeZoom%22%3A%2018%2C%20%22maxZoom%22%3A%2018%2C%20%22minZoom%22%3A%200%2C%20%22noWrap%22%3A%20false%2C%20%22opacity%22%3A%201%2C%20%22subdomains%22%3A%20%22abc%22%2C%20%22tms%22%3A%20false%7D%0A%20%20%20%20%20%20%20%20%20%20%20%20%29.addTo%28map_b739a702408f4cecbcc7a66b15e3b8e4%29%3B%0A%20%20%20%20%20%20%20%20%0A%20%20%20%20%0A%20%20%20%20%20%20%20%20%20%20%20%20var%20circle_marker_2390eb3342f9401a9fd6a10e228cd6b0%20%3D%20L.circleMarker%28%0A%20%20%20%20%20%20%20%20%20%20%20%20%20%20%20%20%5B43.7532586%2C%20-79.3296565%5D%2C%0A%20%20%20%20%20%20%20%20%20%20%20%20%20%20%20%20%7B%22bubblingMouseEvents%22%3A%20true%2C%20%22color%22%3A%20%22blue%22%2C%20%22dashArray%22%3A%20null%2C%20%22dashOffset%22%3A%20null%2C%20%22fill%22%3A%20true%2C%20%22fillColor%22%3A%20%22%233186cc%22%2C%20%22fillOpacity%22%3A%200.7%2C%20%22fillRule%22%3A%20%22evenodd%22%2C%20%22lineCap%22%3A%20%22round%22%2C%20%22lineJoin%22%3A%20%22round%22%2C%20%22opacity%22%3A%201.0%2C%20%22radius%22%3A%205%2C%20%22stroke%22%3A%20true%2C%20%22weight%22%3A%203%7D%0A%20%20%20%20%20%20%20%20%20%20%20%20%29.addTo%28map_b739a702408f4cecbcc7a66b15e3b8e4%29%3B%0A%20%20%20%20%20%20%20%20%0A%20%20%20%20%0A%20%20%20%20%20%20%20%20var%20popup_cc4e9c8af0f94a66a3f6e2bd4255e685%20%3D%20L.popup%28%7B%22maxWidth%22%3A%20%22100%25%22%7D%29%3B%0A%0A%20%20%20%20%20%20%20%20%0A%20%20%20%20%20%20%20%20%20%20%20%20var%20html_f85d32d9bbd84295bb7cdd079d54df36%20%3D%20%24%28%60%3Cdiv%20id%3D%22html_f85d32d9bbd84295bb7cdd079d54df36%22%20style%3D%22width%3A%20100.0%25%3B%20height%3A%20100.0%25%3B%22%3EParkwoods%2C%20North%20York%3C/div%3E%60%29%5B0%5D%3B%0A%20%20%20%20%20%20%20%20%20%20%20%20popup_cc4e9c8af0f94a66a3f6e2bd4255e685.setContent%28html_f85d32d9bbd84295bb7cdd079d54df36%29%3B%0A%20%20%20%20%20%20%20%20%0A%0A%20%20%20%20%20%20%20%20circle_marker_2390eb3342f9401a9fd6a10e228cd6b0.bindPopup%28popup_cc4e9c8af0f94a66a3f6e2bd4255e685%29%0A%20%20%20%20%20%20%20%20%3B%0A%0A%20%20%20%20%20%20%20%20%0A%20%20%20%20%0A%20%20%20%20%0A%20%20%20%20%20%20%20%20%20%20%20%20var%20circle_marker_38bc700c19664d2387c6d3e3b145ef34%20%3D%20L.circleMarker%28%0A%20%20%20%20%20%20%20%20%20%20%20%20%20%20%20%20%5B43.7258823%2C%20-79.3155716%5D%2C%0A%20%20%20%20%20%20%20%20%20%20%20%20%20%20%20%20%7B%22bubblingMouseEvents%22%3A%20true%2C%20%22color%22%3A%20%22blue%22%2C%20%22dashArray%22%3A%20null%2C%20%22dashOffset%22%3A%20null%2C%20%22fill%22%3A%20true%2C%20%22fillColor%22%3A%20%22%233186cc%22%2C%20%22fillOpacity%22%3A%200.7%2C%20%22fillRule%22%3A%20%22evenodd%22%2C%20%22lineCap%22%3A%20%22round%22%2C%20%22lineJoin%22%3A%20%22round%22%2C%20%22opacity%22%3A%201.0%2C%20%22radius%22%3A%205%2C%20%22stroke%22%3A%20true%2C%20%22weight%22%3A%203%7D%0A%20%20%20%20%20%20%20%20%20%20%20%20%29.addTo%28map_b739a702408f4cecbcc7a66b15e3b8e4%29%3B%0A%20%20%20%20%20%20%20%20%0A%20%20%20%20%0A%20%20%20%20%20%20%20%20var%20popup_abd9b77df0554bbca4a2c422a845867b%20%3D%20L.popup%28%7B%22maxWidth%22%3A%20%22100%25%22%7D%29%3B%0A%0A%20%20%20%20%20%20%20%20%0A%20%20%20%20%20%20%20%20%20%20%20%20var%20html_0c3b9626e7d240eb8c2ec8548a50c31d%20%3D%20%24%28%60%3Cdiv%20id%3D%22html_0c3b9626e7d240eb8c2ec8548a50c31d%22%20style%3D%22width%3A%20100.0%25%3B%20height%3A%20100.0%25%3B%22%3EVictoria%20Village%2C%20North%20York%3C/div%3E%60%29%5B0%5D%3B%0A%20%20%20%20%20%20%20%20%20%20%20%20popup_abd9b77df0554bbca4a2c422a845867b.setContent%28html_0c3b9626e7d240eb8c2ec8548a50c31d%29%3B%0A%20%20%20%20%20%20%20%20%0A%0A%20%20%20%20%20%20%20%20circle_marker_38bc700c19664d2387c6d3e3b145ef34.bindPopup%28popup_abd9b77df0554bbca4a2c422a845867b%29%0A%20%20%20%20%20%20%20%20%3B%0A%0A%20%20%20%20%20%20%20%20%0A%20%20%20%20%0A%20%20%20%20%0A%20%20%20%20%20%20%20%20%20%20%20%20var%20circle_marker_9a362bf44c214e36ada8ae088e74b55e%20%3D%20L.circleMarker%28%0A%20%20%20%20%20%20%20%20%20%20%20%20%20%20%20%20%5B43.6542599%2C%20-79.3606359%5D%2C%0A%20%20%20%20%20%20%20%20%20%20%20%20%20%20%20%20%7B%22bubblingMouseEvents%22%3A%20true%2C%20%22color%22%3A%20%22blue%22%2C%20%22dashArray%22%3A%20null%2C%20%22dashOffset%22%3A%20null%2C%20%22fill%22%3A%20true%2C%20%22fillColor%22%3A%20%22%233186cc%22%2C%20%22fillOpacity%22%3A%200.7%2C%20%22fillRule%22%3A%20%22evenodd%22%2C%20%22lineCap%22%3A%20%22round%22%2C%20%22lineJoin%22%3A%20%22round%22%2C%20%22opacity%22%3A%201.0%2C%20%22radius%22%3A%205%2C%20%22stroke%22%3A%20true%2C%20%22weight%22%3A%203%7D%0A%20%20%20%20%20%20%20%20%20%20%20%20%29.addTo%28map_b739a702408f4cecbcc7a66b15e3b8e4%29%3B%0A%20%20%20%20%20%20%20%20%0A%20%20%20%20%0A%20%20%20%20%20%20%20%20var%20popup_d1015fc7151c4e72a0c764da5d78b5ac%20%3D%20L.popup%28%7B%22maxWidth%22%3A%20%22100%25%22%7D%29%3B%0A%0A%20%20%20%20%20%20%20%20%0A%20%20%20%20%20%20%20%20%20%20%20%20var%20html_874183cc642a4b2d91c2fe3a8103bd8c%20%3D%20%24%28%60%3Cdiv%20id%3D%22html_874183cc642a4b2d91c2fe3a8103bd8c%22%20style%3D%22width%3A%20100.0%25%3B%20height%3A%20100.0%25%3B%22%3ERegent%20Park%2C%20Harbourfront%2C%20Downtown%20Toronto%3C/div%3E%60%29%5B0%5D%3B%0A%20%20%20%20%20%20%20%20%20%20%20%20popup_d1015fc7151c4e72a0c764da5d78b5ac.setContent%28html_874183cc642a4b2d91c2fe3a8103bd8c%29%3B%0A%20%20%20%20%20%20%20%20%0A%0A%20%20%20%20%20%20%20%20circle_marker_9a362bf44c214e36ada8ae088e74b55e.bindPopup%28popup_d1015fc7151c4e72a0c764da5d78b5ac%29%0A%20%20%20%20%20%20%20%20%3B%0A%0A%20%20%20%20%20%20%20%20%0A%20%20%20%20%0A%20%20%20%20%0A%20%20%20%20%20%20%20%20%20%20%20%20var%20circle_marker_4c7e7475bbcf4a8e84fbfd9d4cba0e80%20%3D%20L.circleMarker%28%0A%20%20%20%20%20%20%20%20%20%20%20%20%20%20%20%20%5B43.718518%2C%20-79.4647633%5D%2C%0A%20%20%20%20%20%20%20%20%20%20%20%20%20%20%20%20%7B%22bubblingMouseEvents%22%3A%20true%2C%20%22color%22%3A%20%22blue%22%2C%20%22dashArray%22%3A%20null%2C%20%22dashOffset%22%3A%20null%2C%20%22fill%22%3A%20true%2C%20%22fillColor%22%3A%20%22%233186cc%22%2C%20%22fillOpacity%22%3A%200.7%2C%20%22fillRule%22%3A%20%22evenodd%22%2C%20%22lineCap%22%3A%20%22round%22%2C%20%22lineJoin%22%3A%20%22round%22%2C%20%22opacity%22%3A%201.0%2C%20%22radius%22%3A%205%2C%20%22stroke%22%3A%20true%2C%20%22weight%22%3A%203%7D%0A%20%20%20%20%20%20%20%20%20%20%20%20%29.addTo%28map_b739a702408f4cecbcc7a66b15e3b8e4%29%3B%0A%20%20%20%20%20%20%20%20%0A%20%20%20%20%0A%20%20%20%20%20%20%20%20var%20popup_f44a627713ec43f0bd5a21597ce5db7f%20%3D%20L.popup%28%7B%22maxWidth%22%3A%20%22100%25%22%7D%29%3B%0A%0A%20%20%20%20%20%20%20%20%0A%20%20%20%20%20%20%20%20%20%20%20%20var%20html_f19e5c9c636c431eb18d4ca9e29eaf51%20%3D%20%24%28%60%3Cdiv%20id%3D%22html_f19e5c9c636c431eb18d4ca9e29eaf51%22%20style%3D%22width%3A%20100.0%25%3B%20height%3A%20100.0%25%3B%22%3ELawrence%20Manor%2C%20Lawrence%20Heights%2C%20North%20York%3C/div%3E%60%29%5B0%5D%3B%0A%20%20%20%20%20%20%20%20%20%20%20%20popup_f44a627713ec43f0bd5a21597ce5db7f.setContent%28html_f19e5c9c636c431eb18d4ca9e29eaf51%29%3B%0A%20%20%20%20%20%20%20%20%0A%0A%20%20%20%20%20%20%20%20circle_marker_4c7e7475bbcf4a8e84fbfd9d4cba0e80.bindPopup%28popup_f44a627713ec43f0bd5a21597ce5db7f%29%0A%20%20%20%20%20%20%20%20%3B%0A%0A%20%20%20%20%20%20%20%20%0A%20%20%20%20%0A%20%20%20%20%0A%20%20%20%20%20%20%20%20%20%20%20%20var%20circle_marker_01c2ce9d7d34405da13840f07c3df26d%20%3D%20L.circleMarker%28%0A%20%20%20%20%20%20%20%20%20%20%20%20%20%20%20%20%5B43.6623015%2C%20-79.3894938%5D%2C%0A%20%20%20%20%20%20%20%20%20%20%20%20%20%20%20%20%7B%22bubblingMouseEvents%22%3A%20true%2C%20%22color%22%3A%20%22blue%22%2C%20%22dashArray%22%3A%20null%2C%20%22dashOffset%22%3A%20null%2C%20%22fill%22%3A%20true%2C%20%22fillColor%22%3A%20%22%233186cc%22%2C%20%22fillOpacity%22%3A%200.7%2C%20%22fillRule%22%3A%20%22evenodd%22%2C%20%22lineCap%22%3A%20%22round%22%2C%20%22lineJoin%22%3A%20%22round%22%2C%20%22opacity%22%3A%201.0%2C%20%22radius%22%3A%205%2C%20%22stroke%22%3A%20true%2C%20%22weight%22%3A%203%7D%0A%20%20%20%20%20%20%20%20%20%20%20%20%29.addTo%28map_b739a702408f4cecbcc7a66b15e3b8e4%29%3B%0A%20%20%20%20%20%20%20%20%0A%20%20%20%20%0A%20%20%20%20%20%20%20%20var%20popup_2d2e58b35b95490898ea680a2e59516f%20%3D%20L.popup%28%7B%22maxWidth%22%3A%20%22100%25%22%7D%29%3B%0A%0A%20%20%20%20%20%20%20%20%0A%20%20%20%20%20%20%20%20%20%20%20%20var%20html_99469fe66088414aaf8aa0ab4b138488%20%3D%20%24%28%60%3Cdiv%20id%3D%22html_99469fe66088414aaf8aa0ab4b138488%22%20style%3D%22width%3A%20100.0%25%3B%20height%3A%20100.0%25%3B%22%3EOntario%20Provincial%20Government%2C%20Queen%26%2339%3Bs%20Park%3C/div%3E%60%29%5B0%5D%3B%0A%20%20%20%20%20%20%20%20%20%20%20%20popup_2d2e58b35b95490898ea680a2e59516f.setContent%28html_99469fe66088414aaf8aa0ab4b138488%29%3B%0A%20%20%20%20%20%20%20%20%0A%0A%20%20%20%20%20%20%20%20circle_marker_01c2ce9d7d34405da13840f07c3df26d.bindPopup%28popup_2d2e58b35b95490898ea680a2e59516f%29%0A%20%20%20%20%20%20%20%20%3B%0A%0A%20%20%20%20%20%20%20%20%0A%20%20%20%20%0A%20%20%20%20%0A%20%20%20%20%20%20%20%20%20%20%20%20var%20circle_marker_77f7c44485524ac68add94fcead30cf3%20%3D%20L.circleMarker%28%0A%20%20%20%20%20%20%20%20%20%20%20%20%20%20%20%20%5B43.6678556%2C%20-79.5322424%5D%2C%0A%20%20%20%20%20%20%20%20%20%20%20%20%20%20%20%20%7B%22bubblingMouseEvents%22%3A%20true%2C%20%22color%22%3A%20%22blue%22%2C%20%22dashArray%22%3A%20null%2C%20%22dashOffset%22%3A%20null%2C%20%22fill%22%3A%20true%2C%20%22fillColor%22%3A%20%22%233186cc%22%2C%20%22fillOpacity%22%3A%200.7%2C%20%22fillRule%22%3A%20%22evenodd%22%2C%20%22lineCap%22%3A%20%22round%22%2C%20%22lineJoin%22%3A%20%22round%22%2C%20%22opacity%22%3A%201.0%2C%20%22radius%22%3A%205%2C%20%22stroke%22%3A%20true%2C%20%22weight%22%3A%203%7D%0A%20%20%20%20%20%20%20%20%20%20%20%20%29.addTo%28map_b739a702408f4cecbcc7a66b15e3b8e4%29%3B%0A%20%20%20%20%20%20%20%20%0A%20%20%20%20%0A%20%20%20%20%20%20%20%20var%20popup_e06286a89a8f423ea9d36da4b341b19d%20%3D%20L.popup%28%7B%22maxWidth%22%3A%20%22100%25%22%7D%29%3B%0A%0A%20%20%20%20%20%20%20%20%0A%20%20%20%20%20%20%20%20%20%20%20%20var%20html_ffb807f383e749a58f00ae53a34936cc%20%3D%20%24%28%60%3Cdiv%20id%3D%22html_ffb807f383e749a58f00ae53a34936cc%22%20style%3D%22width%3A%20100.0%25%3B%20height%3A%20100.0%25%3B%22%3EIslington%20Avenue%2C%20Etobicoke%3C/div%3E%60%29%5B0%5D%3B%0A%20%20%20%20%20%20%20%20%20%20%20%20popup_e06286a89a8f423ea9d36da4b341b19d.setContent%28html_ffb807f383e749a58f00ae53a34936cc%29%3B%0A%20%20%20%20%20%20%20%20%0A%0A%20%20%20%20%20%20%20%20circle_marker_77f7c44485524ac68add94fcead30cf3.bindPopup%28popup_e06286a89a8f423ea9d36da4b341b19d%29%0A%20%20%20%20%20%20%20%20%3B%0A%0A%20%20%20%20%20%20%20%20%0A%20%20%20%20%0A%20%20%20%20%0A%20%20%20%20%20%20%20%20%20%20%20%20var%20circle_marker_25c703c564e941c9be84897be4b7db85%20%3D%20L.circleMarker%28%0A%20%20%20%20%20%20%20%20%20%20%20%20%20%20%20%20%5B43.8066863%2C%20-79.1943534%5D%2C%0A%20%20%20%20%20%20%20%20%20%20%20%20%20%20%20%20%7B%22bubblingMouseEvents%22%3A%20true%2C%20%22color%22%3A%20%22blue%22%2C%20%22dashArray%22%3A%20null%2C%20%22dashOffset%22%3A%20null%2C%20%22fill%22%3A%20true%2C%20%22fillColor%22%3A%20%22%233186cc%22%2C%20%22fillOpacity%22%3A%200.7%2C%20%22fillRule%22%3A%20%22evenodd%22%2C%20%22lineCap%22%3A%20%22round%22%2C%20%22lineJoin%22%3A%20%22round%22%2C%20%22opacity%22%3A%201.0%2C%20%22radius%22%3A%205%2C%20%22stroke%22%3A%20true%2C%20%22weight%22%3A%203%7D%0A%20%20%20%20%20%20%20%20%20%20%20%20%29.addTo%28map_b739a702408f4cecbcc7a66b15e3b8e4%29%3B%0A%20%20%20%20%20%20%20%20%0A%20%20%20%20%0A%20%20%20%20%20%20%20%20var%20popup_ef9cfe0d1eae47518aed9defdbc5aed1%20%3D%20L.popup%28%7B%22maxWidth%22%3A%20%22100%25%22%7D%29%3B%0A%0A%20%20%20%20%20%20%20%20%0A%20%20%20%20%20%20%20%20%20%20%20%20var%20html_a362a80d14414abe90e8e3c1d7072c35%20%3D%20%24%28%60%3Cdiv%20id%3D%22html_a362a80d14414abe90e8e3c1d7072c35%22%20style%3D%22width%3A%20100.0%25%3B%20height%3A%20100.0%25%3B%22%3EMalvern%2C%20Rouge%2C%20Scarborough%3C/div%3E%60%29%5B0%5D%3B%0A%20%20%20%20%20%20%20%20%20%20%20%20popup_ef9cfe0d1eae47518aed9defdbc5aed1.setContent%28html_a362a80d14414abe90e8e3c1d7072c35%29%3B%0A%20%20%20%20%20%20%20%20%0A%0A%20%20%20%20%20%20%20%20circle_marker_25c703c564e941c9be84897be4b7db85.bindPopup%28popup_ef9cfe0d1eae47518aed9defdbc5aed1%29%0A%20%20%20%20%20%20%20%20%3B%0A%0A%20%20%20%20%20%20%20%20%0A%20%20%20%20%0A%20%20%20%20%0A%20%20%20%20%20%20%20%20%20%20%20%20var%20circle_marker_d765b2a9225940be87a49e06a3eb879a%20%3D%20L.circleMarker%28%0A%20%20%20%20%20%20%20%20%20%20%20%20%20%20%20%20%5B43.7459058%2C%20-79.352188%5D%2C%0A%20%20%20%20%20%20%20%20%20%20%20%20%20%20%20%20%7B%22bubblingMouseEvents%22%3A%20true%2C%20%22color%22%3A%20%22blue%22%2C%20%22dashArray%22%3A%20null%2C%20%22dashOffset%22%3A%20null%2C%20%22fill%22%3A%20true%2C%20%22fillColor%22%3A%20%22%233186cc%22%2C%20%22fillOpacity%22%3A%200.7%2C%20%22fillRule%22%3A%20%22evenodd%22%2C%20%22lineCap%22%3A%20%22round%22%2C%20%22lineJoin%22%3A%20%22round%22%2C%20%22opacity%22%3A%201.0%2C%20%22radius%22%3A%205%2C%20%22stroke%22%3A%20true%2C%20%22weight%22%3A%203%7D%0A%20%20%20%20%20%20%20%20%20%20%20%20%29.addTo%28map_b739a702408f4cecbcc7a66b15e3b8e4%29%3B%0A%20%20%20%20%20%20%20%20%0A%20%20%20%20%0A%20%20%20%20%20%20%20%20var%20popup_9c70776290fa409da02991d6c6c4d517%20%3D%20L.popup%28%7B%22maxWidth%22%3A%20%22100%25%22%7D%29%3B%0A%0A%20%20%20%20%20%20%20%20%0A%20%20%20%20%20%20%20%20%20%20%20%20var%20html_ffcc82141e1b42d3b47a81718b865f0d%20%3D%20%24%28%60%3Cdiv%20id%3D%22html_ffcc82141e1b42d3b47a81718b865f0d%22%20style%3D%22width%3A%20100.0%25%3B%20height%3A%20100.0%25%3B%22%3EDon%20Mills%20North%2C%20North%20York%3C/div%3E%60%29%5B0%5D%3B%0A%20%20%20%20%20%20%20%20%20%20%20%20popup_9c70776290fa409da02991d6c6c4d517.setContent%28html_ffcc82141e1b42d3b47a81718b865f0d%29%3B%0A%20%20%20%20%20%20%20%20%0A%0A%20%20%20%20%20%20%20%20circle_marker_d765b2a9225940be87a49e06a3eb879a.bindPopup%28popup_9c70776290fa409da02991d6c6c4d517%29%0A%20%20%20%20%20%20%20%20%3B%0A%0A%20%20%20%20%20%20%20%20%0A%20%20%20%20%0A%20%20%20%20%0A%20%20%20%20%20%20%20%20%20%20%20%20var%20circle_marker_42d78784e5ac415f9242c358debb2aba%20%3D%20L.circleMarker%28%0A%20%20%20%20%20%20%20%20%20%20%20%20%20%20%20%20%5B43.7063972%2C%20-79.309937%5D%2C%0A%20%20%20%20%20%20%20%20%20%20%20%20%20%20%20%20%7B%22bubblingMouseEvents%22%3A%20true%2C%20%22color%22%3A%20%22blue%22%2C%20%22dashArray%22%3A%20null%2C%20%22dashOffset%22%3A%20null%2C%20%22fill%22%3A%20true%2C%20%22fillColor%22%3A%20%22%233186cc%22%2C%20%22fillOpacity%22%3A%200.7%2C%20%22fillRule%22%3A%20%22evenodd%22%2C%20%22lineCap%22%3A%20%22round%22%2C%20%22lineJoin%22%3A%20%22round%22%2C%20%22opacity%22%3A%201.0%2C%20%22radius%22%3A%205%2C%20%22stroke%22%3A%20true%2C%20%22weight%22%3A%203%7D%0A%20%20%20%20%20%20%20%20%20%20%20%20%29.addTo%28map_b739a702408f4cecbcc7a66b15e3b8e4%29%3B%0A%20%20%20%20%20%20%20%20%0A%20%20%20%20%0A%20%20%20%20%20%20%20%20var%20popup_9ef231d177d24558a80e61ae3cf749b0%20%3D%20L.popup%28%7B%22maxWidth%22%3A%20%22100%25%22%7D%29%3B%0A%0A%20%20%20%20%20%20%20%20%0A%20%20%20%20%20%20%20%20%20%20%20%20var%20html_f0bec73bc0704dbe96b0470d22b1d47e%20%3D%20%24%28%60%3Cdiv%20id%3D%22html_f0bec73bc0704dbe96b0470d22b1d47e%22%20style%3D%22width%3A%20100.0%25%3B%20height%3A%20100.0%25%3B%22%3EParkview%20Hill%2C%20Woodbine%20Gardens%2C%20East%20York%3C/div%3E%60%29%5B0%5D%3B%0A%20%20%20%20%20%20%20%20%20%20%20%20popup_9ef231d177d24558a80e61ae3cf749b0.setContent%28html_f0bec73bc0704dbe96b0470d22b1d47e%29%3B%0A%20%20%20%20%20%20%20%20%0A%0A%20%20%20%20%20%20%20%20circle_marker_42d78784e5ac415f9242c358debb2aba.bindPopup%28popup_9ef231d177d24558a80e61ae3cf749b0%29%0A%20%20%20%20%20%20%20%20%3B%0A%0A%20%20%20%20%20%20%20%20%0A%20%20%20%20%0A%20%20%20%20%0A%20%20%20%20%20%20%20%20%20%20%20%20var%20circle_marker_c0f48d4f812f4cb6b8500baae1fbc651%20%3D%20L.circleMarker%28%0A%20%20%20%20%20%20%20%20%20%20%20%20%20%20%20%20%5B43.6571618%2C%20-79.3789371%5D%2C%0A%20%20%20%20%20%20%20%20%20%20%20%20%20%20%20%20%7B%22bubblingMouseEvents%22%3A%20true%2C%20%22color%22%3A%20%22blue%22%2C%20%22dashArray%22%3A%20null%2C%20%22dashOffset%22%3A%20null%2C%20%22fill%22%3A%20true%2C%20%22fillColor%22%3A%20%22%233186cc%22%2C%20%22fillOpacity%22%3A%200.7%2C%20%22fillRule%22%3A%20%22evenodd%22%2C%20%22lineCap%22%3A%20%22round%22%2C%20%22lineJoin%22%3A%20%22round%22%2C%20%22opacity%22%3A%201.0%2C%20%22radius%22%3A%205%2C%20%22stroke%22%3A%20true%2C%20%22weight%22%3A%203%7D%0A%20%20%20%20%20%20%20%20%20%20%20%20%29.addTo%28map_b739a702408f4cecbcc7a66b15e3b8e4%29%3B%0A%20%20%20%20%20%20%20%20%0A%20%20%20%20%0A%20%20%20%20%20%20%20%20var%20popup_c427ebc0bcee4bb3adb4229e4dedac7b%20%3D%20L.popup%28%7B%22maxWidth%22%3A%20%22100%25%22%7D%29%3B%0A%0A%20%20%20%20%20%20%20%20%0A%20%20%20%20%20%20%20%20%20%20%20%20var%20html_f0ded8ac33184403a8eb0b439127bf0a%20%3D%20%24%28%60%3Cdiv%20id%3D%22html_f0ded8ac33184403a8eb0b439127bf0a%22%20style%3D%22width%3A%20100.0%25%3B%20height%3A%20100.0%25%3B%22%3EGarden%20District%2C%20Ryerson%2C%20Downtown%20Toronto%3C/div%3E%60%29%5B0%5D%3B%0A%20%20%20%20%20%20%20%20%20%20%20%20popup_c427ebc0bcee4bb3adb4229e4dedac7b.setContent%28html_f0ded8ac33184403a8eb0b439127bf0a%29%3B%0A%20%20%20%20%20%20%20%20%0A%0A%20%20%20%20%20%20%20%20circle_marker_c0f48d4f812f4cb6b8500baae1fbc651.bindPopup%28popup_c427ebc0bcee4bb3adb4229e4dedac7b%29%0A%20%20%20%20%20%20%20%20%3B%0A%0A%20%20%20%20%20%20%20%20%0A%20%20%20%20%0A%20%20%20%20%0A%20%20%20%20%20%20%20%20%20%20%20%20var%20circle_marker_15931c15dc3242b1b7faa90b4587170d%20%3D%20L.circleMarker%28%0A%20%20%20%20%20%20%20%20%20%20%20%20%20%20%20%20%5B43.709577%2C%20-79.4450726%5D%2C%0A%20%20%20%20%20%20%20%20%20%20%20%20%20%20%20%20%7B%22bubblingMouseEvents%22%3A%20true%2C%20%22color%22%3A%20%22blue%22%2C%20%22dashArray%22%3A%20null%2C%20%22dashOffset%22%3A%20null%2C%20%22fill%22%3A%20true%2C%20%22fillColor%22%3A%20%22%233186cc%22%2C%20%22fillOpacity%22%3A%200.7%2C%20%22fillRule%22%3A%20%22evenodd%22%2C%20%22lineCap%22%3A%20%22round%22%2C%20%22lineJoin%22%3A%20%22round%22%2C%20%22opacity%22%3A%201.0%2C%20%22radius%22%3A%205%2C%20%22stroke%22%3A%20true%2C%20%22weight%22%3A%203%7D%0A%20%20%20%20%20%20%20%20%20%20%20%20%29.addTo%28map_b739a702408f4cecbcc7a66b15e3b8e4%29%3B%0A%20%20%20%20%20%20%20%20%0A%20%20%20%20%0A%20%20%20%20%20%20%20%20var%20popup_c655bb8f3ba84cabbf4c80fabb080a09%20%3D%20L.popup%28%7B%22maxWidth%22%3A%20%22100%25%22%7D%29%3B%0A%0A%20%20%20%20%20%20%20%20%0A%20%20%20%20%20%20%20%20%20%20%20%20var%20html_ef7e290345a74234a5c0df002ddce074%20%3D%20%24%28%60%3Cdiv%20id%3D%22html_ef7e290345a74234a5c0df002ddce074%22%20style%3D%22width%3A%20100.0%25%3B%20height%3A%20100.0%25%3B%22%3EGlencairn%2C%20North%20York%3C/div%3E%60%29%5B0%5D%3B%0A%20%20%20%20%20%20%20%20%20%20%20%20popup_c655bb8f3ba84cabbf4c80fabb080a09.setContent%28html_ef7e290345a74234a5c0df002ddce074%29%3B%0A%20%20%20%20%20%20%20%20%0A%0A%20%20%20%20%20%20%20%20circle_marker_15931c15dc3242b1b7faa90b4587170d.bindPopup%28popup_c655bb8f3ba84cabbf4c80fabb080a09%29%0A%20%20%20%20%20%20%20%20%3B%0A%0A%20%20%20%20%20%20%20%20%0A%20%20%20%20%0A%20%20%20%20%0A%20%20%20%20%20%20%20%20%20%20%20%20var%20circle_marker_83f8f6de094943f4bc8ac7468f09e900%20%3D%20L.circleMarker%28%0A%20%20%20%20%20%20%20%20%20%20%20%20%20%20%20%20%5B43.6509432%2C%20-79.5547244%5D%2C%0A%20%20%20%20%20%20%20%20%20%20%20%20%20%20%20%20%7B%22bubblingMouseEvents%22%3A%20true%2C%20%22color%22%3A%20%22blue%22%2C%20%22dashArray%22%3A%20null%2C%20%22dashOffset%22%3A%20null%2C%20%22fill%22%3A%20true%2C%20%22fillColor%22%3A%20%22%233186cc%22%2C%20%22fillOpacity%22%3A%200.7%2C%20%22fillRule%22%3A%20%22evenodd%22%2C%20%22lineCap%22%3A%20%22round%22%2C%20%22lineJoin%22%3A%20%22round%22%2C%20%22opacity%22%3A%201.0%2C%20%22radius%22%3A%205%2C%20%22stroke%22%3A%20true%2C%20%22weight%22%3A%203%7D%0A%20%20%20%20%20%20%20%20%20%20%20%20%29.addTo%28map_b739a702408f4cecbcc7a66b15e3b8e4%29%3B%0A%20%20%20%20%20%20%20%20%0A%20%20%20%20%0A%20%20%20%20%20%20%20%20var%20popup_9990d60055594f2195c85c5e93138d57%20%3D%20L.popup%28%7B%22maxWidth%22%3A%20%22100%25%22%7D%29%3B%0A%0A%20%20%20%20%20%20%20%20%0A%20%20%20%20%20%20%20%20%20%20%20%20var%20html_341c8e345a5440cea2676d1b083301a2%20%3D%20%24%28%60%3Cdiv%20id%3D%22html_341c8e345a5440cea2676d1b083301a2%22%20style%3D%22width%3A%20100.0%25%3B%20height%3A%20100.0%25%3B%22%3EWest%20Deane%20Park%2C%20Princess%20Gardens%2C%20Martin%20Grove%2C%20Islington%2C%20Cloverdale%2C%20Etobicoke%3C/div%3E%60%29%5B0%5D%3B%0A%20%20%20%20%20%20%20%20%20%20%20%20popup_9990d60055594f2195c85c5e93138d57.setContent%28html_341c8e345a5440cea2676d1b083301a2%29%3B%0A%20%20%20%20%20%20%20%20%0A%0A%20%20%20%20%20%20%20%20circle_marker_83f8f6de094943f4bc8ac7468f09e900.bindPopup%28popup_9990d60055594f2195c85c5e93138d57%29%0A%20%20%20%20%20%20%20%20%3B%0A%0A%20%20%20%20%20%20%20%20%0A%20%20%20%20%0A%20%20%20%20%0A%20%20%20%20%20%20%20%20%20%20%20%20var%20circle_marker_4016267c4a784b768432b1e35136c4c0%20%3D%20L.circleMarker%28%0A%20%20%20%20%20%20%20%20%20%20%20%20%20%20%20%20%5B43.7845351%2C%20-79.1604971%5D%2C%0A%20%20%20%20%20%20%20%20%20%20%20%20%20%20%20%20%7B%22bubblingMouseEvents%22%3A%20true%2C%20%22color%22%3A%20%22blue%22%2C%20%22dashArray%22%3A%20null%2C%20%22dashOffset%22%3A%20null%2C%20%22fill%22%3A%20true%2C%20%22fillColor%22%3A%20%22%233186cc%22%2C%20%22fillOpacity%22%3A%200.7%2C%20%22fillRule%22%3A%20%22evenodd%22%2C%20%22lineCap%22%3A%20%22round%22%2C%20%22lineJoin%22%3A%20%22round%22%2C%20%22opacity%22%3A%201.0%2C%20%22radius%22%3A%205%2C%20%22stroke%22%3A%20true%2C%20%22weight%22%3A%203%7D%0A%20%20%20%20%20%20%20%20%20%20%20%20%29.addTo%28map_b739a702408f4cecbcc7a66b15e3b8e4%29%3B%0A%20%20%20%20%20%20%20%20%0A%20%20%20%20%0A%20%20%20%20%20%20%20%20var%20popup_08020bf240064b0a9407759f338090e3%20%3D%20L.popup%28%7B%22maxWidth%22%3A%20%22100%25%22%7D%29%3B%0A%0A%20%20%20%20%20%20%20%20%0A%20%20%20%20%20%20%20%20%20%20%20%20var%20html_de3db10ca84b469fa71c70bb0e20db70%20%3D%20%24%28%60%3Cdiv%20id%3D%22html_de3db10ca84b469fa71c70bb0e20db70%22%20style%3D%22width%3A%20100.0%25%3B%20height%3A%20100.0%25%3B%22%3ERouge%20Hill%2C%20Port%20Union%2C%20Highland%20Creek%2C%20Scarborough%3C/div%3E%60%29%5B0%5D%3B%0A%20%20%20%20%20%20%20%20%20%20%20%20popup_08020bf240064b0a9407759f338090e3.setContent%28html_de3db10ca84b469fa71c70bb0e20db70%29%3B%0A%20%20%20%20%20%20%20%20%0A%0A%20%20%20%20%20%20%20%20circle_marker_4016267c4a784b768432b1e35136c4c0.bindPopup%28popup_08020bf240064b0a9407759f338090e3%29%0A%20%20%20%20%20%20%20%20%3B%0A%0A%20%20%20%20%20%20%20%20%0A%20%20%20%20%0A%20%20%20%20%0A%20%20%20%20%20%20%20%20%20%20%20%20var%20circle_marker_37623004052d41048a736356bae05cfc%20%3D%20L.circleMarker%28%0A%20%20%20%20%20%20%20%20%20%20%20%20%20%20%20%20%5B43.7258997%2C%20-79.340923%5D%2C%0A%20%20%20%20%20%20%20%20%20%20%20%20%20%20%20%20%7B%22bubblingMouseEvents%22%3A%20true%2C%20%22color%22%3A%20%22blue%22%2C%20%22dashArray%22%3A%20null%2C%20%22dashOffset%22%3A%20null%2C%20%22fill%22%3A%20true%2C%20%22fillColor%22%3A%20%22%233186cc%22%2C%20%22fillOpacity%22%3A%200.7%2C%20%22fillRule%22%3A%20%22evenodd%22%2C%20%22lineCap%22%3A%20%22round%22%2C%20%22lineJoin%22%3A%20%22round%22%2C%20%22opacity%22%3A%201.0%2C%20%22radius%22%3A%205%2C%20%22stroke%22%3A%20true%2C%20%22weight%22%3A%203%7D%0A%20%20%20%20%20%20%20%20%20%20%20%20%29.addTo%28map_b739a702408f4cecbcc7a66b15e3b8e4%29%3B%0A%20%20%20%20%20%20%20%20%0A%20%20%20%20%0A%20%20%20%20%20%20%20%20var%20popup_424384e60592475fbf0ef7caf75af609%20%3D%20L.popup%28%7B%22maxWidth%22%3A%20%22100%25%22%7D%29%3B%0A%0A%20%20%20%20%20%20%20%20%0A%20%20%20%20%20%20%20%20%20%20%20%20var%20html_782a0ec6ce614800984c11632ae040d0%20%3D%20%24%28%60%3Cdiv%20id%3D%22html_782a0ec6ce614800984c11632ae040d0%22%20style%3D%22width%3A%20100.0%25%3B%20height%3A%20100.0%25%3B%22%3EDon%20Mills%20South%2C%20North%20York%3C/div%3E%60%29%5B0%5D%3B%0A%20%20%20%20%20%20%20%20%20%20%20%20popup_424384e60592475fbf0ef7caf75af609.setContent%28html_782a0ec6ce614800984c11632ae040d0%29%3B%0A%20%20%20%20%20%20%20%20%0A%0A%20%20%20%20%20%20%20%20circle_marker_37623004052d41048a736356bae05cfc.bindPopup%28popup_424384e60592475fbf0ef7caf75af609%29%0A%20%20%20%20%20%20%20%20%3B%0A%0A%20%20%20%20%20%20%20%20%0A%20%20%20%20%0A%20%20%20%20%0A%20%20%20%20%20%20%20%20%20%20%20%20var%20circle_marker_3c3a912c16f34ab1aec8b90b5df8cead%20%3D%20L.circleMarker%28%0A%20%20%20%20%20%20%20%20%20%20%20%20%20%20%20%20%5B43.6953439%2C%20-79.3183887%5D%2C%0A%20%20%20%20%20%20%20%20%20%20%20%20%20%20%20%20%7B%22bubblingMouseEvents%22%3A%20true%2C%20%22color%22%3A%20%22blue%22%2C%20%22dashArray%22%3A%20null%2C%20%22dashOffset%22%3A%20null%2C%20%22fill%22%3A%20true%2C%20%22fillColor%22%3A%20%22%233186cc%22%2C%20%22fillOpacity%22%3A%200.7%2C%20%22fillRule%22%3A%20%22evenodd%22%2C%20%22lineCap%22%3A%20%22round%22%2C%20%22lineJoin%22%3A%20%22round%22%2C%20%22opacity%22%3A%201.0%2C%20%22radius%22%3A%205%2C%20%22stroke%22%3A%20true%2C%20%22weight%22%3A%203%7D%0A%20%20%20%20%20%20%20%20%20%20%20%20%29.addTo%28map_b739a702408f4cecbcc7a66b15e3b8e4%29%3B%0A%20%20%20%20%20%20%20%20%0A%20%20%20%20%0A%20%20%20%20%20%20%20%20var%20popup_df30fe9820f0485b8b6d97ac98ca2e17%20%3D%20L.popup%28%7B%22maxWidth%22%3A%20%22100%25%22%7D%29%3B%0A%0A%20%20%20%20%20%20%20%20%0A%20%20%20%20%20%20%20%20%20%20%20%20var%20html_20635c29de7d4c79b3e71e3d8fc9f562%20%3D%20%24%28%60%3Cdiv%20id%3D%22html_20635c29de7d4c79b3e71e3d8fc9f562%22%20style%3D%22width%3A%20100.0%25%3B%20height%3A%20100.0%25%3B%22%3EWoodbine%20Heights%2C%20East%20York%3C/div%3E%60%29%5B0%5D%3B%0A%20%20%20%20%20%20%20%20%20%20%20%20popup_df30fe9820f0485b8b6d97ac98ca2e17.setContent%28html_20635c29de7d4c79b3e71e3d8fc9f562%29%3B%0A%20%20%20%20%20%20%20%20%0A%0A%20%20%20%20%20%20%20%20circle_marker_3c3a912c16f34ab1aec8b90b5df8cead.bindPopup%28popup_df30fe9820f0485b8b6d97ac98ca2e17%29%0A%20%20%20%20%20%20%20%20%3B%0A%0A%20%20%20%20%20%20%20%20%0A%20%20%20%20%0A%20%20%20%20%0A%20%20%20%20%20%20%20%20%20%20%20%20var%20circle_marker_08cc12b4650b4274ae8d5ac1b5cbbeff%20%3D%20L.circleMarker%28%0A%20%20%20%20%20%20%20%20%20%20%20%20%20%20%20%20%5B43.6514939%2C%20-79.3754179%5D%2C%0A%20%20%20%20%20%20%20%20%20%20%20%20%20%20%20%20%7B%22bubblingMouseEvents%22%3A%20true%2C%20%22color%22%3A%20%22blue%22%2C%20%22dashArray%22%3A%20null%2C%20%22dashOffset%22%3A%20null%2C%20%22fill%22%3A%20true%2C%20%22fillColor%22%3A%20%22%233186cc%22%2C%20%22fillOpacity%22%3A%200.7%2C%20%22fillRule%22%3A%20%22evenodd%22%2C%20%22lineCap%22%3A%20%22round%22%2C%20%22lineJoin%22%3A%20%22round%22%2C%20%22opacity%22%3A%201.0%2C%20%22radius%22%3A%205%2C%20%22stroke%22%3A%20true%2C%20%22weight%22%3A%203%7D%0A%20%20%20%20%20%20%20%20%20%20%20%20%29.addTo%28map_b739a702408f4cecbcc7a66b15e3b8e4%29%3B%0A%20%20%20%20%20%20%20%20%0A%20%20%20%20%0A%20%20%20%20%20%20%20%20var%20popup_a5d02648314447c1965cdc6ae2e14ae7%20%3D%20L.popup%28%7B%22maxWidth%22%3A%20%22100%25%22%7D%29%3B%0A%0A%20%20%20%20%20%20%20%20%0A%20%20%20%20%20%20%20%20%20%20%20%20var%20html_cd81d284de11422b87e4b5646c0a911c%20%3D%20%24%28%60%3Cdiv%20id%3D%22html_cd81d284de11422b87e4b5646c0a911c%22%20style%3D%22width%3A%20100.0%25%3B%20height%3A%20100.0%25%3B%22%3ESt.%20James%20Town%2C%20Downtown%20Toronto%3C/div%3E%60%29%5B0%5D%3B%0A%20%20%20%20%20%20%20%20%20%20%20%20popup_a5d02648314447c1965cdc6ae2e14ae7.setContent%28html_cd81d284de11422b87e4b5646c0a911c%29%3B%0A%20%20%20%20%20%20%20%20%0A%0A%20%20%20%20%20%20%20%20circle_marker_08cc12b4650b4274ae8d5ac1b5cbbeff.bindPopup%28popup_a5d02648314447c1965cdc6ae2e14ae7%29%0A%20%20%20%20%20%20%20%20%3B%0A%0A%20%20%20%20%20%20%20%20%0A%20%20%20%20%0A%20%20%20%20%0A%20%20%20%20%20%20%20%20%20%20%20%20var%20circle_marker_07a81243029f4d8cb535af58a858a907%20%3D%20L.circleMarker%28%0A%20%20%20%20%20%20%20%20%20%20%20%20%20%20%20%20%5B43.6937813%2C%20-79.4281914%5D%2C%0A%20%20%20%20%20%20%20%20%20%20%20%20%20%20%20%20%7B%22bubblingMouseEvents%22%3A%20true%2C%20%22color%22%3A%20%22blue%22%2C%20%22dashArray%22%3A%20null%2C%20%22dashOffset%22%3A%20null%2C%20%22fill%22%3A%20true%2C%20%22fillColor%22%3A%20%22%233186cc%22%2C%20%22fillOpacity%22%3A%200.7%2C%20%22fillRule%22%3A%20%22evenodd%22%2C%20%22lineCap%22%3A%20%22round%22%2C%20%22lineJoin%22%3A%20%22round%22%2C%20%22opacity%22%3A%201.0%2C%20%22radius%22%3A%205%2C%20%22stroke%22%3A%20true%2C%20%22weight%22%3A%203%7D%0A%20%20%20%20%20%20%20%20%20%20%20%20%29.addTo%28map_b739a702408f4cecbcc7a66b15e3b8e4%29%3B%0A%20%20%20%20%20%20%20%20%0A%20%20%20%20%0A%20%20%20%20%20%20%20%20var%20popup_e4af08deb2734551841e7b1f481eb112%20%3D%20L.popup%28%7B%22maxWidth%22%3A%20%22100%25%22%7D%29%3B%0A%0A%20%20%20%20%20%20%20%20%0A%20%20%20%20%20%20%20%20%20%20%20%20var%20html_bdd89e659ef94a8389a193ac663c89d0%20%3D%20%24%28%60%3Cdiv%20id%3D%22html_bdd89e659ef94a8389a193ac663c89d0%22%20style%3D%22width%3A%20100.0%25%3B%20height%3A%20100.0%25%3B%22%3EHumewood-Cedarvale%2C%20York%3C/div%3E%60%29%5B0%5D%3B%0A%20%20%20%20%20%20%20%20%20%20%20%20popup_e4af08deb2734551841e7b1f481eb112.setContent%28html_bdd89e659ef94a8389a193ac663c89d0%29%3B%0A%20%20%20%20%20%20%20%20%0A%0A%20%20%20%20%20%20%20%20circle_marker_07a81243029f4d8cb535af58a858a907.bindPopup%28popup_e4af08deb2734551841e7b1f481eb112%29%0A%20%20%20%20%20%20%20%20%3B%0A%0A%20%20%20%20%20%20%20%20%0A%20%20%20%20%0A%20%20%20%20%0A%20%20%20%20%20%20%20%20%20%20%20%20var%20circle_marker_4fe01346255b49a8931001dca51199cf%20%3D%20L.circleMarker%28%0A%20%20%20%20%20%20%20%20%20%20%20%20%20%20%20%20%5B43.6435152%2C%20-79.5772008%5D%2C%0A%20%20%20%20%20%20%20%20%20%20%20%20%20%20%20%20%7B%22bubblingMouseEvents%22%3A%20true%2C%20%22color%22%3A%20%22blue%22%2C%20%22dashArray%22%3A%20null%2C%20%22dashOffset%22%3A%20null%2C%20%22fill%22%3A%20true%2C%20%22fillColor%22%3A%20%22%233186cc%22%2C%20%22fillOpacity%22%3A%200.7%2C%20%22fillRule%22%3A%20%22evenodd%22%2C%20%22lineCap%22%3A%20%22round%22%2C%20%22lineJoin%22%3A%20%22round%22%2C%20%22opacity%22%3A%201.0%2C%20%22radius%22%3A%205%2C%20%22stroke%22%3A%20true%2C%20%22weight%22%3A%203%7D%0A%20%20%20%20%20%20%20%20%20%20%20%20%29.addTo%28map_b739a702408f4cecbcc7a66b15e3b8e4%29%3B%0A%20%20%20%20%20%20%20%20%0A%20%20%20%20%0A%20%20%20%20%20%20%20%20var%20popup_205b2169651e49599dd4dee38aafda40%20%3D%20L.popup%28%7B%22maxWidth%22%3A%20%22100%25%22%7D%29%3B%0A%0A%20%20%20%20%20%20%20%20%0A%20%20%20%20%20%20%20%20%20%20%20%20var%20html_c1519a729ba04666b56e8d199c889fed%20%3D%20%24%28%60%3Cdiv%20id%3D%22html_c1519a729ba04666b56e8d199c889fed%22%20style%3D%22width%3A%20100.0%25%3B%20height%3A%20100.0%25%3B%22%3EEringate%2C%20Bloordale%20Gardens%2C%20Old%20Burnhamthorpe%2C%20Markland%20Wood%2C%20Etobicoke%3C/div%3E%60%29%5B0%5D%3B%0A%20%20%20%20%20%20%20%20%20%20%20%20popup_205b2169651e49599dd4dee38aafda40.setContent%28html_c1519a729ba04666b56e8d199c889fed%29%3B%0A%20%20%20%20%20%20%20%20%0A%0A%20%20%20%20%20%20%20%20circle_marker_4fe01346255b49a8931001dca51199cf.bindPopup%28popup_205b2169651e49599dd4dee38aafda40%29%0A%20%20%20%20%20%20%20%20%3B%0A%0A%20%20%20%20%20%20%20%20%0A%20%20%20%20%0A%20%20%20%20%0A%20%20%20%20%20%20%20%20%20%20%20%20var%20circle_marker_5fba2292298b4faba75def39fba5b963%20%3D%20L.circleMarker%28%0A%20%20%20%20%20%20%20%20%20%20%20%20%20%20%20%20%5B43.7635726%2C%20-79.1887115%5D%2C%0A%20%20%20%20%20%20%20%20%20%20%20%20%20%20%20%20%7B%22bubblingMouseEvents%22%3A%20true%2C%20%22color%22%3A%20%22blue%22%2C%20%22dashArray%22%3A%20null%2C%20%22dashOffset%22%3A%20null%2C%20%22fill%22%3A%20true%2C%20%22fillColor%22%3A%20%22%233186cc%22%2C%20%22fillOpacity%22%3A%200.7%2C%20%22fillRule%22%3A%20%22evenodd%22%2C%20%22lineCap%22%3A%20%22round%22%2C%20%22lineJoin%22%3A%20%22round%22%2C%20%22opacity%22%3A%201.0%2C%20%22radius%22%3A%205%2C%20%22stroke%22%3A%20true%2C%20%22weight%22%3A%203%7D%0A%20%20%20%20%20%20%20%20%20%20%20%20%29.addTo%28map_b739a702408f4cecbcc7a66b15e3b8e4%29%3B%0A%20%20%20%20%20%20%20%20%0A%20%20%20%20%0A%20%20%20%20%20%20%20%20var%20popup_679d82b5155048a6959c5b4063d972b2%20%3D%20L.popup%28%7B%22maxWidth%22%3A%20%22100%25%22%7D%29%3B%0A%0A%20%20%20%20%20%20%20%20%0A%20%20%20%20%20%20%20%20%20%20%20%20var%20html_3cf2c1dc1b2d4e55b5138c49efdaec4c%20%3D%20%24%28%60%3Cdiv%20id%3D%22html_3cf2c1dc1b2d4e55b5138c49efdaec4c%22%20style%3D%22width%3A%20100.0%25%3B%20height%3A%20100.0%25%3B%22%3EGuildwood%2C%20Morningside%2C%20West%20Hill%2C%20Scarborough%3C/div%3E%60%29%5B0%5D%3B%0A%20%20%20%20%20%20%20%20%20%20%20%20popup_679d82b5155048a6959c5b4063d972b2.setContent%28html_3cf2c1dc1b2d4e55b5138c49efdaec4c%29%3B%0A%20%20%20%20%20%20%20%20%0A%0A%20%20%20%20%20%20%20%20circle_marker_5fba2292298b4faba75def39fba5b963.bindPopup%28popup_679d82b5155048a6959c5b4063d972b2%29%0A%20%20%20%20%20%20%20%20%3B%0A%0A%20%20%20%20%20%20%20%20%0A%20%20%20%20%0A%20%20%20%20%0A%20%20%20%20%20%20%20%20%20%20%20%20var%20circle_marker_f49b4871a5d145158495e62796dbd282%20%3D%20L.circleMarker%28%0A%20%20%20%20%20%20%20%20%20%20%20%20%20%20%20%20%5B43.6763574%2C%20-79.2930312%5D%2C%0A%20%20%20%20%20%20%20%20%20%20%20%20%20%20%20%20%7B%22bubblingMouseEvents%22%3A%20true%2C%20%22color%22%3A%20%22blue%22%2C%20%22dashArray%22%3A%20null%2C%20%22dashOffset%22%3A%20null%2C%20%22fill%22%3A%20true%2C%20%22fillColor%22%3A%20%22%233186cc%22%2C%20%22fillOpacity%22%3A%200.7%2C%20%22fillRule%22%3A%20%22evenodd%22%2C%20%22lineCap%22%3A%20%22round%22%2C%20%22lineJoin%22%3A%20%22round%22%2C%20%22opacity%22%3A%201.0%2C%20%22radius%22%3A%205%2C%20%22stroke%22%3A%20true%2C%20%22weight%22%3A%203%7D%0A%20%20%20%20%20%20%20%20%20%20%20%20%29.addTo%28map_b739a702408f4cecbcc7a66b15e3b8e4%29%3B%0A%20%20%20%20%20%20%20%20%0A%20%20%20%20%0A%20%20%20%20%20%20%20%20var%20popup_672e3c53720c4239bd9e2a3c34a3ec4d%20%3D%20L.popup%28%7B%22maxWidth%22%3A%20%22100%25%22%7D%29%3B%0A%0A%20%20%20%20%20%20%20%20%0A%20%20%20%20%20%20%20%20%20%20%20%20var%20html_88bcbd9520c84cc28fbef641d17da15d%20%3D%20%24%28%60%3Cdiv%20id%3D%22html_88bcbd9520c84cc28fbef641d17da15d%22%20style%3D%22width%3A%20100.0%25%3B%20height%3A%20100.0%25%3B%22%3EThe%20Beaches%2C%20East%20Toronto%3C/div%3E%60%29%5B0%5D%3B%0A%20%20%20%20%20%20%20%20%20%20%20%20popup_672e3c53720c4239bd9e2a3c34a3ec4d.setContent%28html_88bcbd9520c84cc28fbef641d17da15d%29%3B%0A%20%20%20%20%20%20%20%20%0A%0A%20%20%20%20%20%20%20%20circle_marker_f49b4871a5d145158495e62796dbd282.bindPopup%28popup_672e3c53720c4239bd9e2a3c34a3ec4d%29%0A%20%20%20%20%20%20%20%20%3B%0A%0A%20%20%20%20%20%20%20%20%0A%20%20%20%20%0A%20%20%20%20%0A%20%20%20%20%20%20%20%20%20%20%20%20var%20circle_marker_dd9dec4fc5cd4638ab8145f0d986c32e%20%3D%20L.circleMarker%28%0A%20%20%20%20%20%20%20%20%20%20%20%20%20%20%20%20%5B43.6447708%2C%20-79.3733064%5D%2C%0A%20%20%20%20%20%20%20%20%20%20%20%20%20%20%20%20%7B%22bubblingMouseEvents%22%3A%20true%2C%20%22color%22%3A%20%22blue%22%2C%20%22dashArray%22%3A%20null%2C%20%22dashOffset%22%3A%20null%2C%20%22fill%22%3A%20true%2C%20%22fillColor%22%3A%20%22%233186cc%22%2C%20%22fillOpacity%22%3A%200.7%2C%20%22fillRule%22%3A%20%22evenodd%22%2C%20%22lineCap%22%3A%20%22round%22%2C%20%22lineJoin%22%3A%20%22round%22%2C%20%22opacity%22%3A%201.0%2C%20%22radius%22%3A%205%2C%20%22stroke%22%3A%20true%2C%20%22weight%22%3A%203%7D%0A%20%20%20%20%20%20%20%20%20%20%20%20%29.addTo%28map_b739a702408f4cecbcc7a66b15e3b8e4%29%3B%0A%20%20%20%20%20%20%20%20%0A%20%20%20%20%0A%20%20%20%20%20%20%20%20var%20popup_b1eea82d93b4434c9b5e63ef7050e7c4%20%3D%20L.popup%28%7B%22maxWidth%22%3A%20%22100%25%22%7D%29%3B%0A%0A%20%20%20%20%20%20%20%20%0A%20%20%20%20%20%20%20%20%20%20%20%20var%20html_b56672edd1214f228f294c1240e235d9%20%3D%20%24%28%60%3Cdiv%20id%3D%22html_b56672edd1214f228f294c1240e235d9%22%20style%3D%22width%3A%20100.0%25%3B%20height%3A%20100.0%25%3B%22%3EBerczy%20Park%2C%20Downtown%20Toronto%3C/div%3E%60%29%5B0%5D%3B%0A%20%20%20%20%20%20%20%20%20%20%20%20popup_b1eea82d93b4434c9b5e63ef7050e7c4.setContent%28html_b56672edd1214f228f294c1240e235d9%29%3B%0A%20%20%20%20%20%20%20%20%0A%0A%20%20%20%20%20%20%20%20circle_marker_dd9dec4fc5cd4638ab8145f0d986c32e.bindPopup%28popup_b1eea82d93b4434c9b5e63ef7050e7c4%29%0A%20%20%20%20%20%20%20%20%3B%0A%0A%20%20%20%20%20%20%20%20%0A%20%20%20%20%0A%20%20%20%20%0A%20%20%20%20%20%20%20%20%20%20%20%20var%20circle_marker_4a369de3a27a4a53b010f1d2fca32f0d%20%3D%20L.circleMarker%28%0A%20%20%20%20%20%20%20%20%20%20%20%20%20%20%20%20%5B43.6890256%2C%20-79.453512%5D%2C%0A%20%20%20%20%20%20%20%20%20%20%20%20%20%20%20%20%7B%22bubblingMouseEvents%22%3A%20true%2C%20%22color%22%3A%20%22blue%22%2C%20%22dashArray%22%3A%20null%2C%20%22dashOffset%22%3A%20null%2C%20%22fill%22%3A%20true%2C%20%22fillColor%22%3A%20%22%233186cc%22%2C%20%22fillOpacity%22%3A%200.7%2C%20%22fillRule%22%3A%20%22evenodd%22%2C%20%22lineCap%22%3A%20%22round%22%2C%20%22lineJoin%22%3A%20%22round%22%2C%20%22opacity%22%3A%201.0%2C%20%22radius%22%3A%205%2C%20%22stroke%22%3A%20true%2C%20%22weight%22%3A%203%7D%0A%20%20%20%20%20%20%20%20%20%20%20%20%29.addTo%28map_b739a702408f4cecbcc7a66b15e3b8e4%29%3B%0A%20%20%20%20%20%20%20%20%0A%20%20%20%20%0A%20%20%20%20%20%20%20%20var%20popup_1f424455ef0640cf9aca714aa87fd98c%20%3D%20L.popup%28%7B%22maxWidth%22%3A%20%22100%25%22%7D%29%3B%0A%0A%20%20%20%20%20%20%20%20%0A%20%20%20%20%20%20%20%20%20%20%20%20var%20html_a1d6de8ee62d43f99c5d4bb549dd68cb%20%3D%20%24%28%60%3Cdiv%20id%3D%22html_a1d6de8ee62d43f99c5d4bb549dd68cb%22%20style%3D%22width%3A%20100.0%25%3B%20height%3A%20100.0%25%3B%22%3ECaledonia-Fairbanks%2C%20York%3C/div%3E%60%29%5B0%5D%3B%0A%20%20%20%20%20%20%20%20%20%20%20%20popup_1f424455ef0640cf9aca714aa87fd98c.setContent%28html_a1d6de8ee62d43f99c5d4bb549dd68cb%29%3B%0A%20%20%20%20%20%20%20%20%0A%0A%20%20%20%20%20%20%20%20circle_marker_4a369de3a27a4a53b010f1d2fca32f0d.bindPopup%28popup_1f424455ef0640cf9aca714aa87fd98c%29%0A%20%20%20%20%20%20%20%20%3B%0A%0A%20%20%20%20%20%20%20%20%0A%20%20%20%20%0A%20%20%20%20%0A%20%20%20%20%20%20%20%20%20%20%20%20var%20circle_marker_0da1a17469bb4905bd7d5588866bd687%20%3D%20L.circleMarker%28%0A%20%20%20%20%20%20%20%20%20%20%20%20%20%20%20%20%5B43.7709921%2C%20-79.2169174%5D%2C%0A%20%20%20%20%20%20%20%20%20%20%20%20%20%20%20%20%7B%22bubblingMouseEvents%22%3A%20true%2C%20%22color%22%3A%20%22blue%22%2C%20%22dashArray%22%3A%20null%2C%20%22dashOffset%22%3A%20null%2C%20%22fill%22%3A%20true%2C%20%22fillColor%22%3A%20%22%233186cc%22%2C%20%22fillOpacity%22%3A%200.7%2C%20%22fillRule%22%3A%20%22evenodd%22%2C%20%22lineCap%22%3A%20%22round%22%2C%20%22lineJoin%22%3A%20%22round%22%2C%20%22opacity%22%3A%201.0%2C%20%22radius%22%3A%205%2C%20%22stroke%22%3A%20true%2C%20%22weight%22%3A%203%7D%0A%20%20%20%20%20%20%20%20%20%20%20%20%29.addTo%28map_b739a702408f4cecbcc7a66b15e3b8e4%29%3B%0A%20%20%20%20%20%20%20%20%0A%20%20%20%20%0A%20%20%20%20%20%20%20%20var%20popup_f6ae6b53adc0478c82e02711917239d7%20%3D%20L.popup%28%7B%22maxWidth%22%3A%20%22100%25%22%7D%29%3B%0A%0A%20%20%20%20%20%20%20%20%0A%20%20%20%20%20%20%20%20%20%20%20%20var%20html_d12ada09e3ce4c27b21d064f71257fd0%20%3D%20%24%28%60%3Cdiv%20id%3D%22html_d12ada09e3ce4c27b21d064f71257fd0%22%20style%3D%22width%3A%20100.0%25%3B%20height%3A%20100.0%25%3B%22%3EWoburn%2C%20Scarborough%3C/div%3E%60%29%5B0%5D%3B%0A%20%20%20%20%20%20%20%20%20%20%20%20popup_f6ae6b53adc0478c82e02711917239d7.setContent%28html_d12ada09e3ce4c27b21d064f71257fd0%29%3B%0A%20%20%20%20%20%20%20%20%0A%0A%20%20%20%20%20%20%20%20circle_marker_0da1a17469bb4905bd7d5588866bd687.bindPopup%28popup_f6ae6b53adc0478c82e02711917239d7%29%0A%20%20%20%20%20%20%20%20%3B%0A%0A%20%20%20%20%20%20%20%20%0A%20%20%20%20%0A%20%20%20%20%0A%20%20%20%20%20%20%20%20%20%20%20%20var%20circle_marker_8d083eca2c0e4130a37593be03ad4326%20%3D%20L.circleMarker%28%0A%20%20%20%20%20%20%20%20%20%20%20%20%20%20%20%20%5B43.7090604%2C%20-79.3634517%5D%2C%0A%20%20%20%20%20%20%20%20%20%20%20%20%20%20%20%20%7B%22bubblingMouseEvents%22%3A%20true%2C%20%22color%22%3A%20%22blue%22%2C%20%22dashArray%22%3A%20null%2C%20%22dashOffset%22%3A%20null%2C%20%22fill%22%3A%20true%2C%20%22fillColor%22%3A%20%22%233186cc%22%2C%20%22fillOpacity%22%3A%200.7%2C%20%22fillRule%22%3A%20%22evenodd%22%2C%20%22lineCap%22%3A%20%22round%22%2C%20%22lineJoin%22%3A%20%22round%22%2C%20%22opacity%22%3A%201.0%2C%20%22radius%22%3A%205%2C%20%22stroke%22%3A%20true%2C%20%22weight%22%3A%203%7D%0A%20%20%20%20%20%20%20%20%20%20%20%20%29.addTo%28map_b739a702408f4cecbcc7a66b15e3b8e4%29%3B%0A%20%20%20%20%20%20%20%20%0A%20%20%20%20%0A%20%20%20%20%20%20%20%20var%20popup_24773ae8c1e54add87d14f382b710b29%20%3D%20L.popup%28%7B%22maxWidth%22%3A%20%22100%25%22%7D%29%3B%0A%0A%20%20%20%20%20%20%20%20%0A%20%20%20%20%20%20%20%20%20%20%20%20var%20html_ea097421263c485387fae3f1fc47bfc9%20%3D%20%24%28%60%3Cdiv%20id%3D%22html_ea097421263c485387fae3f1fc47bfc9%22%20style%3D%22width%3A%20100.0%25%3B%20height%3A%20100.0%25%3B%22%3ELeaside%2C%20East%20York%3C/div%3E%60%29%5B0%5D%3B%0A%20%20%20%20%20%20%20%20%20%20%20%20popup_24773ae8c1e54add87d14f382b710b29.setContent%28html_ea097421263c485387fae3f1fc47bfc9%29%3B%0A%20%20%20%20%20%20%20%20%0A%0A%20%20%20%20%20%20%20%20circle_marker_8d083eca2c0e4130a37593be03ad4326.bindPopup%28popup_24773ae8c1e54add87d14f382b710b29%29%0A%20%20%20%20%20%20%20%20%3B%0A%0A%20%20%20%20%20%20%20%20%0A%20%20%20%20%0A%20%20%20%20%0A%20%20%20%20%20%20%20%20%20%20%20%20var%20circle_marker_9637d63d92574695a798015fc1777978%20%3D%20L.circleMarker%28%0A%20%20%20%20%20%20%20%20%20%20%20%20%20%20%20%20%5B43.6579524%2C%20-79.3873826%5D%2C%0A%20%20%20%20%20%20%20%20%20%20%20%20%20%20%20%20%7B%22bubblingMouseEvents%22%3A%20true%2C%20%22color%22%3A%20%22blue%22%2C%20%22dashArray%22%3A%20null%2C%20%22dashOffset%22%3A%20null%2C%20%22fill%22%3A%20true%2C%20%22fillColor%22%3A%20%22%233186cc%22%2C%20%22fillOpacity%22%3A%200.7%2C%20%22fillRule%22%3A%20%22evenodd%22%2C%20%22lineCap%22%3A%20%22round%22%2C%20%22lineJoin%22%3A%20%22round%22%2C%20%22opacity%22%3A%201.0%2C%20%22radius%22%3A%205%2C%20%22stroke%22%3A%20true%2C%20%22weight%22%3A%203%7D%0A%20%20%20%20%20%20%20%20%20%20%20%20%29.addTo%28map_b739a702408f4cecbcc7a66b15e3b8e4%29%3B%0A%20%20%20%20%20%20%20%20%0A%20%20%20%20%0A%20%20%20%20%20%20%20%20var%20popup_3da6527c03874c5b9b39232232596899%20%3D%20L.popup%28%7B%22maxWidth%22%3A%20%22100%25%22%7D%29%3B%0A%0A%20%20%20%20%20%20%20%20%0A%20%20%20%20%20%20%20%20%20%20%20%20var%20html_a304d7cf5dcc4e70a5d4668e9bdb97d9%20%3D%20%24%28%60%3Cdiv%20id%3D%22html_a304d7cf5dcc4e70a5d4668e9bdb97d9%22%20style%3D%22width%3A%20100.0%25%3B%20height%3A%20100.0%25%3B%22%3ECentral%20Bay%20Street%2C%20Downtown%20Toronto%3C/div%3E%60%29%5B0%5D%3B%0A%20%20%20%20%20%20%20%20%20%20%20%20popup_3da6527c03874c5b9b39232232596899.setContent%28html_a304d7cf5dcc4e70a5d4668e9bdb97d9%29%3B%0A%20%20%20%20%20%20%20%20%0A%0A%20%20%20%20%20%20%20%20circle_marker_9637d63d92574695a798015fc1777978.bindPopup%28popup_3da6527c03874c5b9b39232232596899%29%0A%20%20%20%20%20%20%20%20%3B%0A%0A%20%20%20%20%20%20%20%20%0A%20%20%20%20%0A%20%20%20%20%0A%20%20%20%20%20%20%20%20%20%20%20%20var%20circle_marker_c7e87ed2fd03471496cee39792ec5c42%20%3D%20L.circleMarker%28%0A%20%20%20%20%20%20%20%20%20%20%20%20%20%20%20%20%5B43.669542%2C%20-79.4225637%5D%2C%0A%20%20%20%20%20%20%20%20%20%20%20%20%20%20%20%20%7B%22bubblingMouseEvents%22%3A%20true%2C%20%22color%22%3A%20%22blue%22%2C%20%22dashArray%22%3A%20null%2C%20%22dashOffset%22%3A%20null%2C%20%22fill%22%3A%20true%2C%20%22fillColor%22%3A%20%22%233186cc%22%2C%20%22fillOpacity%22%3A%200.7%2C%20%22fillRule%22%3A%20%22evenodd%22%2C%20%22lineCap%22%3A%20%22round%22%2C%20%22lineJoin%22%3A%20%22round%22%2C%20%22opacity%22%3A%201.0%2C%20%22radius%22%3A%205%2C%20%22stroke%22%3A%20true%2C%20%22weight%22%3A%203%7D%0A%20%20%20%20%20%20%20%20%20%20%20%20%29.addTo%28map_b739a702408f4cecbcc7a66b15e3b8e4%29%3B%0A%20%20%20%20%20%20%20%20%0A%20%20%20%20%0A%20%20%20%20%20%20%20%20var%20popup_15bf113b84624125bb77d3f5fbf45883%20%3D%20L.popup%28%7B%22maxWidth%22%3A%20%22100%25%22%7D%29%3B%0A%0A%20%20%20%20%20%20%20%20%0A%20%20%20%20%20%20%20%20%20%20%20%20var%20html_06d362832b88463992e014b49b3b150a%20%3D%20%24%28%60%3Cdiv%20id%3D%22html_06d362832b88463992e014b49b3b150a%22%20style%3D%22width%3A%20100.0%25%3B%20height%3A%20100.0%25%3B%22%3EChristie%2C%20Downtown%20Toronto%3C/div%3E%60%29%5B0%5D%3B%0A%20%20%20%20%20%20%20%20%20%20%20%20popup_15bf113b84624125bb77d3f5fbf45883.setContent%28html_06d362832b88463992e014b49b3b150a%29%3B%0A%20%20%20%20%20%20%20%20%0A%0A%20%20%20%20%20%20%20%20circle_marker_c7e87ed2fd03471496cee39792ec5c42.bindPopup%28popup_15bf113b84624125bb77d3f5fbf45883%29%0A%20%20%20%20%20%20%20%20%3B%0A%0A%20%20%20%20%20%20%20%20%0A%20%20%20%20%0A%20%20%20%20%0A%20%20%20%20%20%20%20%20%20%20%20%20var%20circle_marker_93a2d436d99f4e378bb6dbb185747984%20%3D%20L.circleMarker%28%0A%20%20%20%20%20%20%20%20%20%20%20%20%20%20%20%20%5B43.773136%2C%20-79.2394761%5D%2C%0A%20%20%20%20%20%20%20%20%20%20%20%20%20%20%20%20%7B%22bubblingMouseEvents%22%3A%20true%2C%20%22color%22%3A%20%22blue%22%2C%20%22dashArray%22%3A%20null%2C%20%22dashOffset%22%3A%20null%2C%20%22fill%22%3A%20true%2C%20%22fillColor%22%3A%20%22%233186cc%22%2C%20%22fillOpacity%22%3A%200.7%2C%20%22fillRule%22%3A%20%22evenodd%22%2C%20%22lineCap%22%3A%20%22round%22%2C%20%22lineJoin%22%3A%20%22round%22%2C%20%22opacity%22%3A%201.0%2C%20%22radius%22%3A%205%2C%20%22stroke%22%3A%20true%2C%20%22weight%22%3A%203%7D%0A%20%20%20%20%20%20%20%20%20%20%20%20%29.addTo%28map_b739a702408f4cecbcc7a66b15e3b8e4%29%3B%0A%20%20%20%20%20%20%20%20%0A%20%20%20%20%0A%20%20%20%20%20%20%20%20var%20popup_3268060b46e14f7382b23efaaa42ac14%20%3D%20L.popup%28%7B%22maxWidth%22%3A%20%22100%25%22%7D%29%3B%0A%0A%20%20%20%20%20%20%20%20%0A%20%20%20%20%20%20%20%20%20%20%20%20var%20html_a6cf6b0232a94266b10762e9ea80d176%20%3D%20%24%28%60%3Cdiv%20id%3D%22html_a6cf6b0232a94266b10762e9ea80d176%22%20style%3D%22width%3A%20100.0%25%3B%20height%3A%20100.0%25%3B%22%3ECedarbrae%2C%20Scarborough%3C/div%3E%60%29%5B0%5D%3B%0A%20%20%20%20%20%20%20%20%20%20%20%20popup_3268060b46e14f7382b23efaaa42ac14.setContent%28html_a6cf6b0232a94266b10762e9ea80d176%29%3B%0A%20%20%20%20%20%20%20%20%0A%0A%20%20%20%20%20%20%20%20circle_marker_93a2d436d99f4e378bb6dbb185747984.bindPopup%28popup_3268060b46e14f7382b23efaaa42ac14%29%0A%20%20%20%20%20%20%20%20%3B%0A%0A%20%20%20%20%20%20%20%20%0A%20%20%20%20%0A%20%20%20%20%0A%20%20%20%20%20%20%20%20%20%20%20%20var%20circle_marker_9c5c5a7ae0724ce28e293c5187e0d3f1%20%3D%20L.circleMarker%28%0A%20%20%20%20%20%20%20%20%20%20%20%20%20%20%20%20%5B43.8037622%2C%20-79.3634517%5D%2C%0A%20%20%20%20%20%20%20%20%20%20%20%20%20%20%20%20%7B%22bubblingMouseEvents%22%3A%20true%2C%20%22color%22%3A%20%22blue%22%2C%20%22dashArray%22%3A%20null%2C%20%22dashOffset%22%3A%20null%2C%20%22fill%22%3A%20true%2C%20%22fillColor%22%3A%20%22%233186cc%22%2C%20%22fillOpacity%22%3A%200.7%2C%20%22fillRule%22%3A%20%22evenodd%22%2C%20%22lineCap%22%3A%20%22round%22%2C%20%22lineJoin%22%3A%20%22round%22%2C%20%22opacity%22%3A%201.0%2C%20%22radius%22%3A%205%2C%20%22stroke%22%3A%20true%2C%20%22weight%22%3A%203%7D%0A%20%20%20%20%20%20%20%20%20%20%20%20%29.addTo%28map_b739a702408f4cecbcc7a66b15e3b8e4%29%3B%0A%20%20%20%20%20%20%20%20%0A%20%20%20%20%0A%20%20%20%20%20%20%20%20var%20popup_497f86205cf445f0bf8bbf03b577dbf7%20%3D%20L.popup%28%7B%22maxWidth%22%3A%20%22100%25%22%7D%29%3B%0A%0A%20%20%20%20%20%20%20%20%0A%20%20%20%20%20%20%20%20%20%20%20%20var%20html_3ec3e996ea204cf1b13b28e36e1bf480%20%3D%20%24%28%60%3Cdiv%20id%3D%22html_3ec3e996ea204cf1b13b28e36e1bf480%22%20style%3D%22width%3A%20100.0%25%3B%20height%3A%20100.0%25%3B%22%3EHillcrest%20Village%2C%20North%20York%3C/div%3E%60%29%5B0%5D%3B%0A%20%20%20%20%20%20%20%20%20%20%20%20popup_497f86205cf445f0bf8bbf03b577dbf7.setContent%28html_3ec3e996ea204cf1b13b28e36e1bf480%29%3B%0A%20%20%20%20%20%20%20%20%0A%0A%20%20%20%20%20%20%20%20circle_marker_9c5c5a7ae0724ce28e293c5187e0d3f1.bindPopup%28popup_497f86205cf445f0bf8bbf03b577dbf7%29%0A%20%20%20%20%20%20%20%20%3B%0A%0A%20%20%20%20%20%20%20%20%0A%20%20%20%20%0A%20%20%20%20%0A%20%20%20%20%20%20%20%20%20%20%20%20var%20circle_marker_8886c294f11b4a59aa4aefbc372d3ed8%20%3D%20L.circleMarker%28%0A%20%20%20%20%20%20%20%20%20%20%20%20%20%20%20%20%5B43.7543283%2C%20-79.4422593%5D%2C%0A%20%20%20%20%20%20%20%20%20%20%20%20%20%20%20%20%7B%22bubblingMouseEvents%22%3A%20true%2C%20%22color%22%3A%20%22blue%22%2C%20%22dashArray%22%3A%20null%2C%20%22dashOffset%22%3A%20null%2C%20%22fill%22%3A%20true%2C%20%22fillColor%22%3A%20%22%233186cc%22%2C%20%22fillOpacity%22%3A%200.7%2C%20%22fillRule%22%3A%20%22evenodd%22%2C%20%22lineCap%22%3A%20%22round%22%2C%20%22lineJoin%22%3A%20%22round%22%2C%20%22opacity%22%3A%201.0%2C%20%22radius%22%3A%205%2C%20%22stroke%22%3A%20true%2C%20%22weight%22%3A%203%7D%0A%20%20%20%20%20%20%20%20%20%20%20%20%29.addTo%28map_b739a702408f4cecbcc7a66b15e3b8e4%29%3B%0A%20%20%20%20%20%20%20%20%0A%20%20%20%20%0A%20%20%20%20%20%20%20%20var%20popup_6cb501bcc38d47bfa052e007f5dbf434%20%3D%20L.popup%28%7B%22maxWidth%22%3A%20%22100%25%22%7D%29%3B%0A%0A%20%20%20%20%20%20%20%20%0A%20%20%20%20%20%20%20%20%20%20%20%20var%20html_924d5fb7db7c411a9df0033486f62b9e%20%3D%20%24%28%60%3Cdiv%20id%3D%22html_924d5fb7db7c411a9df0033486f62b9e%22%20style%3D%22width%3A%20100.0%25%3B%20height%3A%20100.0%25%3B%22%3EBathurst%20Manor%2C%20Wilson%20Heights%2C%20Downsview%20North%2C%20North%20York%3C/div%3E%60%29%5B0%5D%3B%0A%20%20%20%20%20%20%20%20%20%20%20%20popup_6cb501bcc38d47bfa052e007f5dbf434.setContent%28html_924d5fb7db7c411a9df0033486f62b9e%29%3B%0A%20%20%20%20%20%20%20%20%0A%0A%20%20%20%20%20%20%20%20circle_marker_8886c294f11b4a59aa4aefbc372d3ed8.bindPopup%28popup_6cb501bcc38d47bfa052e007f5dbf434%29%0A%20%20%20%20%20%20%20%20%3B%0A%0A%20%20%20%20%20%20%20%20%0A%20%20%20%20%0A%20%20%20%20%0A%20%20%20%20%20%20%20%20%20%20%20%20var%20circle_marker_8b859417934b4bd3833090720b92c174%20%3D%20L.circleMarker%28%0A%20%20%20%20%20%20%20%20%20%20%20%20%20%20%20%20%5B43.7053689%2C%20-79.3493719%5D%2C%0A%20%20%20%20%20%20%20%20%20%20%20%20%20%20%20%20%7B%22bubblingMouseEvents%22%3A%20true%2C%20%22color%22%3A%20%22blue%22%2C%20%22dashArray%22%3A%20null%2C%20%22dashOffset%22%3A%20null%2C%20%22fill%22%3A%20true%2C%20%22fillColor%22%3A%20%22%233186cc%22%2C%20%22fillOpacity%22%3A%200.7%2C%20%22fillRule%22%3A%20%22evenodd%22%2C%20%22lineCap%22%3A%20%22round%22%2C%20%22lineJoin%22%3A%20%22round%22%2C%20%22opacity%22%3A%201.0%2C%20%22radius%22%3A%205%2C%20%22stroke%22%3A%20true%2C%20%22weight%22%3A%203%7D%0A%20%20%20%20%20%20%20%20%20%20%20%20%29.addTo%28map_b739a702408f4cecbcc7a66b15e3b8e4%29%3B%0A%20%20%20%20%20%20%20%20%0A%20%20%20%20%0A%20%20%20%20%20%20%20%20var%20popup_424ca4a4655344df950c1f2989afa09b%20%3D%20L.popup%28%7B%22maxWidth%22%3A%20%22100%25%22%7D%29%3B%0A%0A%20%20%20%20%20%20%20%20%0A%20%20%20%20%20%20%20%20%20%20%20%20var%20html_2eebb44f1b2d402d90dd26fe41fdaa2e%20%3D%20%24%28%60%3Cdiv%20id%3D%22html_2eebb44f1b2d402d90dd26fe41fdaa2e%22%20style%3D%22width%3A%20100.0%25%3B%20height%3A%20100.0%25%3B%22%3EThorncliffe%20Park%2C%20East%20York%3C/div%3E%60%29%5B0%5D%3B%0A%20%20%20%20%20%20%20%20%20%20%20%20popup_424ca4a4655344df950c1f2989afa09b.setContent%28html_2eebb44f1b2d402d90dd26fe41fdaa2e%29%3B%0A%20%20%20%20%20%20%20%20%0A%0A%20%20%20%20%20%20%20%20circle_marker_8b859417934b4bd3833090720b92c174.bindPopup%28popup_424ca4a4655344df950c1f2989afa09b%29%0A%20%20%20%20%20%20%20%20%3B%0A%0A%20%20%20%20%20%20%20%20%0A%20%20%20%20%0A%20%20%20%20%0A%20%20%20%20%20%20%20%20%20%20%20%20var%20circle_marker_405dc37f81b442239e169dfee2de5bb0%20%3D%20L.circleMarker%28%0A%20%20%20%20%20%20%20%20%20%20%20%20%20%20%20%20%5B43.6505712%2C%20-79.3845675%5D%2C%0A%20%20%20%20%20%20%20%20%20%20%20%20%20%20%20%20%7B%22bubblingMouseEvents%22%3A%20true%2C%20%22color%22%3A%20%22blue%22%2C%20%22dashArray%22%3A%20null%2C%20%22dashOffset%22%3A%20null%2C%20%22fill%22%3A%20true%2C%20%22fillColor%22%3A%20%22%233186cc%22%2C%20%22fillOpacity%22%3A%200.7%2C%20%22fillRule%22%3A%20%22evenodd%22%2C%20%22lineCap%22%3A%20%22round%22%2C%20%22lineJoin%22%3A%20%22round%22%2C%20%22opacity%22%3A%201.0%2C%20%22radius%22%3A%205%2C%20%22stroke%22%3A%20true%2C%20%22weight%22%3A%203%7D%0A%20%20%20%20%20%20%20%20%20%20%20%20%29.addTo%28map_b739a702408f4cecbcc7a66b15e3b8e4%29%3B%0A%20%20%20%20%20%20%20%20%0A%20%20%20%20%0A%20%20%20%20%20%20%20%20var%20popup_f1342f508bc1423dadb0fedbe2da3bb6%20%3D%20L.popup%28%7B%22maxWidth%22%3A%20%22100%25%22%7D%29%3B%0A%0A%20%20%20%20%20%20%20%20%0A%20%20%20%20%20%20%20%20%20%20%20%20var%20html_b3e63f704e2c49a8b1821bd773f9de8c%20%3D%20%24%28%60%3Cdiv%20id%3D%22html_b3e63f704e2c49a8b1821bd773f9de8c%22%20style%3D%22width%3A%20100.0%25%3B%20height%3A%20100.0%25%3B%22%3ERichmond%2C%20Adelaide%2C%20King%2C%20Downtown%20Toronto%3C/div%3E%60%29%5B0%5D%3B%0A%20%20%20%20%20%20%20%20%20%20%20%20popup_f1342f508bc1423dadb0fedbe2da3bb6.setContent%28html_b3e63f704e2c49a8b1821bd773f9de8c%29%3B%0A%20%20%20%20%20%20%20%20%0A%0A%20%20%20%20%20%20%20%20circle_marker_405dc37f81b442239e169dfee2de5bb0.bindPopup%28popup_f1342f508bc1423dadb0fedbe2da3bb6%29%0A%20%20%20%20%20%20%20%20%3B%0A%0A%20%20%20%20%20%20%20%20%0A%20%20%20%20%0A%20%20%20%20%0A%20%20%20%20%20%20%20%20%20%20%20%20var%20circle_marker_63e6cf178a9b48aeb70a17d3199089b8%20%3D%20L.circleMarker%28%0A%20%20%20%20%20%20%20%20%20%20%20%20%20%20%20%20%5B43.6690051%2C%20-79.4422593%5D%2C%0A%20%20%20%20%20%20%20%20%20%20%20%20%20%20%20%20%7B%22bubblingMouseEvents%22%3A%20true%2C%20%22color%22%3A%20%22blue%22%2C%20%22dashArray%22%3A%20null%2C%20%22dashOffset%22%3A%20null%2C%20%22fill%22%3A%20true%2C%20%22fillColor%22%3A%20%22%233186cc%22%2C%20%22fillOpacity%22%3A%200.7%2C%20%22fillRule%22%3A%20%22evenodd%22%2C%20%22lineCap%22%3A%20%22round%22%2C%20%22lineJoin%22%3A%20%22round%22%2C%20%22opacity%22%3A%201.0%2C%20%22radius%22%3A%205%2C%20%22stroke%22%3A%20true%2C%20%22weight%22%3A%203%7D%0A%20%20%20%20%20%20%20%20%20%20%20%20%29.addTo%28map_b739a702408f4cecbcc7a66b15e3b8e4%29%3B%0A%20%20%20%20%20%20%20%20%0A%20%20%20%20%0A%20%20%20%20%20%20%20%20var%20popup_27ed5fb871cf433f820b41ab62e77471%20%3D%20L.popup%28%7B%22maxWidth%22%3A%20%22100%25%22%7D%29%3B%0A%0A%20%20%20%20%20%20%20%20%0A%20%20%20%20%20%20%20%20%20%20%20%20var%20html_a2ea54e1b64944aebe866767473b426a%20%3D%20%24%28%60%3Cdiv%20id%3D%22html_a2ea54e1b64944aebe866767473b426a%22%20style%3D%22width%3A%20100.0%25%3B%20height%3A%20100.0%25%3B%22%3EDufferin%2C%20Dovercourt%20Village%2C%20West%20Toronto%3C/div%3E%60%29%5B0%5D%3B%0A%20%20%20%20%20%20%20%20%20%20%20%20popup_27ed5fb871cf433f820b41ab62e77471.setContent%28html_a2ea54e1b64944aebe866767473b426a%29%3B%0A%20%20%20%20%20%20%20%20%0A%0A%20%20%20%20%20%20%20%20circle_marker_63e6cf178a9b48aeb70a17d3199089b8.bindPopup%28popup_27ed5fb871cf433f820b41ab62e77471%29%0A%20%20%20%20%20%20%20%20%3B%0A%0A%20%20%20%20%20%20%20%20%0A%20%20%20%20%0A%20%20%20%20%0A%20%20%20%20%20%20%20%20%20%20%20%20var%20circle_marker_a0884df4595e407abed7d71c07d7bd0e%20%3D%20L.circleMarker%28%0A%20%20%20%20%20%20%20%20%20%20%20%20%20%20%20%20%5B43.7447342%2C%20-79.2394761%5D%2C%0A%20%20%20%20%20%20%20%20%20%20%20%20%20%20%20%20%7B%22bubblingMouseEvents%22%3A%20true%2C%20%22color%22%3A%20%22blue%22%2C%20%22dashArray%22%3A%20null%2C%20%22dashOffset%22%3A%20null%2C%20%22fill%22%3A%20true%2C%20%22fillColor%22%3A%20%22%233186cc%22%2C%20%22fillOpacity%22%3A%200.7%2C%20%22fillRule%22%3A%20%22evenodd%22%2C%20%22lineCap%22%3A%20%22round%22%2C%20%22lineJoin%22%3A%20%22round%22%2C%20%22opacity%22%3A%201.0%2C%20%22radius%22%3A%205%2C%20%22stroke%22%3A%20true%2C%20%22weight%22%3A%203%7D%0A%20%20%20%20%20%20%20%20%20%20%20%20%29.addTo%28map_b739a702408f4cecbcc7a66b15e3b8e4%29%3B%0A%20%20%20%20%20%20%20%20%0A%20%20%20%20%0A%20%20%20%20%20%20%20%20var%20popup_1b91d2e56ced48dcb181beb581d977f7%20%3D%20L.popup%28%7B%22maxWidth%22%3A%20%22100%25%22%7D%29%3B%0A%0A%20%20%20%20%20%20%20%20%0A%20%20%20%20%20%20%20%20%20%20%20%20var%20html_86212770f7a04912a0163daae562d7d8%20%3D%20%24%28%60%3Cdiv%20id%3D%22html_86212770f7a04912a0163daae562d7d8%22%20style%3D%22width%3A%20100.0%25%3B%20height%3A%20100.0%25%3B%22%3EScarborough%20Village%2C%20Scarborough%3C/div%3E%60%29%5B0%5D%3B%0A%20%20%20%20%20%20%20%20%20%20%20%20popup_1b91d2e56ced48dcb181beb581d977f7.setContent%28html_86212770f7a04912a0163daae562d7d8%29%3B%0A%20%20%20%20%20%20%20%20%0A%0A%20%20%20%20%20%20%20%20circle_marker_a0884df4595e407abed7d71c07d7bd0e.bindPopup%28popup_1b91d2e56ced48dcb181beb581d977f7%29%0A%20%20%20%20%20%20%20%20%3B%0A%0A%20%20%20%20%20%20%20%20%0A%20%20%20%20%0A%20%20%20%20%0A%20%20%20%20%20%20%20%20%20%20%20%20var%20circle_marker_4d2e85b74d024b14bb44cb10dd352a68%20%3D%20L.circleMarker%28%0A%20%20%20%20%20%20%20%20%20%20%20%20%20%20%20%20%5B43.7785175%2C%20-79.3465557%5D%2C%0A%20%20%20%20%20%20%20%20%20%20%20%20%20%20%20%20%7B%22bubblingMouseEvents%22%3A%20true%2C%20%22color%22%3A%20%22blue%22%2C%20%22dashArray%22%3A%20null%2C%20%22dashOffset%22%3A%20null%2C%20%22fill%22%3A%20true%2C%20%22fillColor%22%3A%20%22%233186cc%22%2C%20%22fillOpacity%22%3A%200.7%2C%20%22fillRule%22%3A%20%22evenodd%22%2C%20%22lineCap%22%3A%20%22round%22%2C%20%22lineJoin%22%3A%20%22round%22%2C%20%22opacity%22%3A%201.0%2C%20%22radius%22%3A%205%2C%20%22stroke%22%3A%20true%2C%20%22weight%22%3A%203%7D%0A%20%20%20%20%20%20%20%20%20%20%20%20%29.addTo%28map_b739a702408f4cecbcc7a66b15e3b8e4%29%3B%0A%20%20%20%20%20%20%20%20%0A%20%20%20%20%0A%20%20%20%20%20%20%20%20var%20popup_1b30d2a11d834830ac9f57b3cb18f277%20%3D%20L.popup%28%7B%22maxWidth%22%3A%20%22100%25%22%7D%29%3B%0A%0A%20%20%20%20%20%20%20%20%0A%20%20%20%20%20%20%20%20%20%20%20%20var%20html_4ee71f9f764f42479de9e34381b0ecb4%20%3D%20%24%28%60%3Cdiv%20id%3D%22html_4ee71f9f764f42479de9e34381b0ecb4%22%20style%3D%22width%3A%20100.0%25%3B%20height%3A%20100.0%25%3B%22%3EFairview%2C%20Henry%20Farm%2C%20Oriole%2C%20North%20York%3C/div%3E%60%29%5B0%5D%3B%0A%20%20%20%20%20%20%20%20%20%20%20%20popup_1b30d2a11d834830ac9f57b3cb18f277.setContent%28html_4ee71f9f764f42479de9e34381b0ecb4%29%3B%0A%20%20%20%20%20%20%20%20%0A%0A%20%20%20%20%20%20%20%20circle_marker_4d2e85b74d024b14bb44cb10dd352a68.bindPopup%28popup_1b30d2a11d834830ac9f57b3cb18f277%29%0A%20%20%20%20%20%20%20%20%3B%0A%0A%20%20%20%20%20%20%20%20%0A%20%20%20%20%0A%20%20%20%20%0A%20%20%20%20%20%20%20%20%20%20%20%20var%20circle_marker_01f84f8ea90a46c996c5719cd811f472%20%3D%20L.circleMarker%28%0A%20%20%20%20%20%20%20%20%20%20%20%20%20%20%20%20%5B43.7679803%2C%20-79.4872619%5D%2C%0A%20%20%20%20%20%20%20%20%20%20%20%20%20%20%20%20%7B%22bubblingMouseEvents%22%3A%20true%2C%20%22color%22%3A%20%22blue%22%2C%20%22dashArray%22%3A%20null%2C%20%22dashOffset%22%3A%20null%2C%20%22fill%22%3A%20true%2C%20%22fillColor%22%3A%20%22%233186cc%22%2C%20%22fillOpacity%22%3A%200.7%2C%20%22fillRule%22%3A%20%22evenodd%22%2C%20%22lineCap%22%3A%20%22round%22%2C%20%22lineJoin%22%3A%20%22round%22%2C%20%22opacity%22%3A%201.0%2C%20%22radius%22%3A%205%2C%20%22stroke%22%3A%20true%2C%20%22weight%22%3A%203%7D%0A%20%20%20%20%20%20%20%20%20%20%20%20%29.addTo%28map_b739a702408f4cecbcc7a66b15e3b8e4%29%3B%0A%20%20%20%20%20%20%20%20%0A%20%20%20%20%0A%20%20%20%20%20%20%20%20var%20popup_dfd561193d82431bb754560a50648adc%20%3D%20L.popup%28%7B%22maxWidth%22%3A%20%22100%25%22%7D%29%3B%0A%0A%20%20%20%20%20%20%20%20%0A%20%20%20%20%20%20%20%20%20%20%20%20var%20html_eea94b2d7f114b8594aff52331d32925%20%3D%20%24%28%60%3Cdiv%20id%3D%22html_eea94b2d7f114b8594aff52331d32925%22%20style%3D%22width%3A%20100.0%25%3B%20height%3A%20100.0%25%3B%22%3ENorthwood%20Park%2C%20York%20University%2C%20North%20York%3C/div%3E%60%29%5B0%5D%3B%0A%20%20%20%20%20%20%20%20%20%20%20%20popup_dfd561193d82431bb754560a50648adc.setContent%28html_eea94b2d7f114b8594aff52331d32925%29%3B%0A%20%20%20%20%20%20%20%20%0A%0A%20%20%20%20%20%20%20%20circle_marker_01f84f8ea90a46c996c5719cd811f472.bindPopup%28popup_dfd561193d82431bb754560a50648adc%29%0A%20%20%20%20%20%20%20%20%3B%0A%0A%20%20%20%20%20%20%20%20%0A%20%20%20%20%0A%20%20%20%20%0A%20%20%20%20%20%20%20%20%20%20%20%20var%20circle_marker_5b179bdcdfd44cb7a1c61087ce1cba74%20%3D%20L.circleMarker%28%0A%20%20%20%20%20%20%20%20%20%20%20%20%20%20%20%20%5B43.685347%2C%20-79.3381065%5D%2C%0A%20%20%20%20%20%20%20%20%20%20%20%20%20%20%20%20%7B%22bubblingMouseEvents%22%3A%20true%2C%20%22color%22%3A%20%22blue%22%2C%20%22dashArray%22%3A%20null%2C%20%22dashOffset%22%3A%20null%2C%20%22fill%22%3A%20true%2C%20%22fillColor%22%3A%20%22%233186cc%22%2C%20%22fillOpacity%22%3A%200.7%2C%20%22fillRule%22%3A%20%22evenodd%22%2C%20%22lineCap%22%3A%20%22round%22%2C%20%22lineJoin%22%3A%20%22round%22%2C%20%22opacity%22%3A%201.0%2C%20%22radius%22%3A%205%2C%20%22stroke%22%3A%20true%2C%20%22weight%22%3A%203%7D%0A%20%20%20%20%20%20%20%20%20%20%20%20%29.addTo%28map_b739a702408f4cecbcc7a66b15e3b8e4%29%3B%0A%20%20%20%20%20%20%20%20%0A%20%20%20%20%0A%20%20%20%20%20%20%20%20var%20popup_7535ec836e5c44e1a862572eaafeff73%20%3D%20L.popup%28%7B%22maxWidth%22%3A%20%22100%25%22%7D%29%3B%0A%0A%20%20%20%20%20%20%20%20%0A%20%20%20%20%20%20%20%20%20%20%20%20var%20html_19a7a8d12cd04717a8c8e4ffb756b4d0%20%3D%20%24%28%60%3Cdiv%20id%3D%22html_19a7a8d12cd04717a8c8e4ffb756b4d0%22%20style%3D%22width%3A%20100.0%25%3B%20height%3A%20100.0%25%3B%22%3EThe%20Danforth%20%20East%2C%20East%20YorkEast%20Toronto%3C/div%3E%60%29%5B0%5D%3B%0A%20%20%20%20%20%20%20%20%20%20%20%20popup_7535ec836e5c44e1a862572eaafeff73.setContent%28html_19a7a8d12cd04717a8c8e4ffb756b4d0%29%3B%0A%20%20%20%20%20%20%20%20%0A%0A%20%20%20%20%20%20%20%20circle_marker_5b179bdcdfd44cb7a1c61087ce1cba74.bindPopup%28popup_7535ec836e5c44e1a862572eaafeff73%29%0A%20%20%20%20%20%20%20%20%3B%0A%0A%20%20%20%20%20%20%20%20%0A%20%20%20%20%0A%20%20%20%20%0A%20%20%20%20%20%20%20%20%20%20%20%20var%20circle_marker_ccaa374250584ef1873cf1b04e13f060%20%3D%20L.circleMarker%28%0A%20%20%20%20%20%20%20%20%20%20%20%20%20%20%20%20%5B43.6408157%2C%20-79.3817523%5D%2C%0A%20%20%20%20%20%20%20%20%20%20%20%20%20%20%20%20%7B%22bubblingMouseEvents%22%3A%20true%2C%20%22color%22%3A%20%22blue%22%2C%20%22dashArray%22%3A%20null%2C%20%22dashOffset%22%3A%20null%2C%20%22fill%22%3A%20true%2C%20%22fillColor%22%3A%20%22%233186cc%22%2C%20%22fillOpacity%22%3A%200.7%2C%20%22fillRule%22%3A%20%22evenodd%22%2C%20%22lineCap%22%3A%20%22round%22%2C%20%22lineJoin%22%3A%20%22round%22%2C%20%22opacity%22%3A%201.0%2C%20%22radius%22%3A%205%2C%20%22stroke%22%3A%20true%2C%20%22weight%22%3A%203%7D%0A%20%20%20%20%20%20%20%20%20%20%20%20%29.addTo%28map_b739a702408f4cecbcc7a66b15e3b8e4%29%3B%0A%20%20%20%20%20%20%20%20%0A%20%20%20%20%0A%20%20%20%20%20%20%20%20var%20popup_24405f21122f45a7a5fab231d4d7bdb9%20%3D%20L.popup%28%7B%22maxWidth%22%3A%20%22100%25%22%7D%29%3B%0A%0A%20%20%20%20%20%20%20%20%0A%20%20%20%20%20%20%20%20%20%20%20%20var%20html_c73aa0f89ac942c5986f878fed9e26ed%20%3D%20%24%28%60%3Cdiv%20id%3D%22html_c73aa0f89ac942c5986f878fed9e26ed%22%20style%3D%22width%3A%20100.0%25%3B%20height%3A%20100.0%25%3B%22%3EHarbourfront%20East%2C%20Union%20Station%2C%20Toronto%20Islands%2C%20Downtown%20Toronto%3C/div%3E%60%29%5B0%5D%3B%0A%20%20%20%20%20%20%20%20%20%20%20%20popup_24405f21122f45a7a5fab231d4d7bdb9.setContent%28html_c73aa0f89ac942c5986f878fed9e26ed%29%3B%0A%20%20%20%20%20%20%20%20%0A%0A%20%20%20%20%20%20%20%20circle_marker_ccaa374250584ef1873cf1b04e13f060.bindPopup%28popup_24405f21122f45a7a5fab231d4d7bdb9%29%0A%20%20%20%20%20%20%20%20%3B%0A%0A%20%20%20%20%20%20%20%20%0A%20%20%20%20%0A%20%20%20%20%0A%20%20%20%20%20%20%20%20%20%20%20%20var%20circle_marker_82c715b4740241cbb7bdd6b8bdb34355%20%3D%20L.circleMarker%28%0A%20%20%20%20%20%20%20%20%20%20%20%20%20%20%20%20%5B43.6479267%2C%20-79.4197497%5D%2C%0A%20%20%20%20%20%20%20%20%20%20%20%20%20%20%20%20%7B%22bubblingMouseEvents%22%3A%20true%2C%20%22color%22%3A%20%22blue%22%2C%20%22dashArray%22%3A%20null%2C%20%22dashOffset%22%3A%20null%2C%20%22fill%22%3A%20true%2C%20%22fillColor%22%3A%20%22%233186cc%22%2C%20%22fillOpacity%22%3A%200.7%2C%20%22fillRule%22%3A%20%22evenodd%22%2C%20%22lineCap%22%3A%20%22round%22%2C%20%22lineJoin%22%3A%20%22round%22%2C%20%22opacity%22%3A%201.0%2C%20%22radius%22%3A%205%2C%20%22stroke%22%3A%20true%2C%20%22weight%22%3A%203%7D%0A%20%20%20%20%20%20%20%20%20%20%20%20%29.addTo%28map_b739a702408f4cecbcc7a66b15e3b8e4%29%3B%0A%20%20%20%20%20%20%20%20%0A%20%20%20%20%0A%20%20%20%20%20%20%20%20var%20popup_5b5dcf6558ac457cbb06ae4e2e99ece0%20%3D%20L.popup%28%7B%22maxWidth%22%3A%20%22100%25%22%7D%29%3B%0A%0A%20%20%20%20%20%20%20%20%0A%20%20%20%20%20%20%20%20%20%20%20%20var%20html_0092ed1e6d324427b0faa09ee50fc9a6%20%3D%20%24%28%60%3Cdiv%20id%3D%22html_0092ed1e6d324427b0faa09ee50fc9a6%22%20style%3D%22width%3A%20100.0%25%3B%20height%3A%20100.0%25%3B%22%3ELittle%20Portugal%2C%20Trinity%2C%20West%20Toronto%3C/div%3E%60%29%5B0%5D%3B%0A%20%20%20%20%20%20%20%20%20%20%20%20popup_5b5dcf6558ac457cbb06ae4e2e99ece0.setContent%28html_0092ed1e6d324427b0faa09ee50fc9a6%29%3B%0A%20%20%20%20%20%20%20%20%0A%0A%20%20%20%20%20%20%20%20circle_marker_82c715b4740241cbb7bdd6b8bdb34355.bindPopup%28popup_5b5dcf6558ac457cbb06ae4e2e99ece0%29%0A%20%20%20%20%20%20%20%20%3B%0A%0A%20%20%20%20%20%20%20%20%0A%20%20%20%20%0A%20%20%20%20%0A%20%20%20%20%20%20%20%20%20%20%20%20var%20circle_marker_e6ed2891bfc54c42b67a50943e610671%20%3D%20L.circleMarker%28%0A%20%20%20%20%20%20%20%20%20%20%20%20%20%20%20%20%5B43.7279292%2C%20-79.2620294%5D%2C%0A%20%20%20%20%20%20%20%20%20%20%20%20%20%20%20%20%7B%22bubblingMouseEvents%22%3A%20true%2C%20%22color%22%3A%20%22blue%22%2C%20%22dashArray%22%3A%20null%2C%20%22dashOffset%22%3A%20null%2C%20%22fill%22%3A%20true%2C%20%22fillColor%22%3A%20%22%233186cc%22%2C%20%22fillOpacity%22%3A%200.7%2C%20%22fillRule%22%3A%20%22evenodd%22%2C%20%22lineCap%22%3A%20%22round%22%2C%20%22lineJoin%22%3A%20%22round%22%2C%20%22opacity%22%3A%201.0%2C%20%22radius%22%3A%205%2C%20%22stroke%22%3A%20true%2C%20%22weight%22%3A%203%7D%0A%20%20%20%20%20%20%20%20%20%20%20%20%29.addTo%28map_b739a702408f4cecbcc7a66b15e3b8e4%29%3B%0A%20%20%20%20%20%20%20%20%0A%20%20%20%20%0A%20%20%20%20%20%20%20%20var%20popup_7d9365a581ae431284e20f5b1afe8c80%20%3D%20L.popup%28%7B%22maxWidth%22%3A%20%22100%25%22%7D%29%3B%0A%0A%20%20%20%20%20%20%20%20%0A%20%20%20%20%20%20%20%20%20%20%20%20var%20html_936f9081049a4b63979b9af74f3d3f41%20%3D%20%24%28%60%3Cdiv%20id%3D%22html_936f9081049a4b63979b9af74f3d3f41%22%20style%3D%22width%3A%20100.0%25%3B%20height%3A%20100.0%25%3B%22%3EKennedy%20Park%2C%20Ionview%2C%20East%20Birchmount%20Park%2C%20Scarborough%3C/div%3E%60%29%5B0%5D%3B%0A%20%20%20%20%20%20%20%20%20%20%20%20popup_7d9365a581ae431284e20f5b1afe8c80.setContent%28html_936f9081049a4b63979b9af74f3d3f41%29%3B%0A%20%20%20%20%20%20%20%20%0A%0A%20%20%20%20%20%20%20%20circle_marker_e6ed2891bfc54c42b67a50943e610671.bindPopup%28popup_7d9365a581ae431284e20f5b1afe8c80%29%0A%20%20%20%20%20%20%20%20%3B%0A%0A%20%20%20%20%20%20%20%20%0A%20%20%20%20%0A%20%20%20%20%0A%20%20%20%20%20%20%20%20%20%20%20%20var%20circle_marker_76c440467f3e48b3bcfbaaa008239d40%20%3D%20L.circleMarker%28%0A%20%20%20%20%20%20%20%20%20%20%20%20%20%20%20%20%5B43.7869473%2C%20-79.385975%5D%2C%0A%20%20%20%20%20%20%20%20%20%20%20%20%20%20%20%20%7B%22bubblingMouseEvents%22%3A%20true%2C%20%22color%22%3A%20%22blue%22%2C%20%22dashArray%22%3A%20null%2C%20%22dashOffset%22%3A%20null%2C%20%22fill%22%3A%20true%2C%20%22fillColor%22%3A%20%22%233186cc%22%2C%20%22fillOpacity%22%3A%200.7%2C%20%22fillRule%22%3A%20%22evenodd%22%2C%20%22lineCap%22%3A%20%22round%22%2C%20%22lineJoin%22%3A%20%22round%22%2C%20%22opacity%22%3A%201.0%2C%20%22radius%22%3A%205%2C%20%22stroke%22%3A%20true%2C%20%22weight%22%3A%203%7D%0A%20%20%20%20%20%20%20%20%20%20%20%20%29.addTo%28map_b739a702408f4cecbcc7a66b15e3b8e4%29%3B%0A%20%20%20%20%20%20%20%20%0A%20%20%20%20%0A%20%20%20%20%20%20%20%20var%20popup_2ade082733da4071bcbd64d55e84c661%20%3D%20L.popup%28%7B%22maxWidth%22%3A%20%22100%25%22%7D%29%3B%0A%0A%20%20%20%20%20%20%20%20%0A%20%20%20%20%20%20%20%20%20%20%20%20var%20html_fb69f8855f594ff5abb3a415a6d18370%20%3D%20%24%28%60%3Cdiv%20id%3D%22html_fb69f8855f594ff5abb3a415a6d18370%22%20style%3D%22width%3A%20100.0%25%3B%20height%3A%20100.0%25%3B%22%3EBayview%20Village%2C%20North%20York%3C/div%3E%60%29%5B0%5D%3B%0A%20%20%20%20%20%20%20%20%20%20%20%20popup_2ade082733da4071bcbd64d55e84c661.setContent%28html_fb69f8855f594ff5abb3a415a6d18370%29%3B%0A%20%20%20%20%20%20%20%20%0A%0A%20%20%20%20%20%20%20%20circle_marker_76c440467f3e48b3bcfbaaa008239d40.bindPopup%28popup_2ade082733da4071bcbd64d55e84c661%29%0A%20%20%20%20%20%20%20%20%3B%0A%0A%20%20%20%20%20%20%20%20%0A%20%20%20%20%0A%20%20%20%20%0A%20%20%20%20%20%20%20%20%20%20%20%20var%20circle_marker_6a664093cb12480d9e2990b595f37cd6%20%3D%20L.circleMarker%28%0A%20%20%20%20%20%20%20%20%20%20%20%20%20%20%20%20%5B43.7374732%2C%20-79.4647633%5D%2C%0A%20%20%20%20%20%20%20%20%20%20%20%20%20%20%20%20%7B%22bubblingMouseEvents%22%3A%20true%2C%20%22color%22%3A%20%22blue%22%2C%20%22dashArray%22%3A%20null%2C%20%22dashOffset%22%3A%20null%2C%20%22fill%22%3A%20true%2C%20%22fillColor%22%3A%20%22%233186cc%22%2C%20%22fillOpacity%22%3A%200.7%2C%20%22fillRule%22%3A%20%22evenodd%22%2C%20%22lineCap%22%3A%20%22round%22%2C%20%22lineJoin%22%3A%20%22round%22%2C%20%22opacity%22%3A%201.0%2C%20%22radius%22%3A%205%2C%20%22stroke%22%3A%20true%2C%20%22weight%22%3A%203%7D%0A%20%20%20%20%20%20%20%20%20%20%20%20%29.addTo%28map_b739a702408f4cecbcc7a66b15e3b8e4%29%3B%0A%20%20%20%20%20%20%20%20%0A%20%20%20%20%0A%20%20%20%20%20%20%20%20var%20popup_6c3ce8f7efde4461a0732097538720d7%20%3D%20L.popup%28%7B%22maxWidth%22%3A%20%22100%25%22%7D%29%3B%0A%0A%20%20%20%20%20%20%20%20%0A%20%20%20%20%20%20%20%20%20%20%20%20var%20html_81e18cf7a24b4a45afaa3fddf15498a1%20%3D%20%24%28%60%3Cdiv%20id%3D%22html_81e18cf7a24b4a45afaa3fddf15498a1%22%20style%3D%22width%3A%20100.0%25%3B%20height%3A%20100.0%25%3B%22%3EDownsview%20East%2C%20North%20York%3C/div%3E%60%29%5B0%5D%3B%0A%20%20%20%20%20%20%20%20%20%20%20%20popup_6c3ce8f7efde4461a0732097538720d7.setContent%28html_81e18cf7a24b4a45afaa3fddf15498a1%29%3B%0A%20%20%20%20%20%20%20%20%0A%0A%20%20%20%20%20%20%20%20circle_marker_6a664093cb12480d9e2990b595f37cd6.bindPopup%28popup_6c3ce8f7efde4461a0732097538720d7%29%0A%20%20%20%20%20%20%20%20%3B%0A%0A%20%20%20%20%20%20%20%20%0A%20%20%20%20%0A%20%20%20%20%0A%20%20%20%20%20%20%20%20%20%20%20%20var%20circle_marker_d9a8681c1b614c80b61d33f955bf2640%20%3D%20L.circleMarker%28%0A%20%20%20%20%20%20%20%20%20%20%20%20%20%20%20%20%5B43.6795571%2C%20-79.352188%5D%2C%0A%20%20%20%20%20%20%20%20%20%20%20%20%20%20%20%20%7B%22bubblingMouseEvents%22%3A%20true%2C%20%22color%22%3A%20%22blue%22%2C%20%22dashArray%22%3A%20null%2C%20%22dashOffset%22%3A%20null%2C%20%22fill%22%3A%20true%2C%20%22fillColor%22%3A%20%22%233186cc%22%2C%20%22fillOpacity%22%3A%200.7%2C%20%22fillRule%22%3A%20%22evenodd%22%2C%20%22lineCap%22%3A%20%22round%22%2C%20%22lineJoin%22%3A%20%22round%22%2C%20%22opacity%22%3A%201.0%2C%20%22radius%22%3A%205%2C%20%22stroke%22%3A%20true%2C%20%22weight%22%3A%203%7D%0A%20%20%20%20%20%20%20%20%20%20%20%20%29.addTo%28map_b739a702408f4cecbcc7a66b15e3b8e4%29%3B%0A%20%20%20%20%20%20%20%20%0A%20%20%20%20%0A%20%20%20%20%20%20%20%20var%20popup_fe0e967ba57944dca7a5666a6a17bf72%20%3D%20L.popup%28%7B%22maxWidth%22%3A%20%22100%25%22%7D%29%3B%0A%0A%20%20%20%20%20%20%20%20%0A%20%20%20%20%20%20%20%20%20%20%20%20var%20html_d619906b762344869c7b63123eab063b%20%3D%20%24%28%60%3Cdiv%20id%3D%22html_d619906b762344869c7b63123eab063b%22%20style%3D%22width%3A%20100.0%25%3B%20height%3A%20100.0%25%3B%22%3EThe%20Danforth%20West%2C%20Riverdale%2C%20East%20Toronto%3C/div%3E%60%29%5B0%5D%3B%0A%20%20%20%20%20%20%20%20%20%20%20%20popup_fe0e967ba57944dca7a5666a6a17bf72.setContent%28html_d619906b762344869c7b63123eab063b%29%3B%0A%20%20%20%20%20%20%20%20%0A%0A%20%20%20%20%20%20%20%20circle_marker_d9a8681c1b614c80b61d33f955bf2640.bindPopup%28popup_fe0e967ba57944dca7a5666a6a17bf72%29%0A%20%20%20%20%20%20%20%20%3B%0A%0A%20%20%20%20%20%20%20%20%0A%20%20%20%20%0A%20%20%20%20%0A%20%20%20%20%20%20%20%20%20%20%20%20var%20circle_marker_1ece9c4a7f074c2e8db660924956466d%20%3D%20L.circleMarker%28%0A%20%20%20%20%20%20%20%20%20%20%20%20%20%20%20%20%5B43.6471768%2C%20-79.3815764%5D%2C%0A%20%20%20%20%20%20%20%20%20%20%20%20%20%20%20%20%7B%22bubblingMouseEvents%22%3A%20true%2C%20%22color%22%3A%20%22blue%22%2C%20%22dashArray%22%3A%20null%2C%20%22dashOffset%22%3A%20null%2C%20%22fill%22%3A%20true%2C%20%22fillColor%22%3A%20%22%233186cc%22%2C%20%22fillOpacity%22%3A%200.7%2C%20%22fillRule%22%3A%20%22evenodd%22%2C%20%22lineCap%22%3A%20%22round%22%2C%20%22lineJoin%22%3A%20%22round%22%2C%20%22opacity%22%3A%201.0%2C%20%22radius%22%3A%205%2C%20%22stroke%22%3A%20true%2C%20%22weight%22%3A%203%7D%0A%20%20%20%20%20%20%20%20%20%20%20%20%29.addTo%28map_b739a702408f4cecbcc7a66b15e3b8e4%29%3B%0A%20%20%20%20%20%20%20%20%0A%20%20%20%20%0A%20%20%20%20%20%20%20%20var%20popup_65871e448bd545dd97be62fd5208d6c6%20%3D%20L.popup%28%7B%22maxWidth%22%3A%20%22100%25%22%7D%29%3B%0A%0A%20%20%20%20%20%20%20%20%0A%20%20%20%20%20%20%20%20%20%20%20%20var%20html_f057139fb2374698808ac97c2bc06309%20%3D%20%24%28%60%3Cdiv%20id%3D%22html_f057139fb2374698808ac97c2bc06309%22%20style%3D%22width%3A%20100.0%25%3B%20height%3A%20100.0%25%3B%22%3EToronto%20Dominion%20Centre%2C%20Design%20Exchange%2C%20Downtown%20Toronto%3C/div%3E%60%29%5B0%5D%3B%0A%20%20%20%20%20%20%20%20%20%20%20%20popup_65871e448bd545dd97be62fd5208d6c6.setContent%28html_f057139fb2374698808ac97c2bc06309%29%3B%0A%20%20%20%20%20%20%20%20%0A%0A%20%20%20%20%20%20%20%20circle_marker_1ece9c4a7f074c2e8db660924956466d.bindPopup%28popup_65871e448bd545dd97be62fd5208d6c6%29%0A%20%20%20%20%20%20%20%20%3B%0A%0A%20%20%20%20%20%20%20%20%0A%20%20%20%20%0A%20%20%20%20%0A%20%20%20%20%20%20%20%20%20%20%20%20var%20circle_marker_a9aa90af4147463f9aab1d823b7dd170%20%3D%20L.circleMarker%28%0A%20%20%20%20%20%20%20%20%20%20%20%20%20%20%20%20%5B43.6368472%2C%20-79.4281914%5D%2C%0A%20%20%20%20%20%20%20%20%20%20%20%20%20%20%20%20%7B%22bubblingMouseEvents%22%3A%20true%2C%20%22color%22%3A%20%22blue%22%2C%20%22dashArray%22%3A%20null%2C%20%22dashOffset%22%3A%20null%2C%20%22fill%22%3A%20true%2C%20%22fillColor%22%3A%20%22%233186cc%22%2C%20%22fillOpacity%22%3A%200.7%2C%20%22fillRule%22%3A%20%22evenodd%22%2C%20%22lineCap%22%3A%20%22round%22%2C%20%22lineJoin%22%3A%20%22round%22%2C%20%22opacity%22%3A%201.0%2C%20%22radius%22%3A%205%2C%20%22stroke%22%3A%20true%2C%20%22weight%22%3A%203%7D%0A%20%20%20%20%20%20%20%20%20%20%20%20%29.addTo%28map_b739a702408f4cecbcc7a66b15e3b8e4%29%3B%0A%20%20%20%20%20%20%20%20%0A%20%20%20%20%0A%20%20%20%20%20%20%20%20var%20popup_2efebc2754204d99b636e98dc961e439%20%3D%20L.popup%28%7B%22maxWidth%22%3A%20%22100%25%22%7D%29%3B%0A%0A%20%20%20%20%20%20%20%20%0A%20%20%20%20%20%20%20%20%20%20%20%20var%20html_8e03d2af96884cce9d95961c86d724cb%20%3D%20%24%28%60%3Cdiv%20id%3D%22html_8e03d2af96884cce9d95961c86d724cb%22%20style%3D%22width%3A%20100.0%25%3B%20height%3A%20100.0%25%3B%22%3EBrockton%2C%20Parkdale%20Village%2C%20Exhibition%20Place%2C%20West%20Toronto%3C/div%3E%60%29%5B0%5D%3B%0A%20%20%20%20%20%20%20%20%20%20%20%20popup_2efebc2754204d99b636e98dc961e439.setContent%28html_8e03d2af96884cce9d95961c86d724cb%29%3B%0A%20%20%20%20%20%20%20%20%0A%0A%20%20%20%20%20%20%20%20circle_marker_a9aa90af4147463f9aab1d823b7dd170.bindPopup%28popup_2efebc2754204d99b636e98dc961e439%29%0A%20%20%20%20%20%20%20%20%3B%0A%0A%20%20%20%20%20%20%20%20%0A%20%20%20%20%0A%20%20%20%20%0A%20%20%20%20%20%20%20%20%20%20%20%20var%20circle_marker_ad9f66ca7d7d47029dbf211ea657e878%20%3D%20L.circleMarker%28%0A%20%20%20%20%20%20%20%20%20%20%20%20%20%20%20%20%5B43.7111117%2C%20-79.2845772%5D%2C%0A%20%20%20%20%20%20%20%20%20%20%20%20%20%20%20%20%7B%22bubblingMouseEvents%22%3A%20true%2C%20%22color%22%3A%20%22blue%22%2C%20%22dashArray%22%3A%20null%2C%20%22dashOffset%22%3A%20null%2C%20%22fill%22%3A%20true%2C%20%22fillColor%22%3A%20%22%233186cc%22%2C%20%22fillOpacity%22%3A%200.7%2C%20%22fillRule%22%3A%20%22evenodd%22%2C%20%22lineCap%22%3A%20%22round%22%2C%20%22lineJoin%22%3A%20%22round%22%2C%20%22opacity%22%3A%201.0%2C%20%22radius%22%3A%205%2C%20%22stroke%22%3A%20true%2C%20%22weight%22%3A%203%7D%0A%20%20%20%20%20%20%20%20%20%20%20%20%29.addTo%28map_b739a702408f4cecbcc7a66b15e3b8e4%29%3B%0A%20%20%20%20%20%20%20%20%0A%20%20%20%20%0A%20%20%20%20%20%20%20%20var%20popup_ab34c4c5494e47d8ba00d4f682595c5c%20%3D%20L.popup%28%7B%22maxWidth%22%3A%20%22100%25%22%7D%29%3B%0A%0A%20%20%20%20%20%20%20%20%0A%20%20%20%20%20%20%20%20%20%20%20%20var%20html_7325bb93b18a44f68eb6ebdbb1456059%20%3D%20%24%28%60%3Cdiv%20id%3D%22html_7325bb93b18a44f68eb6ebdbb1456059%22%20style%3D%22width%3A%20100.0%25%3B%20height%3A%20100.0%25%3B%22%3EGolden%20Mile%2C%20Clairlea%2C%20Oakridge%2C%20Scarborough%3C/div%3E%60%29%5B0%5D%3B%0A%20%20%20%20%20%20%20%20%20%20%20%20popup_ab34c4c5494e47d8ba00d4f682595c5c.setContent%28html_7325bb93b18a44f68eb6ebdbb1456059%29%3B%0A%20%20%20%20%20%20%20%20%0A%0A%20%20%20%20%20%20%20%20circle_marker_ad9f66ca7d7d47029dbf211ea657e878.bindPopup%28popup_ab34c4c5494e47d8ba00d4f682595c5c%29%0A%20%20%20%20%20%20%20%20%3B%0A%0A%20%20%20%20%20%20%20%20%0A%20%20%20%20%0A%20%20%20%20%0A%20%20%20%20%20%20%20%20%20%20%20%20var%20circle_marker_aff28dd4a0de495894664b92b4cb7bc1%20%3D%20L.circleMarker%28%0A%20%20%20%20%20%20%20%20%20%20%20%20%20%20%20%20%5B43.7574902%2C%20-79.3747141%5D%2C%0A%20%20%20%20%20%20%20%20%20%20%20%20%20%20%20%20%7B%22bubblingMouseEvents%22%3A%20true%2C%20%22color%22%3A%20%22blue%22%2C%20%22dashArray%22%3A%20null%2C%20%22dashOffset%22%3A%20null%2C%20%22fill%22%3A%20true%2C%20%22fillColor%22%3A%20%22%233186cc%22%2C%20%22fillOpacity%22%3A%200.7%2C%20%22fillRule%22%3A%20%22evenodd%22%2C%20%22lineCap%22%3A%20%22round%22%2C%20%22lineJoin%22%3A%20%22round%22%2C%20%22opacity%22%3A%201.0%2C%20%22radius%22%3A%205%2C%20%22stroke%22%3A%20true%2C%20%22weight%22%3A%203%7D%0A%20%20%20%20%20%20%20%20%20%20%20%20%29.addTo%28map_b739a702408f4cecbcc7a66b15e3b8e4%29%3B%0A%20%20%20%20%20%20%20%20%0A%20%20%20%20%0A%20%20%20%20%20%20%20%20var%20popup_1f0357b840a84664b73871c59c55fc17%20%3D%20L.popup%28%7B%22maxWidth%22%3A%20%22100%25%22%7D%29%3B%0A%0A%20%20%20%20%20%20%20%20%0A%20%20%20%20%20%20%20%20%20%20%20%20var%20html_dcb9bb58ee664105b30e29bb3f2d9f1c%20%3D%20%24%28%60%3Cdiv%20id%3D%22html_dcb9bb58ee664105b30e29bb3f2d9f1c%22%20style%3D%22width%3A%20100.0%25%3B%20height%3A%20100.0%25%3B%22%3EYork%20Mills%2C%20Silver%20Hills%2C%20North%20York%3C/div%3E%60%29%5B0%5D%3B%0A%20%20%20%20%20%20%20%20%20%20%20%20popup_1f0357b840a84664b73871c59c55fc17.setContent%28html_dcb9bb58ee664105b30e29bb3f2d9f1c%29%3B%0A%20%20%20%20%20%20%20%20%0A%0A%20%20%20%20%20%20%20%20circle_marker_aff28dd4a0de495894664b92b4cb7bc1.bindPopup%28popup_1f0357b840a84664b73871c59c55fc17%29%0A%20%20%20%20%20%20%20%20%3B%0A%0A%20%20%20%20%20%20%20%20%0A%20%20%20%20%0A%20%20%20%20%0A%20%20%20%20%20%20%20%20%20%20%20%20var%20circle_marker_94e8c5f8ad8a4c3ca3a64e9f2b72b81e%20%3D%20L.circleMarker%28%0A%20%20%20%20%20%20%20%20%20%20%20%20%20%20%20%20%5B43.7390146%2C%20-79.5069436%5D%2C%0A%20%20%20%20%20%20%20%20%20%20%20%20%20%20%20%20%7B%22bubblingMouseEvents%22%3A%20true%2C%20%22color%22%3A%20%22blue%22%2C%20%22dashArray%22%3A%20null%2C%20%22dashOffset%22%3A%20null%2C%20%22fill%22%3A%20true%2C%20%22fillColor%22%3A%20%22%233186cc%22%2C%20%22fillOpacity%22%3A%200.7%2C%20%22fillRule%22%3A%20%22evenodd%22%2C%20%22lineCap%22%3A%20%22round%22%2C%20%22lineJoin%22%3A%20%22round%22%2C%20%22opacity%22%3A%201.0%2C%20%22radius%22%3A%205%2C%20%22stroke%22%3A%20true%2C%20%22weight%22%3A%203%7D%0A%20%20%20%20%20%20%20%20%20%20%20%20%29.addTo%28map_b739a702408f4cecbcc7a66b15e3b8e4%29%3B%0A%20%20%20%20%20%20%20%20%0A%20%20%20%20%0A%20%20%20%20%20%20%20%20var%20popup_e7aa3f8d97464a53bedbbca042d2a6e4%20%3D%20L.popup%28%7B%22maxWidth%22%3A%20%22100%25%22%7D%29%3B%0A%0A%20%20%20%20%20%20%20%20%0A%20%20%20%20%20%20%20%20%20%20%20%20var%20html_11b79409c0d347ddae2c455ab9b955d0%20%3D%20%24%28%60%3Cdiv%20id%3D%22html_11b79409c0d347ddae2c455ab9b955d0%22%20style%3D%22width%3A%20100.0%25%3B%20height%3A%20100.0%25%3B%22%3EDownsview%20West%2C%20North%20York%3C/div%3E%60%29%5B0%5D%3B%0A%20%20%20%20%20%20%20%20%20%20%20%20popup_e7aa3f8d97464a53bedbbca042d2a6e4.setContent%28html_11b79409c0d347ddae2c455ab9b955d0%29%3B%0A%20%20%20%20%20%20%20%20%0A%0A%20%20%20%20%20%20%20%20circle_marker_94e8c5f8ad8a4c3ca3a64e9f2b72b81e.bindPopup%28popup_e7aa3f8d97464a53bedbbca042d2a6e4%29%0A%20%20%20%20%20%20%20%20%3B%0A%0A%20%20%20%20%20%20%20%20%0A%20%20%20%20%0A%20%20%20%20%0A%20%20%20%20%20%20%20%20%20%20%20%20var%20circle_marker_1761452ceb1f465ab3081ea957b479b3%20%3D%20L.circleMarker%28%0A%20%20%20%20%20%20%20%20%20%20%20%20%20%20%20%20%5B43.6689985%2C%20-79.3155716%5D%2C%0A%20%20%20%20%20%20%20%20%20%20%20%20%20%20%20%20%7B%22bubblingMouseEvents%22%3A%20true%2C%20%22color%22%3A%20%22blue%22%2C%20%22dashArray%22%3A%20null%2C%20%22dashOffset%22%3A%20null%2C%20%22fill%22%3A%20true%2C%20%22fillColor%22%3A%20%22%233186cc%22%2C%20%22fillOpacity%22%3A%200.7%2C%20%22fillRule%22%3A%20%22evenodd%22%2C%20%22lineCap%22%3A%20%22round%22%2C%20%22lineJoin%22%3A%20%22round%22%2C%20%22opacity%22%3A%201.0%2C%20%22radius%22%3A%205%2C%20%22stroke%22%3A%20true%2C%20%22weight%22%3A%203%7D%0A%20%20%20%20%20%20%20%20%20%20%20%20%29.addTo%28map_b739a702408f4cecbcc7a66b15e3b8e4%29%3B%0A%20%20%20%20%20%20%20%20%0A%20%20%20%20%0A%20%20%20%20%20%20%20%20var%20popup_3b4300d7cd48492a8a9ab277483dea55%20%3D%20L.popup%28%7B%22maxWidth%22%3A%20%22100%25%22%7D%29%3B%0A%0A%20%20%20%20%20%20%20%20%0A%20%20%20%20%20%20%20%20%20%20%20%20var%20html_311bab7326904ad990b6d7dc74738a47%20%3D%20%24%28%60%3Cdiv%20id%3D%22html_311bab7326904ad990b6d7dc74738a47%22%20style%3D%22width%3A%20100.0%25%3B%20height%3A%20100.0%25%3B%22%3EIndia%20Bazaar%2C%20The%20Beaches%20West%2C%20East%20Toronto%3C/div%3E%60%29%5B0%5D%3B%0A%20%20%20%20%20%20%20%20%20%20%20%20popup_3b4300d7cd48492a8a9ab277483dea55.setContent%28html_311bab7326904ad990b6d7dc74738a47%29%3B%0A%20%20%20%20%20%20%20%20%0A%0A%20%20%20%20%20%20%20%20circle_marker_1761452ceb1f465ab3081ea957b479b3.bindPopup%28popup_3b4300d7cd48492a8a9ab277483dea55%29%0A%20%20%20%20%20%20%20%20%3B%0A%0A%20%20%20%20%20%20%20%20%0A%20%20%20%20%0A%20%20%20%20%0A%20%20%20%20%20%20%20%20%20%20%20%20var%20circle_marker_ac92138a18704d95aa92fd78cb1d7e03%20%3D%20L.circleMarker%28%0A%20%20%20%20%20%20%20%20%20%20%20%20%20%20%20%20%5B43.6481985%2C%20-79.3798169%5D%2C%0A%20%20%20%20%20%20%20%20%20%20%20%20%20%20%20%20%7B%22bubblingMouseEvents%22%3A%20true%2C%20%22color%22%3A%20%22blue%22%2C%20%22dashArray%22%3A%20null%2C%20%22dashOffset%22%3A%20null%2C%20%22fill%22%3A%20true%2C%20%22fillColor%22%3A%20%22%233186cc%22%2C%20%22fillOpacity%22%3A%200.7%2C%20%22fillRule%22%3A%20%22evenodd%22%2C%20%22lineCap%22%3A%20%22round%22%2C%20%22lineJoin%22%3A%20%22round%22%2C%20%22opacity%22%3A%201.0%2C%20%22radius%22%3A%205%2C%20%22stroke%22%3A%20true%2C%20%22weight%22%3A%203%7D%0A%20%20%20%20%20%20%20%20%20%20%20%20%29.addTo%28map_b739a702408f4cecbcc7a66b15e3b8e4%29%3B%0A%20%20%20%20%20%20%20%20%0A%20%20%20%20%0A%20%20%20%20%20%20%20%20var%20popup_636659dc91ee42d3a7a056acc6ed02bd%20%3D%20L.popup%28%7B%22maxWidth%22%3A%20%22100%25%22%7D%29%3B%0A%0A%20%20%20%20%20%20%20%20%0A%20%20%20%20%20%20%20%20%20%20%20%20var%20html_85d35dc2eec14cd8b36b590161460d7d%20%3D%20%24%28%60%3Cdiv%20id%3D%22html_85d35dc2eec14cd8b36b590161460d7d%22%20style%3D%22width%3A%20100.0%25%3B%20height%3A%20100.0%25%3B%22%3ECommerce%20Court%2C%20Victoria%20Hotel%2C%20Downtown%20Toronto%3C/div%3E%60%29%5B0%5D%3B%0A%20%20%20%20%20%20%20%20%20%20%20%20popup_636659dc91ee42d3a7a056acc6ed02bd.setContent%28html_85d35dc2eec14cd8b36b590161460d7d%29%3B%0A%20%20%20%20%20%20%20%20%0A%0A%20%20%20%20%20%20%20%20circle_marker_ac92138a18704d95aa92fd78cb1d7e03.bindPopup%28popup_636659dc91ee42d3a7a056acc6ed02bd%29%0A%20%20%20%20%20%20%20%20%3B%0A%0A%20%20%20%20%20%20%20%20%0A%20%20%20%20%0A%20%20%20%20%0A%20%20%20%20%20%20%20%20%20%20%20%20var%20circle_marker_b22c8da46c5143d38aa384dfe5507cc9%20%3D%20L.circleMarker%28%0A%20%20%20%20%20%20%20%20%20%20%20%20%20%20%20%20%5B43.7137562%2C%20-79.4900738%5D%2C%0A%20%20%20%20%20%20%20%20%20%20%20%20%20%20%20%20%7B%22bubblingMouseEvents%22%3A%20true%2C%20%22color%22%3A%20%22blue%22%2C%20%22dashArray%22%3A%20null%2C%20%22dashOffset%22%3A%20null%2C%20%22fill%22%3A%20true%2C%20%22fillColor%22%3A%20%22%233186cc%22%2C%20%22fillOpacity%22%3A%200.7%2C%20%22fillRule%22%3A%20%22evenodd%22%2C%20%22lineCap%22%3A%20%22round%22%2C%20%22lineJoin%22%3A%20%22round%22%2C%20%22opacity%22%3A%201.0%2C%20%22radius%22%3A%205%2C%20%22stroke%22%3A%20true%2C%20%22weight%22%3A%203%7D%0A%20%20%20%20%20%20%20%20%20%20%20%20%29.addTo%28map_b739a702408f4cecbcc7a66b15e3b8e4%29%3B%0A%20%20%20%20%20%20%20%20%0A%20%20%20%20%0A%20%20%20%20%20%20%20%20var%20popup_4bc1aa4ea9cc4703b5b465252f97697b%20%3D%20L.popup%28%7B%22maxWidth%22%3A%20%22100%25%22%7D%29%3B%0A%0A%20%20%20%20%20%20%20%20%0A%20%20%20%20%20%20%20%20%20%20%20%20var%20html_263c0333f64c4be28d4c780f7ab88101%20%3D%20%24%28%60%3Cdiv%20id%3D%22html_263c0333f64c4be28d4c780f7ab88101%22%20style%3D%22width%3A%20100.0%25%3B%20height%3A%20100.0%25%3B%22%3ENorth%20Park%2C%20Maple%20Leaf%20Park%2C%20Upwood%20Park%2C%20North%20York%3C/div%3E%60%29%5B0%5D%3B%0A%20%20%20%20%20%20%20%20%20%20%20%20popup_4bc1aa4ea9cc4703b5b465252f97697b.setContent%28html_263c0333f64c4be28d4c780f7ab88101%29%3B%0A%20%20%20%20%20%20%20%20%0A%0A%20%20%20%20%20%20%20%20circle_marker_b22c8da46c5143d38aa384dfe5507cc9.bindPopup%28popup_4bc1aa4ea9cc4703b5b465252f97697b%29%0A%20%20%20%20%20%20%20%20%3B%0A%0A%20%20%20%20%20%20%20%20%0A%20%20%20%20%0A%20%20%20%20%0A%20%20%20%20%20%20%20%20%20%20%20%20var%20circle_marker_a926cb492f4549a1b62534739eb2605e%20%3D%20L.circleMarker%28%0A%20%20%20%20%20%20%20%20%20%20%20%20%20%20%20%20%5B43.7563033%2C%20-79.5659633%5D%2C%0A%20%20%20%20%20%20%20%20%20%20%20%20%20%20%20%20%7B%22bubblingMouseEvents%22%3A%20true%2C%20%22color%22%3A%20%22blue%22%2C%20%22dashArray%22%3A%20null%2C%20%22dashOffset%22%3A%20null%2C%20%22fill%22%3A%20true%2C%20%22fillColor%22%3A%20%22%233186cc%22%2C%20%22fillOpacity%22%3A%200.7%2C%20%22fillRule%22%3A%20%22evenodd%22%2C%20%22lineCap%22%3A%20%22round%22%2C%20%22lineJoin%22%3A%20%22round%22%2C%20%22opacity%22%3A%201.0%2C%20%22radius%22%3A%205%2C%20%22stroke%22%3A%20true%2C%20%22weight%22%3A%203%7D%0A%20%20%20%20%20%20%20%20%20%20%20%20%29.addTo%28map_b739a702408f4cecbcc7a66b15e3b8e4%29%3B%0A%20%20%20%20%20%20%20%20%0A%20%20%20%20%0A%20%20%20%20%20%20%20%20var%20popup_3613e21619374883a8b044c0b328c7bc%20%3D%20L.popup%28%7B%22maxWidth%22%3A%20%22100%25%22%7D%29%3B%0A%0A%20%20%20%20%20%20%20%20%0A%20%20%20%20%20%20%20%20%20%20%20%20var%20html_6144f0abce134098ae2c601a58c57b04%20%3D%20%24%28%60%3Cdiv%20id%3D%22html_6144f0abce134098ae2c601a58c57b04%22%20style%3D%22width%3A%20100.0%25%3B%20height%3A%20100.0%25%3B%22%3EHumber%20Summit%2C%20North%20York%3C/div%3E%60%29%5B0%5D%3B%0A%20%20%20%20%20%20%20%20%20%20%20%20popup_3613e21619374883a8b044c0b328c7bc.setContent%28html_6144f0abce134098ae2c601a58c57b04%29%3B%0A%20%20%20%20%20%20%20%20%0A%0A%20%20%20%20%20%20%20%20circle_marker_a926cb492f4549a1b62534739eb2605e.bindPopup%28popup_3613e21619374883a8b044c0b328c7bc%29%0A%20%20%20%20%20%20%20%20%3B%0A%0A%20%20%20%20%20%20%20%20%0A%20%20%20%20%0A%20%20%20%20%0A%20%20%20%20%20%20%20%20%20%20%20%20var%20circle_marker_d04d219ccb6342909311dd444aaacae2%20%3D%20L.circleMarker%28%0A%20%20%20%20%20%20%20%20%20%20%20%20%20%20%20%20%5B43.716316%2C%20-79.2394761%5D%2C%0A%20%20%20%20%20%20%20%20%20%20%20%20%20%20%20%20%7B%22bubblingMouseEvents%22%3A%20true%2C%20%22color%22%3A%20%22blue%22%2C%20%22dashArray%22%3A%20null%2C%20%22dashOffset%22%3A%20null%2C%20%22fill%22%3A%20true%2C%20%22fillColor%22%3A%20%22%233186cc%22%2C%20%22fillOpacity%22%3A%200.7%2C%20%22fillRule%22%3A%20%22evenodd%22%2C%20%22lineCap%22%3A%20%22round%22%2C%20%22lineJoin%22%3A%20%22round%22%2C%20%22opacity%22%3A%201.0%2C%20%22radius%22%3A%205%2C%20%22stroke%22%3A%20true%2C%20%22weight%22%3A%203%7D%0A%20%20%20%20%20%20%20%20%20%20%20%20%29.addTo%28map_b739a702408f4cecbcc7a66b15e3b8e4%29%3B%0A%20%20%20%20%20%20%20%20%0A%20%20%20%20%0A%20%20%20%20%20%20%20%20var%20popup_a5eebe00c9204667956168689276252c%20%3D%20L.popup%28%7B%22maxWidth%22%3A%20%22100%25%22%7D%29%3B%0A%0A%20%20%20%20%20%20%20%20%0A%20%20%20%20%20%20%20%20%20%20%20%20var%20html_15e90bf092464b098ee155decde3e3db%20%3D%20%24%28%60%3Cdiv%20id%3D%22html_15e90bf092464b098ee155decde3e3db%22%20style%3D%22width%3A%20100.0%25%3B%20height%3A%20100.0%25%3B%22%3ECliffside%2C%20Cliffcrest%2C%20Scarborough%20Village%20West%2C%20Scarborough%3C/div%3E%60%29%5B0%5D%3B%0A%20%20%20%20%20%20%20%20%20%20%20%20popup_a5eebe00c9204667956168689276252c.setContent%28html_15e90bf092464b098ee155decde3e3db%29%3B%0A%20%20%20%20%20%20%20%20%0A%0A%20%20%20%20%20%20%20%20circle_marker_d04d219ccb6342909311dd444aaacae2.bindPopup%28popup_a5eebe00c9204667956168689276252c%29%0A%20%20%20%20%20%20%20%20%3B%0A%0A%20%20%20%20%20%20%20%20%0A%20%20%20%20%0A%20%20%20%20%0A%20%20%20%20%20%20%20%20%20%20%20%20var%20circle_marker_89887b852c4149d085a35e23cab00ed5%20%3D%20L.circleMarker%28%0A%20%20%20%20%20%20%20%20%20%20%20%20%20%20%20%20%5B43.789053%2C%20-79.4084928%5D%2C%0A%20%20%20%20%20%20%20%20%20%20%20%20%20%20%20%20%7B%22bubblingMouseEvents%22%3A%20true%2C%20%22color%22%3A%20%22blue%22%2C%20%22dashArray%22%3A%20null%2C%20%22dashOffset%22%3A%20null%2C%20%22fill%22%3A%20true%2C%20%22fillColor%22%3A%20%22%233186cc%22%2C%20%22fillOpacity%22%3A%200.7%2C%20%22fillRule%22%3A%20%22evenodd%22%2C%20%22lineCap%22%3A%20%22round%22%2C%20%22lineJoin%22%3A%20%22round%22%2C%20%22opacity%22%3A%201.0%2C%20%22radius%22%3A%205%2C%20%22stroke%22%3A%20true%2C%20%22weight%22%3A%203%7D%0A%20%20%20%20%20%20%20%20%20%20%20%20%29.addTo%28map_b739a702408f4cecbcc7a66b15e3b8e4%29%3B%0A%20%20%20%20%20%20%20%20%0A%20%20%20%20%0A%20%20%20%20%20%20%20%20var%20popup_a503beb53b8e4829ad5d4b0595bd8abb%20%3D%20L.popup%28%7B%22maxWidth%22%3A%20%22100%25%22%7D%29%3B%0A%0A%20%20%20%20%20%20%20%20%0A%20%20%20%20%20%20%20%20%20%20%20%20var%20html_66bfacf86efa4ad1bf70988329105f35%20%3D%20%24%28%60%3Cdiv%20id%3D%22html_66bfacf86efa4ad1bf70988329105f35%22%20style%3D%22width%3A%20100.0%25%3B%20height%3A%20100.0%25%3B%22%3EWillowdale%2C%20Newtonbrook%2C%20North%20York%3C/div%3E%60%29%5B0%5D%3B%0A%20%20%20%20%20%20%20%20%20%20%20%20popup_a503beb53b8e4829ad5d4b0595bd8abb.setContent%28html_66bfacf86efa4ad1bf70988329105f35%29%3B%0A%20%20%20%20%20%20%20%20%0A%0A%20%20%20%20%20%20%20%20circle_marker_89887b852c4149d085a35e23cab00ed5.bindPopup%28popup_a503beb53b8e4829ad5d4b0595bd8abb%29%0A%20%20%20%20%20%20%20%20%3B%0A%0A%20%20%20%20%20%20%20%20%0A%20%20%20%20%0A%20%20%20%20%0A%20%20%20%20%20%20%20%20%20%20%20%20var%20circle_marker_4bf328dc5cb0491d890788f07ec1a78d%20%3D%20L.circleMarker%28%0A%20%20%20%20%20%20%20%20%20%20%20%20%20%20%20%20%5B43.7284964%2C%20-79.4956974%5D%2C%0A%20%20%20%20%20%20%20%20%20%20%20%20%20%20%20%20%7B%22bubblingMouseEvents%22%3A%20true%2C%20%22color%22%3A%20%22blue%22%2C%20%22dashArray%22%3A%20null%2C%20%22dashOffset%22%3A%20null%2C%20%22fill%22%3A%20true%2C%20%22fillColor%22%3A%20%22%233186cc%22%2C%20%22fillOpacity%22%3A%200.7%2C%20%22fillRule%22%3A%20%22evenodd%22%2C%20%22lineCap%22%3A%20%22round%22%2C%20%22lineJoin%22%3A%20%22round%22%2C%20%22opacity%22%3A%201.0%2C%20%22radius%22%3A%205%2C%20%22stroke%22%3A%20true%2C%20%22weight%22%3A%203%7D%0A%20%20%20%20%20%20%20%20%20%20%20%20%29.addTo%28map_b739a702408f4cecbcc7a66b15e3b8e4%29%3B%0A%20%20%20%20%20%20%20%20%0A%20%20%20%20%0A%20%20%20%20%20%20%20%20var%20popup_c95fd6b7798b4193bd4561a5ef2944dd%20%3D%20L.popup%28%7B%22maxWidth%22%3A%20%22100%25%22%7D%29%3B%0A%0A%20%20%20%20%20%20%20%20%0A%20%20%20%20%20%20%20%20%20%20%20%20var%20html_840fdf5a96b742c1a059452c73bae9aa%20%3D%20%24%28%60%3Cdiv%20id%3D%22html_840fdf5a96b742c1a059452c73bae9aa%22%20style%3D%22width%3A%20100.0%25%3B%20height%3A%20100.0%25%3B%22%3EDownsview%20Central%2C%20North%20York%3C/div%3E%60%29%5B0%5D%3B%0A%20%20%20%20%20%20%20%20%20%20%20%20popup_c95fd6b7798b4193bd4561a5ef2944dd.setContent%28html_840fdf5a96b742c1a059452c73bae9aa%29%3B%0A%20%20%20%20%20%20%20%20%0A%0A%20%20%20%20%20%20%20%20circle_marker_4bf328dc5cb0491d890788f07ec1a78d.bindPopup%28popup_c95fd6b7798b4193bd4561a5ef2944dd%29%0A%20%20%20%20%20%20%20%20%3B%0A%0A%20%20%20%20%20%20%20%20%0A%20%20%20%20%0A%20%20%20%20%0A%20%20%20%20%20%20%20%20%20%20%20%20var%20circle_marker_9d8c1418223e4bd1aad29e832b961d79%20%3D%20L.circleMarker%28%0A%20%20%20%20%20%20%20%20%20%20%20%20%20%20%20%20%5B43.6595255%2C%20-79.340923%5D%2C%0A%20%20%20%20%20%20%20%20%20%20%20%20%20%20%20%20%7B%22bubblingMouseEvents%22%3A%20true%2C%20%22color%22%3A%20%22blue%22%2C%20%22dashArray%22%3A%20null%2C%20%22dashOffset%22%3A%20null%2C%20%22fill%22%3A%20true%2C%20%22fillColor%22%3A%20%22%233186cc%22%2C%20%22fillOpacity%22%3A%200.7%2C%20%22fillRule%22%3A%20%22evenodd%22%2C%20%22lineCap%22%3A%20%22round%22%2C%20%22lineJoin%22%3A%20%22round%22%2C%20%22opacity%22%3A%201.0%2C%20%22radius%22%3A%205%2C%20%22stroke%22%3A%20true%2C%20%22weight%22%3A%203%7D%0A%20%20%20%20%20%20%20%20%20%20%20%20%29.addTo%28map_b739a702408f4cecbcc7a66b15e3b8e4%29%3B%0A%20%20%20%20%20%20%20%20%0A%20%20%20%20%0A%20%20%20%20%20%20%20%20var%20popup_b76868daee6d4e56bc6f4410bdc723b3%20%3D%20L.popup%28%7B%22maxWidth%22%3A%20%22100%25%22%7D%29%3B%0A%0A%20%20%20%20%20%20%20%20%0A%20%20%20%20%20%20%20%20%20%20%20%20var%20html_f08b3cf825b444d5821095b6e7a48af7%20%3D%20%24%28%60%3Cdiv%20id%3D%22html_f08b3cf825b444d5821095b6e7a48af7%22%20style%3D%22width%3A%20100.0%25%3B%20height%3A%20100.0%25%3B%22%3EStudio%20District%2C%20East%20Toronto%3C/div%3E%60%29%5B0%5D%3B%0A%20%20%20%20%20%20%20%20%20%20%20%20popup_b76868daee6d4e56bc6f4410bdc723b3.setContent%28html_f08b3cf825b444d5821095b6e7a48af7%29%3B%0A%20%20%20%20%20%20%20%20%0A%0A%20%20%20%20%20%20%20%20circle_marker_9d8c1418223e4bd1aad29e832b961d79.bindPopup%28popup_b76868daee6d4e56bc6f4410bdc723b3%29%0A%20%20%20%20%20%20%20%20%3B%0A%0A%20%20%20%20%20%20%20%20%0A%20%20%20%20%0A%20%20%20%20%0A%20%20%20%20%20%20%20%20%20%20%20%20var%20circle_marker_f7934c83b40e4256a7baacf52fefaad0%20%3D%20L.circleMarker%28%0A%20%20%20%20%20%20%20%20%20%20%20%20%20%20%20%20%5B43.7332825%2C%20-79.4197497%5D%2C%0A%20%20%20%20%20%20%20%20%20%20%20%20%20%20%20%20%7B%22bubblingMouseEvents%22%3A%20true%2C%20%22color%22%3A%20%22blue%22%2C%20%22dashArray%22%3A%20null%2C%20%22dashOffset%22%3A%20null%2C%20%22fill%22%3A%20true%2C%20%22fillColor%22%3A%20%22%233186cc%22%2C%20%22fillOpacity%22%3A%200.7%2C%20%22fillRule%22%3A%20%22evenodd%22%2C%20%22lineCap%22%3A%20%22round%22%2C%20%22lineJoin%22%3A%20%22round%22%2C%20%22opacity%22%3A%201.0%2C%20%22radius%22%3A%205%2C%20%22stroke%22%3A%20true%2C%20%22weight%22%3A%203%7D%0A%20%20%20%20%20%20%20%20%20%20%20%20%29.addTo%28map_b739a702408f4cecbcc7a66b15e3b8e4%29%3B%0A%20%20%20%20%20%20%20%20%0A%20%20%20%20%0A%20%20%20%20%20%20%20%20var%20popup_96dba68a387b43d8821d7d67ef7750bc%20%3D%20L.popup%28%7B%22maxWidth%22%3A%20%22100%25%22%7D%29%3B%0A%0A%20%20%20%20%20%20%20%20%0A%20%20%20%20%20%20%20%20%20%20%20%20var%20html_4abf3dbd1ea048fe8e4ca17a25d30ce3%20%3D%20%24%28%60%3Cdiv%20id%3D%22html_4abf3dbd1ea048fe8e4ca17a25d30ce3%22%20style%3D%22width%3A%20100.0%25%3B%20height%3A%20100.0%25%3B%22%3EBedford%20Park%2C%20Lawrence%20Manor%20East%2C%20North%20York%3C/div%3E%60%29%5B0%5D%3B%0A%20%20%20%20%20%20%20%20%20%20%20%20popup_96dba68a387b43d8821d7d67ef7750bc.setContent%28html_4abf3dbd1ea048fe8e4ca17a25d30ce3%29%3B%0A%20%20%20%20%20%20%20%20%0A%0A%20%20%20%20%20%20%20%20circle_marker_f7934c83b40e4256a7baacf52fefaad0.bindPopup%28popup_96dba68a387b43d8821d7d67ef7750bc%29%0A%20%20%20%20%20%20%20%20%3B%0A%0A%20%20%20%20%20%20%20%20%0A%20%20%20%20%0A%20%20%20%20%0A%20%20%20%20%20%20%20%20%20%20%20%20var%20circle_marker_9aa716bca7cc4a04a6a340cf93ef70be%20%3D%20L.circleMarker%28%0A%20%20%20%20%20%20%20%20%20%20%20%20%20%20%20%20%5B43.6911158%2C%20-79.4760133%5D%2C%0A%20%20%20%20%20%20%20%20%20%20%20%20%20%20%20%20%7B%22bubblingMouseEvents%22%3A%20true%2C%20%22color%22%3A%20%22blue%22%2C%20%22dashArray%22%3A%20null%2C%20%22dashOffset%22%3A%20null%2C%20%22fill%22%3A%20true%2C%20%22fillColor%22%3A%20%22%233186cc%22%2C%20%22fillOpacity%22%3A%200.7%2C%20%22fillRule%22%3A%20%22evenodd%22%2C%20%22lineCap%22%3A%20%22round%22%2C%20%22lineJoin%22%3A%20%22round%22%2C%20%22opacity%22%3A%201.0%2C%20%22radius%22%3A%205%2C%20%22stroke%22%3A%20true%2C%20%22weight%22%3A%203%7D%0A%20%20%20%20%20%20%20%20%20%20%20%20%29.addTo%28map_b739a702408f4cecbcc7a66b15e3b8e4%29%3B%0A%20%20%20%20%20%20%20%20%0A%20%20%20%20%0A%20%20%20%20%20%20%20%20var%20popup_7d5ec85ab3a8408783acce2abc6c64a3%20%3D%20L.popup%28%7B%22maxWidth%22%3A%20%22100%25%22%7D%29%3B%0A%0A%20%20%20%20%20%20%20%20%0A%20%20%20%20%20%20%20%20%20%20%20%20var%20html_874712b4a062411a812dce384e746e2e%20%3D%20%24%28%60%3Cdiv%20id%3D%22html_874712b4a062411a812dce384e746e2e%22%20style%3D%22width%3A%20100.0%25%3B%20height%3A%20100.0%25%3B%22%3EDel%20Ray%2C%20Mount%20Dennis%2C%20Keelsdale%20and%20Silverthorn%2C%20York%3C/div%3E%60%29%5B0%5D%3B%0A%20%20%20%20%20%20%20%20%20%20%20%20popup_7d5ec85ab3a8408783acce2abc6c64a3.setContent%28html_874712b4a062411a812dce384e746e2e%29%3B%0A%20%20%20%20%20%20%20%20%0A%0A%20%20%20%20%20%20%20%20circle_marker_9aa716bca7cc4a04a6a340cf93ef70be.bindPopup%28popup_7d5ec85ab3a8408783acce2abc6c64a3%29%0A%20%20%20%20%20%20%20%20%3B%0A%0A%20%20%20%20%20%20%20%20%0A%20%20%20%20%0A%20%20%20%20%0A%20%20%20%20%20%20%20%20%20%20%20%20var%20circle_marker_cbbf89319bdb48ab8492b88f50d5a38a%20%3D%20L.circleMarker%28%0A%20%20%20%20%20%20%20%20%20%20%20%20%20%20%20%20%5B43.7247659%2C%20-79.5322424%5D%2C%0A%20%20%20%20%20%20%20%20%20%20%20%20%20%20%20%20%7B%22bubblingMouseEvents%22%3A%20true%2C%20%22color%22%3A%20%22blue%22%2C%20%22dashArray%22%3A%20null%2C%20%22dashOffset%22%3A%20null%2C%20%22fill%22%3A%20true%2C%20%22fillColor%22%3A%20%22%233186cc%22%2C%20%22fillOpacity%22%3A%200.7%2C%20%22fillRule%22%3A%20%22evenodd%22%2C%20%22lineCap%22%3A%20%22round%22%2C%20%22lineJoin%22%3A%20%22round%22%2C%20%22opacity%22%3A%201.0%2C%20%22radius%22%3A%205%2C%20%22stroke%22%3A%20true%2C%20%22weight%22%3A%203%7D%0A%20%20%20%20%20%20%20%20%20%20%20%20%29.addTo%28map_b739a702408f4cecbcc7a66b15e3b8e4%29%3B%0A%20%20%20%20%20%20%20%20%0A%20%20%20%20%0A%20%20%20%20%20%20%20%20var%20popup_6ec9cafc6ca24c55a770f08c7eb9ceea%20%3D%20L.popup%28%7B%22maxWidth%22%3A%20%22100%25%22%7D%29%3B%0A%0A%20%20%20%20%20%20%20%20%0A%20%20%20%20%20%20%20%20%20%20%20%20var%20html_abb7b29081ad43f79deb5a4e51b98f49%20%3D%20%24%28%60%3Cdiv%20id%3D%22html_abb7b29081ad43f79deb5a4e51b98f49%22%20style%3D%22width%3A%20100.0%25%3B%20height%3A%20100.0%25%3B%22%3EHumberlea%2C%20Emery%2C%20North%20York%3C/div%3E%60%29%5B0%5D%3B%0A%20%20%20%20%20%20%20%20%20%20%20%20popup_6ec9cafc6ca24c55a770f08c7eb9ceea.setContent%28html_abb7b29081ad43f79deb5a4e51b98f49%29%3B%0A%20%20%20%20%20%20%20%20%0A%0A%20%20%20%20%20%20%20%20circle_marker_cbbf89319bdb48ab8492b88f50d5a38a.bindPopup%28popup_6ec9cafc6ca24c55a770f08c7eb9ceea%29%0A%20%20%20%20%20%20%20%20%3B%0A%0A%20%20%20%20%20%20%20%20%0A%20%20%20%20%0A%20%20%20%20%0A%20%20%20%20%20%20%20%20%20%20%20%20var%20circle_marker_ee6ad27fe09d4e278cf280e84e3946da%20%3D%20L.circleMarker%28%0A%20%20%20%20%20%20%20%20%20%20%20%20%20%20%20%20%5B43.692657%2C%20-79.2648481%5D%2C%0A%20%20%20%20%20%20%20%20%20%20%20%20%20%20%20%20%7B%22bubblingMouseEvents%22%3A%20true%2C%20%22color%22%3A%20%22blue%22%2C%20%22dashArray%22%3A%20null%2C%20%22dashOffset%22%3A%20null%2C%20%22fill%22%3A%20true%2C%20%22fillColor%22%3A%20%22%233186cc%22%2C%20%22fillOpacity%22%3A%200.7%2C%20%22fillRule%22%3A%20%22evenodd%22%2C%20%22lineCap%22%3A%20%22round%22%2C%20%22lineJoin%22%3A%20%22round%22%2C%20%22opacity%22%3A%201.0%2C%20%22radius%22%3A%205%2C%20%22stroke%22%3A%20true%2C%20%22weight%22%3A%203%7D%0A%20%20%20%20%20%20%20%20%20%20%20%20%29.addTo%28map_b739a702408f4cecbcc7a66b15e3b8e4%29%3B%0A%20%20%20%20%20%20%20%20%0A%20%20%20%20%0A%20%20%20%20%20%20%20%20var%20popup_6bd42322f6194d7a8675a4e28d2005b0%20%3D%20L.popup%28%7B%22maxWidth%22%3A%20%22100%25%22%7D%29%3B%0A%0A%20%20%20%20%20%20%20%20%0A%20%20%20%20%20%20%20%20%20%20%20%20var%20html_804c4deb037a40af810998454e3fba7f%20%3D%20%24%28%60%3Cdiv%20id%3D%22html_804c4deb037a40af810998454e3fba7f%22%20style%3D%22width%3A%20100.0%25%3B%20height%3A%20100.0%25%3B%22%3EBirch%20Cliff%2C%20Cliffside%20West%2C%20Scarborough%3C/div%3E%60%29%5B0%5D%3B%0A%20%20%20%20%20%20%20%20%20%20%20%20popup_6bd42322f6194d7a8675a4e28d2005b0.setContent%28html_804c4deb037a40af810998454e3fba7f%29%3B%0A%20%20%20%20%20%20%20%20%0A%0A%20%20%20%20%20%20%20%20circle_marker_ee6ad27fe09d4e278cf280e84e3946da.bindPopup%28popup_6bd42322f6194d7a8675a4e28d2005b0%29%0A%20%20%20%20%20%20%20%20%3B%0A%0A%20%20%20%20%20%20%20%20%0A%20%20%20%20%0A%20%20%20%20%0A%20%20%20%20%20%20%20%20%20%20%20%20var%20circle_marker_6316eca1973645ddbe52eabd763fdf6b%20%3D%20L.circleMarker%28%0A%20%20%20%20%20%20%20%20%20%20%20%20%20%20%20%20%5B43.7701199%2C%20-79.4084928%5D%2C%0A%20%20%20%20%20%20%20%20%20%20%20%20%20%20%20%20%7B%22bubblingMouseEvents%22%3A%20true%2C%20%22color%22%3A%20%22blue%22%2C%20%22dashArray%22%3A%20null%2C%20%22dashOffset%22%3A%20null%2C%20%22fill%22%3A%20true%2C%20%22fillColor%22%3A%20%22%233186cc%22%2C%20%22fillOpacity%22%3A%200.7%2C%20%22fillRule%22%3A%20%22evenodd%22%2C%20%22lineCap%22%3A%20%22round%22%2C%20%22lineJoin%22%3A%20%22round%22%2C%20%22opacity%22%3A%201.0%2C%20%22radius%22%3A%205%2C%20%22stroke%22%3A%20true%2C%20%22weight%22%3A%203%7D%0A%20%20%20%20%20%20%20%20%20%20%20%20%29.addTo%28map_b739a702408f4cecbcc7a66b15e3b8e4%29%3B%0A%20%20%20%20%20%20%20%20%0A%20%20%20%20%0A%20%20%20%20%20%20%20%20var%20popup_35c338fd1d7d450c82c98a975dfec773%20%3D%20L.popup%28%7B%22maxWidth%22%3A%20%22100%25%22%7D%29%3B%0A%0A%20%20%20%20%20%20%20%20%0A%20%20%20%20%20%20%20%20%20%20%20%20var%20html_ba4974a3c432462ba2a67267ffeeddfe%20%3D%20%24%28%60%3Cdiv%20id%3D%22html_ba4974a3c432462ba2a67267ffeeddfe%22%20style%3D%22width%3A%20100.0%25%3B%20height%3A%20100.0%25%3B%22%3EWillowdale%20South%2C%20North%20York%3C/div%3E%60%29%5B0%5D%3B%0A%20%20%20%20%20%20%20%20%20%20%20%20popup_35c338fd1d7d450c82c98a975dfec773.setContent%28html_ba4974a3c432462ba2a67267ffeeddfe%29%3B%0A%20%20%20%20%20%20%20%20%0A%0A%20%20%20%20%20%20%20%20circle_marker_6316eca1973645ddbe52eabd763fdf6b.bindPopup%28popup_35c338fd1d7d450c82c98a975dfec773%29%0A%20%20%20%20%20%20%20%20%3B%0A%0A%20%20%20%20%20%20%20%20%0A%20%20%20%20%0A%20%20%20%20%0A%20%20%20%20%20%20%20%20%20%20%20%20var%20circle_marker_78eb3ca182d045198701b59b8a3c0c45%20%3D%20L.circleMarker%28%0A%20%20%20%20%20%20%20%20%20%20%20%20%20%20%20%20%5B43.7616313%2C%20-79.5209994%5D%2C%0A%20%20%20%20%20%20%20%20%20%20%20%20%20%20%20%20%7B%22bubblingMouseEvents%22%3A%20true%2C%20%22color%22%3A%20%22blue%22%2C%20%22dashArray%22%3A%20null%2C%20%22dashOffset%22%3A%20null%2C%20%22fill%22%3A%20true%2C%20%22fillColor%22%3A%20%22%233186cc%22%2C%20%22fillOpacity%22%3A%200.7%2C%20%22fillRule%22%3A%20%22evenodd%22%2C%20%22lineCap%22%3A%20%22round%22%2C%20%22lineJoin%22%3A%20%22round%22%2C%20%22opacity%22%3A%201.0%2C%20%22radius%22%3A%205%2C%20%22stroke%22%3A%20true%2C%20%22weight%22%3A%203%7D%0A%20%20%20%20%20%20%20%20%20%20%20%20%29.addTo%28map_b739a702408f4cecbcc7a66b15e3b8e4%29%3B%0A%20%20%20%20%20%20%20%20%0A%20%20%20%20%0A%20%20%20%20%20%20%20%20var%20popup_ff7dc1a25494412faa6631355f878fc2%20%3D%20L.popup%28%7B%22maxWidth%22%3A%20%22100%25%22%7D%29%3B%0A%0A%20%20%20%20%20%20%20%20%0A%20%20%20%20%20%20%20%20%20%20%20%20var%20html_092fd2bb658d4132857e94b4b7d4c7f4%20%3D%20%24%28%60%3Cdiv%20id%3D%22html_092fd2bb658d4132857e94b4b7d4c7f4%22%20style%3D%22width%3A%20100.0%25%3B%20height%3A%20100.0%25%3B%22%3EDownsview%20Northwest%2C%20North%20York%3C/div%3E%60%29%5B0%5D%3B%0A%20%20%20%20%20%20%20%20%20%20%20%20popup_ff7dc1a25494412faa6631355f878fc2.setContent%28html_092fd2bb658d4132857e94b4b7d4c7f4%29%3B%0A%20%20%20%20%20%20%20%20%0A%0A%20%20%20%20%20%20%20%20circle_marker_78eb3ca182d045198701b59b8a3c0c45.bindPopup%28popup_ff7dc1a25494412faa6631355f878fc2%29%0A%20%20%20%20%20%20%20%20%3B%0A%0A%20%20%20%20%20%20%20%20%0A%20%20%20%20%0A%20%20%20%20%0A%20%20%20%20%20%20%20%20%20%20%20%20var%20circle_marker_ea0016b550a1465d9704c291178380d1%20%3D%20L.circleMarker%28%0A%20%20%20%20%20%20%20%20%20%20%20%20%20%20%20%20%5B43.7280205%2C%20-79.3887901%5D%2C%0A%20%20%20%20%20%20%20%20%20%20%20%20%20%20%20%20%7B%22bubblingMouseEvents%22%3A%20true%2C%20%22color%22%3A%20%22blue%22%2C%20%22dashArray%22%3A%20null%2C%20%22dashOffset%22%3A%20null%2C%20%22fill%22%3A%20true%2C%20%22fillColor%22%3A%20%22%233186cc%22%2C%20%22fillOpacity%22%3A%200.7%2C%20%22fillRule%22%3A%20%22evenodd%22%2C%20%22lineCap%22%3A%20%22round%22%2C%20%22lineJoin%22%3A%20%22round%22%2C%20%22opacity%22%3A%201.0%2C%20%22radius%22%3A%205%2C%20%22stroke%22%3A%20true%2C%20%22weight%22%3A%203%7D%0A%20%20%20%20%20%20%20%20%20%20%20%20%29.addTo%28map_b739a702408f4cecbcc7a66b15e3b8e4%29%3B%0A%20%20%20%20%20%20%20%20%0A%20%20%20%20%0A%20%20%20%20%20%20%20%20var%20popup_e1a6865786284279927cf5f0d1cc2ab5%20%3D%20L.popup%28%7B%22maxWidth%22%3A%20%22100%25%22%7D%29%3B%0A%0A%20%20%20%20%20%20%20%20%0A%20%20%20%20%20%20%20%20%20%20%20%20var%20html_2d38c91ba367439c8e493c8419710956%20%3D%20%24%28%60%3Cdiv%20id%3D%22html_2d38c91ba367439c8e493c8419710956%22%20style%3D%22width%3A%20100.0%25%3B%20height%3A%20100.0%25%3B%22%3ELawrence%20Park%2C%20Central%20Toronto%3C/div%3E%60%29%5B0%5D%3B%0A%20%20%20%20%20%20%20%20%20%20%20%20popup_e1a6865786284279927cf5f0d1cc2ab5.setContent%28html_2d38c91ba367439c8e493c8419710956%29%3B%0A%20%20%20%20%20%20%20%20%0A%0A%20%20%20%20%20%20%20%20circle_marker_ea0016b550a1465d9704c291178380d1.bindPopup%28popup_e1a6865786284279927cf5f0d1cc2ab5%29%0A%20%20%20%20%20%20%20%20%3B%0A%0A%20%20%20%20%20%20%20%20%0A%20%20%20%20%0A%20%20%20%20%0A%20%20%20%20%20%20%20%20%20%20%20%20var%20circle_marker_7839ed98e8cf4b248308266c82cb74c1%20%3D%20L.circleMarker%28%0A%20%20%20%20%20%20%20%20%20%20%20%20%20%20%20%20%5B43.7116948%2C%20-79.4169356%5D%2C%0A%20%20%20%20%20%20%20%20%20%20%20%20%20%20%20%20%7B%22bubblingMouseEvents%22%3A%20true%2C%20%22color%22%3A%20%22blue%22%2C%20%22dashArray%22%3A%20null%2C%20%22dashOffset%22%3A%20null%2C%20%22fill%22%3A%20true%2C%20%22fillColor%22%3A%20%22%233186cc%22%2C%20%22fillOpacity%22%3A%200.7%2C%20%22fillRule%22%3A%20%22evenodd%22%2C%20%22lineCap%22%3A%20%22round%22%2C%20%22lineJoin%22%3A%20%22round%22%2C%20%22opacity%22%3A%201.0%2C%20%22radius%22%3A%205%2C%20%22stroke%22%3A%20true%2C%20%22weight%22%3A%203%7D%0A%20%20%20%20%20%20%20%20%20%20%20%20%29.addTo%28map_b739a702408f4cecbcc7a66b15e3b8e4%29%3B%0A%20%20%20%20%20%20%20%20%0A%20%20%20%20%0A%20%20%20%20%20%20%20%20var%20popup_afb5177ea0e2430286e885345587d07b%20%3D%20L.popup%28%7B%22maxWidth%22%3A%20%22100%25%22%7D%29%3B%0A%0A%20%20%20%20%20%20%20%20%0A%20%20%20%20%20%20%20%20%20%20%20%20var%20html_d19996677f5047178ee7cd86f1ff94d7%20%3D%20%24%28%60%3Cdiv%20id%3D%22html_d19996677f5047178ee7cd86f1ff94d7%22%20style%3D%22width%3A%20100.0%25%3B%20height%3A%20100.0%25%3B%22%3ERoselawn%2C%20Central%20Toronto%3C/div%3E%60%29%5B0%5D%3B%0A%20%20%20%20%20%20%20%20%20%20%20%20popup_afb5177ea0e2430286e885345587d07b.setContent%28html_d19996677f5047178ee7cd86f1ff94d7%29%3B%0A%20%20%20%20%20%20%20%20%0A%0A%20%20%20%20%20%20%20%20circle_marker_7839ed98e8cf4b248308266c82cb74c1.bindPopup%28popup_afb5177ea0e2430286e885345587d07b%29%0A%20%20%20%20%20%20%20%20%3B%0A%0A%20%20%20%20%20%20%20%20%0A%20%20%20%20%0A%20%20%20%20%0A%20%20%20%20%20%20%20%20%20%20%20%20var%20circle_marker_68e3c9906eb248e29d2e782a2d23a28c%20%3D%20L.circleMarker%28%0A%20%20%20%20%20%20%20%20%20%20%20%20%20%20%20%20%5B43.6731853%2C%20-79.4872619%5D%2C%0A%20%20%20%20%20%20%20%20%20%20%20%20%20%20%20%20%7B%22bubblingMouseEvents%22%3A%20true%2C%20%22color%22%3A%20%22blue%22%2C%20%22dashArray%22%3A%20null%2C%20%22dashOffset%22%3A%20null%2C%20%22fill%22%3A%20true%2C%20%22fillColor%22%3A%20%22%233186cc%22%2C%20%22fillOpacity%22%3A%200.7%2C%20%22fillRule%22%3A%20%22evenodd%22%2C%20%22lineCap%22%3A%20%22round%22%2C%20%22lineJoin%22%3A%20%22round%22%2C%20%22opacity%22%3A%201.0%2C%20%22radius%22%3A%205%2C%20%22stroke%22%3A%20true%2C%20%22weight%22%3A%203%7D%0A%20%20%20%20%20%20%20%20%20%20%20%20%29.addTo%28map_b739a702408f4cecbcc7a66b15e3b8e4%29%3B%0A%20%20%20%20%20%20%20%20%0A%20%20%20%20%0A%20%20%20%20%20%20%20%20var%20popup_9ff64234f95d4c15bf0e9f0ed908a949%20%3D%20L.popup%28%7B%22maxWidth%22%3A%20%22100%25%22%7D%29%3B%0A%0A%20%20%20%20%20%20%20%20%0A%20%20%20%20%20%20%20%20%20%20%20%20var%20html_d824b862988b417ebc4c3a6b8c89d9fe%20%3D%20%24%28%60%3Cdiv%20id%3D%22html_d824b862988b417ebc4c3a6b8c89d9fe%22%20style%3D%22width%3A%20100.0%25%3B%20height%3A%20100.0%25%3B%22%3ERunnymede%2C%20The%20Junction%20North%2C%20York%3C/div%3E%60%29%5B0%5D%3B%0A%20%20%20%20%20%20%20%20%20%20%20%20popup_9ff64234f95d4c15bf0e9f0ed908a949.setContent%28html_d824b862988b417ebc4c3a6b8c89d9fe%29%3B%0A%20%20%20%20%20%20%20%20%0A%0A%20%20%20%20%20%20%20%20circle_marker_68e3c9906eb248e29d2e782a2d23a28c.bindPopup%28popup_9ff64234f95d4c15bf0e9f0ed908a949%29%0A%20%20%20%20%20%20%20%20%3B%0A%0A%20%20%20%20%20%20%20%20%0A%20%20%20%20%0A%20%20%20%20%0A%20%20%20%20%20%20%20%20%20%20%20%20var%20circle_marker_5ba56a6852204c0eaba76d72b443f3a4%20%3D%20L.circleMarker%28%0A%20%20%20%20%20%20%20%20%20%20%20%20%20%20%20%20%5B43.706876%2C%20-79.5181884%5D%2C%0A%20%20%20%20%20%20%20%20%20%20%20%20%20%20%20%20%7B%22bubblingMouseEvents%22%3A%20true%2C%20%22color%22%3A%20%22blue%22%2C%20%22dashArray%22%3A%20null%2C%20%22dashOffset%22%3A%20null%2C%20%22fill%22%3A%20true%2C%20%22fillColor%22%3A%20%22%233186cc%22%2C%20%22fillOpacity%22%3A%200.7%2C%20%22fillRule%22%3A%20%22evenodd%22%2C%20%22lineCap%22%3A%20%22round%22%2C%20%22lineJoin%22%3A%20%22round%22%2C%20%22opacity%22%3A%201.0%2C%20%22radius%22%3A%205%2C%20%22stroke%22%3A%20true%2C%20%22weight%22%3A%203%7D%0A%20%20%20%20%20%20%20%20%20%20%20%20%29.addTo%28map_b739a702408f4cecbcc7a66b15e3b8e4%29%3B%0A%20%20%20%20%20%20%20%20%0A%20%20%20%20%0A%20%20%20%20%20%20%20%20var%20popup_f938f9a8fa834bce80bfedd1f9cdf5aa%20%3D%20L.popup%28%7B%22maxWidth%22%3A%20%22100%25%22%7D%29%3B%0A%0A%20%20%20%20%20%20%20%20%0A%20%20%20%20%20%20%20%20%20%20%20%20var%20html_9ea049d001e949dab762357743fc7999%20%3D%20%24%28%60%3Cdiv%20id%3D%22html_9ea049d001e949dab762357743fc7999%22%20style%3D%22width%3A%20100.0%25%3B%20height%3A%20100.0%25%3B%22%3EWeston%2C%20York%3C/div%3E%60%29%5B0%5D%3B%0A%20%20%20%20%20%20%20%20%20%20%20%20popup_f938f9a8fa834bce80bfedd1f9cdf5aa.setContent%28html_9ea049d001e949dab762357743fc7999%29%3B%0A%20%20%20%20%20%20%20%20%0A%0A%20%20%20%20%20%20%20%20circle_marker_5ba56a6852204c0eaba76d72b443f3a4.bindPopup%28popup_f938f9a8fa834bce80bfedd1f9cdf5aa%29%0A%20%20%20%20%20%20%20%20%3B%0A%0A%20%20%20%20%20%20%20%20%0A%20%20%20%20%0A%20%20%20%20%0A%20%20%20%20%20%20%20%20%20%20%20%20var%20circle_marker_6ed4325562c74c1685e40813673e196f%20%3D%20L.circleMarker%28%0A%20%20%20%20%20%20%20%20%20%20%20%20%20%20%20%20%5B43.7574096%2C%20-79.273304%5D%2C%0A%20%20%20%20%20%20%20%20%20%20%20%20%20%20%20%20%7B%22bubblingMouseEvents%22%3A%20true%2C%20%22color%22%3A%20%22blue%22%2C%20%22dashArray%22%3A%20null%2C%20%22dashOffset%22%3A%20null%2C%20%22fill%22%3A%20true%2C%20%22fillColor%22%3A%20%22%233186cc%22%2C%20%22fillOpacity%22%3A%200.7%2C%20%22fillRule%22%3A%20%22evenodd%22%2C%20%22lineCap%22%3A%20%22round%22%2C%20%22lineJoin%22%3A%20%22round%22%2C%20%22opacity%22%3A%201.0%2C%20%22radius%22%3A%205%2C%20%22stroke%22%3A%20true%2C%20%22weight%22%3A%203%7D%0A%20%20%20%20%20%20%20%20%20%20%20%20%29.addTo%28map_b739a702408f4cecbcc7a66b15e3b8e4%29%3B%0A%20%20%20%20%20%20%20%20%0A%20%20%20%20%0A%20%20%20%20%20%20%20%20var%20popup_4e727b462b43486ea67110f592adc889%20%3D%20L.popup%28%7B%22maxWidth%22%3A%20%22100%25%22%7D%29%3B%0A%0A%20%20%20%20%20%20%20%20%0A%20%20%20%20%20%20%20%20%20%20%20%20var%20html_3e8c245665f24595b9eae679ff77e3b1%20%3D%20%24%28%60%3Cdiv%20id%3D%22html_3e8c245665f24595b9eae679ff77e3b1%22%20style%3D%22width%3A%20100.0%25%3B%20height%3A%20100.0%25%3B%22%3EDorset%20Park%2C%20Wexford%20Heights%2C%20Scarborough%20Town%20Centre%2C%20Scarborough%3C/div%3E%60%29%5B0%5D%3B%0A%20%20%20%20%20%20%20%20%20%20%20%20popup_4e727b462b43486ea67110f592adc889.setContent%28html_3e8c245665f24595b9eae679ff77e3b1%29%3B%0A%20%20%20%20%20%20%20%20%0A%0A%20%20%20%20%20%20%20%20circle_marker_6ed4325562c74c1685e40813673e196f.bindPopup%28popup_4e727b462b43486ea67110f592adc889%29%0A%20%20%20%20%20%20%20%20%3B%0A%0A%20%20%20%20%20%20%20%20%0A%20%20%20%20%0A%20%20%20%20%0A%20%20%20%20%20%20%20%20%20%20%20%20var%20circle_marker_290553470a3f4e65b0c81e349c45214c%20%3D%20L.circleMarker%28%0A%20%20%20%20%20%20%20%20%20%20%20%20%20%20%20%20%5B43.7527583%2C%20-79.4000493%5D%2C%0A%20%20%20%20%20%20%20%20%20%20%20%20%20%20%20%20%7B%22bubblingMouseEvents%22%3A%20true%2C%20%22color%22%3A%20%22blue%22%2C%20%22dashArray%22%3A%20null%2C%20%22dashOffset%22%3A%20null%2C%20%22fill%22%3A%20true%2C%20%22fillColor%22%3A%20%22%233186cc%22%2C%20%22fillOpacity%22%3A%200.7%2C%20%22fillRule%22%3A%20%22evenodd%22%2C%20%22lineCap%22%3A%20%22round%22%2C%20%22lineJoin%22%3A%20%22round%22%2C%20%22opacity%22%3A%201.0%2C%20%22radius%22%3A%205%2C%20%22stroke%22%3A%20true%2C%20%22weight%22%3A%203%7D%0A%20%20%20%20%20%20%20%20%20%20%20%20%29.addTo%28map_b739a702408f4cecbcc7a66b15e3b8e4%29%3B%0A%20%20%20%20%20%20%20%20%0A%20%20%20%20%0A%20%20%20%20%20%20%20%20var%20popup_f5eccb9abd494ab3b13de8f5cb90cf51%20%3D%20L.popup%28%7B%22maxWidth%22%3A%20%22100%25%22%7D%29%3B%0A%0A%20%20%20%20%20%20%20%20%0A%20%20%20%20%20%20%20%20%20%20%20%20var%20html_42af0ca3b8cc4e33a130b0b5e5dc94a3%20%3D%20%24%28%60%3Cdiv%20id%3D%22html_42af0ca3b8cc4e33a130b0b5e5dc94a3%22%20style%3D%22width%3A%20100.0%25%3B%20height%3A%20100.0%25%3B%22%3EYork%20Mills%20West%2C%20North%20York%3C/div%3E%60%29%5B0%5D%3B%0A%20%20%20%20%20%20%20%20%20%20%20%20popup_f5eccb9abd494ab3b13de8f5cb90cf51.setContent%28html_42af0ca3b8cc4e33a130b0b5e5dc94a3%29%3B%0A%20%20%20%20%20%20%20%20%0A%0A%20%20%20%20%20%20%20%20circle_marker_290553470a3f4e65b0c81e349c45214c.bindPopup%28popup_f5eccb9abd494ab3b13de8f5cb90cf51%29%0A%20%20%20%20%20%20%20%20%3B%0A%0A%20%20%20%20%20%20%20%20%0A%20%20%20%20%0A%20%20%20%20%0A%20%20%20%20%20%20%20%20%20%20%20%20var%20circle_marker_39683e6b8c884cb791086fcaa59e0ec3%20%3D%20L.circleMarker%28%0A%20%20%20%20%20%20%20%20%20%20%20%20%20%20%20%20%5B43.7127511%2C%20-79.3901975%5D%2C%0A%20%20%20%20%20%20%20%20%20%20%20%20%20%20%20%20%7B%22bubblingMouseEvents%22%3A%20true%2C%20%22color%22%3A%20%22blue%22%2C%20%22dashArray%22%3A%20null%2C%20%22dashOffset%22%3A%20null%2C%20%22fill%22%3A%20true%2C%20%22fillColor%22%3A%20%22%233186cc%22%2C%20%22fillOpacity%22%3A%200.7%2C%20%22fillRule%22%3A%20%22evenodd%22%2C%20%22lineCap%22%3A%20%22round%22%2C%20%22lineJoin%22%3A%20%22round%22%2C%20%22opacity%22%3A%201.0%2C%20%22radius%22%3A%205%2C%20%22stroke%22%3A%20true%2C%20%22weight%22%3A%203%7D%0A%20%20%20%20%20%20%20%20%20%20%20%20%29.addTo%28map_b739a702408f4cecbcc7a66b15e3b8e4%29%3B%0A%20%20%20%20%20%20%20%20%0A%20%20%20%20%0A%20%20%20%20%20%20%20%20var%20popup_49a3a43ea3b145e6b2fdf4ce81d073d2%20%3D%20L.popup%28%7B%22maxWidth%22%3A%20%22100%25%22%7D%29%3B%0A%0A%20%20%20%20%20%20%20%20%0A%20%20%20%20%20%20%20%20%20%20%20%20var%20html_95ce61f4a40443fd96489f20e1653da8%20%3D%20%24%28%60%3Cdiv%20id%3D%22html_95ce61f4a40443fd96489f20e1653da8%22%20style%3D%22width%3A%20100.0%25%3B%20height%3A%20100.0%25%3B%22%3EDavisville%20North%2C%20Central%20Toronto%3C/div%3E%60%29%5B0%5D%3B%0A%20%20%20%20%20%20%20%20%20%20%20%20popup_49a3a43ea3b145e6b2fdf4ce81d073d2.setContent%28html_95ce61f4a40443fd96489f20e1653da8%29%3B%0A%20%20%20%20%20%20%20%20%0A%0A%20%20%20%20%20%20%20%20circle_marker_39683e6b8c884cb791086fcaa59e0ec3.bindPopup%28popup_49a3a43ea3b145e6b2fdf4ce81d073d2%29%0A%20%20%20%20%20%20%20%20%3B%0A%0A%20%20%20%20%20%20%20%20%0A%20%20%20%20%0A%20%20%20%20%0A%20%20%20%20%20%20%20%20%20%20%20%20var%20circle_marker_2df33592389c4a0f977646b91321301f%20%3D%20L.circleMarker%28%0A%20%20%20%20%20%20%20%20%20%20%20%20%20%20%20%20%5B43.6969476%2C%20-79.4113072%5D%2C%0A%20%20%20%20%20%20%20%20%20%20%20%20%20%20%20%20%7B%22bubblingMouseEvents%22%3A%20true%2C%20%22color%22%3A%20%22blue%22%2C%20%22dashArray%22%3A%20null%2C%20%22dashOffset%22%3A%20null%2C%20%22fill%22%3A%20true%2C%20%22fillColor%22%3A%20%22%233186cc%22%2C%20%22fillOpacity%22%3A%200.7%2C%20%22fillRule%22%3A%20%22evenodd%22%2C%20%22lineCap%22%3A%20%22round%22%2C%20%22lineJoin%22%3A%20%22round%22%2C%20%22opacity%22%3A%201.0%2C%20%22radius%22%3A%205%2C%20%22stroke%22%3A%20true%2C%20%22weight%22%3A%203%7D%0A%20%20%20%20%20%20%20%20%20%20%20%20%29.addTo%28map_b739a702408f4cecbcc7a66b15e3b8e4%29%3B%0A%20%20%20%20%20%20%20%20%0A%20%20%20%20%0A%20%20%20%20%20%20%20%20var%20popup_f9832df945a5488a872732172b650c99%20%3D%20L.popup%28%7B%22maxWidth%22%3A%20%22100%25%22%7D%29%3B%0A%0A%20%20%20%20%20%20%20%20%0A%20%20%20%20%20%20%20%20%20%20%20%20var%20html_862a33e438544cb292d3eacb39e52923%20%3D%20%24%28%60%3Cdiv%20id%3D%22html_862a33e438544cb292d3eacb39e52923%22%20style%3D%22width%3A%20100.0%25%3B%20height%3A%20100.0%25%3B%22%3EForest%20Hill%20North%20%26amp%3B%20West%2C%20Central%20Toronto%3C/div%3E%60%29%5B0%5D%3B%0A%20%20%20%20%20%20%20%20%20%20%20%20popup_f9832df945a5488a872732172b650c99.setContent%28html_862a33e438544cb292d3eacb39e52923%29%3B%0A%20%20%20%20%20%20%20%20%0A%0A%20%20%20%20%20%20%20%20circle_marker_2df33592389c4a0f977646b91321301f.bindPopup%28popup_f9832df945a5488a872732172b650c99%29%0A%20%20%20%20%20%20%20%20%3B%0A%0A%20%20%20%20%20%20%20%20%0A%20%20%20%20%0A%20%20%20%20%0A%20%20%20%20%20%20%20%20%20%20%20%20var%20circle_marker_395eb46186634bb6987ab777cc968ca6%20%3D%20L.circleMarker%28%0A%20%20%20%20%20%20%20%20%20%20%20%20%20%20%20%20%5B43.6616083%2C%20-79.4647633%5D%2C%0A%20%20%20%20%20%20%20%20%20%20%20%20%20%20%20%20%7B%22bubblingMouseEvents%22%3A%20true%2C%20%22color%22%3A%20%22blue%22%2C%20%22dashArray%22%3A%20null%2C%20%22dashOffset%22%3A%20null%2C%20%22fill%22%3A%20true%2C%20%22fillColor%22%3A%20%22%233186cc%22%2C%20%22fillOpacity%22%3A%200.7%2C%20%22fillRule%22%3A%20%22evenodd%22%2C%20%22lineCap%22%3A%20%22round%22%2C%20%22lineJoin%22%3A%20%22round%22%2C%20%22opacity%22%3A%201.0%2C%20%22radius%22%3A%205%2C%20%22stroke%22%3A%20true%2C%20%22weight%22%3A%203%7D%0A%20%20%20%20%20%20%20%20%20%20%20%20%29.addTo%28map_b739a702408f4cecbcc7a66b15e3b8e4%29%3B%0A%20%20%20%20%20%20%20%20%0A%20%20%20%20%0A%20%20%20%20%20%20%20%20var%20popup_b53d66e2109046b28598fe643ade043d%20%3D%20L.popup%28%7B%22maxWidth%22%3A%20%22100%25%22%7D%29%3B%0A%0A%20%20%20%20%20%20%20%20%0A%20%20%20%20%20%20%20%20%20%20%20%20var%20html_54a5e10cde69486db2b16a215f4f6017%20%3D%20%24%28%60%3Cdiv%20id%3D%22html_54a5e10cde69486db2b16a215f4f6017%22%20style%3D%22width%3A%20100.0%25%3B%20height%3A%20100.0%25%3B%22%3EHigh%20Park%2C%20The%20Junction%20South%2C%20West%20Toronto%3C/div%3E%60%29%5B0%5D%3B%0A%20%20%20%20%20%20%20%20%20%20%20%20popup_b53d66e2109046b28598fe643ade043d.setContent%28html_54a5e10cde69486db2b16a215f4f6017%29%3B%0A%20%20%20%20%20%20%20%20%0A%0A%20%20%20%20%20%20%20%20circle_marker_395eb46186634bb6987ab777cc968ca6.bindPopup%28popup_b53d66e2109046b28598fe643ade043d%29%0A%20%20%20%20%20%20%20%20%3B%0A%0A%20%20%20%20%20%20%20%20%0A%20%20%20%20%0A%20%20%20%20%0A%20%20%20%20%20%20%20%20%20%20%20%20var%20circle_marker_bbae200ea3a940ccb808d730eb6e8baf%20%3D%20L.circleMarker%28%0A%20%20%20%20%20%20%20%20%20%20%20%20%20%20%20%20%5B43.696319%2C%20-79.5322424%5D%2C%0A%20%20%20%20%20%20%20%20%20%20%20%20%20%20%20%20%7B%22bubblingMouseEvents%22%3A%20true%2C%20%22color%22%3A%20%22blue%22%2C%20%22dashArray%22%3A%20null%2C%20%22dashOffset%22%3A%20null%2C%20%22fill%22%3A%20true%2C%20%22fillColor%22%3A%20%22%233186cc%22%2C%20%22fillOpacity%22%3A%200.7%2C%20%22fillRule%22%3A%20%22evenodd%22%2C%20%22lineCap%22%3A%20%22round%22%2C%20%22lineJoin%22%3A%20%22round%22%2C%20%22opacity%22%3A%201.0%2C%20%22radius%22%3A%205%2C%20%22stroke%22%3A%20true%2C%20%22weight%22%3A%203%7D%0A%20%20%20%20%20%20%20%20%20%20%20%20%29.addTo%28map_b739a702408f4cecbcc7a66b15e3b8e4%29%3B%0A%20%20%20%20%20%20%20%20%0A%20%20%20%20%0A%20%20%20%20%20%20%20%20var%20popup_51f477cfeaaa40789020aa5eff4226da%20%3D%20L.popup%28%7B%22maxWidth%22%3A%20%22100%25%22%7D%29%3B%0A%0A%20%20%20%20%20%20%20%20%0A%20%20%20%20%20%20%20%20%20%20%20%20var%20html_6348c1f2fbf04c2d8b2b735053dd3470%20%3D%20%24%28%60%3Cdiv%20id%3D%22html_6348c1f2fbf04c2d8b2b735053dd3470%22%20style%3D%22width%3A%20100.0%25%3B%20height%3A%20100.0%25%3B%22%3EWestmount%2C%20Etobicoke%3C/div%3E%60%29%5B0%5D%3B%0A%20%20%20%20%20%20%20%20%20%20%20%20popup_51f477cfeaaa40789020aa5eff4226da.setContent%28html_6348c1f2fbf04c2d8b2b735053dd3470%29%3B%0A%20%20%20%20%20%20%20%20%0A%0A%20%20%20%20%20%20%20%20circle_marker_bbae200ea3a940ccb808d730eb6e8baf.bindPopup%28popup_51f477cfeaaa40789020aa5eff4226da%29%0A%20%20%20%20%20%20%20%20%3B%0A%0A%20%20%20%20%20%20%20%20%0A%20%20%20%20%0A%20%20%20%20%0A%20%20%20%20%20%20%20%20%20%20%20%20var%20circle_marker_f13f9531e5a34c1e8a0da61e98600713%20%3D%20L.circleMarker%28%0A%20%20%20%20%20%20%20%20%20%20%20%20%20%20%20%20%5B43.7500715%2C%20-79.2958491%5D%2C%0A%20%20%20%20%20%20%20%20%20%20%20%20%20%20%20%20%7B%22bubblingMouseEvents%22%3A%20true%2C%20%22color%22%3A%20%22blue%22%2C%20%22dashArray%22%3A%20null%2C%20%22dashOffset%22%3A%20null%2C%20%22fill%22%3A%20true%2C%20%22fillColor%22%3A%20%22%233186cc%22%2C%20%22fillOpacity%22%3A%200.7%2C%20%22fillRule%22%3A%20%22evenodd%22%2C%20%22lineCap%22%3A%20%22round%22%2C%20%22lineJoin%22%3A%20%22round%22%2C%20%22opacity%22%3A%201.0%2C%20%22radius%22%3A%205%2C%20%22stroke%22%3A%20true%2C%20%22weight%22%3A%203%7D%0A%20%20%20%20%20%20%20%20%20%20%20%20%29.addTo%28map_b739a702408f4cecbcc7a66b15e3b8e4%29%3B%0A%20%20%20%20%20%20%20%20%0A%20%20%20%20%0A%20%20%20%20%20%20%20%20var%20popup_587fd6de0bcb4e6db48e7197f3394d6c%20%3D%20L.popup%28%7B%22maxWidth%22%3A%20%22100%25%22%7D%29%3B%0A%0A%20%20%20%20%20%20%20%20%0A%20%20%20%20%20%20%20%20%20%20%20%20var%20html_61d51b4f6d954b6b923210c2ef36f109%20%3D%20%24%28%60%3Cdiv%20id%3D%22html_61d51b4f6d954b6b923210c2ef36f109%22%20style%3D%22width%3A%20100.0%25%3B%20height%3A%20100.0%25%3B%22%3EWexford%2C%20Maryvale%2C%20Scarborough%3C/div%3E%60%29%5B0%5D%3B%0A%20%20%20%20%20%20%20%20%20%20%20%20popup_587fd6de0bcb4e6db48e7197f3394d6c.setContent%28html_61d51b4f6d954b6b923210c2ef36f109%29%3B%0A%20%20%20%20%20%20%20%20%0A%0A%20%20%20%20%20%20%20%20circle_marker_f13f9531e5a34c1e8a0da61e98600713.bindPopup%28popup_587fd6de0bcb4e6db48e7197f3394d6c%29%0A%20%20%20%20%20%20%20%20%3B%0A%0A%20%20%20%20%20%20%20%20%0A%20%20%20%20%0A%20%20%20%20%0A%20%20%20%20%20%20%20%20%20%20%20%20var%20circle_marker_4ca2c8eeb9d146f682efc408e639e2ad%20%3D%20L.circleMarker%28%0A%20%20%20%20%20%20%20%20%20%20%20%20%20%20%20%20%5B43.7827364%2C%20-79.4422593%5D%2C%0A%20%20%20%20%20%20%20%20%20%20%20%20%20%20%20%20%7B%22bubblingMouseEvents%22%3A%20true%2C%20%22color%22%3A%20%22blue%22%2C%20%22dashArray%22%3A%20null%2C%20%22dashOffset%22%3A%20null%2C%20%22fill%22%3A%20true%2C%20%22fillColor%22%3A%20%22%233186cc%22%2C%20%22fillOpacity%22%3A%200.7%2C%20%22fillRule%22%3A%20%22evenodd%22%2C%20%22lineCap%22%3A%20%22round%22%2C%20%22lineJoin%22%3A%20%22round%22%2C%20%22opacity%22%3A%201.0%2C%20%22radius%22%3A%205%2C%20%22stroke%22%3A%20true%2C%20%22weight%22%3A%203%7D%0A%20%20%20%20%20%20%20%20%20%20%20%20%29.addTo%28map_b739a702408f4cecbcc7a66b15e3b8e4%29%3B%0A%20%20%20%20%20%20%20%20%0A%20%20%20%20%0A%20%20%20%20%20%20%20%20var%20popup_a0425b25cef44689bf5ccefa7dd90ab3%20%3D%20L.popup%28%7B%22maxWidth%22%3A%20%22100%25%22%7D%29%3B%0A%0A%20%20%20%20%20%20%20%20%0A%20%20%20%20%20%20%20%20%20%20%20%20var%20html_362c142189404a2eb655e891b613da2a%20%3D%20%24%28%60%3Cdiv%20id%3D%22html_362c142189404a2eb655e891b613da2a%22%20style%3D%22width%3A%20100.0%25%3B%20height%3A%20100.0%25%3B%22%3EWillowdale%20West%2C%20North%20York%3C/div%3E%60%29%5B0%5D%3B%0A%20%20%20%20%20%20%20%20%20%20%20%20popup_a0425b25cef44689bf5ccefa7dd90ab3.setContent%28html_362c142189404a2eb655e891b613da2a%29%3B%0A%20%20%20%20%20%20%20%20%0A%0A%20%20%20%20%20%20%20%20circle_marker_4ca2c8eeb9d146f682efc408e639e2ad.bindPopup%28popup_a0425b25cef44689bf5ccefa7dd90ab3%29%0A%20%20%20%20%20%20%20%20%3B%0A%0A%20%20%20%20%20%20%20%20%0A%20%20%20%20%0A%20%20%20%20%0A%20%20%20%20%20%20%20%20%20%20%20%20var%20circle_marker_e2d2ed88289b438d8f8385b9f59c868e%20%3D%20L.circleMarker%28%0A%20%20%20%20%20%20%20%20%20%20%20%20%20%20%20%20%5B43.7153834%2C%20-79.4056784%5D%2C%0A%20%20%20%20%20%20%20%20%20%20%20%20%20%20%20%20%7B%22bubblingMouseEvents%22%3A%20true%2C%20%22color%22%3A%20%22blue%22%2C%20%22dashArray%22%3A%20null%2C%20%22dashOffset%22%3A%20null%2C%20%22fill%22%3A%20true%2C%20%22fillColor%22%3A%20%22%233186cc%22%2C%20%22fillOpacity%22%3A%200.7%2C%20%22fillRule%22%3A%20%22evenodd%22%2C%20%22lineCap%22%3A%20%22round%22%2C%20%22lineJoin%22%3A%20%22round%22%2C%20%22opacity%22%3A%201.0%2C%20%22radius%22%3A%205%2C%20%22stroke%22%3A%20true%2C%20%22weight%22%3A%203%7D%0A%20%20%20%20%20%20%20%20%20%20%20%20%29.addTo%28map_b739a702408f4cecbcc7a66b15e3b8e4%29%3B%0A%20%20%20%20%20%20%20%20%0A%20%20%20%20%0A%20%20%20%20%20%20%20%20var%20popup_710f3e4d560840cbbcd45d04b398c88e%20%3D%20L.popup%28%7B%22maxWidth%22%3A%20%22100%25%22%7D%29%3B%0A%0A%20%20%20%20%20%20%20%20%0A%20%20%20%20%20%20%20%20%20%20%20%20var%20html_7b67bf2d7e0541a78be783086f42b171%20%3D%20%24%28%60%3Cdiv%20id%3D%22html_7b67bf2d7e0541a78be783086f42b171%22%20style%3D%22width%3A%20100.0%25%3B%20height%3A%20100.0%25%3B%22%3ENorth%20Toronto%20West%2C%20Central%20Toronto%3C/div%3E%60%29%5B0%5D%3B%0A%20%20%20%20%20%20%20%20%20%20%20%20popup_710f3e4d560840cbbcd45d04b398c88e.setContent%28html_7b67bf2d7e0541a78be783086f42b171%29%3B%0A%20%20%20%20%20%20%20%20%0A%0A%20%20%20%20%20%20%20%20circle_marker_e2d2ed88289b438d8f8385b9f59c868e.bindPopup%28popup_710f3e4d560840cbbcd45d04b398c88e%29%0A%20%20%20%20%20%20%20%20%3B%0A%0A%20%20%20%20%20%20%20%20%0A%20%20%20%20%0A%20%20%20%20%0A%20%20%20%20%20%20%20%20%20%20%20%20var%20circle_marker_1ee675eb33d04ca78cadab1520253016%20%3D%20L.circleMarker%28%0A%20%20%20%20%20%20%20%20%20%20%20%20%20%20%20%20%5B43.6727097%2C%20-79.4056784%5D%2C%0A%20%20%20%20%20%20%20%20%20%20%20%20%20%20%20%20%7B%22bubblingMouseEvents%22%3A%20true%2C%20%22color%22%3A%20%22blue%22%2C%20%22dashArray%22%3A%20null%2C%20%22dashOffset%22%3A%20null%2C%20%22fill%22%3A%20true%2C%20%22fillColor%22%3A%20%22%233186cc%22%2C%20%22fillOpacity%22%3A%200.7%2C%20%22fillRule%22%3A%20%22evenodd%22%2C%20%22lineCap%22%3A%20%22round%22%2C%20%22lineJoin%22%3A%20%22round%22%2C%20%22opacity%22%3A%201.0%2C%20%22radius%22%3A%205%2C%20%22stroke%22%3A%20true%2C%20%22weight%22%3A%203%7D%0A%20%20%20%20%20%20%20%20%20%20%20%20%29.addTo%28map_b739a702408f4cecbcc7a66b15e3b8e4%29%3B%0A%20%20%20%20%20%20%20%20%0A%20%20%20%20%0A%20%20%20%20%20%20%20%20var%20popup_5bb7deeb52d74c03953d0d05a729b7d2%20%3D%20L.popup%28%7B%22maxWidth%22%3A%20%22100%25%22%7D%29%3B%0A%0A%20%20%20%20%20%20%20%20%0A%20%20%20%20%20%20%20%20%20%20%20%20var%20html_7b5185862e014e34b3fc1b98da475d75%20%3D%20%24%28%60%3Cdiv%20id%3D%22html_7b5185862e014e34b3fc1b98da475d75%22%20style%3D%22width%3A%20100.0%25%3B%20height%3A%20100.0%25%3B%22%3EThe%20Annex%2C%20North%20Midtown%2C%20Yorkville%2C%20Central%20Toronto%3C/div%3E%60%29%5B0%5D%3B%0A%20%20%20%20%20%20%20%20%20%20%20%20popup_5bb7deeb52d74c03953d0d05a729b7d2.setContent%28html_7b5185862e014e34b3fc1b98da475d75%29%3B%0A%20%20%20%20%20%20%20%20%0A%0A%20%20%20%20%20%20%20%20circle_marker_1ee675eb33d04ca78cadab1520253016.bindPopup%28popup_5bb7deeb52d74c03953d0d05a729b7d2%29%0A%20%20%20%20%20%20%20%20%3B%0A%0A%20%20%20%20%20%20%20%20%0A%20%20%20%20%0A%20%20%20%20%0A%20%20%20%20%20%20%20%20%20%20%20%20var%20circle_marker_26f59a51e3594d9a81962d79b4978d4a%20%3D%20L.circleMarker%28%0A%20%20%20%20%20%20%20%20%20%20%20%20%20%20%20%20%5B43.6489597%2C%20-79.456325%5D%2C%0A%20%20%20%20%20%20%20%20%20%20%20%20%20%20%20%20%7B%22bubblingMouseEvents%22%3A%20true%2C%20%22color%22%3A%20%22blue%22%2C%20%22dashArray%22%3A%20null%2C%20%22dashOffset%22%3A%20null%2C%20%22fill%22%3A%20true%2C%20%22fillColor%22%3A%20%22%233186cc%22%2C%20%22fillOpacity%22%3A%200.7%2C%20%22fillRule%22%3A%20%22evenodd%22%2C%20%22lineCap%22%3A%20%22round%22%2C%20%22lineJoin%22%3A%20%22round%22%2C%20%22opacity%22%3A%201.0%2C%20%22radius%22%3A%205%2C%20%22stroke%22%3A%20true%2C%20%22weight%22%3A%203%7D%0A%20%20%20%20%20%20%20%20%20%20%20%20%29.addTo%28map_b739a702408f4cecbcc7a66b15e3b8e4%29%3B%0A%20%20%20%20%20%20%20%20%0A%20%20%20%20%0A%20%20%20%20%20%20%20%20var%20popup_96ecf17c24374210a752cb490aa3611f%20%3D%20L.popup%28%7B%22maxWidth%22%3A%20%22100%25%22%7D%29%3B%0A%0A%20%20%20%20%20%20%20%20%0A%20%20%20%20%20%20%20%20%20%20%20%20var%20html_8ee7a266bfe140ce99bb5aa85b21bdae%20%3D%20%24%28%60%3Cdiv%20id%3D%22html_8ee7a266bfe140ce99bb5aa85b21bdae%22%20style%3D%22width%3A%20100.0%25%3B%20height%3A%20100.0%25%3B%22%3EParkdale%2C%20Roncesvalles%2C%20West%20Toronto%3C/div%3E%60%29%5B0%5D%3B%0A%20%20%20%20%20%20%20%20%20%20%20%20popup_96ecf17c24374210a752cb490aa3611f.setContent%28html_8ee7a266bfe140ce99bb5aa85b21bdae%29%3B%0A%20%20%20%20%20%20%20%20%0A%0A%20%20%20%20%20%20%20%20circle_marker_26f59a51e3594d9a81962d79b4978d4a.bindPopup%28popup_96ecf17c24374210a752cb490aa3611f%29%0A%20%20%20%20%20%20%20%20%3B%0A%0A%20%20%20%20%20%20%20%20%0A%20%20%20%20%0A%20%20%20%20%0A%20%20%20%20%20%20%20%20%20%20%20%20var%20circle_marker_ec9a3b8911474424bf3c97d3cdad5bd9%20%3D%20L.circleMarker%28%0A%20%20%20%20%20%20%20%20%20%20%20%20%20%20%20%20%5B43.6369656%2C%20-79.615819%5D%2C%0A%20%20%20%20%20%20%20%20%20%20%20%20%20%20%20%20%7B%22bubblingMouseEvents%22%3A%20true%2C%20%22color%22%3A%20%22blue%22%2C%20%22dashArray%22%3A%20null%2C%20%22dashOffset%22%3A%20null%2C%20%22fill%22%3A%20true%2C%20%22fillColor%22%3A%20%22%233186cc%22%2C%20%22fillOpacity%22%3A%200.7%2C%20%22fillRule%22%3A%20%22evenodd%22%2C%20%22lineCap%22%3A%20%22round%22%2C%20%22lineJoin%22%3A%20%22round%22%2C%20%22opacity%22%3A%201.0%2C%20%22radius%22%3A%205%2C%20%22stroke%22%3A%20true%2C%20%22weight%22%3A%203%7D%0A%20%20%20%20%20%20%20%20%20%20%20%20%29.addTo%28map_b739a702408f4cecbcc7a66b15e3b8e4%29%3B%0A%20%20%20%20%20%20%20%20%0A%20%20%20%20%0A%20%20%20%20%20%20%20%20var%20popup_58db1b36c8e54de6bc041ec65e2e9a33%20%3D%20L.popup%28%7B%22maxWidth%22%3A%20%22100%25%22%7D%29%3B%0A%0A%20%20%20%20%20%20%20%20%0A%20%20%20%20%20%20%20%20%20%20%20%20var%20html_df6fa74817cc45c1b50664723bb5e5ff%20%3D%20%24%28%60%3Cdiv%20id%3D%22html_df6fa74817cc45c1b50664723bb5e5ff%22%20style%3D%22width%3A%20100.0%25%3B%20height%3A%20100.0%25%3B%22%3EEnclave%20of%20L4W%2C%20MississaugaCanada%20Post%20Gateway%20Processing%20Centre%3C/div%3E%60%29%5B0%5D%3B%0A%20%20%20%20%20%20%20%20%20%20%20%20popup_58db1b36c8e54de6bc041ec65e2e9a33.setContent%28html_df6fa74817cc45c1b50664723bb5e5ff%29%3B%0A%20%20%20%20%20%20%20%20%0A%0A%20%20%20%20%20%20%20%20circle_marker_ec9a3b8911474424bf3c97d3cdad5bd9.bindPopup%28popup_58db1b36c8e54de6bc041ec65e2e9a33%29%0A%20%20%20%20%20%20%20%20%3B%0A%0A%20%20%20%20%20%20%20%20%0A%20%20%20%20%0A%20%20%20%20%0A%20%20%20%20%20%20%20%20%20%20%20%20var%20circle_marker_35d55f1d556045ce9f78a580ee05e75b%20%3D%20L.circleMarker%28%0A%20%20%20%20%20%20%20%20%20%20%20%20%20%20%20%20%5B43.6889054%2C%20-79.5547244%5D%2C%0A%20%20%20%20%20%20%20%20%20%20%20%20%20%20%20%20%7B%22bubblingMouseEvents%22%3A%20true%2C%20%22color%22%3A%20%22blue%22%2C%20%22dashArray%22%3A%20null%2C%20%22dashOffset%22%3A%20null%2C%20%22fill%22%3A%20true%2C%20%22fillColor%22%3A%20%22%233186cc%22%2C%20%22fillOpacity%22%3A%200.7%2C%20%22fillRule%22%3A%20%22evenodd%22%2C%20%22lineCap%22%3A%20%22round%22%2C%20%22lineJoin%22%3A%20%22round%22%2C%20%22opacity%22%3A%201.0%2C%20%22radius%22%3A%205%2C%20%22stroke%22%3A%20true%2C%20%22weight%22%3A%203%7D%0A%20%20%20%20%20%20%20%20%20%20%20%20%29.addTo%28map_b739a702408f4cecbcc7a66b15e3b8e4%29%3B%0A%20%20%20%20%20%20%20%20%0A%20%20%20%20%0A%20%20%20%20%20%20%20%20var%20popup_dce4345dc5884c1ebd441c03a639ee68%20%3D%20L.popup%28%7B%22maxWidth%22%3A%20%22100%25%22%7D%29%3B%0A%0A%20%20%20%20%20%20%20%20%0A%20%20%20%20%20%20%20%20%20%20%20%20var%20html_cc536bec0d4146d194c750ce39c2e222%20%3D%20%24%28%60%3Cdiv%20id%3D%22html_cc536bec0d4146d194c750ce39c2e222%22%20style%3D%22width%3A%20100.0%25%3B%20height%3A%20100.0%25%3B%22%3EKingsview%20Village%2C%20St.%20Phillips%2C%20Martin%20Grove%20Gardens%2C%20Richview%20Gardens%2C%20Etobicoke%3C/div%3E%60%29%5B0%5D%3B%0A%20%20%20%20%20%20%20%20%20%20%20%20popup_dce4345dc5884c1ebd441c03a639ee68.setContent%28html_cc536bec0d4146d194c750ce39c2e222%29%3B%0A%20%20%20%20%20%20%20%20%0A%0A%20%20%20%20%20%20%20%20circle_marker_35d55f1d556045ce9f78a580ee05e75b.bindPopup%28popup_dce4345dc5884c1ebd441c03a639ee68%29%0A%20%20%20%20%20%20%20%20%3B%0A%0A%20%20%20%20%20%20%20%20%0A%20%20%20%20%0A%20%20%20%20%0A%20%20%20%20%20%20%20%20%20%20%20%20var%20circle_marker_fd0252b19d9d422a89bfbbfbc91eac28%20%3D%20L.circleMarker%28%0A%20%20%20%20%20%20%20%20%20%20%20%20%20%20%20%20%5B43.7942003%2C%20-79.2620294%5D%2C%0A%20%20%20%20%20%20%20%20%20%20%20%20%20%20%20%20%7B%22bubblingMouseEvents%22%3A%20true%2C%20%22color%22%3A%20%22blue%22%2C%20%22dashArray%22%3A%20null%2C%20%22dashOffset%22%3A%20null%2C%20%22fill%22%3A%20true%2C%20%22fillColor%22%3A%20%22%233186cc%22%2C%20%22fillOpacity%22%3A%200.7%2C%20%22fillRule%22%3A%20%22evenodd%22%2C%20%22lineCap%22%3A%20%22round%22%2C%20%22lineJoin%22%3A%20%22round%22%2C%20%22opacity%22%3A%201.0%2C%20%22radius%22%3A%205%2C%20%22stroke%22%3A%20true%2C%20%22weight%22%3A%203%7D%0A%20%20%20%20%20%20%20%20%20%20%20%20%29.addTo%28map_b739a702408f4cecbcc7a66b15e3b8e4%29%3B%0A%20%20%20%20%20%20%20%20%0A%20%20%20%20%0A%20%20%20%20%20%20%20%20var%20popup_8a1e337422fb4635abbf3b82bf8b5675%20%3D%20L.popup%28%7B%22maxWidth%22%3A%20%22100%25%22%7D%29%3B%0A%0A%20%20%20%20%20%20%20%20%0A%20%20%20%20%20%20%20%20%20%20%20%20var%20html_c6e8f8f23b604edf9a7a07d99e726d3f%20%3D%20%24%28%60%3Cdiv%20id%3D%22html_c6e8f8f23b604edf9a7a07d99e726d3f%22%20style%3D%22width%3A%20100.0%25%3B%20height%3A%20100.0%25%3B%22%3EAgincourt%2C%20Scarborough%3C/div%3E%60%29%5B0%5D%3B%0A%20%20%20%20%20%20%20%20%20%20%20%20popup_8a1e337422fb4635abbf3b82bf8b5675.setContent%28html_c6e8f8f23b604edf9a7a07d99e726d3f%29%3B%0A%20%20%20%20%20%20%20%20%0A%0A%20%20%20%20%20%20%20%20circle_marker_fd0252b19d9d422a89bfbbfbc91eac28.bindPopup%28popup_8a1e337422fb4635abbf3b82bf8b5675%29%0A%20%20%20%20%20%20%20%20%3B%0A%0A%20%20%20%20%20%20%20%20%0A%20%20%20%20%0A%20%20%20%20%0A%20%20%20%20%20%20%20%20%20%20%20%20var%20circle_marker_801f698837dd432ab5b0afc37131b005%20%3D%20L.circleMarker%28%0A%20%20%20%20%20%20%20%20%20%20%20%20%20%20%20%20%5B43.7043244%2C%20-79.3887901%5D%2C%0A%20%20%20%20%20%20%20%20%20%20%20%20%20%20%20%20%7B%22bubblingMouseEvents%22%3A%20true%2C%20%22color%22%3A%20%22blue%22%2C%20%22dashArray%22%3A%20null%2C%20%22dashOffset%22%3A%20null%2C%20%22fill%22%3A%20true%2C%20%22fillColor%22%3A%20%22%233186cc%22%2C%20%22fillOpacity%22%3A%200.7%2C%20%22fillRule%22%3A%20%22evenodd%22%2C%20%22lineCap%22%3A%20%22round%22%2C%20%22lineJoin%22%3A%20%22round%22%2C%20%22opacity%22%3A%201.0%2C%20%22radius%22%3A%205%2C%20%22stroke%22%3A%20true%2C%20%22weight%22%3A%203%7D%0A%20%20%20%20%20%20%20%20%20%20%20%20%29.addTo%28map_b739a702408f4cecbcc7a66b15e3b8e4%29%3B%0A%20%20%20%20%20%20%20%20%0A%20%20%20%20%0A%20%20%20%20%20%20%20%20var%20popup_7dd3a6f3fba843de8ba2b4ca1d9a7265%20%3D%20L.popup%28%7B%22maxWidth%22%3A%20%22100%25%22%7D%29%3B%0A%0A%20%20%20%20%20%20%20%20%0A%20%20%20%20%20%20%20%20%20%20%20%20var%20html_f972c5ee2dd4407fa5d3e615bdfa184b%20%3D%20%24%28%60%3Cdiv%20id%3D%22html_f972c5ee2dd4407fa5d3e615bdfa184b%22%20style%3D%22width%3A%20100.0%25%3B%20height%3A%20100.0%25%3B%22%3EDavisville%2C%20Central%20Toronto%3C/div%3E%60%29%5B0%5D%3B%0A%20%20%20%20%20%20%20%20%20%20%20%20popup_7dd3a6f3fba843de8ba2b4ca1d9a7265.setContent%28html_f972c5ee2dd4407fa5d3e615bdfa184b%29%3B%0A%20%20%20%20%20%20%20%20%0A%0A%20%20%20%20%20%20%20%20circle_marker_801f698837dd432ab5b0afc37131b005.bindPopup%28popup_7dd3a6f3fba843de8ba2b4ca1d9a7265%29%0A%20%20%20%20%20%20%20%20%3B%0A%0A%20%20%20%20%20%20%20%20%0A%20%20%20%20%0A%20%20%20%20%0A%20%20%20%20%20%20%20%20%20%20%20%20var%20circle_marker_4133e079aba045308bf7e0aaf70fc4fc%20%3D%20L.circleMarker%28%0A%20%20%20%20%20%20%20%20%20%20%20%20%20%20%20%20%5B43.6626956%2C%20-79.4000493%5D%2C%0A%20%20%20%20%20%20%20%20%20%20%20%20%20%20%20%20%7B%22bubblingMouseEvents%22%3A%20true%2C%20%22color%22%3A%20%22blue%22%2C%20%22dashArray%22%3A%20null%2C%20%22dashOffset%22%3A%20null%2C%20%22fill%22%3A%20true%2C%20%22fillColor%22%3A%20%22%233186cc%22%2C%20%22fillOpacity%22%3A%200.7%2C%20%22fillRule%22%3A%20%22evenodd%22%2C%20%22lineCap%22%3A%20%22round%22%2C%20%22lineJoin%22%3A%20%22round%22%2C%20%22opacity%22%3A%201.0%2C%20%22radius%22%3A%205%2C%20%22stroke%22%3A%20true%2C%20%22weight%22%3A%203%7D%0A%20%20%20%20%20%20%20%20%20%20%20%20%29.addTo%28map_b739a702408f4cecbcc7a66b15e3b8e4%29%3B%0A%20%20%20%20%20%20%20%20%0A%20%20%20%20%0A%20%20%20%20%20%20%20%20var%20popup_9cb577a844c54558bb7ed2c6113dece7%20%3D%20L.popup%28%7B%22maxWidth%22%3A%20%22100%25%22%7D%29%3B%0A%0A%20%20%20%20%20%20%20%20%0A%20%20%20%20%20%20%20%20%20%20%20%20var%20html_2056a19bfe204cd9b56304deee7aa99b%20%3D%20%24%28%60%3Cdiv%20id%3D%22html_2056a19bfe204cd9b56304deee7aa99b%22%20style%3D%22width%3A%20100.0%25%3B%20height%3A%20100.0%25%3B%22%3EUniversity%20of%20Toronto%2C%20Harbord%2C%20Downtown%20Toronto%3C/div%3E%60%29%5B0%5D%3B%0A%20%20%20%20%20%20%20%20%20%20%20%20popup_9cb577a844c54558bb7ed2c6113dece7.setContent%28html_2056a19bfe204cd9b56304deee7aa99b%29%3B%0A%20%20%20%20%20%20%20%20%0A%0A%20%20%20%20%20%20%20%20circle_marker_4133e079aba045308bf7e0aaf70fc4fc.bindPopup%28popup_9cb577a844c54558bb7ed2c6113dece7%29%0A%20%20%20%20%20%20%20%20%3B%0A%0A%20%20%20%20%20%20%20%20%0A%20%20%20%20%0A%20%20%20%20%0A%20%20%20%20%20%20%20%20%20%20%20%20var%20circle_marker_9e3ee8cb89a141808eabd7837d58c655%20%3D%20L.circleMarker%28%0A%20%20%20%20%20%20%20%20%20%20%20%20%20%20%20%20%5B43.6515706%2C%20-79.4844499%5D%2C%0A%20%20%20%20%20%20%20%20%20%20%20%20%20%20%20%20%7B%22bubblingMouseEvents%22%3A%20true%2C%20%22color%22%3A%20%22blue%22%2C%20%22dashArray%22%3A%20null%2C%20%22dashOffset%22%3A%20null%2C%20%22fill%22%3A%20true%2C%20%22fillColor%22%3A%20%22%233186cc%22%2C%20%22fillOpacity%22%3A%200.7%2C%20%22fillRule%22%3A%20%22evenodd%22%2C%20%22lineCap%22%3A%20%22round%22%2C%20%22lineJoin%22%3A%20%22round%22%2C%20%22opacity%22%3A%201.0%2C%20%22radius%22%3A%205%2C%20%22stroke%22%3A%20true%2C%20%22weight%22%3A%203%7D%0A%20%20%20%20%20%20%20%20%20%20%20%20%29.addTo%28map_b739a702408f4cecbcc7a66b15e3b8e4%29%3B%0A%20%20%20%20%20%20%20%20%0A%20%20%20%20%0A%20%20%20%20%20%20%20%20var%20popup_bc2600df9b2c430fa7ef5aa2e719f1f1%20%3D%20L.popup%28%7B%22maxWidth%22%3A%20%22100%25%22%7D%29%3B%0A%0A%20%20%20%20%20%20%20%20%0A%20%20%20%20%20%20%20%20%20%20%20%20var%20html_b6b423d910ea45258b9cfd8dab4c8dae%20%3D%20%24%28%60%3Cdiv%20id%3D%22html_b6b423d910ea45258b9cfd8dab4c8dae%22%20style%3D%22width%3A%20100.0%25%3B%20height%3A%20100.0%25%3B%22%3ERunnymede%2C%20Swansea%2C%20West%20Toronto%3C/div%3E%60%29%5B0%5D%3B%0A%20%20%20%20%20%20%20%20%20%20%20%20popup_bc2600df9b2c430fa7ef5aa2e719f1f1.setContent%28html_b6b423d910ea45258b9cfd8dab4c8dae%29%3B%0A%20%20%20%20%20%20%20%20%0A%0A%20%20%20%20%20%20%20%20circle_marker_9e3ee8cb89a141808eabd7837d58c655.bindPopup%28popup_bc2600df9b2c430fa7ef5aa2e719f1f1%29%0A%20%20%20%20%20%20%20%20%3B%0A%0A%20%20%20%20%20%20%20%20%0A%20%20%20%20%0A%20%20%20%20%0A%20%20%20%20%20%20%20%20%20%20%20%20var%20circle_marker_1de763b700e24e69a5de1d16fdb85928%20%3D%20L.circleMarker%28%0A%20%20%20%20%20%20%20%20%20%20%20%20%20%20%20%20%5B43.7816375%2C%20-79.3043021%5D%2C%0A%20%20%20%20%20%20%20%20%20%20%20%20%20%20%20%20%7B%22bubblingMouseEvents%22%3A%20true%2C%20%22color%22%3A%20%22blue%22%2C%20%22dashArray%22%3A%20null%2C%20%22dashOffset%22%3A%20null%2C%20%22fill%22%3A%20true%2C%20%22fillColor%22%3A%20%22%233186cc%22%2C%20%22fillOpacity%22%3A%200.7%2C%20%22fillRule%22%3A%20%22evenodd%22%2C%20%22lineCap%22%3A%20%22round%22%2C%20%22lineJoin%22%3A%20%22round%22%2C%20%22opacity%22%3A%201.0%2C%20%22radius%22%3A%205%2C%20%22stroke%22%3A%20true%2C%20%22weight%22%3A%203%7D%0A%20%20%20%20%20%20%20%20%20%20%20%20%29.addTo%28map_b739a702408f4cecbcc7a66b15e3b8e4%29%3B%0A%20%20%20%20%20%20%20%20%0A%20%20%20%20%0A%20%20%20%20%20%20%20%20var%20popup_b11bfe369ef64bc9b4cd3580ba141cec%20%3D%20L.popup%28%7B%22maxWidth%22%3A%20%22100%25%22%7D%29%3B%0A%0A%20%20%20%20%20%20%20%20%0A%20%20%20%20%20%20%20%20%20%20%20%20var%20html_573b8a1c4f9d4c0e9483b633ad967ca5%20%3D%20%24%28%60%3Cdiv%20id%3D%22html_573b8a1c4f9d4c0e9483b633ad967ca5%22%20style%3D%22width%3A%20100.0%25%3B%20height%3A%20100.0%25%3B%22%3EClarks%20Corners%2C%20Tam%20O%26%2339%3BShanter%2C%20Sullivan%2C%20Scarborough%3C/div%3E%60%29%5B0%5D%3B%0A%20%20%20%20%20%20%20%20%20%20%20%20popup_b11bfe369ef64bc9b4cd3580ba141cec.setContent%28html_573b8a1c4f9d4c0e9483b633ad967ca5%29%3B%0A%20%20%20%20%20%20%20%20%0A%0A%20%20%20%20%20%20%20%20circle_marker_1de763b700e24e69a5de1d16fdb85928.bindPopup%28popup_b11bfe369ef64bc9b4cd3580ba141cec%29%0A%20%20%20%20%20%20%20%20%3B%0A%0A%20%20%20%20%20%20%20%20%0A%20%20%20%20%0A%20%20%20%20%0A%20%20%20%20%20%20%20%20%20%20%20%20var%20circle_marker_22dc9e45a3c74859901fc787314d422a%20%3D%20L.circleMarker%28%0A%20%20%20%20%20%20%20%20%20%20%20%20%20%20%20%20%5B43.6895743%2C%20-79.3831599%5D%2C%0A%20%20%20%20%20%20%20%20%20%20%20%20%20%20%20%20%7B%22bubblingMouseEvents%22%3A%20true%2C%20%22color%22%3A%20%22blue%22%2C%20%22dashArray%22%3A%20null%2C%20%22dashOffset%22%3A%20null%2C%20%22fill%22%3A%20true%2C%20%22fillColor%22%3A%20%22%233186cc%22%2C%20%22fillOpacity%22%3A%200.7%2C%20%22fillRule%22%3A%20%22evenodd%22%2C%20%22lineCap%22%3A%20%22round%22%2C%20%22lineJoin%22%3A%20%22round%22%2C%20%22opacity%22%3A%201.0%2C%20%22radius%22%3A%205%2C%20%22stroke%22%3A%20true%2C%20%22weight%22%3A%203%7D%0A%20%20%20%20%20%20%20%20%20%20%20%20%29.addTo%28map_b739a702408f4cecbcc7a66b15e3b8e4%29%3B%0A%20%20%20%20%20%20%20%20%0A%20%20%20%20%0A%20%20%20%20%20%20%20%20var%20popup_f695797ac38140478758426d69555e4d%20%3D%20L.popup%28%7B%22maxWidth%22%3A%20%22100%25%22%7D%29%3B%0A%0A%20%20%20%20%20%20%20%20%0A%20%20%20%20%20%20%20%20%20%20%20%20var%20html_6032a9af8ac147d3903555bc53663ff3%20%3D%20%24%28%60%3Cdiv%20id%3D%22html_6032a9af8ac147d3903555bc53663ff3%22%20style%3D%22width%3A%20100.0%25%3B%20height%3A%20100.0%25%3B%22%3EMoore%20Park%2C%20Summerhill%20East%2C%20Central%20Toronto%3C/div%3E%60%29%5B0%5D%3B%0A%20%20%20%20%20%20%20%20%20%20%20%20popup_f695797ac38140478758426d69555e4d.setContent%28html_6032a9af8ac147d3903555bc53663ff3%29%3B%0A%20%20%20%20%20%20%20%20%0A%0A%20%20%20%20%20%20%20%20circle_marker_22dc9e45a3c74859901fc787314d422a.bindPopup%28popup_f695797ac38140478758426d69555e4d%29%0A%20%20%20%20%20%20%20%20%3B%0A%0A%20%20%20%20%20%20%20%20%0A%20%20%20%20%0A%20%20%20%20%0A%20%20%20%20%20%20%20%20%20%20%20%20var%20circle_marker_0bcb4eb4355a494fb91f30fb100eb273%20%3D%20L.circleMarker%28%0A%20%20%20%20%20%20%20%20%20%20%20%20%20%20%20%20%5B43.6532057%2C%20-79.4000493%5D%2C%0A%20%20%20%20%20%20%20%20%20%20%20%20%20%20%20%20%7B%22bubblingMouseEvents%22%3A%20true%2C%20%22color%22%3A%20%22blue%22%2C%20%22dashArray%22%3A%20null%2C%20%22dashOffset%22%3A%20null%2C%20%22fill%22%3A%20true%2C%20%22fillColor%22%3A%20%22%233186cc%22%2C%20%22fillOpacity%22%3A%200.7%2C%20%22fillRule%22%3A%20%22evenodd%22%2C%20%22lineCap%22%3A%20%22round%22%2C%20%22lineJoin%22%3A%20%22round%22%2C%20%22opacity%22%3A%201.0%2C%20%22radius%22%3A%205%2C%20%22stroke%22%3A%20true%2C%20%22weight%22%3A%203%7D%0A%20%20%20%20%20%20%20%20%20%20%20%20%29.addTo%28map_b739a702408f4cecbcc7a66b15e3b8e4%29%3B%0A%20%20%20%20%20%20%20%20%0A%20%20%20%20%0A%20%20%20%20%20%20%20%20var%20popup_617810b2ef5c41c4abdc77c2abca9308%20%3D%20L.popup%28%7B%22maxWidth%22%3A%20%22100%25%22%7D%29%3B%0A%0A%20%20%20%20%20%20%20%20%0A%20%20%20%20%20%20%20%20%20%20%20%20var%20html_aa5e3ef304114eb5a27831adb35fa9af%20%3D%20%24%28%60%3Cdiv%20id%3D%22html_aa5e3ef304114eb5a27831adb35fa9af%22%20style%3D%22width%3A%20100.0%25%3B%20height%3A%20100.0%25%3B%22%3EKensington%20Market%2C%20Chinatown%2C%20Grange%20Park%2C%20Downtown%20Toronto%3C/div%3E%60%29%5B0%5D%3B%0A%20%20%20%20%20%20%20%20%20%20%20%20popup_617810b2ef5c41c4abdc77c2abca9308.setContent%28html_aa5e3ef304114eb5a27831adb35fa9af%29%3B%0A%20%20%20%20%20%20%20%20%0A%0A%20%20%20%20%20%20%20%20circle_marker_0bcb4eb4355a494fb91f30fb100eb273.bindPopup%28popup_617810b2ef5c41c4abdc77c2abca9308%29%0A%20%20%20%20%20%20%20%20%3B%0A%0A%20%20%20%20%20%20%20%20%0A%20%20%20%20%0A%20%20%20%20%0A%20%20%20%20%20%20%20%20%20%20%20%20var%20circle_marker_1b3b79a5969442b183c4c156c7810d68%20%3D%20L.circleMarker%28%0A%20%20%20%20%20%20%20%20%20%20%20%20%20%20%20%20%5B43.8152522%2C%20-79.2845772%5D%2C%0A%20%20%20%20%20%20%20%20%20%20%20%20%20%20%20%20%7B%22bubblingMouseEvents%22%3A%20true%2C%20%22color%22%3A%20%22blue%22%2C%20%22dashArray%22%3A%20null%2C%20%22dashOffset%22%3A%20null%2C%20%22fill%22%3A%20true%2C%20%22fillColor%22%3A%20%22%233186cc%22%2C%20%22fillOpacity%22%3A%200.7%2C%20%22fillRule%22%3A%20%22evenodd%22%2C%20%22lineCap%22%3A%20%22round%22%2C%20%22lineJoin%22%3A%20%22round%22%2C%20%22opacity%22%3A%201.0%2C%20%22radius%22%3A%205%2C%20%22stroke%22%3A%20true%2C%20%22weight%22%3A%203%7D%0A%20%20%20%20%20%20%20%20%20%20%20%20%29.addTo%28map_b739a702408f4cecbcc7a66b15e3b8e4%29%3B%0A%20%20%20%20%20%20%20%20%0A%20%20%20%20%0A%20%20%20%20%20%20%20%20var%20popup_5ce4dd29d59045e4acc30b10adb8a827%20%3D%20L.popup%28%7B%22maxWidth%22%3A%20%22100%25%22%7D%29%3B%0A%0A%20%20%20%20%20%20%20%20%0A%20%20%20%20%20%20%20%20%20%20%20%20var%20html_4bc353357119457f85c3c352fb13311f%20%3D%20%24%28%60%3Cdiv%20id%3D%22html_4bc353357119457f85c3c352fb13311f%22%20style%3D%22width%3A%20100.0%25%3B%20height%3A%20100.0%25%3B%22%3EMilliken%2C%20Agincourt%20North%2C%20Steeles%20East%2C%20L%26%2339%3BAmoreaux%20East%2C%20Scarborough%3C/div%3E%60%29%5B0%5D%3B%0A%20%20%20%20%20%20%20%20%20%20%20%20popup_5ce4dd29d59045e4acc30b10adb8a827.setContent%28html_4bc353357119457f85c3c352fb13311f%29%3B%0A%20%20%20%20%20%20%20%20%0A%0A%20%20%20%20%20%20%20%20circle_marker_1b3b79a5969442b183c4c156c7810d68.bindPopup%28popup_5ce4dd29d59045e4acc30b10adb8a827%29%0A%20%20%20%20%20%20%20%20%3B%0A%0A%20%20%20%20%20%20%20%20%0A%20%20%20%20%0A%20%20%20%20%0A%20%20%20%20%20%20%20%20%20%20%20%20var%20circle_marker_77e5b1e5835240178db5cdbc210840b0%20%3D%20L.circleMarker%28%0A%20%20%20%20%20%20%20%20%20%20%20%20%20%20%20%20%5B43.6864123%2C%20-79.4000493%5D%2C%0A%20%20%20%20%20%20%20%20%20%20%20%20%20%20%20%20%7B%22bubblingMouseEvents%22%3A%20true%2C%20%22color%22%3A%20%22blue%22%2C%20%22dashArray%22%3A%20null%2C%20%22dashOffset%22%3A%20null%2C%20%22fill%22%3A%20true%2C%20%22fillColor%22%3A%20%22%233186cc%22%2C%20%22fillOpacity%22%3A%200.7%2C%20%22fillRule%22%3A%20%22evenodd%22%2C%20%22lineCap%22%3A%20%22round%22%2C%20%22lineJoin%22%3A%20%22round%22%2C%20%22opacity%22%3A%201.0%2C%20%22radius%22%3A%205%2C%20%22stroke%22%3A%20true%2C%20%22weight%22%3A%203%7D%0A%20%20%20%20%20%20%20%20%20%20%20%20%29.addTo%28map_b739a702408f4cecbcc7a66b15e3b8e4%29%3B%0A%20%20%20%20%20%20%20%20%0A%20%20%20%20%0A%20%20%20%20%20%20%20%20var%20popup_fba31be981104eb0857cbb083bb647a0%20%3D%20L.popup%28%7B%22maxWidth%22%3A%20%22100%25%22%7D%29%3B%0A%0A%20%20%20%20%20%20%20%20%0A%20%20%20%20%20%20%20%20%20%20%20%20var%20html_9ede19d4f43c4bc5af1d6b24ef16ce88%20%3D%20%24%28%60%3Cdiv%20id%3D%22html_9ede19d4f43c4bc5af1d6b24ef16ce88%22%20style%3D%22width%3A%20100.0%25%3B%20height%3A%20100.0%25%3B%22%3ESummerhill%20West%2C%20Rathnelly%2C%20South%20Hill%2C%20Forest%20Hill%20SE%2C%20Deer%20Park%2C%20Central%20Toronto%3C/div%3E%60%29%5B0%5D%3B%0A%20%20%20%20%20%20%20%20%20%20%20%20popup_fba31be981104eb0857cbb083bb647a0.setContent%28html_9ede19d4f43c4bc5af1d6b24ef16ce88%29%3B%0A%20%20%20%20%20%20%20%20%0A%0A%20%20%20%20%20%20%20%20circle_marker_77e5b1e5835240178db5cdbc210840b0.bindPopup%28popup_fba31be981104eb0857cbb083bb647a0%29%0A%20%20%20%20%20%20%20%20%3B%0A%0A%20%20%20%20%20%20%20%20%0A%20%20%20%20%0A%20%20%20%20%0A%20%20%20%20%20%20%20%20%20%20%20%20var%20circle_marker_656ae2226f0d4d0b81d026a6305289cb%20%3D%20L.circleMarker%28%0A%20%20%20%20%20%20%20%20%20%20%20%20%20%20%20%20%5B43.6289467%2C%20-79.3944199%5D%2C%0A%20%20%20%20%20%20%20%20%20%20%20%20%20%20%20%20%7B%22bubblingMouseEvents%22%3A%20true%2C%20%22color%22%3A%20%22blue%22%2C%20%22dashArray%22%3A%20null%2C%20%22dashOffset%22%3A%20null%2C%20%22fill%22%3A%20true%2C%20%22fillColor%22%3A%20%22%233186cc%22%2C%20%22fillOpacity%22%3A%200.7%2C%20%22fillRule%22%3A%20%22evenodd%22%2C%20%22lineCap%22%3A%20%22round%22%2C%20%22lineJoin%22%3A%20%22round%22%2C%20%22opacity%22%3A%201.0%2C%20%22radius%22%3A%205%2C%20%22stroke%22%3A%20true%2C%20%22weight%22%3A%203%7D%0A%20%20%20%20%20%20%20%20%20%20%20%20%29.addTo%28map_b739a702408f4cecbcc7a66b15e3b8e4%29%3B%0A%20%20%20%20%20%20%20%20%0A%20%20%20%20%0A%20%20%20%20%20%20%20%20var%20popup_811f3e82a07b4cffb6d6fb2313f32e9b%20%3D%20L.popup%28%7B%22maxWidth%22%3A%20%22100%25%22%7D%29%3B%0A%0A%20%20%20%20%20%20%20%20%0A%20%20%20%20%20%20%20%20%20%20%20%20var%20html_e8f9632197fe41db89d7f24fbb3f2276%20%3D%20%24%28%60%3Cdiv%20id%3D%22html_e8f9632197fe41db89d7f24fbb3f2276%22%20style%3D%22width%3A%20100.0%25%3B%20height%3A%20100.0%25%3B%22%3ECN%20Tower%2C%20King%20and%20Spadina%2C%20Railway%20Lands%2C%20Harbourfront%20West%2C%20Bathurst%20Quay%2C%20South%20Niagara%2C%20Island%20airport%2C%20Downtown%20Toronto%3C/div%3E%60%29%5B0%5D%3B%0A%20%20%20%20%20%20%20%20%20%20%20%20popup_811f3e82a07b4cffb6d6fb2313f32e9b.setContent%28html_e8f9632197fe41db89d7f24fbb3f2276%29%3B%0A%20%20%20%20%20%20%20%20%0A%0A%20%20%20%20%20%20%20%20circle_marker_656ae2226f0d4d0b81d026a6305289cb.bindPopup%28popup_811f3e82a07b4cffb6d6fb2313f32e9b%29%0A%20%20%20%20%20%20%20%20%3B%0A%0A%20%20%20%20%20%20%20%20%0A%20%20%20%20%0A%20%20%20%20%0A%20%20%20%20%20%20%20%20%20%20%20%20var%20circle_marker_434facfbf68f4c03845b4262d5de3637%20%3D%20L.circleMarker%28%0A%20%20%20%20%20%20%20%20%20%20%20%20%20%20%20%20%5B43.6056466%2C%20-79.5013207%5D%2C%0A%20%20%20%20%20%20%20%20%20%20%20%20%20%20%20%20%7B%22bubblingMouseEvents%22%3A%20true%2C%20%22color%22%3A%20%22blue%22%2C%20%22dashArray%22%3A%20null%2C%20%22dashOffset%22%3A%20null%2C%20%22fill%22%3A%20true%2C%20%22fillColor%22%3A%20%22%233186cc%22%2C%20%22fillOpacity%22%3A%200.7%2C%20%22fillRule%22%3A%20%22evenodd%22%2C%20%22lineCap%22%3A%20%22round%22%2C%20%22lineJoin%22%3A%20%22round%22%2C%20%22opacity%22%3A%201.0%2C%20%22radius%22%3A%205%2C%20%22stroke%22%3A%20true%2C%20%22weight%22%3A%203%7D%0A%20%20%20%20%20%20%20%20%20%20%20%20%29.addTo%28map_b739a702408f4cecbcc7a66b15e3b8e4%29%3B%0A%20%20%20%20%20%20%20%20%0A%20%20%20%20%0A%20%20%20%20%20%20%20%20var%20popup_d5ccf97d51a6408789cd836e90a8ed29%20%3D%20L.popup%28%7B%22maxWidth%22%3A%20%22100%25%22%7D%29%3B%0A%0A%20%20%20%20%20%20%20%20%0A%20%20%20%20%20%20%20%20%20%20%20%20var%20html_ffcaed8322ac4f5d9bf64c21d972e02e%20%3D%20%24%28%60%3Cdiv%20id%3D%22html_ffcaed8322ac4f5d9bf64c21d972e02e%22%20style%3D%22width%3A%20100.0%25%3B%20height%3A%20100.0%25%3B%22%3ENew%20Toronto%2C%20Mimico%20South%2C%20Humber%20Bay%20Shores%2C%20Etobicoke%3C/div%3E%60%29%5B0%5D%3B%0A%20%20%20%20%20%20%20%20%20%20%20%20popup_d5ccf97d51a6408789cd836e90a8ed29.setContent%28html_ffcaed8322ac4f5d9bf64c21d972e02e%29%3B%0A%20%20%20%20%20%20%20%20%0A%0A%20%20%20%20%20%20%20%20circle_marker_434facfbf68f4c03845b4262d5de3637.bindPopup%28popup_d5ccf97d51a6408789cd836e90a8ed29%29%0A%20%20%20%20%20%20%20%20%3B%0A%0A%20%20%20%20%20%20%20%20%0A%20%20%20%20%0A%20%20%20%20%0A%20%20%20%20%20%20%20%20%20%20%20%20var%20circle_marker_1d393c24ff874dc39b7f0b8a6ba4b46f%20%3D%20L.circleMarker%28%0A%20%20%20%20%20%20%20%20%20%20%20%20%20%20%20%20%5B43.7394164%2C%20-79.5884369%5D%2C%0A%20%20%20%20%20%20%20%20%20%20%20%20%20%20%20%20%7B%22bubblingMouseEvents%22%3A%20true%2C%20%22color%22%3A%20%22blue%22%2C%20%22dashArray%22%3A%20null%2C%20%22dashOffset%22%3A%20null%2C%20%22fill%22%3A%20true%2C%20%22fillColor%22%3A%20%22%233186cc%22%2C%20%22fillOpacity%22%3A%200.7%2C%20%22fillRule%22%3A%20%22evenodd%22%2C%20%22lineCap%22%3A%20%22round%22%2C%20%22lineJoin%22%3A%20%22round%22%2C%20%22opacity%22%3A%201.0%2C%20%22radius%22%3A%205%2C%20%22stroke%22%3A%20true%2C%20%22weight%22%3A%203%7D%0A%20%20%20%20%20%20%20%20%20%20%20%20%29.addTo%28map_b739a702408f4cecbcc7a66b15e3b8e4%29%3B%0A%20%20%20%20%20%20%20%20%0A%20%20%20%20%0A%20%20%20%20%20%20%20%20var%20popup_02943a84f21a4427bbbdc279ca595d7d%20%3D%20L.popup%28%7B%22maxWidth%22%3A%20%22100%25%22%7D%29%3B%0A%0A%20%20%20%20%20%20%20%20%0A%20%20%20%20%20%20%20%20%20%20%20%20var%20html_ae1cc217d21245d3b21a410df5702680%20%3D%20%24%28%60%3Cdiv%20id%3D%22html_ae1cc217d21245d3b21a410df5702680%22%20style%3D%22width%3A%20100.0%25%3B%20height%3A%20100.0%25%3B%22%3ESouth%20Steeles%2C%20Silverstone%2C%20Humbergate%2C%20Jamestown%2C%20Mount%20Olive%2C%20Beaumond%20Heights%2C%20Thistletown%2C%20Albion%20Gardens%2C%20Etobicoke%3C/div%3E%60%29%5B0%5D%3B%0A%20%20%20%20%20%20%20%20%20%20%20%20popup_02943a84f21a4427bbbdc279ca595d7d.setContent%28html_ae1cc217d21245d3b21a410df5702680%29%3B%0A%20%20%20%20%20%20%20%20%0A%0A%20%20%20%20%20%20%20%20circle_marker_1d393c24ff874dc39b7f0b8a6ba4b46f.bindPopup%28popup_02943a84f21a4427bbbdc279ca595d7d%29%0A%20%20%20%20%20%20%20%20%3B%0A%0A%20%20%20%20%20%20%20%20%0A%20%20%20%20%0A%20%20%20%20%0A%20%20%20%20%20%20%20%20%20%20%20%20var%20circle_marker_4e963efca8b1417f9fa1aa9e27f7aa20%20%3D%20L.circleMarker%28%0A%20%20%20%20%20%20%20%20%20%20%20%20%20%20%20%20%5B43.7995252%2C%20-79.3183887%5D%2C%0A%20%20%20%20%20%20%20%20%20%20%20%20%20%20%20%20%7B%22bubblingMouseEvents%22%3A%20true%2C%20%22color%22%3A%20%22blue%22%2C%20%22dashArray%22%3A%20null%2C%20%22dashOffset%22%3A%20null%2C%20%22fill%22%3A%20true%2C%20%22fillColor%22%3A%20%22%233186cc%22%2C%20%22fillOpacity%22%3A%200.7%2C%20%22fillRule%22%3A%20%22evenodd%22%2C%20%22lineCap%22%3A%20%22round%22%2C%20%22lineJoin%22%3A%20%22round%22%2C%20%22opacity%22%3A%201.0%2C%20%22radius%22%3A%205%2C%20%22stroke%22%3A%20true%2C%20%22weight%22%3A%203%7D%0A%20%20%20%20%20%20%20%20%20%20%20%20%29.addTo%28map_b739a702408f4cecbcc7a66b15e3b8e4%29%3B%0A%20%20%20%20%20%20%20%20%0A%20%20%20%20%0A%20%20%20%20%20%20%20%20var%20popup_c88363cdd1e6454d96d34141e7c27497%20%3D%20L.popup%28%7B%22maxWidth%22%3A%20%22100%25%22%7D%29%3B%0A%0A%20%20%20%20%20%20%20%20%0A%20%20%20%20%20%20%20%20%20%20%20%20var%20html_f5ba9a40b37d4ebeb3953d7d796b026a%20%3D%20%24%28%60%3Cdiv%20id%3D%22html_f5ba9a40b37d4ebeb3953d7d796b026a%22%20style%3D%22width%3A%20100.0%25%3B%20height%3A%20100.0%25%3B%22%3ESteeles%20West%2C%20L%26%2339%3BAmoreaux%20West%2C%20Scarborough%3C/div%3E%60%29%5B0%5D%3B%0A%20%20%20%20%20%20%20%20%20%20%20%20popup_c88363cdd1e6454d96d34141e7c27497.setContent%28html_f5ba9a40b37d4ebeb3953d7d796b026a%29%3B%0A%20%20%20%20%20%20%20%20%0A%0A%20%20%20%20%20%20%20%20circle_marker_4e963efca8b1417f9fa1aa9e27f7aa20.bindPopup%28popup_c88363cdd1e6454d96d34141e7c27497%29%0A%20%20%20%20%20%20%20%20%3B%0A%0A%20%20%20%20%20%20%20%20%0A%20%20%20%20%0A%20%20%20%20%0A%20%20%20%20%20%20%20%20%20%20%20%20var%20circle_marker_9208f669d5bc4e6a9c77b8bdc1f8cb7a%20%3D%20L.circleMarker%28%0A%20%20%20%20%20%20%20%20%20%20%20%20%20%20%20%20%5B43.6795626%2C%20-79.3775294%5D%2C%0A%20%20%20%20%20%20%20%20%20%20%20%20%20%20%20%20%7B%22bubblingMouseEvents%22%3A%20true%2C%20%22color%22%3A%20%22blue%22%2C%20%22dashArray%22%3A%20null%2C%20%22dashOffset%22%3A%20null%2C%20%22fill%22%3A%20true%2C%20%22fillColor%22%3A%20%22%233186cc%22%2C%20%22fillOpacity%22%3A%200.7%2C%20%22fillRule%22%3A%20%22evenodd%22%2C%20%22lineCap%22%3A%20%22round%22%2C%20%22lineJoin%22%3A%20%22round%22%2C%20%22opacity%22%3A%201.0%2C%20%22radius%22%3A%205%2C%20%22stroke%22%3A%20true%2C%20%22weight%22%3A%203%7D%0A%20%20%20%20%20%20%20%20%20%20%20%20%29.addTo%28map_b739a702408f4cecbcc7a66b15e3b8e4%29%3B%0A%20%20%20%20%20%20%20%20%0A%20%20%20%20%0A%20%20%20%20%20%20%20%20var%20popup_e64bc81f5a734f0e9fe27ce49931f80e%20%3D%20L.popup%28%7B%22maxWidth%22%3A%20%22100%25%22%7D%29%3B%0A%0A%20%20%20%20%20%20%20%20%0A%20%20%20%20%20%20%20%20%20%20%20%20var%20html_348e973674d64090b18b36b8fc961fb0%20%3D%20%24%28%60%3Cdiv%20id%3D%22html_348e973674d64090b18b36b8fc961fb0%22%20style%3D%22width%3A%20100.0%25%3B%20height%3A%20100.0%25%3B%22%3ERosedale%2C%20Downtown%20Toronto%3C/div%3E%60%29%5B0%5D%3B%0A%20%20%20%20%20%20%20%20%20%20%20%20popup_e64bc81f5a734f0e9fe27ce49931f80e.setContent%28html_348e973674d64090b18b36b8fc961fb0%29%3B%0A%20%20%20%20%20%20%20%20%0A%0A%20%20%20%20%20%20%20%20circle_marker_9208f669d5bc4e6a9c77b8bdc1f8cb7a.bindPopup%28popup_e64bc81f5a734f0e9fe27ce49931f80e%29%0A%20%20%20%20%20%20%20%20%3B%0A%0A%20%20%20%20%20%20%20%20%0A%20%20%20%20%0A%20%20%20%20%0A%20%20%20%20%20%20%20%20%20%20%20%20var%20circle_marker_e113398f75a04f28a8d13429f5a63030%20%3D%20L.circleMarker%28%0A%20%20%20%20%20%20%20%20%20%20%20%20%20%20%20%20%5B43.6464352%2C%20-79.374846%5D%2C%0A%20%20%20%20%20%20%20%20%20%20%20%20%20%20%20%20%7B%22bubblingMouseEvents%22%3A%20true%2C%20%22color%22%3A%20%22blue%22%2C%20%22dashArray%22%3A%20null%2C%20%22dashOffset%22%3A%20null%2C%20%22fill%22%3A%20true%2C%20%22fillColor%22%3A%20%22%233186cc%22%2C%20%22fillOpacity%22%3A%200.7%2C%20%22fillRule%22%3A%20%22evenodd%22%2C%20%22lineCap%22%3A%20%22round%22%2C%20%22lineJoin%22%3A%20%22round%22%2C%20%22opacity%22%3A%201.0%2C%20%22radius%22%3A%205%2C%20%22stroke%22%3A%20true%2C%20%22weight%22%3A%203%7D%0A%20%20%20%20%20%20%20%20%20%20%20%20%29.addTo%28map_b739a702408f4cecbcc7a66b15e3b8e4%29%3B%0A%20%20%20%20%20%20%20%20%0A%20%20%20%20%0A%20%20%20%20%20%20%20%20var%20popup_bff144a225db450ab12f1165965ae029%20%3D%20L.popup%28%7B%22maxWidth%22%3A%20%22100%25%22%7D%29%3B%0A%0A%20%20%20%20%20%20%20%20%0A%20%20%20%20%20%20%20%20%20%20%20%20var%20html_c111889316c3433898d4ec0703d3f9da%20%3D%20%24%28%60%3Cdiv%20id%3D%22html_c111889316c3433898d4ec0703d3f9da%22%20style%3D%22width%3A%20100.0%25%3B%20height%3A%20100.0%25%3B%22%3EEnclave%20of%20M5E%2C%20Downtown%20TorontoStn%20A%20PO%20Boxes25%20The%20Esplanade%3C/div%3E%60%29%5B0%5D%3B%0A%20%20%20%20%20%20%20%20%20%20%20%20popup_bff144a225db450ab12f1165965ae029.setContent%28html_c111889316c3433898d4ec0703d3f9da%29%3B%0A%20%20%20%20%20%20%20%20%0A%0A%20%20%20%20%20%20%20%20circle_marker_e113398f75a04f28a8d13429f5a63030.bindPopup%28popup_bff144a225db450ab12f1165965ae029%29%0A%20%20%20%20%20%20%20%20%3B%0A%0A%20%20%20%20%20%20%20%20%0A%20%20%20%20%0A%20%20%20%20%0A%20%20%20%20%20%20%20%20%20%20%20%20var%20circle_marker_73d4cb2fa33a4b88a50e2e86615386ae%20%3D%20L.circleMarker%28%0A%20%20%20%20%20%20%20%20%20%20%20%20%20%20%20%20%5B43.6024137%2C%20-79.5434841%5D%2C%0A%20%20%20%20%20%20%20%20%20%20%20%20%20%20%20%20%7B%22bubblingMouseEvents%22%3A%20true%2C%20%22color%22%3A%20%22blue%22%2C%20%22dashArray%22%3A%20null%2C%20%22dashOffset%22%3A%20null%2C%20%22fill%22%3A%20true%2C%20%22fillColor%22%3A%20%22%233186cc%22%2C%20%22fillOpacity%22%3A%200.7%2C%20%22fillRule%22%3A%20%22evenodd%22%2C%20%22lineCap%22%3A%20%22round%22%2C%20%22lineJoin%22%3A%20%22round%22%2C%20%22opacity%22%3A%201.0%2C%20%22radius%22%3A%205%2C%20%22stroke%22%3A%20true%2C%20%22weight%22%3A%203%7D%0A%20%20%20%20%20%20%20%20%20%20%20%20%29.addTo%28map_b739a702408f4cecbcc7a66b15e3b8e4%29%3B%0A%20%20%20%20%20%20%20%20%0A%20%20%20%20%0A%20%20%20%20%20%20%20%20var%20popup_7919a6d9556b498bb929715946077e54%20%3D%20L.popup%28%7B%22maxWidth%22%3A%20%22100%25%22%7D%29%3B%0A%0A%20%20%20%20%20%20%20%20%0A%20%20%20%20%20%20%20%20%20%20%20%20var%20html_7ff13b76ca1943d69c097a6610f01d74%20%3D%20%24%28%60%3Cdiv%20id%3D%22html_7ff13b76ca1943d69c097a6610f01d74%22%20style%3D%22width%3A%20100.0%25%3B%20height%3A%20100.0%25%3B%22%3EAlderwood%2C%20Long%20Branch%2C%20Etobicoke%3C/div%3E%60%29%5B0%5D%3B%0A%20%20%20%20%20%20%20%20%20%20%20%20popup_7919a6d9556b498bb929715946077e54.setContent%28html_7ff13b76ca1943d69c097a6610f01d74%29%3B%0A%20%20%20%20%20%20%20%20%0A%0A%20%20%20%20%20%20%20%20circle_marker_73d4cb2fa33a4b88a50e2e86615386ae.bindPopup%28popup_7919a6d9556b498bb929715946077e54%29%0A%20%20%20%20%20%20%20%20%3B%0A%0A%20%20%20%20%20%20%20%20%0A%20%20%20%20%0A%20%20%20%20%0A%20%20%20%20%20%20%20%20%20%20%20%20var%20circle_marker_c004f8035ea7480a8352b299ddba4681%20%3D%20L.circleMarker%28%0A%20%20%20%20%20%20%20%20%20%20%20%20%20%20%20%20%5B43.7067483%2C%20-79.5940544%5D%2C%0A%20%20%20%20%20%20%20%20%20%20%20%20%20%20%20%20%7B%22bubblingMouseEvents%22%3A%20true%2C%20%22color%22%3A%20%22blue%22%2C%20%22dashArray%22%3A%20null%2C%20%22dashOffset%22%3A%20null%2C%20%22fill%22%3A%20true%2C%20%22fillColor%22%3A%20%22%233186cc%22%2C%20%22fillOpacity%22%3A%200.7%2C%20%22fillRule%22%3A%20%22evenodd%22%2C%20%22lineCap%22%3A%20%22round%22%2C%20%22lineJoin%22%3A%20%22round%22%2C%20%22opacity%22%3A%201.0%2C%20%22radius%22%3A%205%2C%20%22stroke%22%3A%20true%2C%20%22weight%22%3A%203%7D%0A%20%20%20%20%20%20%20%20%20%20%20%20%29.addTo%28map_b739a702408f4cecbcc7a66b15e3b8e4%29%3B%0A%20%20%20%20%20%20%20%20%0A%20%20%20%20%0A%20%20%20%20%20%20%20%20var%20popup_5dd4b56c71f7478fa288d7f429b6570e%20%3D%20L.popup%28%7B%22maxWidth%22%3A%20%22100%25%22%7D%29%3B%0A%0A%20%20%20%20%20%20%20%20%0A%20%20%20%20%20%20%20%20%20%20%20%20var%20html_d412f8e9aa774d03b14550c84898e550%20%3D%20%24%28%60%3Cdiv%20id%3D%22html_d412f8e9aa774d03b14550c84898e550%22%20style%3D%22width%3A%20100.0%25%3B%20height%3A%20100.0%25%3B%22%3EClairville%2C%20Humberwood%2C%20Woodbine%20Downs%2C%20West%20Humber%2C%20Kipling%20Heights%2C%20Rexdale%2C%20Elms%2C%20Tandridge%2C%20Old%20Rexdale%2C%20EtobicokeNorthwest%3C/div%3E%60%29%5B0%5D%3B%0A%20%20%20%20%20%20%20%20%20%20%20%20popup_5dd4b56c71f7478fa288d7f429b6570e.setContent%28html_d412f8e9aa774d03b14550c84898e550%29%3B%0A%20%20%20%20%20%20%20%20%0A%0A%20%20%20%20%20%20%20%20circle_marker_c004f8035ea7480a8352b299ddba4681.bindPopup%28popup_5dd4b56c71f7478fa288d7f429b6570e%29%0A%20%20%20%20%20%20%20%20%3B%0A%0A%20%20%20%20%20%20%20%20%0A%20%20%20%20%0A%20%20%20%20%0A%20%20%20%20%20%20%20%20%20%20%20%20var%20circle_marker_c192bcec62b5454b98b1381ceb5258ed%20%3D%20L.circleMarker%28%0A%20%20%20%20%20%20%20%20%20%20%20%20%20%20%20%20%5B43.8361247%2C%20-79.2056361%5D%2C%0A%20%20%20%20%20%20%20%20%20%20%20%20%20%20%20%20%7B%22bubblingMouseEvents%22%3A%20true%2C%20%22color%22%3A%20%22blue%22%2C%20%22dashArray%22%3A%20null%2C%20%22dashOffset%22%3A%20null%2C%20%22fill%22%3A%20true%2C%20%22fillColor%22%3A%20%22%233186cc%22%2C%20%22fillOpacity%22%3A%200.7%2C%20%22fillRule%22%3A%20%22evenodd%22%2C%20%22lineCap%22%3A%20%22round%22%2C%20%22lineJoin%22%3A%20%22round%22%2C%20%22opacity%22%3A%201.0%2C%20%22radius%22%3A%205%2C%20%22stroke%22%3A%20true%2C%20%22weight%22%3A%203%7D%0A%20%20%20%20%20%20%20%20%20%20%20%20%29.addTo%28map_b739a702408f4cecbcc7a66b15e3b8e4%29%3B%0A%20%20%20%20%20%20%20%20%0A%20%20%20%20%0A%20%20%20%20%20%20%20%20var%20popup_bfbf6eddaab2422a84c58f1e2a59d496%20%3D%20L.popup%28%7B%22maxWidth%22%3A%20%22100%25%22%7D%29%3B%0A%0A%20%20%20%20%20%20%20%20%0A%20%20%20%20%20%20%20%20%20%20%20%20var%20html_bb0ff54d56ea46aa96f0a17419b2e2a6%20%3D%20%24%28%60%3Cdiv%20id%3D%22html_bb0ff54d56ea46aa96f0a17419b2e2a6%22%20style%3D%22width%3A%20100.0%25%3B%20height%3A%20100.0%25%3B%22%3EUpper%20Rouge%2C%20Scarborough%3C/div%3E%60%29%5B0%5D%3B%0A%20%20%20%20%20%20%20%20%20%20%20%20popup_bfbf6eddaab2422a84c58f1e2a59d496.setContent%28html_bb0ff54d56ea46aa96f0a17419b2e2a6%29%3B%0A%20%20%20%20%20%20%20%20%0A%0A%20%20%20%20%20%20%20%20circle_marker_c192bcec62b5454b98b1381ceb5258ed.bindPopup%28popup_bfbf6eddaab2422a84c58f1e2a59d496%29%0A%20%20%20%20%20%20%20%20%3B%0A%0A%20%20%20%20%20%20%20%20%0A%20%20%20%20%0A%20%20%20%20%0A%20%20%20%20%20%20%20%20%20%20%20%20var%20circle_marker_eba0f78645ab4368ad3381c4e1ceb90e%20%3D%20L.circleMarker%28%0A%20%20%20%20%20%20%20%20%20%20%20%20%20%20%20%20%5B43.667967%2C%20-79.3676753%5D%2C%0A%20%20%20%20%20%20%20%20%20%20%20%20%20%20%20%20%7B%22bubblingMouseEvents%22%3A%20true%2C%20%22color%22%3A%20%22blue%22%2C%20%22dashArray%22%3A%20null%2C%20%22dashOffset%22%3A%20null%2C%20%22fill%22%3A%20true%2C%20%22fillColor%22%3A%20%22%233186cc%22%2C%20%22fillOpacity%22%3A%200.7%2C%20%22fillRule%22%3A%20%22evenodd%22%2C%20%22lineCap%22%3A%20%22round%22%2C%20%22lineJoin%22%3A%20%22round%22%2C%20%22opacity%22%3A%201.0%2C%20%22radius%22%3A%205%2C%20%22stroke%22%3A%20true%2C%20%22weight%22%3A%203%7D%0A%20%20%20%20%20%20%20%20%20%20%20%20%29.addTo%28map_b739a702408f4cecbcc7a66b15e3b8e4%29%3B%0A%20%20%20%20%20%20%20%20%0A%20%20%20%20%0A%20%20%20%20%20%20%20%20var%20popup_a43c2afb560e44f2a51aed50ebc2c108%20%3D%20L.popup%28%7B%22maxWidth%22%3A%20%22100%25%22%7D%29%3B%0A%0A%20%20%20%20%20%20%20%20%0A%20%20%20%20%20%20%20%20%20%20%20%20var%20html_16886ac5f78045e68b2e673f7e9b476b%20%3D%20%24%28%60%3Cdiv%20id%3D%22html_16886ac5f78045e68b2e673f7e9b476b%22%20style%3D%22width%3A%20100.0%25%3B%20height%3A%20100.0%25%3B%22%3ESt.%20James%20Town%2C%20Cabbagetown%2C%20Downtown%20Toronto%3C/div%3E%60%29%5B0%5D%3B%0A%20%20%20%20%20%20%20%20%20%20%20%20popup_a43c2afb560e44f2a51aed50ebc2c108.setContent%28html_16886ac5f78045e68b2e673f7e9b476b%29%3B%0A%20%20%20%20%20%20%20%20%0A%0A%20%20%20%20%20%20%20%20circle_marker_eba0f78645ab4368ad3381c4e1ceb90e.bindPopup%28popup_a43c2afb560e44f2a51aed50ebc2c108%29%0A%20%20%20%20%20%20%20%20%3B%0A%0A%20%20%20%20%20%20%20%20%0A%20%20%20%20%0A%20%20%20%20%0A%20%20%20%20%20%20%20%20%20%20%20%20var%20circle_marker_9e9859c160044f8e8481c6381804055e%20%3D%20L.circleMarker%28%0A%20%20%20%20%20%20%20%20%20%20%20%20%20%20%20%20%5B43.6484292%2C%20-79.3822802%5D%2C%0A%20%20%20%20%20%20%20%20%20%20%20%20%20%20%20%20%7B%22bubblingMouseEvents%22%3A%20true%2C%20%22color%22%3A%20%22blue%22%2C%20%22dashArray%22%3A%20null%2C%20%22dashOffset%22%3A%20null%2C%20%22fill%22%3A%20true%2C%20%22fillColor%22%3A%20%22%233186cc%22%2C%20%22fillOpacity%22%3A%200.7%2C%20%22fillRule%22%3A%20%22evenodd%22%2C%20%22lineCap%22%3A%20%22round%22%2C%20%22lineJoin%22%3A%20%22round%22%2C%20%22opacity%22%3A%201.0%2C%20%22radius%22%3A%205%2C%20%22stroke%22%3A%20true%2C%20%22weight%22%3A%203%7D%0A%20%20%20%20%20%20%20%20%20%20%20%20%29.addTo%28map_b739a702408f4cecbcc7a66b15e3b8e4%29%3B%0A%20%20%20%20%20%20%20%20%0A%20%20%20%20%0A%20%20%20%20%20%20%20%20var%20popup_4a5535bf57ae407fb0b3126e3b69e3ff%20%3D%20L.popup%28%7B%22maxWidth%22%3A%20%22100%25%22%7D%29%3B%0A%0A%20%20%20%20%20%20%20%20%0A%20%20%20%20%20%20%20%20%20%20%20%20var%20html_1a77125ebf4e45b68d07f2e92211cdf4%20%3D%20%24%28%60%3Cdiv%20id%3D%22html_1a77125ebf4e45b68d07f2e92211cdf4%22%20style%3D%22width%3A%20100.0%25%3B%20height%3A%20100.0%25%3B%22%3EFirst%20Canadian%20Place%2C%20Underground%20city%2C%20Downtown%20Toronto%3C/div%3E%60%29%5B0%5D%3B%0A%20%20%20%20%20%20%20%20%20%20%20%20popup_4a5535bf57ae407fb0b3126e3b69e3ff.setContent%28html_1a77125ebf4e45b68d07f2e92211cdf4%29%3B%0A%20%20%20%20%20%20%20%20%0A%0A%20%20%20%20%20%20%20%20circle_marker_9e9859c160044f8e8481c6381804055e.bindPopup%28popup_4a5535bf57ae407fb0b3126e3b69e3ff%29%0A%20%20%20%20%20%20%20%20%3B%0A%0A%20%20%20%20%20%20%20%20%0A%20%20%20%20%0A%20%20%20%20%0A%20%20%20%20%20%20%20%20%20%20%20%20var%20circle_marker_3599f916e5d948049d6628c19a023fa8%20%3D%20L.circleMarker%28%0A%20%20%20%20%20%20%20%20%20%20%20%20%20%20%20%20%5B43.6536536%2C%20-79.5069436%5D%2C%0A%20%20%20%20%20%20%20%20%20%20%20%20%20%20%20%20%7B%22bubblingMouseEvents%22%3A%20true%2C%20%22color%22%3A%20%22blue%22%2C%20%22dashArray%22%3A%20null%2C%20%22dashOffset%22%3A%20null%2C%20%22fill%22%3A%20true%2C%20%22fillColor%22%3A%20%22%233186cc%22%2C%20%22fillOpacity%22%3A%200.7%2C%20%22fillRule%22%3A%20%22evenodd%22%2C%20%22lineCap%22%3A%20%22round%22%2C%20%22lineJoin%22%3A%20%22round%22%2C%20%22opacity%22%3A%201.0%2C%20%22radius%22%3A%205%2C%20%22stroke%22%3A%20true%2C%20%22weight%22%3A%203%7D%0A%20%20%20%20%20%20%20%20%20%20%20%20%29.addTo%28map_b739a702408f4cecbcc7a66b15e3b8e4%29%3B%0A%20%20%20%20%20%20%20%20%0A%20%20%20%20%0A%20%20%20%20%20%20%20%20var%20popup_b59bf44418fa47ea97273173a3d8f774%20%3D%20L.popup%28%7B%22maxWidth%22%3A%20%22100%25%22%7D%29%3B%0A%0A%20%20%20%20%20%20%20%20%0A%20%20%20%20%20%20%20%20%20%20%20%20var%20html_3228cde8042e49cba17b438acfa941d1%20%3D%20%24%28%60%3Cdiv%20id%3D%22html_3228cde8042e49cba17b438acfa941d1%22%20style%3D%22width%3A%20100.0%25%3B%20height%3A%20100.0%25%3B%22%3EThe%20Kingsway%2C%20Montgomery%20Road%2C%20Old%20Mill%20North%2C%20Etobicoke%3C/div%3E%60%29%5B0%5D%3B%0A%20%20%20%20%20%20%20%20%20%20%20%20popup_b59bf44418fa47ea97273173a3d8f774.setContent%28html_3228cde8042e49cba17b438acfa941d1%29%3B%0A%20%20%20%20%20%20%20%20%0A%0A%20%20%20%20%20%20%20%20circle_marker_3599f916e5d948049d6628c19a023fa8.bindPopup%28popup_b59bf44418fa47ea97273173a3d8f774%29%0A%20%20%20%20%20%20%20%20%3B%0A%0A%20%20%20%20%20%20%20%20%0A%20%20%20%20%0A%20%20%20%20%0A%20%20%20%20%20%20%20%20%20%20%20%20var%20circle_marker_c001e890e6ee4052b55bc8c4859406d7%20%3D%20L.circleMarker%28%0A%20%20%20%20%20%20%20%20%20%20%20%20%20%20%20%20%5B43.6658599%2C%20-79.3831599%5D%2C%0A%20%20%20%20%20%20%20%20%20%20%20%20%20%20%20%20%7B%22bubblingMouseEvents%22%3A%20true%2C%20%22color%22%3A%20%22blue%22%2C%20%22dashArray%22%3A%20null%2C%20%22dashOffset%22%3A%20null%2C%20%22fill%22%3A%20true%2C%20%22fillColor%22%3A%20%22%233186cc%22%2C%20%22fillOpacity%22%3A%200.7%2C%20%22fillRule%22%3A%20%22evenodd%22%2C%20%22lineCap%22%3A%20%22round%22%2C%20%22lineJoin%22%3A%20%22round%22%2C%20%22opacity%22%3A%201.0%2C%20%22radius%22%3A%205%2C%20%22stroke%22%3A%20true%2C%20%22weight%22%3A%203%7D%0A%20%20%20%20%20%20%20%20%20%20%20%20%29.addTo%28map_b739a702408f4cecbcc7a66b15e3b8e4%29%3B%0A%20%20%20%20%20%20%20%20%0A%20%20%20%20%0A%20%20%20%20%20%20%20%20var%20popup_0528705803434aeb966d106fb3b93a14%20%3D%20L.popup%28%7B%22maxWidth%22%3A%20%22100%25%22%7D%29%3B%0A%0A%20%20%20%20%20%20%20%20%0A%20%20%20%20%20%20%20%20%20%20%20%20var%20html_f2236488e9e74c19840108582cb8e707%20%3D%20%24%28%60%3Cdiv%20id%3D%22html_f2236488e9e74c19840108582cb8e707%22%20style%3D%22width%3A%20100.0%25%3B%20height%3A%20100.0%25%3B%22%3EChurch%20and%20Wellesley%2C%20Downtown%20Toronto%3C/div%3E%60%29%5B0%5D%3B%0A%20%20%20%20%20%20%20%20%20%20%20%20popup_0528705803434aeb966d106fb3b93a14.setContent%28html_f2236488e9e74c19840108582cb8e707%29%3B%0A%20%20%20%20%20%20%20%20%0A%0A%20%20%20%20%20%20%20%20circle_marker_c001e890e6ee4052b55bc8c4859406d7.bindPopup%28popup_0528705803434aeb966d106fb3b93a14%29%0A%20%20%20%20%20%20%20%20%3B%0A%0A%20%20%20%20%20%20%20%20%0A%20%20%20%20%0A%20%20%20%20%0A%20%20%20%20%20%20%20%20%20%20%20%20var%20circle_marker_26367e6819af453ca3112de418578f1f%20%3D%20L.circleMarker%28%0A%20%20%20%20%20%20%20%20%20%20%20%20%20%20%20%20%5B43.6627439%2C%20-79.321558%5D%2C%0A%20%20%20%20%20%20%20%20%20%20%20%20%20%20%20%20%7B%22bubblingMouseEvents%22%3A%20true%2C%20%22color%22%3A%20%22blue%22%2C%20%22dashArray%22%3A%20null%2C%20%22dashOffset%22%3A%20null%2C%20%22fill%22%3A%20true%2C%20%22fillColor%22%3A%20%22%233186cc%22%2C%20%22fillOpacity%22%3A%200.7%2C%20%22fillRule%22%3A%20%22evenodd%22%2C%20%22lineCap%22%3A%20%22round%22%2C%20%22lineJoin%22%3A%20%22round%22%2C%20%22opacity%22%3A%201.0%2C%20%22radius%22%3A%205%2C%20%22stroke%22%3A%20true%2C%20%22weight%22%3A%203%7D%0A%20%20%20%20%20%20%20%20%20%20%20%20%29.addTo%28map_b739a702408f4cecbcc7a66b15e3b8e4%29%3B%0A%20%20%20%20%20%20%20%20%0A%20%20%20%20%0A%20%20%20%20%20%20%20%20var%20popup_e8b6a32a9a624dfd82b07d3bd09384e0%20%3D%20L.popup%28%7B%22maxWidth%22%3A%20%22100%25%22%7D%29%3B%0A%0A%20%20%20%20%20%20%20%20%0A%20%20%20%20%20%20%20%20%20%20%20%20var%20html_a5a22962590242f6af37a47bfed7112e%20%3D%20%24%28%60%3Cdiv%20id%3D%22html_a5a22962590242f6af37a47bfed7112e%22%20style%3D%22width%3A%20100.0%25%3B%20height%3A%20100.0%25%3B%22%3EEnclave%20of%20M4L%2C%20East%20TorontoBusiness%20reply%20mail%20Processing%20Centre969%20Eastern%3C/div%3E%60%29%5B0%5D%3B%0A%20%20%20%20%20%20%20%20%20%20%20%20popup_e8b6a32a9a624dfd82b07d3bd09384e0.setContent%28html_a5a22962590242f6af37a47bfed7112e%29%3B%0A%20%20%20%20%20%20%20%20%0A%0A%20%20%20%20%20%20%20%20circle_marker_26367e6819af453ca3112de418578f1f.bindPopup%28popup_e8b6a32a9a624dfd82b07d3bd09384e0%29%0A%20%20%20%20%20%20%20%20%3B%0A%0A%20%20%20%20%20%20%20%20%0A%20%20%20%20%0A%20%20%20%20%0A%20%20%20%20%20%20%20%20%20%20%20%20var%20circle_marker_d72c46df88da40bd9db3d611f1f0f4ea%20%3D%20L.circleMarker%28%0A%20%20%20%20%20%20%20%20%20%20%20%20%20%20%20%20%5B43.6362579%2C%20-79.4985091%5D%2C%0A%20%20%20%20%20%20%20%20%20%20%20%20%20%20%20%20%7B%22bubblingMouseEvents%22%3A%20true%2C%20%22color%22%3A%20%22blue%22%2C%20%22dashArray%22%3A%20null%2C%20%22dashOffset%22%3A%20null%2C%20%22fill%22%3A%20true%2C%20%22fillColor%22%3A%20%22%233186cc%22%2C%20%22fillOpacity%22%3A%200.7%2C%20%22fillRule%22%3A%20%22evenodd%22%2C%20%22lineCap%22%3A%20%22round%22%2C%20%22lineJoin%22%3A%20%22round%22%2C%20%22opacity%22%3A%201.0%2C%20%22radius%22%3A%205%2C%20%22stroke%22%3A%20true%2C%20%22weight%22%3A%203%7D%0A%20%20%20%20%20%20%20%20%20%20%20%20%29.addTo%28map_b739a702408f4cecbcc7a66b15e3b8e4%29%3B%0A%20%20%20%20%20%20%20%20%0A%20%20%20%20%0A%20%20%20%20%20%20%20%20var%20popup_05c846492f524abf99433a24641dc06c%20%3D%20L.popup%28%7B%22maxWidth%22%3A%20%22100%25%22%7D%29%3B%0A%0A%20%20%20%20%20%20%20%20%0A%20%20%20%20%20%20%20%20%20%20%20%20var%20html_da3f4a3bcb924a4eacfe7a69e4599b19%20%3D%20%24%28%60%3Cdiv%20id%3D%22html_da3f4a3bcb924a4eacfe7a69e4599b19%22%20style%3D%22width%3A%20100.0%25%3B%20height%3A%20100.0%25%3B%22%3EOld%20Mill%20South%2C%20King%26%2339%3Bs%20Mill%20Park%2C%20Sunnylea%2C%20Humber%20Bay%2C%20Mimico%20NE%2C%20The%20Queensway%20East%2C%20Royal%20York%20South%20East%2C%20Kingsway%20Park%20South%20East%2C%20Etobicoke%3C/div%3E%60%29%5B0%5D%3B%0A%20%20%20%20%20%20%20%20%20%20%20%20popup_05c846492f524abf99433a24641dc06c.setContent%28html_da3f4a3bcb924a4eacfe7a69e4599b19%29%3B%0A%20%20%20%20%20%20%20%20%0A%0A%20%20%20%20%20%20%20%20circle_marker_d72c46df88da40bd9db3d611f1f0f4ea.bindPopup%28popup_05c846492f524abf99433a24641dc06c%29%0A%20%20%20%20%20%20%20%20%3B%0A%0A%20%20%20%20%20%20%20%20%0A%20%20%20%20%0A%20%20%20%20%0A%20%20%20%20%20%20%20%20%20%20%20%20var%20circle_marker_5f7f5ed59c5c492ead46ca60455209b9%20%3D%20L.circleMarker%28%0A%20%20%20%20%20%20%20%20%20%20%20%20%20%20%20%20%5B43.6288408%2C%20-79.5209994%5D%2C%0A%20%20%20%20%20%20%20%20%20%20%20%20%20%20%20%20%7B%22bubblingMouseEvents%22%3A%20true%2C%20%22color%22%3A%20%22blue%22%2C%20%22dashArray%22%3A%20null%2C%20%22dashOffset%22%3A%20null%2C%20%22fill%22%3A%20true%2C%20%22fillColor%22%3A%20%22%233186cc%22%2C%20%22fillOpacity%22%3A%200.7%2C%20%22fillRule%22%3A%20%22evenodd%22%2C%20%22lineCap%22%3A%20%22round%22%2C%20%22lineJoin%22%3A%20%22round%22%2C%20%22opacity%22%3A%201.0%2C%20%22radius%22%3A%205%2C%20%22stroke%22%3A%20true%2C%20%22weight%22%3A%203%7D%0A%20%20%20%20%20%20%20%20%20%20%20%20%29.addTo%28map_b739a702408f4cecbcc7a66b15e3b8e4%29%3B%0A%20%20%20%20%20%20%20%20%0A%20%20%20%20%0A%20%20%20%20%20%20%20%20var%20popup_f4f9b4f5518d478096949d047bf24890%20%3D%20L.popup%28%7B%22maxWidth%22%3A%20%22100%25%22%7D%29%3B%0A%0A%20%20%20%20%20%20%20%20%0A%20%20%20%20%20%20%20%20%20%20%20%20var%20html_73fe2db0510d4d47bd3c8d4df20d5923%20%3D%20%24%28%60%3Cdiv%20id%3D%22html_73fe2db0510d4d47bd3c8d4df20d5923%22%20style%3D%22width%3A%20100.0%25%3B%20height%3A%20100.0%25%3B%22%3EMimico%20NW%2C%20The%20Queensway%20West%2C%20South%20of%20Bloor%2C%20Kingsway%20Park%20South%20West%2C%20Royal%20York%20South%20West%2C%20Etobicoke%3C/div%3E%60%29%5B0%5D%3B%0A%20%20%20%20%20%20%20%20%20%20%20%20popup_f4f9b4f5518d478096949d047bf24890.setContent%28html_73fe2db0510d4d47bd3c8d4df20d5923%29%3B%0A%20%20%20%20%20%20%20%20%0A%0A%20%20%20%20%20%20%20%20circle_marker_5f7f5ed59c5c492ead46ca60455209b9.bindPopup%28popup_f4f9b4f5518d478096949d047bf24890%29%0A%20%20%20%20%20%20%20%20%3B%0A%0A%20%20%20%20%20%20%20%20%0A%20%20%20%20%0A%3C/script%3E onload=\"this.contentDocument.open();this.contentDocument.write(    decodeURIComponent(this.getAttribute('data-html')));this.contentDocument.close();\" allowfullscreen webkitallowfullscreen mozallowfullscreen></iframe></div></div>"
          },
          "metadata": {},
          "execution_count": 10
        }
      ],
      "metadata": {}
    },
    {
      "cell_type": "markdown",
      "source": [
        "#### Add Foursquare access secrets"
      ],
      "attachments": {},
      "metadata": {}
    },
    {
      "cell_type": "code",
      "source": [
        "# Add Foursquare access secrets\n",
        "CLIENT_ID = ''  # Foursquare ID\n",
        "CLIENT_SECRET = ''  # Foursquare Secret\n",
        "VERSION = '20180605'  # Foursquare API version\n",
        "\n",
        "print('Your credentails:')\n",
        "print('CLIENT_ID: ' + CLIENT_ID)\n",
        "print('CLIENT_SECRET:' + CLIENT_SECRET)"
      ],
      "execution_count": 50,
      "outputs": [
        {
          "output_type": "stream",
          "name": "stdout",
          "text": [
            "Your credentails:\nCLIENT_ID: \nCLIENT_SECRET:\n"
          ]
        }
      ],
      "metadata": {}
    },
    {
      "cell_type": "markdown",
      "source": [
        "#### Lets only consider the boroughs having _\"Downtown Toronto\"_ word in their names"
      ],
      "attachments": {},
      "metadata": {}
    },
    {
      "cell_type": "code",
      "source": [
        "\n",
        "toronto_data = mergedf[mergedf['Borough'].str.contains(\"Downtown Toronto\") ].reset_index(drop=True)\n",
        "toronto_data.head()"
      ],
      "execution_count": 16,
      "outputs": [
        {
          "output_type": "execute_result",
          "data": {
            "text/plain": [
              "  PostalCode           Borough               Neighborhood   Latitude  \\\n",
              "0        M5A  Downtown Toronto  Regent Park, Harbourfront  43.654260   \n",
              "1        M5B  Downtown Toronto   Garden District, Ryerson  43.657162   \n",
              "2        M5C  Downtown Toronto             St. James Town  43.651494   \n",
              "3        M5E  Downtown Toronto                Berczy Park  43.644771   \n",
              "4        M5G  Downtown Toronto         Central Bay Street  43.657952   \n",
              "\n",
              "   Longitude  \n",
              "0 -79.360636  \n",
              "1 -79.378937  \n",
              "2 -79.375418  \n",
              "3 -79.373306  \n",
              "4 -79.387383  "
            ],
            "text/html": "<div>\n<style scoped>\n    .dataframe tbody tr th:only-of-type {\n        vertical-align: middle;\n    }\n\n    .dataframe tbody tr th {\n        vertical-align: top;\n    }\n\n    .dataframe thead th {\n        text-align: right;\n    }\n</style>\n<table border=\"1\" class=\"dataframe\">\n  <thead>\n    <tr style=\"text-align: right;\">\n      <th></th>\n      <th>PostalCode</th>\n      <th>Borough</th>\n      <th>Neighborhood</th>\n      <th>Latitude</th>\n      <th>Longitude</th>\n    </tr>\n  </thead>\n  <tbody>\n    <tr>\n      <th>0</th>\n      <td>M5A</td>\n      <td>Downtown Toronto</td>\n      <td>Regent Park, Harbourfront</td>\n      <td>43.654260</td>\n      <td>-79.360636</td>\n    </tr>\n    <tr>\n      <th>1</th>\n      <td>M5B</td>\n      <td>Downtown Toronto</td>\n      <td>Garden District, Ryerson</td>\n      <td>43.657162</td>\n      <td>-79.378937</td>\n    </tr>\n    <tr>\n      <th>2</th>\n      <td>M5C</td>\n      <td>Downtown Toronto</td>\n      <td>St. James Town</td>\n      <td>43.651494</td>\n      <td>-79.375418</td>\n    </tr>\n    <tr>\n      <th>3</th>\n      <td>M5E</td>\n      <td>Downtown Toronto</td>\n      <td>Berczy Park</td>\n      <td>43.644771</td>\n      <td>-79.373306</td>\n    </tr>\n    <tr>\n      <th>4</th>\n      <td>M5G</td>\n      <td>Downtown Toronto</td>\n      <td>Central Bay Street</td>\n      <td>43.657952</td>\n      <td>-79.387383</td>\n    </tr>\n  </tbody>\n</table>\n</div>"
          },
          "metadata": {},
          "execution_count": 16
        }
      ],
      "metadata": {}
    },
    {
      "cell_type": "markdown",
      "source": [
        "#### Let's get the longitude and latitude of Toronto"
      ],
      "attachments": {},
      "metadata": {}
    },
    {
      "cell_type": "code",
      "source": [
        "# install geopy\n",
        "!pip install geopy\n",
        "\n",
        "# import geopy Nominatim\n",
        "from geopy.geocoders import Nominatim # convert an address into latitude and longitude values"
      ],
      "execution_count": 13,
      "outputs": [
        {
          "output_type": "stream",
          "name": "stdout",
          "text": [
            "Collecting geopy\n",
            "  Downloading geopy-2.1.0-py3-none-any.whl (112 kB)\n",
            "Collecting geographiclib<2,>=1.49\n",
            "  Downloading geographiclib-1.52-py3-none-any.whl (38 kB)\n",
            "Installing collected packages: geographiclib, geopy\n",
            "Successfully installed geographiclib-1.52 geopy-2.1.0\n",
            "WARNING: You are using pip version 21.1.2; however, version 21.1.3 is available.\n",
            "You should consider upgrading via the 'c:\\users\\bobby mohanty\\appdata\\local\\programs\\python\\python39\\python.exe -m pip install --upgrade pip' command.\n"
          ]
        }
      ],
      "metadata": {}
    },
    {
      "cell_type": "code",
      "source": [
        "address = 'Toronto, CN'\n",
        "\n",
        "geolocator = Nominatim(user_agent=\"ny_explorer\")\n",
        "toronto_location = geolocator.geocode(address)\n",
        "toronto_latitude = toronto_location.latitude\n",
        "toronto_longitude = toronto_location.longitude\n",
        "print('The geograpical coordinate of Manhattan are {}, {}.'.format(toronto_latitude, toronto_longitude))"
      ],
      "execution_count": 17,
      "outputs": [
        {
          "output_type": "stream",
          "name": "stdout",
          "text": [
            "The geograpical coordinate of Manhattan are 43.6425637, -79.38708718320467.\n"
          ]
        }
      ],
      "metadata": {}
    },
    {
      "cell_type": "markdown",
      "source": [
        "#### Map for the current dataset with only the boroughs having _\"Toronto\"_ in their names"
      ],
      "attachments": {},
      "metadata": {}
    },
    {
      "cell_type": "code",
      "source": [
        "# Create folium Map object\n",
        "map_toronto = folium.Map(location=[toronto_latitude, toronto_longitude], zoom_start=11)\n",
        "\n",
        "# add markers to map\n",
        "for lat, lng, borough, neighborhood in zip(toronto_data['Latitude'],\n",
        "                                           toronto_data['Longitude'],\n",
        "                                           toronto_data['Borough'],\n",
        "                                           toronto_data['Neighborhood']):\n",
        "    label = '{}, {}'.format(neighborhood, borough)\n",
        "    label = folium.Popup(label, parse_html=True)\n",
        "    folium.CircleMarker(\n",
        "        [lat, lng],\n",
        "        radius=5,\n",
        "        popup=label,\n",
        "        color='blue',\n",
        "        fill=True,\n",
        "        fill_color='#3186cc',\n",
        "        fill_opacity=0.7,\n",
        "        parse_html=False).add_to(map_toronto) \n",
        "    \n",
        "map_toronto"
      ],
      "execution_count": 18,
      "outputs": [
        {
          "output_type": "execute_result",
          "data": {
            "text/plain": [
              "<folium.folium.Map at 0x2dfbcfc87f0>"
            ],
            "text/html": "<div style=\"width:100%;\"><div style=\"position:relative;width:100%;height:0;padding-bottom:60%;\"><span style=\"color:#565656\">Make this Notebook Trusted to load map: File -> Trust Notebook</span><iframe src=\"about:blank\" style=\"position:absolute;width:100%;height:100%;left:0;top:0;border:none !important;\" data-html=%3C%21DOCTYPE%20html%3E%0A%3Chead%3E%20%20%20%20%0A%20%20%20%20%3Cmeta%20http-equiv%3D%22content-type%22%20content%3D%22text/html%3B%20charset%3DUTF-8%22%20/%3E%0A%20%20%20%20%0A%20%20%20%20%20%20%20%20%3Cscript%3E%0A%20%20%20%20%20%20%20%20%20%20%20%20L_NO_TOUCH%20%3D%20false%3B%0A%20%20%20%20%20%20%20%20%20%20%20%20L_DISABLE_3D%20%3D%20false%3B%0A%20%20%20%20%20%20%20%20%3C/script%3E%0A%20%20%20%20%0A%20%20%20%20%3Cstyle%3Ehtml%2C%20body%20%7Bwidth%3A%20100%25%3Bheight%3A%20100%25%3Bmargin%3A%200%3Bpadding%3A%200%3B%7D%3C/style%3E%0A%20%20%20%20%3Cstyle%3E%23map%20%7Bposition%3Aabsolute%3Btop%3A0%3Bbottom%3A0%3Bright%3A0%3Bleft%3A0%3B%7D%3C/style%3E%0A%20%20%20%20%3Cscript%20src%3D%22https%3A//cdn.jsdelivr.net/npm/leaflet%401.6.0/dist/leaflet.js%22%3E%3C/script%3E%0A%20%20%20%20%3Cscript%20src%3D%22https%3A//code.jquery.com/jquery-1.12.4.min.js%22%3E%3C/script%3E%0A%20%20%20%20%3Cscript%20src%3D%22https%3A//maxcdn.bootstrapcdn.com/bootstrap/3.2.0/js/bootstrap.min.js%22%3E%3C/script%3E%0A%20%20%20%20%3Cscript%20src%3D%22https%3A//cdnjs.cloudflare.com/ajax/libs/Leaflet.awesome-markers/2.0.2/leaflet.awesome-markers.js%22%3E%3C/script%3E%0A%20%20%20%20%3Clink%20rel%3D%22stylesheet%22%20href%3D%22https%3A//cdn.jsdelivr.net/npm/leaflet%401.6.0/dist/leaflet.css%22/%3E%0A%20%20%20%20%3Clink%20rel%3D%22stylesheet%22%20href%3D%22https%3A//maxcdn.bootstrapcdn.com/bootstrap/3.2.0/css/bootstrap.min.css%22/%3E%0A%20%20%20%20%3Clink%20rel%3D%22stylesheet%22%20href%3D%22https%3A//maxcdn.bootstrapcdn.com/bootstrap/3.2.0/css/bootstrap-theme.min.css%22/%3E%0A%20%20%20%20%3Clink%20rel%3D%22stylesheet%22%20href%3D%22https%3A//maxcdn.bootstrapcdn.com/font-awesome/4.6.3/css/font-awesome.min.css%22/%3E%0A%20%20%20%20%3Clink%20rel%3D%22stylesheet%22%20href%3D%22https%3A//cdnjs.cloudflare.com/ajax/libs/Leaflet.awesome-markers/2.0.2/leaflet.awesome-markers.css%22/%3E%0A%20%20%20%20%3Clink%20rel%3D%22stylesheet%22%20href%3D%22https%3A//cdn.jsdelivr.net/gh/python-visualization/folium/folium/templates/leaflet.awesome.rotate.min.css%22/%3E%0A%20%20%20%20%0A%20%20%20%20%20%20%20%20%20%20%20%20%3Cmeta%20name%3D%22viewport%22%20content%3D%22width%3Ddevice-width%2C%0A%20%20%20%20%20%20%20%20%20%20%20%20%20%20%20%20initial-scale%3D1.0%2C%20maximum-scale%3D1.0%2C%20user-scalable%3Dno%22%20/%3E%0A%20%20%20%20%20%20%20%20%20%20%20%20%3Cstyle%3E%0A%20%20%20%20%20%20%20%20%20%20%20%20%20%20%20%20%23map_1f6f8be6c9b840e0aa498d4c123af1fb%20%7B%0A%20%20%20%20%20%20%20%20%20%20%20%20%20%20%20%20%20%20%20%20position%3A%20relative%3B%0A%20%20%20%20%20%20%20%20%20%20%20%20%20%20%20%20%20%20%20%20width%3A%20100.0%25%3B%0A%20%20%20%20%20%20%20%20%20%20%20%20%20%20%20%20%20%20%20%20height%3A%20100.0%25%3B%0A%20%20%20%20%20%20%20%20%20%20%20%20%20%20%20%20%20%20%20%20left%3A%200.0%25%3B%0A%20%20%20%20%20%20%20%20%20%20%20%20%20%20%20%20%20%20%20%20top%3A%200.0%25%3B%0A%20%20%20%20%20%20%20%20%20%20%20%20%20%20%20%20%7D%0A%20%20%20%20%20%20%20%20%20%20%20%20%3C/style%3E%0A%20%20%20%20%20%20%20%20%0A%3C/head%3E%0A%3Cbody%3E%20%20%20%20%0A%20%20%20%20%0A%20%20%20%20%20%20%20%20%20%20%20%20%3Cdiv%20class%3D%22folium-map%22%20id%3D%22map_1f6f8be6c9b840e0aa498d4c123af1fb%22%20%3E%3C/div%3E%0A%20%20%20%20%20%20%20%20%0A%3C/body%3E%0A%3Cscript%3E%20%20%20%20%0A%20%20%20%20%0A%20%20%20%20%20%20%20%20%20%20%20%20var%20map_1f6f8be6c9b840e0aa498d4c123af1fb%20%3D%20L.map%28%0A%20%20%20%20%20%20%20%20%20%20%20%20%20%20%20%20%22map_1f6f8be6c9b840e0aa498d4c123af1fb%22%2C%0A%20%20%20%20%20%20%20%20%20%20%20%20%20%20%20%20%7B%0A%20%20%20%20%20%20%20%20%20%20%20%20%20%20%20%20%20%20%20%20center%3A%20%5B43.6425637%2C%20-79.38708718320467%5D%2C%0A%20%20%20%20%20%20%20%20%20%20%20%20%20%20%20%20%20%20%20%20crs%3A%20L.CRS.EPSG3857%2C%0A%20%20%20%20%20%20%20%20%20%20%20%20%20%20%20%20%20%20%20%20zoom%3A%2011%2C%0A%20%20%20%20%20%20%20%20%20%20%20%20%20%20%20%20%20%20%20%20zoomControl%3A%20true%2C%0A%20%20%20%20%20%20%20%20%20%20%20%20%20%20%20%20%20%20%20%20preferCanvas%3A%20false%2C%0A%20%20%20%20%20%20%20%20%20%20%20%20%20%20%20%20%7D%0A%20%20%20%20%20%20%20%20%20%20%20%20%29%3B%0A%0A%20%20%20%20%20%20%20%20%20%20%20%20%0A%0A%20%20%20%20%20%20%20%20%0A%20%20%20%20%0A%20%20%20%20%20%20%20%20%20%20%20%20var%20tile_layer_229b12578c514b37966ef24dfbac84b0%20%3D%20L.tileLayer%28%0A%20%20%20%20%20%20%20%20%20%20%20%20%20%20%20%20%22https%3A//%7Bs%7D.tile.openstreetmap.org/%7Bz%7D/%7Bx%7D/%7By%7D.png%22%2C%0A%20%20%20%20%20%20%20%20%20%20%20%20%20%20%20%20%7B%22attribution%22%3A%20%22Data%20by%20%5Cu0026copy%3B%20%5Cu003ca%20href%3D%5C%22http%3A//openstreetmap.org%5C%22%5Cu003eOpenStreetMap%5Cu003c/a%5Cu003e%2C%20under%20%5Cu003ca%20href%3D%5C%22http%3A//www.openstreetmap.org/copyright%5C%22%5Cu003eODbL%5Cu003c/a%5Cu003e.%22%2C%20%22detectRetina%22%3A%20false%2C%20%22maxNativeZoom%22%3A%2018%2C%20%22maxZoom%22%3A%2018%2C%20%22minZoom%22%3A%200%2C%20%22noWrap%22%3A%20false%2C%20%22opacity%22%3A%201%2C%20%22subdomains%22%3A%20%22abc%22%2C%20%22tms%22%3A%20false%7D%0A%20%20%20%20%20%20%20%20%20%20%20%20%29.addTo%28map_1f6f8be6c9b840e0aa498d4c123af1fb%29%3B%0A%20%20%20%20%20%20%20%20%0A%20%20%20%20%0A%20%20%20%20%20%20%20%20%20%20%20%20var%20circle_marker_7e0ca7b87fdc49e9a61bd40f778f2cd6%20%3D%20L.circleMarker%28%0A%20%20%20%20%20%20%20%20%20%20%20%20%20%20%20%20%5B43.6542599%2C%20-79.3606359%5D%2C%0A%20%20%20%20%20%20%20%20%20%20%20%20%20%20%20%20%7B%22bubblingMouseEvents%22%3A%20true%2C%20%22color%22%3A%20%22blue%22%2C%20%22dashArray%22%3A%20null%2C%20%22dashOffset%22%3A%20null%2C%20%22fill%22%3A%20true%2C%20%22fillColor%22%3A%20%22%233186cc%22%2C%20%22fillOpacity%22%3A%200.7%2C%20%22fillRule%22%3A%20%22evenodd%22%2C%20%22lineCap%22%3A%20%22round%22%2C%20%22lineJoin%22%3A%20%22round%22%2C%20%22opacity%22%3A%201.0%2C%20%22radius%22%3A%205%2C%20%22stroke%22%3A%20true%2C%20%22weight%22%3A%203%7D%0A%20%20%20%20%20%20%20%20%20%20%20%20%29.addTo%28map_1f6f8be6c9b840e0aa498d4c123af1fb%29%3B%0A%20%20%20%20%20%20%20%20%0A%20%20%20%20%0A%20%20%20%20%20%20%20%20var%20popup_e94d39fbe75945ed8bfb458b641cd052%20%3D%20L.popup%28%7B%22maxWidth%22%3A%20%22100%25%22%7D%29%3B%0A%0A%20%20%20%20%20%20%20%20%0A%20%20%20%20%20%20%20%20%20%20%20%20var%20html_d801212512ac47b39d5028fe02e2edfa%20%3D%20%24%28%60%3Cdiv%20id%3D%22html_d801212512ac47b39d5028fe02e2edfa%22%20style%3D%22width%3A%20100.0%25%3B%20height%3A%20100.0%25%3B%22%3ERegent%20Park%2C%20Harbourfront%2C%20Downtown%20Toronto%3C/div%3E%60%29%5B0%5D%3B%0A%20%20%20%20%20%20%20%20%20%20%20%20popup_e94d39fbe75945ed8bfb458b641cd052.setContent%28html_d801212512ac47b39d5028fe02e2edfa%29%3B%0A%20%20%20%20%20%20%20%20%0A%0A%20%20%20%20%20%20%20%20circle_marker_7e0ca7b87fdc49e9a61bd40f778f2cd6.bindPopup%28popup_e94d39fbe75945ed8bfb458b641cd052%29%0A%20%20%20%20%20%20%20%20%3B%0A%0A%20%20%20%20%20%20%20%20%0A%20%20%20%20%0A%20%20%20%20%0A%20%20%20%20%20%20%20%20%20%20%20%20var%20circle_marker_09be1329d4ce41b8b245a2e16ca50206%20%3D%20L.circleMarker%28%0A%20%20%20%20%20%20%20%20%20%20%20%20%20%20%20%20%5B43.6571618%2C%20-79.3789371%5D%2C%0A%20%20%20%20%20%20%20%20%20%20%20%20%20%20%20%20%7B%22bubblingMouseEvents%22%3A%20true%2C%20%22color%22%3A%20%22blue%22%2C%20%22dashArray%22%3A%20null%2C%20%22dashOffset%22%3A%20null%2C%20%22fill%22%3A%20true%2C%20%22fillColor%22%3A%20%22%233186cc%22%2C%20%22fillOpacity%22%3A%200.7%2C%20%22fillRule%22%3A%20%22evenodd%22%2C%20%22lineCap%22%3A%20%22round%22%2C%20%22lineJoin%22%3A%20%22round%22%2C%20%22opacity%22%3A%201.0%2C%20%22radius%22%3A%205%2C%20%22stroke%22%3A%20true%2C%20%22weight%22%3A%203%7D%0A%20%20%20%20%20%20%20%20%20%20%20%20%29.addTo%28map_1f6f8be6c9b840e0aa498d4c123af1fb%29%3B%0A%20%20%20%20%20%20%20%20%0A%20%20%20%20%0A%20%20%20%20%20%20%20%20var%20popup_ed1a242a57e8433d9eeab9e4309bd9eb%20%3D%20L.popup%28%7B%22maxWidth%22%3A%20%22100%25%22%7D%29%3B%0A%0A%20%20%20%20%20%20%20%20%0A%20%20%20%20%20%20%20%20%20%20%20%20var%20html_8596e6f1c0e648b3a4d073801996f2b2%20%3D%20%24%28%60%3Cdiv%20id%3D%22html_8596e6f1c0e648b3a4d073801996f2b2%22%20style%3D%22width%3A%20100.0%25%3B%20height%3A%20100.0%25%3B%22%3EGarden%20District%2C%20Ryerson%2C%20Downtown%20Toronto%3C/div%3E%60%29%5B0%5D%3B%0A%20%20%20%20%20%20%20%20%20%20%20%20popup_ed1a242a57e8433d9eeab9e4309bd9eb.setContent%28html_8596e6f1c0e648b3a4d073801996f2b2%29%3B%0A%20%20%20%20%20%20%20%20%0A%0A%20%20%20%20%20%20%20%20circle_marker_09be1329d4ce41b8b245a2e16ca50206.bindPopup%28popup_ed1a242a57e8433d9eeab9e4309bd9eb%29%0A%20%20%20%20%20%20%20%20%3B%0A%0A%20%20%20%20%20%20%20%20%0A%20%20%20%20%0A%20%20%20%20%0A%20%20%20%20%20%20%20%20%20%20%20%20var%20circle_marker_5e7d5627879b4015b6be4138d77be277%20%3D%20L.circleMarker%28%0A%20%20%20%20%20%20%20%20%20%20%20%20%20%20%20%20%5B43.6514939%2C%20-79.3754179%5D%2C%0A%20%20%20%20%20%20%20%20%20%20%20%20%20%20%20%20%7B%22bubblingMouseEvents%22%3A%20true%2C%20%22color%22%3A%20%22blue%22%2C%20%22dashArray%22%3A%20null%2C%20%22dashOffset%22%3A%20null%2C%20%22fill%22%3A%20true%2C%20%22fillColor%22%3A%20%22%233186cc%22%2C%20%22fillOpacity%22%3A%200.7%2C%20%22fillRule%22%3A%20%22evenodd%22%2C%20%22lineCap%22%3A%20%22round%22%2C%20%22lineJoin%22%3A%20%22round%22%2C%20%22opacity%22%3A%201.0%2C%20%22radius%22%3A%205%2C%20%22stroke%22%3A%20true%2C%20%22weight%22%3A%203%7D%0A%20%20%20%20%20%20%20%20%20%20%20%20%29.addTo%28map_1f6f8be6c9b840e0aa498d4c123af1fb%29%3B%0A%20%20%20%20%20%20%20%20%0A%20%20%20%20%0A%20%20%20%20%20%20%20%20var%20popup_58b479f0d4244005b91526a7da099337%20%3D%20L.popup%28%7B%22maxWidth%22%3A%20%22100%25%22%7D%29%3B%0A%0A%20%20%20%20%20%20%20%20%0A%20%20%20%20%20%20%20%20%20%20%20%20var%20html_0a10f5728fb04e49ac1117279d360be3%20%3D%20%24%28%60%3Cdiv%20id%3D%22html_0a10f5728fb04e49ac1117279d360be3%22%20style%3D%22width%3A%20100.0%25%3B%20height%3A%20100.0%25%3B%22%3ESt.%20James%20Town%2C%20Downtown%20Toronto%3C/div%3E%60%29%5B0%5D%3B%0A%20%20%20%20%20%20%20%20%20%20%20%20popup_58b479f0d4244005b91526a7da099337.setContent%28html_0a10f5728fb04e49ac1117279d360be3%29%3B%0A%20%20%20%20%20%20%20%20%0A%0A%20%20%20%20%20%20%20%20circle_marker_5e7d5627879b4015b6be4138d77be277.bindPopup%28popup_58b479f0d4244005b91526a7da099337%29%0A%20%20%20%20%20%20%20%20%3B%0A%0A%20%20%20%20%20%20%20%20%0A%20%20%20%20%0A%20%20%20%20%0A%20%20%20%20%20%20%20%20%20%20%20%20var%20circle_marker_afcc5c7e839746f192ea5e78375330df%20%3D%20L.circleMarker%28%0A%20%20%20%20%20%20%20%20%20%20%20%20%20%20%20%20%5B43.6447708%2C%20-79.3733064%5D%2C%0A%20%20%20%20%20%20%20%20%20%20%20%20%20%20%20%20%7B%22bubblingMouseEvents%22%3A%20true%2C%20%22color%22%3A%20%22blue%22%2C%20%22dashArray%22%3A%20null%2C%20%22dashOffset%22%3A%20null%2C%20%22fill%22%3A%20true%2C%20%22fillColor%22%3A%20%22%233186cc%22%2C%20%22fillOpacity%22%3A%200.7%2C%20%22fillRule%22%3A%20%22evenodd%22%2C%20%22lineCap%22%3A%20%22round%22%2C%20%22lineJoin%22%3A%20%22round%22%2C%20%22opacity%22%3A%201.0%2C%20%22radius%22%3A%205%2C%20%22stroke%22%3A%20true%2C%20%22weight%22%3A%203%7D%0A%20%20%20%20%20%20%20%20%20%20%20%20%29.addTo%28map_1f6f8be6c9b840e0aa498d4c123af1fb%29%3B%0A%20%20%20%20%20%20%20%20%0A%20%20%20%20%0A%20%20%20%20%20%20%20%20var%20popup_d2f679f4c5d746b69fd7fc12e3a26a99%20%3D%20L.popup%28%7B%22maxWidth%22%3A%20%22100%25%22%7D%29%3B%0A%0A%20%20%20%20%20%20%20%20%0A%20%20%20%20%20%20%20%20%20%20%20%20var%20html_01a28e9e0e0342ad8058f7157eed167c%20%3D%20%24%28%60%3Cdiv%20id%3D%22html_01a28e9e0e0342ad8058f7157eed167c%22%20style%3D%22width%3A%20100.0%25%3B%20height%3A%20100.0%25%3B%22%3EBerczy%20Park%2C%20Downtown%20Toronto%3C/div%3E%60%29%5B0%5D%3B%0A%20%20%20%20%20%20%20%20%20%20%20%20popup_d2f679f4c5d746b69fd7fc12e3a26a99.setContent%28html_01a28e9e0e0342ad8058f7157eed167c%29%3B%0A%20%20%20%20%20%20%20%20%0A%0A%20%20%20%20%20%20%20%20circle_marker_afcc5c7e839746f192ea5e78375330df.bindPopup%28popup_d2f679f4c5d746b69fd7fc12e3a26a99%29%0A%20%20%20%20%20%20%20%20%3B%0A%0A%20%20%20%20%20%20%20%20%0A%20%20%20%20%0A%20%20%20%20%0A%20%20%20%20%20%20%20%20%20%20%20%20var%20circle_marker_fb972bad77034f43927c49eac8fcf6a4%20%3D%20L.circleMarker%28%0A%20%20%20%20%20%20%20%20%20%20%20%20%20%20%20%20%5B43.6579524%2C%20-79.3873826%5D%2C%0A%20%20%20%20%20%20%20%20%20%20%20%20%20%20%20%20%7B%22bubblingMouseEvents%22%3A%20true%2C%20%22color%22%3A%20%22blue%22%2C%20%22dashArray%22%3A%20null%2C%20%22dashOffset%22%3A%20null%2C%20%22fill%22%3A%20true%2C%20%22fillColor%22%3A%20%22%233186cc%22%2C%20%22fillOpacity%22%3A%200.7%2C%20%22fillRule%22%3A%20%22evenodd%22%2C%20%22lineCap%22%3A%20%22round%22%2C%20%22lineJoin%22%3A%20%22round%22%2C%20%22opacity%22%3A%201.0%2C%20%22radius%22%3A%205%2C%20%22stroke%22%3A%20true%2C%20%22weight%22%3A%203%7D%0A%20%20%20%20%20%20%20%20%20%20%20%20%29.addTo%28map_1f6f8be6c9b840e0aa498d4c123af1fb%29%3B%0A%20%20%20%20%20%20%20%20%0A%20%20%20%20%0A%20%20%20%20%20%20%20%20var%20popup_121313b35bd641f8a614269478df88a9%20%3D%20L.popup%28%7B%22maxWidth%22%3A%20%22100%25%22%7D%29%3B%0A%0A%20%20%20%20%20%20%20%20%0A%20%20%20%20%20%20%20%20%20%20%20%20var%20html_88121812ae084a24a62d832afebec738%20%3D%20%24%28%60%3Cdiv%20id%3D%22html_88121812ae084a24a62d832afebec738%22%20style%3D%22width%3A%20100.0%25%3B%20height%3A%20100.0%25%3B%22%3ECentral%20Bay%20Street%2C%20Downtown%20Toronto%3C/div%3E%60%29%5B0%5D%3B%0A%20%20%20%20%20%20%20%20%20%20%20%20popup_121313b35bd641f8a614269478df88a9.setContent%28html_88121812ae084a24a62d832afebec738%29%3B%0A%20%20%20%20%20%20%20%20%0A%0A%20%20%20%20%20%20%20%20circle_marker_fb972bad77034f43927c49eac8fcf6a4.bindPopup%28popup_121313b35bd641f8a614269478df88a9%29%0A%20%20%20%20%20%20%20%20%3B%0A%0A%20%20%20%20%20%20%20%20%0A%20%20%20%20%0A%20%20%20%20%0A%20%20%20%20%20%20%20%20%20%20%20%20var%20circle_marker_cd8ea427147b46e08c87728b0d5c8c1b%20%3D%20L.circleMarker%28%0A%20%20%20%20%20%20%20%20%20%20%20%20%20%20%20%20%5B43.669542%2C%20-79.4225637%5D%2C%0A%20%20%20%20%20%20%20%20%20%20%20%20%20%20%20%20%7B%22bubblingMouseEvents%22%3A%20true%2C%20%22color%22%3A%20%22blue%22%2C%20%22dashArray%22%3A%20null%2C%20%22dashOffset%22%3A%20null%2C%20%22fill%22%3A%20true%2C%20%22fillColor%22%3A%20%22%233186cc%22%2C%20%22fillOpacity%22%3A%200.7%2C%20%22fillRule%22%3A%20%22evenodd%22%2C%20%22lineCap%22%3A%20%22round%22%2C%20%22lineJoin%22%3A%20%22round%22%2C%20%22opacity%22%3A%201.0%2C%20%22radius%22%3A%205%2C%20%22stroke%22%3A%20true%2C%20%22weight%22%3A%203%7D%0A%20%20%20%20%20%20%20%20%20%20%20%20%29.addTo%28map_1f6f8be6c9b840e0aa498d4c123af1fb%29%3B%0A%20%20%20%20%20%20%20%20%0A%20%20%20%20%0A%20%20%20%20%20%20%20%20var%20popup_e819f65936494c0391c1f36559f9debd%20%3D%20L.popup%28%7B%22maxWidth%22%3A%20%22100%25%22%7D%29%3B%0A%0A%20%20%20%20%20%20%20%20%0A%20%20%20%20%20%20%20%20%20%20%20%20var%20html_c02c8d4106114430a9b5299242dbc5e5%20%3D%20%24%28%60%3Cdiv%20id%3D%22html_c02c8d4106114430a9b5299242dbc5e5%22%20style%3D%22width%3A%20100.0%25%3B%20height%3A%20100.0%25%3B%22%3EChristie%2C%20Downtown%20Toronto%3C/div%3E%60%29%5B0%5D%3B%0A%20%20%20%20%20%20%20%20%20%20%20%20popup_e819f65936494c0391c1f36559f9debd.setContent%28html_c02c8d4106114430a9b5299242dbc5e5%29%3B%0A%20%20%20%20%20%20%20%20%0A%0A%20%20%20%20%20%20%20%20circle_marker_cd8ea427147b46e08c87728b0d5c8c1b.bindPopup%28popup_e819f65936494c0391c1f36559f9debd%29%0A%20%20%20%20%20%20%20%20%3B%0A%0A%20%20%20%20%20%20%20%20%0A%20%20%20%20%0A%20%20%20%20%0A%20%20%20%20%20%20%20%20%20%20%20%20var%20circle_marker_ae813441b19141f4b1bd94774c49ac41%20%3D%20L.circleMarker%28%0A%20%20%20%20%20%20%20%20%20%20%20%20%20%20%20%20%5B43.6505712%2C%20-79.3845675%5D%2C%0A%20%20%20%20%20%20%20%20%20%20%20%20%20%20%20%20%7B%22bubblingMouseEvents%22%3A%20true%2C%20%22color%22%3A%20%22blue%22%2C%20%22dashArray%22%3A%20null%2C%20%22dashOffset%22%3A%20null%2C%20%22fill%22%3A%20true%2C%20%22fillColor%22%3A%20%22%233186cc%22%2C%20%22fillOpacity%22%3A%200.7%2C%20%22fillRule%22%3A%20%22evenodd%22%2C%20%22lineCap%22%3A%20%22round%22%2C%20%22lineJoin%22%3A%20%22round%22%2C%20%22opacity%22%3A%201.0%2C%20%22radius%22%3A%205%2C%20%22stroke%22%3A%20true%2C%20%22weight%22%3A%203%7D%0A%20%20%20%20%20%20%20%20%20%20%20%20%29.addTo%28map_1f6f8be6c9b840e0aa498d4c123af1fb%29%3B%0A%20%20%20%20%20%20%20%20%0A%20%20%20%20%0A%20%20%20%20%20%20%20%20var%20popup_721b7f5307184d0591aef3e584febd5b%20%3D%20L.popup%28%7B%22maxWidth%22%3A%20%22100%25%22%7D%29%3B%0A%0A%20%20%20%20%20%20%20%20%0A%20%20%20%20%20%20%20%20%20%20%20%20var%20html_ddaa23653cac4db59650d850a8b753bb%20%3D%20%24%28%60%3Cdiv%20id%3D%22html_ddaa23653cac4db59650d850a8b753bb%22%20style%3D%22width%3A%20100.0%25%3B%20height%3A%20100.0%25%3B%22%3ERichmond%2C%20Adelaide%2C%20King%2C%20Downtown%20Toronto%3C/div%3E%60%29%5B0%5D%3B%0A%20%20%20%20%20%20%20%20%20%20%20%20popup_721b7f5307184d0591aef3e584febd5b.setContent%28html_ddaa23653cac4db59650d850a8b753bb%29%3B%0A%20%20%20%20%20%20%20%20%0A%0A%20%20%20%20%20%20%20%20circle_marker_ae813441b19141f4b1bd94774c49ac41.bindPopup%28popup_721b7f5307184d0591aef3e584febd5b%29%0A%20%20%20%20%20%20%20%20%3B%0A%0A%20%20%20%20%20%20%20%20%0A%20%20%20%20%0A%20%20%20%20%0A%20%20%20%20%20%20%20%20%20%20%20%20var%20circle_marker_efb82a6e4ad9483ab90dc864bef74e6b%20%3D%20L.circleMarker%28%0A%20%20%20%20%20%20%20%20%20%20%20%20%20%20%20%20%5B43.6408157%2C%20-79.3817523%5D%2C%0A%20%20%20%20%20%20%20%20%20%20%20%20%20%20%20%20%7B%22bubblingMouseEvents%22%3A%20true%2C%20%22color%22%3A%20%22blue%22%2C%20%22dashArray%22%3A%20null%2C%20%22dashOffset%22%3A%20null%2C%20%22fill%22%3A%20true%2C%20%22fillColor%22%3A%20%22%233186cc%22%2C%20%22fillOpacity%22%3A%200.7%2C%20%22fillRule%22%3A%20%22evenodd%22%2C%20%22lineCap%22%3A%20%22round%22%2C%20%22lineJoin%22%3A%20%22round%22%2C%20%22opacity%22%3A%201.0%2C%20%22radius%22%3A%205%2C%20%22stroke%22%3A%20true%2C%20%22weight%22%3A%203%7D%0A%20%20%20%20%20%20%20%20%20%20%20%20%29.addTo%28map_1f6f8be6c9b840e0aa498d4c123af1fb%29%3B%0A%20%20%20%20%20%20%20%20%0A%20%20%20%20%0A%20%20%20%20%20%20%20%20var%20popup_748ba5f6bac44902a0ab301ff44fb529%20%3D%20L.popup%28%7B%22maxWidth%22%3A%20%22100%25%22%7D%29%3B%0A%0A%20%20%20%20%20%20%20%20%0A%20%20%20%20%20%20%20%20%20%20%20%20var%20html_f0ed5449d1304009aea7b8c292e9a36e%20%3D%20%24%28%60%3Cdiv%20id%3D%22html_f0ed5449d1304009aea7b8c292e9a36e%22%20style%3D%22width%3A%20100.0%25%3B%20height%3A%20100.0%25%3B%22%3EHarbourfront%20East%2C%20Union%20Station%2C%20Toronto%20Islands%2C%20Downtown%20Toronto%3C/div%3E%60%29%5B0%5D%3B%0A%20%20%20%20%20%20%20%20%20%20%20%20popup_748ba5f6bac44902a0ab301ff44fb529.setContent%28html_f0ed5449d1304009aea7b8c292e9a36e%29%3B%0A%20%20%20%20%20%20%20%20%0A%0A%20%20%20%20%20%20%20%20circle_marker_efb82a6e4ad9483ab90dc864bef74e6b.bindPopup%28popup_748ba5f6bac44902a0ab301ff44fb529%29%0A%20%20%20%20%20%20%20%20%3B%0A%0A%20%20%20%20%20%20%20%20%0A%20%20%20%20%0A%20%20%20%20%0A%20%20%20%20%20%20%20%20%20%20%20%20var%20circle_marker_201357d0f93847d584ea696d2a0847e3%20%3D%20L.circleMarker%28%0A%20%20%20%20%20%20%20%20%20%20%20%20%20%20%20%20%5B43.6471768%2C%20-79.3815764%5D%2C%0A%20%20%20%20%20%20%20%20%20%20%20%20%20%20%20%20%7B%22bubblingMouseEvents%22%3A%20true%2C%20%22color%22%3A%20%22blue%22%2C%20%22dashArray%22%3A%20null%2C%20%22dashOffset%22%3A%20null%2C%20%22fill%22%3A%20true%2C%20%22fillColor%22%3A%20%22%233186cc%22%2C%20%22fillOpacity%22%3A%200.7%2C%20%22fillRule%22%3A%20%22evenodd%22%2C%20%22lineCap%22%3A%20%22round%22%2C%20%22lineJoin%22%3A%20%22round%22%2C%20%22opacity%22%3A%201.0%2C%20%22radius%22%3A%205%2C%20%22stroke%22%3A%20true%2C%20%22weight%22%3A%203%7D%0A%20%20%20%20%20%20%20%20%20%20%20%20%29.addTo%28map_1f6f8be6c9b840e0aa498d4c123af1fb%29%3B%0A%20%20%20%20%20%20%20%20%0A%20%20%20%20%0A%20%20%20%20%20%20%20%20var%20popup_d3d6ffa1daf140ed871ded1031b84c01%20%3D%20L.popup%28%7B%22maxWidth%22%3A%20%22100%25%22%7D%29%3B%0A%0A%20%20%20%20%20%20%20%20%0A%20%20%20%20%20%20%20%20%20%20%20%20var%20html_24b7fcb46248494fba7c60653f1fba1e%20%3D%20%24%28%60%3Cdiv%20id%3D%22html_24b7fcb46248494fba7c60653f1fba1e%22%20style%3D%22width%3A%20100.0%25%3B%20height%3A%20100.0%25%3B%22%3EToronto%20Dominion%20Centre%2C%20Design%20Exchange%2C%20Downtown%20Toronto%3C/div%3E%60%29%5B0%5D%3B%0A%20%20%20%20%20%20%20%20%20%20%20%20popup_d3d6ffa1daf140ed871ded1031b84c01.setContent%28html_24b7fcb46248494fba7c60653f1fba1e%29%3B%0A%20%20%20%20%20%20%20%20%0A%0A%20%20%20%20%20%20%20%20circle_marker_201357d0f93847d584ea696d2a0847e3.bindPopup%28popup_d3d6ffa1daf140ed871ded1031b84c01%29%0A%20%20%20%20%20%20%20%20%3B%0A%0A%20%20%20%20%20%20%20%20%0A%20%20%20%20%0A%20%20%20%20%0A%20%20%20%20%20%20%20%20%20%20%20%20var%20circle_marker_7bc80fd603184de886d3d963dac1c770%20%3D%20L.circleMarker%28%0A%20%20%20%20%20%20%20%20%20%20%20%20%20%20%20%20%5B43.6481985%2C%20-79.3798169%5D%2C%0A%20%20%20%20%20%20%20%20%20%20%20%20%20%20%20%20%7B%22bubblingMouseEvents%22%3A%20true%2C%20%22color%22%3A%20%22blue%22%2C%20%22dashArray%22%3A%20null%2C%20%22dashOffset%22%3A%20null%2C%20%22fill%22%3A%20true%2C%20%22fillColor%22%3A%20%22%233186cc%22%2C%20%22fillOpacity%22%3A%200.7%2C%20%22fillRule%22%3A%20%22evenodd%22%2C%20%22lineCap%22%3A%20%22round%22%2C%20%22lineJoin%22%3A%20%22round%22%2C%20%22opacity%22%3A%201.0%2C%20%22radius%22%3A%205%2C%20%22stroke%22%3A%20true%2C%20%22weight%22%3A%203%7D%0A%20%20%20%20%20%20%20%20%20%20%20%20%29.addTo%28map_1f6f8be6c9b840e0aa498d4c123af1fb%29%3B%0A%20%20%20%20%20%20%20%20%0A%20%20%20%20%0A%20%20%20%20%20%20%20%20var%20popup_eb02bcbf84494865a63fbe67d6513619%20%3D%20L.popup%28%7B%22maxWidth%22%3A%20%22100%25%22%7D%29%3B%0A%0A%20%20%20%20%20%20%20%20%0A%20%20%20%20%20%20%20%20%20%20%20%20var%20html_061351e4d52044fc83719f1eac120c89%20%3D%20%24%28%60%3Cdiv%20id%3D%22html_061351e4d52044fc83719f1eac120c89%22%20style%3D%22width%3A%20100.0%25%3B%20height%3A%20100.0%25%3B%22%3ECommerce%20Court%2C%20Victoria%20Hotel%2C%20Downtown%20Toronto%3C/div%3E%60%29%5B0%5D%3B%0A%20%20%20%20%20%20%20%20%20%20%20%20popup_eb02bcbf84494865a63fbe67d6513619.setContent%28html_061351e4d52044fc83719f1eac120c89%29%3B%0A%20%20%20%20%20%20%20%20%0A%0A%20%20%20%20%20%20%20%20circle_marker_7bc80fd603184de886d3d963dac1c770.bindPopup%28popup_eb02bcbf84494865a63fbe67d6513619%29%0A%20%20%20%20%20%20%20%20%3B%0A%0A%20%20%20%20%20%20%20%20%0A%20%20%20%20%0A%20%20%20%20%0A%20%20%20%20%20%20%20%20%20%20%20%20var%20circle_marker_10adecc9dbdc43d7b9214c381b3bb070%20%3D%20L.circleMarker%28%0A%20%20%20%20%20%20%20%20%20%20%20%20%20%20%20%20%5B43.6626956%2C%20-79.4000493%5D%2C%0A%20%20%20%20%20%20%20%20%20%20%20%20%20%20%20%20%7B%22bubblingMouseEvents%22%3A%20true%2C%20%22color%22%3A%20%22blue%22%2C%20%22dashArray%22%3A%20null%2C%20%22dashOffset%22%3A%20null%2C%20%22fill%22%3A%20true%2C%20%22fillColor%22%3A%20%22%233186cc%22%2C%20%22fillOpacity%22%3A%200.7%2C%20%22fillRule%22%3A%20%22evenodd%22%2C%20%22lineCap%22%3A%20%22round%22%2C%20%22lineJoin%22%3A%20%22round%22%2C%20%22opacity%22%3A%201.0%2C%20%22radius%22%3A%205%2C%20%22stroke%22%3A%20true%2C%20%22weight%22%3A%203%7D%0A%20%20%20%20%20%20%20%20%20%20%20%20%29.addTo%28map_1f6f8be6c9b840e0aa498d4c123af1fb%29%3B%0A%20%20%20%20%20%20%20%20%0A%20%20%20%20%0A%20%20%20%20%20%20%20%20var%20popup_f68c7a60378b48e8a1fd7717acae90e8%20%3D%20L.popup%28%7B%22maxWidth%22%3A%20%22100%25%22%7D%29%3B%0A%0A%20%20%20%20%20%20%20%20%0A%20%20%20%20%20%20%20%20%20%20%20%20var%20html_410f2af5f0d34377b846c4c9ebe2fd01%20%3D%20%24%28%60%3Cdiv%20id%3D%22html_410f2af5f0d34377b846c4c9ebe2fd01%22%20style%3D%22width%3A%20100.0%25%3B%20height%3A%20100.0%25%3B%22%3EUniversity%20of%20Toronto%2C%20Harbord%2C%20Downtown%20Toronto%3C/div%3E%60%29%5B0%5D%3B%0A%20%20%20%20%20%20%20%20%20%20%20%20popup_f68c7a60378b48e8a1fd7717acae90e8.setContent%28html_410f2af5f0d34377b846c4c9ebe2fd01%29%3B%0A%20%20%20%20%20%20%20%20%0A%0A%20%20%20%20%20%20%20%20circle_marker_10adecc9dbdc43d7b9214c381b3bb070.bindPopup%28popup_f68c7a60378b48e8a1fd7717acae90e8%29%0A%20%20%20%20%20%20%20%20%3B%0A%0A%20%20%20%20%20%20%20%20%0A%20%20%20%20%0A%20%20%20%20%0A%20%20%20%20%20%20%20%20%20%20%20%20var%20circle_marker_ae4ed5c2aeb64e0290747662797d1772%20%3D%20L.circleMarker%28%0A%20%20%20%20%20%20%20%20%20%20%20%20%20%20%20%20%5B43.6532057%2C%20-79.4000493%5D%2C%0A%20%20%20%20%20%20%20%20%20%20%20%20%20%20%20%20%7B%22bubblingMouseEvents%22%3A%20true%2C%20%22color%22%3A%20%22blue%22%2C%20%22dashArray%22%3A%20null%2C%20%22dashOffset%22%3A%20null%2C%20%22fill%22%3A%20true%2C%20%22fillColor%22%3A%20%22%233186cc%22%2C%20%22fillOpacity%22%3A%200.7%2C%20%22fillRule%22%3A%20%22evenodd%22%2C%20%22lineCap%22%3A%20%22round%22%2C%20%22lineJoin%22%3A%20%22round%22%2C%20%22opacity%22%3A%201.0%2C%20%22radius%22%3A%205%2C%20%22stroke%22%3A%20true%2C%20%22weight%22%3A%203%7D%0A%20%20%20%20%20%20%20%20%20%20%20%20%29.addTo%28map_1f6f8be6c9b840e0aa498d4c123af1fb%29%3B%0A%20%20%20%20%20%20%20%20%0A%20%20%20%20%0A%20%20%20%20%20%20%20%20var%20popup_63335c3d4f5142bf86aa7ec5e26049c5%20%3D%20L.popup%28%7B%22maxWidth%22%3A%20%22100%25%22%7D%29%3B%0A%0A%20%20%20%20%20%20%20%20%0A%20%20%20%20%20%20%20%20%20%20%20%20var%20html_5e1b8546b8c04df69c89cdf91e34afd7%20%3D%20%24%28%60%3Cdiv%20id%3D%22html_5e1b8546b8c04df69c89cdf91e34afd7%22%20style%3D%22width%3A%20100.0%25%3B%20height%3A%20100.0%25%3B%22%3EKensington%20Market%2C%20Chinatown%2C%20Grange%20Park%2C%20Downtown%20Toronto%3C/div%3E%60%29%5B0%5D%3B%0A%20%20%20%20%20%20%20%20%20%20%20%20popup_63335c3d4f5142bf86aa7ec5e26049c5.setContent%28html_5e1b8546b8c04df69c89cdf91e34afd7%29%3B%0A%20%20%20%20%20%20%20%20%0A%0A%20%20%20%20%20%20%20%20circle_marker_ae4ed5c2aeb64e0290747662797d1772.bindPopup%28popup_63335c3d4f5142bf86aa7ec5e26049c5%29%0A%20%20%20%20%20%20%20%20%3B%0A%0A%20%20%20%20%20%20%20%20%0A%20%20%20%20%0A%20%20%20%20%0A%20%20%20%20%20%20%20%20%20%20%20%20var%20circle_marker_fb2aa60fa9e446d8abb6257b2ad52367%20%3D%20L.circleMarker%28%0A%20%20%20%20%20%20%20%20%20%20%20%20%20%20%20%20%5B43.6289467%2C%20-79.3944199%5D%2C%0A%20%20%20%20%20%20%20%20%20%20%20%20%20%20%20%20%7B%22bubblingMouseEvents%22%3A%20true%2C%20%22color%22%3A%20%22blue%22%2C%20%22dashArray%22%3A%20null%2C%20%22dashOffset%22%3A%20null%2C%20%22fill%22%3A%20true%2C%20%22fillColor%22%3A%20%22%233186cc%22%2C%20%22fillOpacity%22%3A%200.7%2C%20%22fillRule%22%3A%20%22evenodd%22%2C%20%22lineCap%22%3A%20%22round%22%2C%20%22lineJoin%22%3A%20%22round%22%2C%20%22opacity%22%3A%201.0%2C%20%22radius%22%3A%205%2C%20%22stroke%22%3A%20true%2C%20%22weight%22%3A%203%7D%0A%20%20%20%20%20%20%20%20%20%20%20%20%29.addTo%28map_1f6f8be6c9b840e0aa498d4c123af1fb%29%3B%0A%20%20%20%20%20%20%20%20%0A%20%20%20%20%0A%20%20%20%20%20%20%20%20var%20popup_7982323e973e419398f9c1e1fa99b8d1%20%3D%20L.popup%28%7B%22maxWidth%22%3A%20%22100%25%22%7D%29%3B%0A%0A%20%20%20%20%20%20%20%20%0A%20%20%20%20%20%20%20%20%20%20%20%20var%20html_372c7a4f861c450e920a8df94f761309%20%3D%20%24%28%60%3Cdiv%20id%3D%22html_372c7a4f861c450e920a8df94f761309%22%20style%3D%22width%3A%20100.0%25%3B%20height%3A%20100.0%25%3B%22%3ECN%20Tower%2C%20King%20and%20Spadina%2C%20Railway%20Lands%2C%20Harbourfront%20West%2C%20Bathurst%20Quay%2C%20South%20Niagara%2C%20Island%20airport%2C%20Downtown%20Toronto%3C/div%3E%60%29%5B0%5D%3B%0A%20%20%20%20%20%20%20%20%20%20%20%20popup_7982323e973e419398f9c1e1fa99b8d1.setContent%28html_372c7a4f861c450e920a8df94f761309%29%3B%0A%20%20%20%20%20%20%20%20%0A%0A%20%20%20%20%20%20%20%20circle_marker_fb2aa60fa9e446d8abb6257b2ad52367.bindPopup%28popup_7982323e973e419398f9c1e1fa99b8d1%29%0A%20%20%20%20%20%20%20%20%3B%0A%0A%20%20%20%20%20%20%20%20%0A%20%20%20%20%0A%20%20%20%20%0A%20%20%20%20%20%20%20%20%20%20%20%20var%20circle_marker_e2ec9bcec9a04eecaf2308d803cdb744%20%3D%20L.circleMarker%28%0A%20%20%20%20%20%20%20%20%20%20%20%20%20%20%20%20%5B43.6795626%2C%20-79.3775294%5D%2C%0A%20%20%20%20%20%20%20%20%20%20%20%20%20%20%20%20%7B%22bubblingMouseEvents%22%3A%20true%2C%20%22color%22%3A%20%22blue%22%2C%20%22dashArray%22%3A%20null%2C%20%22dashOffset%22%3A%20null%2C%20%22fill%22%3A%20true%2C%20%22fillColor%22%3A%20%22%233186cc%22%2C%20%22fillOpacity%22%3A%200.7%2C%20%22fillRule%22%3A%20%22evenodd%22%2C%20%22lineCap%22%3A%20%22round%22%2C%20%22lineJoin%22%3A%20%22round%22%2C%20%22opacity%22%3A%201.0%2C%20%22radius%22%3A%205%2C%20%22stroke%22%3A%20true%2C%20%22weight%22%3A%203%7D%0A%20%20%20%20%20%20%20%20%20%20%20%20%29.addTo%28map_1f6f8be6c9b840e0aa498d4c123af1fb%29%3B%0A%20%20%20%20%20%20%20%20%0A%20%20%20%20%0A%20%20%20%20%20%20%20%20var%20popup_3cde55cf4f374209b5d543944c5acd89%20%3D%20L.popup%28%7B%22maxWidth%22%3A%20%22100%25%22%7D%29%3B%0A%0A%20%20%20%20%20%20%20%20%0A%20%20%20%20%20%20%20%20%20%20%20%20var%20html_e994ae62fc6a47568793cb085c043e59%20%3D%20%24%28%60%3Cdiv%20id%3D%22html_e994ae62fc6a47568793cb085c043e59%22%20style%3D%22width%3A%20100.0%25%3B%20height%3A%20100.0%25%3B%22%3ERosedale%2C%20Downtown%20Toronto%3C/div%3E%60%29%5B0%5D%3B%0A%20%20%20%20%20%20%20%20%20%20%20%20popup_3cde55cf4f374209b5d543944c5acd89.setContent%28html_e994ae62fc6a47568793cb085c043e59%29%3B%0A%20%20%20%20%20%20%20%20%0A%0A%20%20%20%20%20%20%20%20circle_marker_e2ec9bcec9a04eecaf2308d803cdb744.bindPopup%28popup_3cde55cf4f374209b5d543944c5acd89%29%0A%20%20%20%20%20%20%20%20%3B%0A%0A%20%20%20%20%20%20%20%20%0A%20%20%20%20%0A%20%20%20%20%0A%20%20%20%20%20%20%20%20%20%20%20%20var%20circle_marker_84dc8b40617947e29e20378e3b75e4cf%20%3D%20L.circleMarker%28%0A%20%20%20%20%20%20%20%20%20%20%20%20%20%20%20%20%5B43.6464352%2C%20-79.374846%5D%2C%0A%20%20%20%20%20%20%20%20%20%20%20%20%20%20%20%20%7B%22bubblingMouseEvents%22%3A%20true%2C%20%22color%22%3A%20%22blue%22%2C%20%22dashArray%22%3A%20null%2C%20%22dashOffset%22%3A%20null%2C%20%22fill%22%3A%20true%2C%20%22fillColor%22%3A%20%22%233186cc%22%2C%20%22fillOpacity%22%3A%200.7%2C%20%22fillRule%22%3A%20%22evenodd%22%2C%20%22lineCap%22%3A%20%22round%22%2C%20%22lineJoin%22%3A%20%22round%22%2C%20%22opacity%22%3A%201.0%2C%20%22radius%22%3A%205%2C%20%22stroke%22%3A%20true%2C%20%22weight%22%3A%203%7D%0A%20%20%20%20%20%20%20%20%20%20%20%20%29.addTo%28map_1f6f8be6c9b840e0aa498d4c123af1fb%29%3B%0A%20%20%20%20%20%20%20%20%0A%20%20%20%20%0A%20%20%20%20%20%20%20%20var%20popup_e9eba341459f4c17a146bb3c5e3ffdc6%20%3D%20L.popup%28%7B%22maxWidth%22%3A%20%22100%25%22%7D%29%3B%0A%0A%20%20%20%20%20%20%20%20%0A%20%20%20%20%20%20%20%20%20%20%20%20var%20html_6dff50cab3364db7a7d8ebb698ef3247%20%3D%20%24%28%60%3Cdiv%20id%3D%22html_6dff50cab3364db7a7d8ebb698ef3247%22%20style%3D%22width%3A%20100.0%25%3B%20height%3A%20100.0%25%3B%22%3EEnclave%20of%20M5E%2C%20Downtown%20TorontoStn%20A%20PO%20Boxes25%20The%20Esplanade%3C/div%3E%60%29%5B0%5D%3B%0A%20%20%20%20%20%20%20%20%20%20%20%20popup_e9eba341459f4c17a146bb3c5e3ffdc6.setContent%28html_6dff50cab3364db7a7d8ebb698ef3247%29%3B%0A%20%20%20%20%20%20%20%20%0A%0A%20%20%20%20%20%20%20%20circle_marker_84dc8b40617947e29e20378e3b75e4cf.bindPopup%28popup_e9eba341459f4c17a146bb3c5e3ffdc6%29%0A%20%20%20%20%20%20%20%20%3B%0A%0A%20%20%20%20%20%20%20%20%0A%20%20%20%20%0A%20%20%20%20%0A%20%20%20%20%20%20%20%20%20%20%20%20var%20circle_marker_6d45cea5ec0b47b6a45512202fab4987%20%3D%20L.circleMarker%28%0A%20%20%20%20%20%20%20%20%20%20%20%20%20%20%20%20%5B43.667967%2C%20-79.3676753%5D%2C%0A%20%20%20%20%20%20%20%20%20%20%20%20%20%20%20%20%7B%22bubblingMouseEvents%22%3A%20true%2C%20%22color%22%3A%20%22blue%22%2C%20%22dashArray%22%3A%20null%2C%20%22dashOffset%22%3A%20null%2C%20%22fill%22%3A%20true%2C%20%22fillColor%22%3A%20%22%233186cc%22%2C%20%22fillOpacity%22%3A%200.7%2C%20%22fillRule%22%3A%20%22evenodd%22%2C%20%22lineCap%22%3A%20%22round%22%2C%20%22lineJoin%22%3A%20%22round%22%2C%20%22opacity%22%3A%201.0%2C%20%22radius%22%3A%205%2C%20%22stroke%22%3A%20true%2C%20%22weight%22%3A%203%7D%0A%20%20%20%20%20%20%20%20%20%20%20%20%29.addTo%28map_1f6f8be6c9b840e0aa498d4c123af1fb%29%3B%0A%20%20%20%20%20%20%20%20%0A%20%20%20%20%0A%20%20%20%20%20%20%20%20var%20popup_45a084cd0d6f4214a0a01637a0edb9c4%20%3D%20L.popup%28%7B%22maxWidth%22%3A%20%22100%25%22%7D%29%3B%0A%0A%20%20%20%20%20%20%20%20%0A%20%20%20%20%20%20%20%20%20%20%20%20var%20html_afffbe0dbedc454a8415122fb562ea3e%20%3D%20%24%28%60%3Cdiv%20id%3D%22html_afffbe0dbedc454a8415122fb562ea3e%22%20style%3D%22width%3A%20100.0%25%3B%20height%3A%20100.0%25%3B%22%3ESt.%20James%20Town%2C%20Cabbagetown%2C%20Downtown%20Toronto%3C/div%3E%60%29%5B0%5D%3B%0A%20%20%20%20%20%20%20%20%20%20%20%20popup_45a084cd0d6f4214a0a01637a0edb9c4.setContent%28html_afffbe0dbedc454a8415122fb562ea3e%29%3B%0A%20%20%20%20%20%20%20%20%0A%0A%20%20%20%20%20%20%20%20circle_marker_6d45cea5ec0b47b6a45512202fab4987.bindPopup%28popup_45a084cd0d6f4214a0a01637a0edb9c4%29%0A%20%20%20%20%20%20%20%20%3B%0A%0A%20%20%20%20%20%20%20%20%0A%20%20%20%20%0A%20%20%20%20%0A%20%20%20%20%20%20%20%20%20%20%20%20var%20circle_marker_abfc64e8eb164afba1ad4d0485f06648%20%3D%20L.circleMarker%28%0A%20%20%20%20%20%20%20%20%20%20%20%20%20%20%20%20%5B43.6484292%2C%20-79.3822802%5D%2C%0A%20%20%20%20%20%20%20%20%20%20%20%20%20%20%20%20%7B%22bubblingMouseEvents%22%3A%20true%2C%20%22color%22%3A%20%22blue%22%2C%20%22dashArray%22%3A%20null%2C%20%22dashOffset%22%3A%20null%2C%20%22fill%22%3A%20true%2C%20%22fillColor%22%3A%20%22%233186cc%22%2C%20%22fillOpacity%22%3A%200.7%2C%20%22fillRule%22%3A%20%22evenodd%22%2C%20%22lineCap%22%3A%20%22round%22%2C%20%22lineJoin%22%3A%20%22round%22%2C%20%22opacity%22%3A%201.0%2C%20%22radius%22%3A%205%2C%20%22stroke%22%3A%20true%2C%20%22weight%22%3A%203%7D%0A%20%20%20%20%20%20%20%20%20%20%20%20%29.addTo%28map_1f6f8be6c9b840e0aa498d4c123af1fb%29%3B%0A%20%20%20%20%20%20%20%20%0A%20%20%20%20%0A%20%20%20%20%20%20%20%20var%20popup_2016e9dc3dfe450cb15733cbf9429b1e%20%3D%20L.popup%28%7B%22maxWidth%22%3A%20%22100%25%22%7D%29%3B%0A%0A%20%20%20%20%20%20%20%20%0A%20%20%20%20%20%20%20%20%20%20%20%20var%20html_fabf35ceb9c84bdc8b290ee29eb9eb32%20%3D%20%24%28%60%3Cdiv%20id%3D%22html_fabf35ceb9c84bdc8b290ee29eb9eb32%22%20style%3D%22width%3A%20100.0%25%3B%20height%3A%20100.0%25%3B%22%3EFirst%20Canadian%20Place%2C%20Underground%20city%2C%20Downtown%20Toronto%3C/div%3E%60%29%5B0%5D%3B%0A%20%20%20%20%20%20%20%20%20%20%20%20popup_2016e9dc3dfe450cb15733cbf9429b1e.setContent%28html_fabf35ceb9c84bdc8b290ee29eb9eb32%29%3B%0A%20%20%20%20%20%20%20%20%0A%0A%20%20%20%20%20%20%20%20circle_marker_abfc64e8eb164afba1ad4d0485f06648.bindPopup%28popup_2016e9dc3dfe450cb15733cbf9429b1e%29%0A%20%20%20%20%20%20%20%20%3B%0A%0A%20%20%20%20%20%20%20%20%0A%20%20%20%20%0A%20%20%20%20%0A%20%20%20%20%20%20%20%20%20%20%20%20var%20circle_marker_38f005acb99b434ea191948b364b9437%20%3D%20L.circleMarker%28%0A%20%20%20%20%20%20%20%20%20%20%20%20%20%20%20%20%5B43.6658599%2C%20-79.3831599%5D%2C%0A%20%20%20%20%20%20%20%20%20%20%20%20%20%20%20%20%7B%22bubblingMouseEvents%22%3A%20true%2C%20%22color%22%3A%20%22blue%22%2C%20%22dashArray%22%3A%20null%2C%20%22dashOffset%22%3A%20null%2C%20%22fill%22%3A%20true%2C%20%22fillColor%22%3A%20%22%233186cc%22%2C%20%22fillOpacity%22%3A%200.7%2C%20%22fillRule%22%3A%20%22evenodd%22%2C%20%22lineCap%22%3A%20%22round%22%2C%20%22lineJoin%22%3A%20%22round%22%2C%20%22opacity%22%3A%201.0%2C%20%22radius%22%3A%205%2C%20%22stroke%22%3A%20true%2C%20%22weight%22%3A%203%7D%0A%20%20%20%20%20%20%20%20%20%20%20%20%29.addTo%28map_1f6f8be6c9b840e0aa498d4c123af1fb%29%3B%0A%20%20%20%20%20%20%20%20%0A%20%20%20%20%0A%20%20%20%20%20%20%20%20var%20popup_3c4cf28221144882833f90ef2e38f36a%20%3D%20L.popup%28%7B%22maxWidth%22%3A%20%22100%25%22%7D%29%3B%0A%0A%20%20%20%20%20%20%20%20%0A%20%20%20%20%20%20%20%20%20%20%20%20var%20html_89f16cca5303462d826911f76cf98d1c%20%3D%20%24%28%60%3Cdiv%20id%3D%22html_89f16cca5303462d826911f76cf98d1c%22%20style%3D%22width%3A%20100.0%25%3B%20height%3A%20100.0%25%3B%22%3EChurch%20and%20Wellesley%2C%20Downtown%20Toronto%3C/div%3E%60%29%5B0%5D%3B%0A%20%20%20%20%20%20%20%20%20%20%20%20popup_3c4cf28221144882833f90ef2e38f36a.setContent%28html_89f16cca5303462d826911f76cf98d1c%29%3B%0A%20%20%20%20%20%20%20%20%0A%0A%20%20%20%20%20%20%20%20circle_marker_38f005acb99b434ea191948b364b9437.bindPopup%28popup_3c4cf28221144882833f90ef2e38f36a%29%0A%20%20%20%20%20%20%20%20%3B%0A%0A%20%20%20%20%20%20%20%20%0A%20%20%20%20%0A%3C/script%3E onload=\"this.contentDocument.open();this.contentDocument.write(    decodeURIComponent(this.getAttribute('data-html')));this.contentDocument.close();\" allowfullscreen webkitallowfullscreen mozallowfullscreen></iframe></div></div>"
          },
          "metadata": {},
          "execution_count": 18
        }
      ],
      "metadata": {}
    },
    {
      "cell_type": "markdown",
      "source": [
        "#### Let's explore the first neighborhood in our dataframe."
      ],
      "attachments": {},
      "metadata": {}
    },
    {
      "cell_type": "markdown",
      "source": [
        "##### Get the neighborhood's name."
      ],
      "attachments": {},
      "metadata": {}
    },
    {
      "cell_type": "code",
      "source": [
        "toronto_data.loc[0, 'Neighborhood']"
      ],
      "execution_count": 19,
      "outputs": [
        {
          "output_type": "execute_result",
          "data": {
            "text/plain": [
              "'Regent Park, Harbourfront'"
            ]
          },
          "metadata": {},
          "execution_count": 19
        }
      ],
      "metadata": {}
    },
    {
      "cell_type": "markdown",
      "source": [
        "##### Get the neighborhood's latitude and longitude values."
      ],
      "attachments": {},
      "metadata": {}
    },
    {
      "cell_type": "code",
      "source": [
        "\n",
        "neighborhood_latitude = toronto_data.loc[0, 'Latitude'] # neighborhood latitude value\n",
        "neighborhood_longitude = toronto_data.loc[0, 'Longitude'] # neighborhood longitude value\n",
        "\n",
        "neighborhood_name = toronto_data.loc[0, 'Neighborhood'] # neighborhood name\n",
        "\n",
        "print('Latitude and longitude values of {} are {}, {}.'.format(neighborhood_name, \n",
        "                                                               neighborhood_latitude, \n",
        "                                                               neighborhood_longitude))"
      ],
      "execution_count": 20,
      "outputs": [
        {
          "output_type": "stream",
          "name": "stdout",
          "text": [
            "Latitude and longitude values of Regent Park, Harbourfront are 43.6542599, -79.3606359.\n"
          ]
        }
      ],
      "metadata": {}
    },
    {
      "cell_type": "markdown",
      "source": [
        "Now, let's get the top 100 venues that are in *\"Regent Park, Harbourfront\"* within a radius of 500 meters."
      ],
      "attachments": {},
      "metadata": {}
    },
    {
      "cell_type": "code",
      "source": [
        "LIMIT = 100 # limit of number of venues returned by Foursquare API\n",
        "radius = 500 # define radius\n",
        "\n",
        "# create URL\n",
        "url = 'https://api.foursquare.com/v2/venues/explore?&client_id={}&client_secret={}&v={}&ll={},{}&radius={}&limit={}'.format(\n",
        "    CLIENT_ID, \n",
        "    CLIENT_SECRET, \n",
        "    VERSION, \n",
        "    neighborhood_latitude, \n",
        "    neighborhood_longitude, \n",
        "    radius, \n",
        "    LIMIT)\n",
        "url # display URL"
      ],
      "execution_count": 21,
      "outputs": [
        {
          "output_type": "execute_result",
          "data": {
            "text/plain": [
              "'https://api.foursquare.com/v2/venues/explore?&client_id=2GEAB5OS4EDLSI2P4HOBOI5R5HVZJOLHXMY1RZKC3UCDGJBL&client_secret=YFPVHLUPBSZVUY53FJCRH0WH43OZUQUDVYFZ1SI30IQLF3P2&v=20180605&ll=43.6542599,-79.3606359&radius=500&limit=100'"
            ]
          },
          "metadata": {},
          "execution_count": 21
        }
      ],
      "metadata": {}
    },
    {
      "cell_type": "markdown",
      "source": [
        "Send the GET request and examine the results"
      ],
      "attachments": {},
      "metadata": {}
    },
    {
      "cell_type": "code",
      "source": [
        "results = requests.get(url).json()\n",
        "results"
      ],
      "execution_count": 22,
      "outputs": [
        {
          "output_type": "execute_result",
          "data": {
            "text/plain": [
              "565116074695,\n",
              "        'lng': -79.35784287026658,\n",
              "        'labeledLatLngs': [{'label': 'display',\n",
              "          'lat': 43.650565116074695,\n",
              "          'lng': -79.35784287026658}],\n",
              "        'distance': 468,\n",
              "        'postalCode': 'M5A 3C4',\n",
              "        'cc': 'CA',\n",
              "        'neighborhood': 'Distillery District, Toronto, ON',\n",
              "        'city': 'Toronto',\n",
              "        'state': 'ON',\n",
              "        'country': 'Canada',\n",
              "        'formattedAddress': ['35 Tank House Lane',\n",
              "         'Toronto ON M5A 3C4',\n",
              "         'Canada']},\n",
              "       'categories': [{'id': '4bf58dd8d48988d10c941735',\n",
              "         'name': 'French Restaurant',\n",
              "         'pluralName': 'French Restaurants',\n",
              "         'shortName': 'French',\n",
              "         'icon': {'prefix': 'https://ss3.4sqi.net/img/categories_v2/food/french_',\n",
              "          'suffix': '.png'},\n",
              "         'primary': True}],\n",
              "       'photos': {'count': 0, 'groups': []},\n",
              "       'venuePage': {'id': '199972479'}},\n",
              "      'referralId': 'e-0-53a22c92498ec91fda7ce133-25'},\n",
              "     {'reasons': {'count': 0,\n",
              "       'items': [{'summary': 'This spot is popular',\n",
              "         'type': 'general',\n",
              "         'reasonName': 'globalInteractionReason'}]},\n",
              "      'venue': {'id': '566e1294498e3f6629006bc3',\n",
              "       'name': 'Dominion Pub and Kitchen',\n",
              "       'location': {'address': '500 Queen Street East',\n",
              "        'lat': 43.65691857501867,\n",
              "        'lng': -79.35896684476664,\n",
              "        'labeledLatLngs': [{'label': 'display',\n",
              "          'lat': 43.65691857501867,\n",
              "          'lng': -79.35896684476664}],\n",
              "        'distance': 325,\n",
              "        'postalCode': 'M5A 1T9',\n",
              "        'cc': 'CA',\n",
              "        'city': 'Toronto',\n",
              "        'state': 'ON',\n",
              "        'country': 'Canada',\n",
              "        'formattedAddress': ['500 Queen Street East',\n",
              "         'Toronto ON M5A 1T9',\n",
              "         'Canada']},\n",
              "       'categories': [{'id': '4bf58dd8d48988d11b941735',\n",
              "         'name': 'Pub',\n",
              "         'pluralName': 'Pubs',\n",
              "         'shortName': 'Pub',\n",
              "         'icon': {'prefix': 'https://ss3.4sqi.net/img/categories_v2/nightlife/pub_',\n",
              "          'suffix': '.png'},\n",
              "         'primary': True}],\n",
              "       'photos': {'count': 0, 'groups': []}},\n",
              "      'referralId': 'e-0-566e1294498e3f6629006bc3-26'},\n",
              "     {'reasons': {'count': 0,\n",
              "       'items': [{'summary': 'This spot is popular',\n",
              "         'type': 'general',\n",
              "         'reasonName': 'globalInteractionReason'}]},\n",
              "      'venue': {'id': '4ae5b91ff964a520a6a121e3',\n",
              "       'name': 'Morning Glory Cafe',\n",
              "       'location': {'address': '457 King St. E',\n",
              "        'crossStreet': 'Gilead Place',\n",
              "        'lat': 43.653946942635294,\n",
              "        'lng': -79.36114884214422,\n",
              "        'labeledLatLngs': [{'label': 'display',\n",
              "          'lat': 43.653946942635294,\n",
              "          'lng': -79.36114884214422}],\n",
              "        'distance': 54,\n",
              "        'postalCode': 'M5A 1L6',\n",
              "        'cc': 'CA',\n",
              "        'city': 'Toronto',\n",
              "        'state': 'ON',\n",
              "        'country': 'Canada',\n",
              "        'formattedAddress': ['457 King St. E (Gilead Place)',\n",
              "         'Toronto ON M5A 1L6',\n",
              "         'Canada']},\n",
              "       'categories': [{'id': '4bf58dd8d48988d143941735',\n",
              "         'name': 'Breakfast Spot',\n",
              "         'pluralName': 'Breakfast Spots',\n",
              "         'shortName': 'Breakfast',\n",
              "         'icon': {'prefix': 'https://ss3.4sqi.net/img/categories_v2/food/breakfast_',\n",
              "          'suffix': '.png'},\n",
              "         'primary': True}],\n",
              "       'photos': {'count': 0, 'groups': []},\n",
              "       'venuePage': {'id': '39686393'}},\n",
              "      'referralId': 'e-0-4ae5b91ff964a520a6a121e3-27'},\n",
              "     {'reasons': {'count': 0,\n",
              "       'items': [{'summary': 'This spot is popular',\n",
              "         'type': 'general',\n",
              "         'reasonName': 'globalInteractionReason'}]},\n",
              "      'venue': {'id': '4b8acdfdf964a520378232e3',\n",
              "       'name': 'The Beer Store',\n",
              "       'location': {'address': '28 River Street',\n",
              "        'crossStreet': 'Queen St E',\n",
              "        'lat': 43.657773,\n",
              "        'lng': -79.3574632,\n",
              "        'labeledLatLngs': [{'label': 'display',\n",
              "          'lat': 43.657773,\n",
              "          'lng': -79.3574632}],\n",
              "        'distance': 467,\n",
              "        'postalCode': 'M5A 3N9',\n",
              "        'cc': 'CA',\n",
              "        'city': 'Toronto',\n",
              "        'state': 'ON',\n",
              "        'country': 'Canada',\n",
              "        'formattedAddress': ['28 River Street (Queen St E)',\n",
              "         'Toronto ON M5A 3N9',\n",
              "         'Canada']},\n",
              "       'categories': [{'id': '5370f356bcbc57f1066c94c2',\n",
              "         'name': 'Beer Store',\n",
              "         'pluralName': 'Beer Stores',\n",
              "         'shortName': 'Beer Store',\n",
              "         'icon': {'prefix': 'https://ss3.4sqi.net/img/categories_v2/nightlife/beergarden_',\n",
              "          'suffix': '.png'},\n",
              "         'primary': True}],\n",
              "       'photos': {'count': 0, 'groups': []}},\n",
              "      'referralId': 'e-0-4b8acdfdf964a520378232e3-28'},\n",
              "     {'reasons': {'count': 0,\n",
              "       'items': [{'summary': 'This spot is popular',\n",
              "         'type': 'general',\n",
              "         'reasonName': 'globalInteractionReason'}]},\n",
              "      'venue': {'id': '4af21e78f964a520fae521e3',\n",
              "       'name': 'Arta Gallery',\n",
              "       'location': {'address': '14 Distillery Lane',\n",
              "        'crossStreet': 'Distillery District',\n",
              "        'lat': 43.650022181882065,\n",
              "        'lng': -79.36122168476822,\n",
              "        'labeledLatLngs': [{'label': 'display',\n",
              "          'lat': 43.650022181882065,\n",
              "          'lng': -79.36122168476822}],\n",
              "        'distance': 474,\n",
              "        'postalCode': 'M5A 3C4',\n",
              "        'cc': 'CA',\n",
              "        'city': 'Toronto',\n",
              "        'state': 'ON',\n",
              "        'country': 'Canada',\n",
              "        'formattedAddress': ['14 Distillery Lane (Distillery District)',\n",
              "         'Toronto ON M5A 3C4',\n",
              "         'Canada']},\n",
              "       'categories': [{'id': '4bf58dd8d48988d1e2931735',\n",
              "         'name': 'Art Gallery',\n",
              "         'pluralName': 'Art Galleries',\n",
              "         'shortName': 'Art Gallery',\n",
              "         'icon': {'prefix': 'https://ss3.4sqi.net/img/categories_v2/arts_entertainment/artgallery_',\n",
              "          'suffix': '.png'},\n",
              "         'primary': True}],\n",
              "       'photos': {'count': 0, 'groups': []}},\n",
              "      'referralId': 'e-0-4af21e78f964a520fae521e3-29'},\n",
              "     {'reasons': {'count': 0,\n",
              "       'items': [{'summary': 'This spot is popular',\n",
              "         'type': 'general',\n",
              "         'reasonName': 'globalInteractionReason'}]},\n",
              "      'venue': {'id': '51ddecee498e1ffd34185d2f',\n",
              "       'name': 'El Catrin',\n",
              "       'location': {'address': '18 Tank House Lane',\n",
              "        'crossStreet': 'Distillery District',\n",
              "        'lat': 43.650600737116996,\n",
              "        'lng': -79.35892024942333,\n",
              "        'labeledLatLngs': [{'label': 'display',\n",
              "          'lat': 43.650600737116996,\n",
              "          'lng': -79.35892024942333}],\n",
              "        'distance': 430,\n",
              "        'postalCode': 'M5A 3C4',\n",
              "        'cc': 'CA',\n",
              "        'city': 'Toronto',\n",
              "        'state': 'ON',\n",
              "        'country': 'Canada',\n",
              "        'formattedAddress': ['18 Tank House Lane (Distillery District)',\n",
              "         'Toronto ON M5A 3C4',\n",
              "         'Canada']},\n",
              "       'categories': [{'id': '4bf58dd8d48988d1c1941735',\n",
              "         'name': 'Mexican Restaurant',\n",
              "         'pluralName': 'Mexican Restaurants',\n",
              "         'shortName': 'Mexican',\n",
              "         'icon': {'prefix': 'https://ss3.4sqi.net/img/categories_v2/food/mexican_',\n",
              "          'suffix': '.png'},\n",
              "         'primary': True}],\n",
              "       'photos': {'count': 0, 'groups': []},\n",
              "       'venuePage': {'id': '61086042'}},\n",
              "      'referralId': 'e-0-51ddecee498e1ffd34185d2f-30'},\n",
              "     {'reasons': {'count': 0,\n",
              "       'items': [{'summary': 'This spot is popular',\n",
              "         'type': 'general',\n",
              "         'reasonName': 'globalInteractionReason'}]},\n",
              "      'venue': {'id': '581258b738fa5bbefe4c0857',\n",
              "       'name': 'Dark Horse Espresso Bar',\n",
              "       'location': {'address': '416 Front St E',\n",
              "        'crossStreet': 'Cooperage St',\n",
              "        'lat': 43.653080578844275,\n",
              "        'lng': -79.3570778621122,\n",
              "        'labeledLatLngs': [{'label': 'display',\n",
              "          'lat': 43.653080578844275,\n",
              "          'lng': -79.3570778621122}],\n",
              "        'distance': 315,\n",
              "        'cc': 'CA',\n",
              "        'neighborhood': 'Downtown Toronto',\n",
              "        'city': 'Toronto',\n",
              "        'state': 'ON',\n",
              "        'country': 'Canada',\n",
              "        'formattedAddress': ['416 Front St E (Cooperage St)',\n",
              "         'Toronto ON',\n",
              "         'Canada']},\n",
              "       'categories': [{'id': '4bf58dd8d48988d1e0931735',\n",
              "         'name': 'Coffee Shop',\n",
              "         'pluralName': 'Coffee Shops',\n",
              "         'shortName': 'Coffee Shop',\n",
              "         'icon': {'prefix': 'https://ss3.4sqi.net/img/categories_v2/food/coffeeshop_',\n",
              "          'suffix': '.png'},\n",
              "         'primary': True}],\n",
              "       'photos': {'count': 0, 'groups': []}},\n",
              "      'referralId': 'e-0-581258b738fa5bbefe4c0857-31'},\n",
              "     {'reasons': {'count': 0,\n",
              "       'items': [{'summary': 'This spot is popular',\n",
              "         'type': 'general',\n",
              "         'reasonName': 'globalInteractionReason'}]},\n",
              "      'venue': {'id': '4af9fc95f964a520ca1522e3',\n",
              "       'name': 'Mill St. Brew Pub',\n",
              "       'location': {'address': '21 Tank House Ln',\n",
              "        'crossStreet': 'at Pure Spirits Mews',\n",
              "        'lat': 43.65035331843578,\n",
              "        'lng': -79.35848936650571,\n",
              "        'labeledLatLngs': [{'label': 'display',\n",
              "          'lat': 43.65035331843578,\n",
              "          'lng': -79.35848936650571}],\n",
              "        'distance': 467,\n",
              "        'postalCode': 'M5A 3C4',\n",
              "        'cc': 'CA',\n",
              "        'neighborhood': 'Distillery District',\n",
              "        'city': 'Toronto',\n",
              "        'state': 'ON',\n",
              "        'country': 'Canada',\n",
              "        'formattedAddress': ['21 Tank House Ln (at Pure Spirits Mews)',\n",
              "         'Toronto ON M5A 3C4',\n",
              "         'Canada']},\n",
              "       'categories': [{'id': '4bf58dd8d48988d11b941735',\n",
              "         'name': 'Pub',\n",
              "         'pluralName': 'Pubs',\n",
              "         'shortName': 'Pub',\n",
              "         'icon': {'prefix': 'https://ss3.4sqi.net/img/categories_v2/nightlife/pub_',\n",
              "          'suffix': '.png'},\n",
              "         'primary': True}],\n",
              "       'photos': {'count': 0, 'groups': []}},\n",
              "      'referralId': 'e-0-4af9fc95f964a520ca1522e3-32'},\n",
              "     {'reasons': {'count': 0,\n",
              "       'items': [{'summary': 'This spot is popular',\n",
              "         'type': 'general',\n",
              "         'reasonName': 'globalInteractionReason'}]},\n",
              "      'venue': {'id': '4b2cf78cf964a52077cb24e3',\n",
              "       'name': 'Savoury Grounds',\n",
              "       'location': {'address': '481 Queen St. East',\n",
              "        'crossStreet': 'Sumach St',\n",
              "        'lat': 43.656820970004496,\n",
              "        'lng': -79.3589698353747,\n",
              "        'labeledLatLngs': [{'label': 'display',\n",
              "          'lat': 43.656820970004496,\n",
              "          'lng': -79.3589698353747}],\n",
              "        'distance': 315,\n",
              "        'cc': 'CA',\n",
              "        'city': 'Toronto',\n",
              "        'state': 'ON',\n",
              "        'country': 'Canada',\n",
              "        'formattedAddress': ['481 Queen St. East (Sumach St)',\n",
              "         'Toronto ON',\n",
              "         'Canada']},\n",
              "       'categories': [{'id': '4bf58dd8d48988d1e0931735',\n",
              "         'name': 'Coffee Shop',\n",
              "         'pluralName': 'Coffee Shops',\n",
              "         'shortName': 'Coffee Shop',\n",
              "         'icon': {'prefix': 'https://ss3.4sqi.net/img/categories_v2/food/coffeeshop_',\n",
              "          'suffix': '.png'},\n",
              "         'primary': True}],\n",
              "       'photos': {'count': 0, 'groups': []}},\n",
              "      'referralId': 'e-0-4b2cf78cf964a52077cb24e3-33'},\n",
              "     {'reasons': {'count': 0,\n",
              "       'items': [{'summary': 'This spot is popular',\n",
              "         'type': 'general',\n",
              "         'reasonName': 'globalInteractionReason'}]},\n",
              "      'venue': {'id': '4ad8d551f964a5201f1521e3',\n",
              "       'name': 'Vistek',\n",
              "       'location': {'address': '496 Queen St E',\n",
              "        'crossStreet': 'at Sumach',\n",
              "        'lat': 43.65704640025721,\n",
              "        'lng': -79.35966695607046,\n",
              "        'labeledLatLngs': [{'label': 'display',\n",
              "          'lat': 43.65704640025721,\n",
              "          'lng': -79.35966695607046}],\n",
              "        'distance': 319,\n",
              "        'cc': 'CA',\n",
              "        'city': 'Toronto',\n",
              "        'state': 'ON',\n",
              "        'country': 'Canada',\n",
              "        'formattedAddress': ['496 Queen St E (at Sumach)',\n",
              "         'Toronto ON',\n",
              "         'Canada']},\n",
              "       'categories': [{'id': '4bf58dd8d48988d122951735',\n",
              "         'name': 'Electronics Store',\n",
              "         'pluralName': 'Electronics Stores',\n",
              "         'shortName': 'Electronics',\n",
              "         'icon': {'prefix': 'https://ss3.4sqi.net/img/categories_v2/shops/technology_',\n",
              "          'suffix': '.png'},\n",
              "         'primary': True}],\n",
              "       'photos': {'count': 0, 'groups': []}},\n",
              "      'referralId': 'e-0-4ad8d551f964a5201f1521e3-34'},\n",
              "     {'reasons': {'count': 0,\n",
              "       'items': [{'summary': 'This spot is popular',\n",
              "         'type': 'general',\n",
              "         'reasonName': 'globalInteractionReason'}]},\n",
              "      'venue': {'id': '54d37e23498e5e29bcb35362',\n",
              "       'name': 'ODIN Cafe + Bar',\n",
              "       'location': {'address': '514 King St E',\n",
              "        'crossStreet': 'at River St',\n",
              "        'lat': 43.656738544928054,\n",
              "        'lng': -79.35650305267754,\n",
              "        'labeledLatLngs': [{'label': 'display',\n",
              "          'lat': 43.656738544928054,\n",
              "          'lng': -79.35650305267754}],\n",
              "        'distance': 432,\n",
              "        'postalCode': 'M5A 1M1',\n",
              "        'cc': 'CA',\n",
              "        'city': 'Toronto',\n",
              "        'state': 'ON',\n",
              "        'country': 'Canada',\n",
              "        'formattedAddress': ['514 King St E (at River St)',\n",
              "         'Toronto ON M5A 1M1',\n",
              "         'Canada']},\n",
              "       'categories': [{'id': '4bf58dd8d48988d16d941735',\n",
              "         'name': 'Café',\n",
              "         'pluralName': 'Cafés',\n",
              "         'shortName': 'Café',\n",
              "         'icon': {'prefix': 'https://ss3.4sqi.net/img/categories_v2/food/cafe_',\n",
              "          'suffix': '.png'},\n",
              "         'primary': True}],\n",
              "       'photos': {'count': 0, 'groups': []}},\n",
              "      'referralId': 'e-0-54d37e23498e5e29bcb35362-35'},\n",
              "     {'reasons': {'count': 0,\n",
              "       'items': [{'summary': 'This spot is popular',\n",
              "         'type': 'general',\n",
              "         'reasonName': 'globalInteractionReason'}]},\n",
              "      'venue': {'id': '4e8b7fa1cc2112f67517660a',\n",
              "       'name': 'The Extension Room',\n",
              "       'location': {'address': '30 Eastern Ave',\n",
              "        'crossStreet': 'Sackville St.',\n",
              "        'lat': 43.65331304337331,\n",
              "        'lng': -79.35972538072777,\n",
              "        'labeledLatLngs': [{'label': 'display',\n",
              "          'lat': 43.65331304337331,\n",
              "          'lng': -79.35972538072777}],\n",
              "        'distance': 128,\n",
              "        'cc': 'CA',\n",
              "        'city': 'Toronto',\n",
              "        'state': 'ON',\n",
              "        'country': 'Canada',\n",
              "        'formattedAddress': ['30 Eastern Ave (Sackville St.)',\n",
              "         'Toronto ON',\n",
              "         'Canada']},\n",
              "       'categories': [{'id': '4bf58dd8d48988d175941735',\n",
              "         'name': 'Gym / Fitness Center',\n",
              "         'pluralName': 'Gyms or Fitness Centers',\n",
              "         'shortName': 'Gym / Fitness',\n",
              "         'icon': {'prefix': 'https://ss3.4sqi.net/img/categories_v2/building/gym_',\n",
              "          'suffix': '.png'},\n",
              "         'primary': True}],\n",
              "       'photos': {'count': 0, 'groups': []}},\n",
              "      'referralId': 'e-0-4e8b7fa1cc2112f67517660a-36'},\n",
              "     {'reasons': {'count': 0,\n",
              "       'items': [{'summary': 'This spot is popular',\n",
              "         'type': 'general',\n",
              "         'reasonName': 'globalInteractionReason'}]},\n",
              "      'venue': {'id': '4b8c46f3f964a5200cc832e3',\n",
              "       'name': 'Alumnae Theatre',\n",
              "       'location': {'address': '70 Berkley St.',\n",
              "        'crossStreet': 'at Adelaide St.',\n",
              "        'lat': 43.65275554626444,\n",
              "        'lng': -79.36475283805089,\n",
              "        'labeledLatLngs': [{'label': 'display',\n",
              "          'lat': 43.65275554626444,\n",
              "          'lng': -79.36475283805089}],\n",
              "        'distance': 371,\n",
              "        'postalCode': 'M5A 2W6',\n",
              "        'cc': 'CA',\n",
              "        'city': 'Toronto',\n",
              "        'state': 'ON',\n",
              "        'country': 'Canada',\n",
              "        'formattedAddress': ['70 Berkley St. (at Adelaide St.)',\n",
              "         'Toronto ON M5A 2W6',\n",
              "         'Canada']},\n",
              "       'categories': [{'id': '4bf58dd8d48988d137941735',\n",
              "         'name': 'Theater',\n",
              "         'pluralName': 'Theaters',\n",
              "         'shortName': 'Theater',\n",
              "         'icon': {'prefix': 'https://ss3.4sqi.net/img/categories_v2/arts_entertainment/performingarts_theater_',\n",
              "          'suffix': '.png'},\n",
              "         'primary': True}],\n",
              "       'photos': {'count': 0, 'groups': []}},\n",
              "      'referralId': 'e-0-4b8c46f3f964a5200cc832e3-37'},\n",
              "     {'reasons': {'count': 0,\n",
              "       'items': [{'summary': 'This spot is popular',\n",
              "         'type': 'general',\n",
              "         'reasonName': 'globalInteractionReason'}]},\n",
              "      'venue': {'id': '4b58dd55f964a5208f6f28e3',\n",
              "       'name': 'The Yoga Lounge',\n",
              "       'location': {'address': '106 Sherbourne St.',\n",
              "        'crossStreet': 'at Adelaide St. East',\n",
              "        'lat': 43.65551522261721,\n",
              "        'lng': -79.36495542526245,\n",
              "        'labeledLatLngs': [{'label': 'display',\n",
              "          'lat': 43.65551522261721,\n",
              "          'lng': -79.36495542526245}],\n",
              "        'distance': 374,\n",
              "        'cc': 'CA',\n",
              "        'city': 'Toronto',\n",
              "        'state': 'ON',\n",
              "        'country': 'Canada',\n",
              "        'formattedAddress': ['106 Sherbourne St. (at Adelaide St. East)',\n",
              "         'Toronto ON',\n",
              "         'Canada']},\n",
              "       'categories': [{'id': '4bf58dd8d48988d102941735',\n",
              "         'name': 'Yoga Studio',\n",
              "         'pluralName': 'Yoga Studios',\n",
              "         'shortName': 'Yoga Studio',\n",
              "         'icon': {'prefix': 'https://ss3.4sqi.net/img/categories_v2/shops/gym_yogastudio_',\n",
              "          'suffix': '.png'},\n",
              "         'primary': True}],\n",
              "       'photos': {'count': 0, 'groups': []}},\n",
              "      'referralId': 'e-0-4b58dd55f964a5208f6f28e3-38'},\n",
              "     {'reasons': {'count': 0,\n",
              "       'items': [{'summary': 'This spot is popular',\n",
              "         'type': 'general',\n",
              "         'reasonName': 'globalInteractionReason'}]},\n",
              "      'venue': {'id': '57dd8bcd498e8eec19b9c896',\n",
              "       'name': 'FUEL+',\n",
              "       'location': {'address': '469 Front St',\n",
              "        'crossStreet': 'Rolling Mills Rd',\n",
              "        'lat': 43.653193,\n",
              "        'lng': -79.355867,\n",
              "        'labeledLatLngs': [{'label': 'display',\n",
              "          'lat': 43.653193,\n",
              "          'lng': -79.355867}],\n",
              "        'distance': 402,\n",
              "        'postalCode': 'M5A',\n",
              "        'cc': 'CA',\n",
              "        'city': 'Toronto',\n",
              "        'state': 'ON',\n",
              "        'country': 'Canada',\n",
              "        'formattedAddress': ['469 Front St (Rolling Mills Rd)',\n",
              "         'Toronto ON M5A',\n",
              "         'Canada']},\n",
              "       'categories': [{'id': '4bf58dd8d48988d1e0931735',\n",
              "         'name': 'Coffee Shop',\n",
              "         'pluralName': 'Coffee Shops',\n",
              "         'shortName': 'Coffee Shop',\n",
              "         'icon': {'prefix': 'https://ss3.4sqi.net/img/categories_v2/food/coffeeshop_',\n",
              "          'suffix': '.png'},\n",
              "         'primary': True}],\n",
              "       'photos': {'count': 0, 'groups': []}},\n",
              "      'referralId': 'e-0-57dd8bcd498e8eec19b9c896-39'},\n",
              "     {'reasons': {'count': 0,\n",
              "       'items': [{'summary': 'This spot is popular',\n",
              "         'type': 'general',\n",
              "         'reasonName': 'globalInteractionReason'}]},\n",
              "      'venue': {'id': '579cc5f2498e0fe8397deebb',\n",
              "       'name': 'GW General',\n",
              "       'location': {'lat': 43.650495,\n",
              "        'lng': -79.357538,\n",
              "        'labeledLatLngs': [{'label': 'display',\n",
              "          'lat': 43.650495,\n",
              "          'lng': -79.357538}],\n",
              "        'distance': 487,\n",
              "        'cc': 'CA',\n",
              "        'country': 'Canada',\n",
              "        'formattedAddress': ['Canada']},\n",
              "       'categories': [{'id': '4bf58dd8d48988d116951735',\n",
              "         'name': 'Antique Shop',\n",
              "         'pluralName': 'Antique Shops',\n",
              "         'shortName': 'Antiques',\n",
              "         'icon': {'prefix': 'https://ss3.4sqi.net/img/categories_v2/shops/antique_',\n",
              "          'suffix': '.png'},\n",
              "         'primary': True}],\n",
              "       'photos': {'count': 0, 'groups': []}},\n",
              "      'referralId': 'e-0-579cc5f2498e0fe8397deebb-40'},\n",
              "     {'reasons': {'count': 0,\n",
              "       'items': [{'summary': 'This spot is popular',\n",
              "         'type': 'general',\n",
              "         'reasonName': 'globalInteractionReason'}]},\n",
              "      'venue': {'id': '51828372e4b0ea1bac906b00',\n",
              "       'name': 'John Fluevog Shoes',\n",
              "       'location': {'address': '4 Trinity St.',\n",
              "        'crossStreet': 'Distillery District',\n",
              "        'lat': 43.64989585773889,\n",
              "        'lng': -79.3594359503061,\n",
              "        'labeledLatLngs': [{'label': 'display',\n",
              "          'lat': 43.64989585773889,\n",
              "          'lng': -79.3594359503061}],\n",
              "        'distance': 495,\n",
              "        'postalCode': 'M5A 3C4',\n",
              "        'cc': 'CA',\n",
              "        'city': 'Toronto',\n",
              "        'state': 'ON',\n",
              "        'country': 'Canada',\n",
              "        'formattedAddress': ['4 Trinity St. (Distillery District)',\n",
              "         'Toronto ON M5A 3C4',\n",
              "         'Canada']},\n",
              "       'categories': [{'id': '4bf58dd8d48988d107951735',\n",
              "         'name': 'Shoe Store',\n",
              "         'pluralName': 'Shoe Stores',\n",
              "         'shortName': 'Shoes',\n",
              "         'icon': {'prefix': 'https://ss3.4sqi.net/img/categories_v2/shops/apparel_shoestore_',\n",
              "          'suffix': '.png'},\n",
              "         'primary': True}],\n",
              "       'photos': {'count': 0, 'groups': []}},\n",
              "      'referralId': 'e-0-51828372e4b0ea1bac906b00-41'}]}]}}"
            ]
          },
          "metadata": {},
          "execution_count": 22
        }
      ],
      "metadata": {}
    },
    {
      "cell_type": "markdown",
      "source": [
        "Function that extracts the category of the venue"
      ],
      "attachments": {},
      "metadata": {}
    },
    {
      "cell_type": "code",
      "source": [
        "# function that extracts the category of the venue\n",
        "def get_category_type(row):\n",
        "    try:\n",
        "        categories_list = row['categories']\n",
        "    except:\n",
        "        categories_list = row['venue.categories']\n",
        "        \n",
        "    if len(categories_list) == 0:\n",
        "        return None\n",
        "    else:\n",
        "        return categories_list[0]['name']"
      ],
      "execution_count": 23,
      "outputs": [],
      "metadata": {}
    },
    {
      "cell_type": "markdown",
      "source": [
        "Clean the result and convert to pandas dataframe."
      ],
      "attachments": {},
      "metadata": {}
    },
    {
      "cell_type": "code",
      "source": [
        "venues = results['response']['groups'][0]['items']\n",
        "    \n",
        "nearby_venues = json_normalize(venues) # flatten JSON\n",
        "\n",
        "# filter columns\n",
        "filtered_columns = ['venue.name', 'venue.categories', 'venue.location.lat', 'venue.location.lng']\n",
        "nearby_venues =nearby_venues.loc[:, filtered_columns]\n",
        "\n",
        "# filter the category for each row\n",
        "nearby_venues['venue.categories'] = nearby_venues.apply(get_category_type, axis=1)\n",
        "\n",
        "# clean columns\n",
        "nearby_venues.columns = [col.split(\".\")[-1] for col in nearby_venues.columns]\n",
        "\n",
        "nearby_venues.head()"
      ],
      "execution_count": 24,
      "outputs": [
        {
          "output_type": "execute_result",
          "data": {
            "text/plain": [
              "                     name           categories        lat        lng\n",
              "0           Tandem Coffee          Coffee Shop  43.653559 -79.361809\n",
              "1        Roselle Desserts               Bakery  43.653447 -79.362017\n",
              "2  Cooper Koo Family YMCA  Distribution Center  43.653249 -79.358008\n",
              "3     Body Blitz Spa East                  Spa  43.654735 -79.359874\n",
              "4          Impact Kitchen           Restaurant  43.656369 -79.356980"
            ],
            "text/html": "<div>\n<style scoped>\n    .dataframe tbody tr th:only-of-type {\n        vertical-align: middle;\n    }\n\n    .dataframe tbody tr th {\n        vertical-align: top;\n    }\n\n    .dataframe thead th {\n        text-align: right;\n    }\n</style>\n<table border=\"1\" class=\"dataframe\">\n  <thead>\n    <tr style=\"text-align: right;\">\n      <th></th>\n      <th>name</th>\n      <th>categories</th>\n      <th>lat</th>\n      <th>lng</th>\n    </tr>\n  </thead>\n  <tbody>\n    <tr>\n      <th>0</th>\n      <td>Tandem Coffee</td>\n      <td>Coffee Shop</td>\n      <td>43.653559</td>\n      <td>-79.361809</td>\n    </tr>\n    <tr>\n      <th>1</th>\n      <td>Roselle Desserts</td>\n      <td>Bakery</td>\n      <td>43.653447</td>\n      <td>-79.362017</td>\n    </tr>\n    <tr>\n      <th>2</th>\n      <td>Cooper Koo Family YMCA</td>\n      <td>Distribution Center</td>\n      <td>43.653249</td>\n      <td>-79.358008</td>\n    </tr>\n    <tr>\n      <th>3</th>\n      <td>Body Blitz Spa East</td>\n      <td>Spa</td>\n      <td>43.654735</td>\n      <td>-79.359874</td>\n    </tr>\n    <tr>\n      <th>4</th>\n      <td>Impact Kitchen</td>\n      <td>Restaurant</td>\n      <td>43.656369</td>\n      <td>-79.356980</td>\n    </tr>\n  </tbody>\n</table>\n</div>"
          },
          "metadata": {},
          "execution_count": 24
        }
      ],
      "metadata": {}
    },
    {
      "cell_type": "code",
      "source": [
        "print('{} venues were returned by Foursquare.'.format(nearby_venues.shape[0]))"
      ],
      "execution_count": 25,
      "outputs": [
        {
          "output_type": "stream",
          "name": "stdout",
          "text": [
            "42 venues were returned by Foursquare.\n"
          ]
        }
      ],
      "metadata": {}
    },
    {
      "cell_type": "markdown",
      "source": [
        "### 2. Explore Neighborhoods in Toronto\n",
        "#### Let's create a function to repeat the same process to all the neighborhoods in Toronto"
      ],
      "attachments": {},
      "metadata": {}
    },
    {
      "cell_type": "code",
      "source": [
        "def getNearbyVenues(names, latitudes, longitudes, radius=500):\n",
        "    \n",
        "    venues_list=[]\n",
        "    for name, lat, lng in zip(names, latitudes, longitudes):\n",
        "        print(name)\n",
        "            \n",
        "        # create the API request URL\n",
        "        url = 'https://api.foursquare.com/v2/venues/explore?&client_id={}&client_secret={}&v={}&ll={},{}&radius={}&limit={}'.format(\n",
        "            CLIENT_ID, \n",
        "            CLIENT_SECRET, \n",
        "            VERSION, \n",
        "            lat, \n",
        "            lng, \n",
        "            radius, \n",
        "            LIMIT)\n",
        "            \n",
        "        # make the GET request\n",
        "        results = requests.get(url).json()[\"response\"]['groups'][0]['items']\n",
        "        \n",
        "        # return only relevant information for each nearby venue\n",
        "        venues_list.append([(\n",
        "            name, \n",
        "            lat, \n",
        "            lng, \n",
        "            v['venue']['name'], \n",
        "            v['venue']['location']['lat'], \n",
        "            v['venue']['location']['lng'],  \n",
        "            v['venue']['categories'][0]['name']) for v in results])\n",
        "\n",
        "    nearby_venues = pd.DataFrame([item for venue_list in venues_list for item in venue_list])\n",
        "    nearby_venues.columns = ['Neighborhood', \n",
        "                  'Neighborhood Latitude', \n",
        "                  'Neighborhood Longitude', \n",
        "                  'Venue', \n",
        "                  'Venue Latitude', \n",
        "                  'Venue Longitude', \n",
        "                  'Venue Category']\n",
        "    \n",
        "    return(nearby_venues)"
      ],
      "execution_count": 26,
      "outputs": [],
      "metadata": {}
    },
    {
      "cell_type": "markdown",
      "source": [
        "#### Let's run the above function for the neighborhoods of Toronto."
      ],
      "attachments": {},
      "metadata": {}
    },
    {
      "cell_type": "code",
      "source": [
        "toronto_venues = getNearbyVenues(names=toronto_data['Neighborhood'],\n",
        "                                   latitudes=toronto_data['Latitude'],\n",
        "                                   longitudes=toronto_data['Longitude']\n",
        "                                  )"
      ],
      "execution_count": 28,
      "outputs": [
        {
          "output_type": "stream",
          "name": "stdout",
          "text": [
            "Regent Park, Harbourfront\n",
            "Garden District, Ryerson\n",
            "St. James Town\n",
            "Berczy Park\n",
            "Central Bay Street\n",
            "Christie\n",
            "Richmond, Adelaide, King\n",
            "Harbourfront East, Union Station, Toronto Islands\n",
            "Toronto Dominion Centre, Design Exchange\n",
            "Commerce Court, Victoria Hotel\n",
            "University of Toronto, Harbord\n",
            "Kensington Market, Chinatown, Grange Park\n",
            "CN Tower, King and Spadina, Railway Lands, Harbourfront West, Bathurst Quay, South Niagara, Island airport\n",
            "Rosedale\n",
            "Enclave of M5E\n",
            "St. James Town, Cabbagetown\n",
            "First Canadian Place, Underground city\n",
            "Church and Wellesley\n"
          ]
        }
      ],
      "metadata": {}
    },
    {
      "cell_type": "markdown",
      "source": [
        "#### Let's check the size of the resulting dataframe"
      ],
      "attachments": {},
      "metadata": {}
    },
    {
      "cell_type": "code",
      "source": [
        "print(toronto_venues.shape)\n",
        "toronto_venues.head()"
      ],
      "execution_count": 29,
      "outputs": [
        {
          "output_type": "stream",
          "name": "stdout",
          "text": [
            "(1200, 7)\n"
          ]
        },
        {
          "output_type": "execute_result",
          "data": {
            "text/plain": [
              "                Neighborhood  Neighborhood Latitude  Neighborhood Longitude  \\\n",
              "0  Regent Park, Harbourfront               43.65426              -79.360636   \n",
              "1  Regent Park, Harbourfront               43.65426              -79.360636   \n",
              "2  Regent Park, Harbourfront               43.65426              -79.360636   \n",
              "3  Regent Park, Harbourfront               43.65426              -79.360636   \n",
              "4  Regent Park, Harbourfront               43.65426              -79.360636   \n",
              "\n",
              "                    Venue  Venue Latitude  Venue Longitude  \\\n",
              "0           Tandem Coffee       43.653559       -79.361809   \n",
              "1        Roselle Desserts       43.653447       -79.362017   \n",
              "2  Cooper Koo Family YMCA       43.653249       -79.358008   \n",
              "3     Body Blitz Spa East       43.654735       -79.359874   \n",
              "4          Impact Kitchen       43.656369       -79.356980   \n",
              "\n",
              "        Venue Category  \n",
              "0          Coffee Shop  \n",
              "1               Bakery  \n",
              "2  Distribution Center  \n",
              "3                  Spa  \n",
              "4           Restaurant  "
            ],
            "text/html": "<div>\n<style scoped>\n    .dataframe tbody tr th:only-of-type {\n        vertical-align: middle;\n    }\n\n    .dataframe tbody tr th {\n        vertical-align: top;\n    }\n\n    .dataframe thead th {\n        text-align: right;\n    }\n</style>\n<table border=\"1\" class=\"dataframe\">\n  <thead>\n    <tr style=\"text-align: right;\">\n      <th></th>\n      <th>Neighborhood</th>\n      <th>Neighborhood Latitude</th>\n      <th>Neighborhood Longitude</th>\n      <th>Venue</th>\n      <th>Venue Latitude</th>\n      <th>Venue Longitude</th>\n      <th>Venue Category</th>\n    </tr>\n  </thead>\n  <tbody>\n    <tr>\n      <th>0</th>\n      <td>Regent Park, Harbourfront</td>\n      <td>43.65426</td>\n      <td>-79.360636</td>\n      <td>Tandem Coffee</td>\n      <td>43.653559</td>\n      <td>-79.361809</td>\n      <td>Coffee Shop</td>\n    </tr>\n    <tr>\n      <th>1</th>\n      <td>Regent Park, Harbourfront</td>\n      <td>43.65426</td>\n      <td>-79.360636</td>\n      <td>Roselle Desserts</td>\n      <td>43.653447</td>\n      <td>-79.362017</td>\n      <td>Bakery</td>\n    </tr>\n    <tr>\n      <th>2</th>\n      <td>Regent Park, Harbourfront</td>\n      <td>43.65426</td>\n      <td>-79.360636</td>\n      <td>Cooper Koo Family YMCA</td>\n      <td>43.653249</td>\n      <td>-79.358008</td>\n      <td>Distribution Center</td>\n    </tr>\n    <tr>\n      <th>3</th>\n      <td>Regent Park, Harbourfront</td>\n      <td>43.65426</td>\n      <td>-79.360636</td>\n      <td>Body Blitz Spa East</td>\n      <td>43.654735</td>\n      <td>-79.359874</td>\n      <td>Spa</td>\n    </tr>\n    <tr>\n      <th>4</th>\n      <td>Regent Park, Harbourfront</td>\n      <td>43.65426</td>\n      <td>-79.360636</td>\n      <td>Impact Kitchen</td>\n      <td>43.656369</td>\n      <td>-79.356980</td>\n      <td>Restaurant</td>\n    </tr>\n  </tbody>\n</table>\n</div>"
          },
          "metadata": {},
          "execution_count": 29
        }
      ],
      "metadata": {}
    },
    {
      "cell_type": "markdown",
      "source": [
        "Let's check how many venues were returned for each neighborhood"
      ],
      "attachments": {},
      "metadata": {}
    },
    {
      "cell_type": "code",
      "source": [
        "toronto_venues.groupby('Neighborhood').count()"
      ],
      "execution_count": 30,
      "outputs": [
        {
          "output_type": "execute_result",
          "data": {
            "text/plain": [
              "                                                    Neighborhood Latitude  \\\n",
              "Neighborhood                                                                \n",
              "Berczy Park                                                            58   \n",
              "CN Tower, King and Spadina, Railway Lands, Harb...                     16   \n",
              "Central Bay Street                                                     65   \n",
              "Christie                                                               16   \n",
              "Church and Wellesley                                                   79   \n",
              "Commerce Court, Victoria Hotel                                        100   \n",
              "Enclave of M5E                                                         99   \n",
              "First Canadian Place, Underground city                                100   \n",
              "Garden District, Ryerson                                              100   \n",
              "Harbourfront East, Union Station, Toronto Islands                     100   \n",
              "Kensington Market, Chinatown, Grange Park                              66   \n",
              "Regent Park, Harbourfront                                              42   \n",
              "Richmond, Adelaide, King                                               98   \n",
              "Rosedale                                                                4   \n",
              "St. James Town                                                         81   \n",
              "St. James Town, Cabbagetown                                            43   \n",
              "Toronto Dominion Centre, Design Exchange                              100   \n",
              "University of Toronto, Harbord                                         33   \n",
              "\n",
              "                                                    Neighborhood Longitude  \\\n",
              "Neighborhood                                                                 \n",
              "Berczy Park                                                             58   \n",
              "CN Tower, King and Spadina, Railway Lands, Harb...                      16   \n",
              "Central Bay Street                                                      65   \n",
              "Christie                                                                16   \n",
              "Church and Wellesley                                                    79   \n",
              "Commerce Court, Victoria Hotel                                         100   \n",
              "Enclave of M5E                                                          99   \n",
              "First Canadian Place, Underground city                                 100   \n",
              "Garden District, Ryerson                                               100   \n",
              "Harbourfront East, Union Station, Toronto Islands                      100   \n",
              "Kensington Market, Chinatown, Grange Park                               66   \n",
              "Regent Park, Harbourfront                                               42   \n",
              "Richmond, Adelaide, King                                                98   \n",
              "Rosedale                                                                 4   \n",
              "St. James Town                                                          81   \n",
              "St. James Town, Cabbagetown                                             43   \n",
              "Toronto Dominion Centre, Design Exchange                               100   \n",
              "University of Toronto, Harbord                                          33   \n",
              "\n",
              "                                                    Venue  Venue Latitude  \\\n",
              "Neighborhood                                                                \n",
              "Berczy Park                                            58              58   \n",
              "CN Tower, King and Spadina, Railway Lands, Harb...     16              16   \n",
              "Central Bay Street                                     65              65   \n",
              "Christie                                               16              16   \n",
              "Church and Wellesley                                   79              79   \n",
              "Commerce Court, Victoria Hotel                        100             100   \n",
              "Enclave of M5E                                         99              99   \n",
              "First Canadian Place, Underground city                100             100   \n",
              "Garden District, Ryerson                              100             100   \n",
              "Harbourfront East, Union Station, Toronto Islands     100             100   \n",
              "Kensington Market, Chinatown, Grange Park              66              66   \n",
              "Regent Park, Harbourfront                              42              42   \n",
              "Richmond, Adelaide, King                               98              98   \n",
              "Rosedale                                                4               4   \n",
              "St. James Town                                         81              81   \n",
              "St. James Town, Cabbagetown                            43              43   \n",
              "Toronto Dominion Centre, Design Exchange              100             100   \n",
              "University of Toronto, Harbord                         33              33   \n",
              "\n",
              "                                                    Venue Longitude  \\\n",
              "Neighborhood                                                          \n",
              "Berczy Park                                                      58   \n",
              "CN Tower, King and Spadina, Railway Lands, Harb...               16   \n",
              "Central Bay Street                                               65   \n",
              "Christie                                                         16   \n",
              "Church and Wellesley                                             79   \n",
              "Commerce Court, Victoria Hotel                                  100   \n",
              "Enclave of M5E                                                   99   \n",
              "First Canadian Place, Underground city                          100   \n",
              "Garden District, Ryerson                                        100   \n",
              "Harbourfront East, Union Station, Toronto Islands               100   \n",
              "Kensington Market, Chinatown, Grange Park                        66   \n",
              "Regent Park, Harbourfront                                        42   \n",
              "Richmond, Adelaide, King                                         98   \n",
              "Rosedale                                                          4   \n",
              "St. James Town                                                   81   \n",
              "St. James Town, Cabbagetown                                      43   \n",
              "Toronto Dominion Centre, Design Exchange                        100   \n",
              "University of Toronto, Harbord                                   33   \n",
              "\n",
              "                                                    Venue Category  \n",
              "Neighborhood                                                        \n",
              "Berczy Park                                                     58  \n",
              "CN Tower, King and Spadina, Railway Lands, Harb...              16  \n",
              "Central Bay Street                                              65  \n",
              "Christie                                                        16  \n",
              "Church and Wellesley                                            79  \n",
              "Commerce Court, Victoria Hotel                                 100  \n",
              "Enclave of M5E                                                  99  \n",
              "First Canadian Place, Underground city                         100  \n",
              "Garden District, Ryerson                                       100  \n",
              "Harbourfront East, Union Station, Toronto Islands              100  \n",
              "Kensington Market, Chinatown, Grange Park                       66  \n",
              "Regent Park, Harbourfront                                       42  \n",
              "Richmond, Adelaide, King                                        98  \n",
              "Rosedale                                                         4  \n",
              "St. James Town                                                  81  \n",
              "St. James Town, Cabbagetown                                     43  \n",
              "Toronto Dominion Centre, Design Exchange                       100  \n",
              "University of Toronto, Harbord                                  33  "
            ],
            "text/html": "<div>\n<style scoped>\n    .dataframe tbody tr th:only-of-type {\n        vertical-align: middle;\n    }\n\n    .dataframe tbody tr th {\n        vertical-align: top;\n    }\n\n    .dataframe thead th {\n        text-align: right;\n    }\n</style>\n<table border=\"1\" class=\"dataframe\">\n  <thead>\n    <tr style=\"text-align: right;\">\n      <th></th>\n      <th>Neighborhood Latitude</th>\n      <th>Neighborhood Longitude</th>\n      <th>Venue</th>\n      <th>Venue Latitude</th>\n      <th>Venue Longitude</th>\n      <th>Venue Category</th>\n    </tr>\n    <tr>\n      <th>Neighborhood</th>\n      <th></th>\n      <th></th>\n      <th></th>\n      <th></th>\n      <th></th>\n      <th></th>\n    </tr>\n  </thead>\n  <tbody>\n    <tr>\n      <th>Berczy Park</th>\n      <td>58</td>\n      <td>58</td>\n      <td>58</td>\n      <td>58</td>\n      <td>58</td>\n      <td>58</td>\n    </tr>\n    <tr>\n      <th>CN Tower, King and Spadina, Railway Lands, Harbourfront West, Bathurst Quay, South Niagara, Island airport</th>\n      <td>16</td>\n      <td>16</td>\n      <td>16</td>\n      <td>16</td>\n      <td>16</td>\n      <td>16</td>\n    </tr>\n    <tr>\n      <th>Central Bay Street</th>\n      <td>65</td>\n      <td>65</td>\n      <td>65</td>\n      <td>65</td>\n      <td>65</td>\n      <td>65</td>\n    </tr>\n    <tr>\n      <th>Christie</th>\n      <td>16</td>\n      <td>16</td>\n      <td>16</td>\n      <td>16</td>\n      <td>16</td>\n      <td>16</td>\n    </tr>\n    <tr>\n      <th>Church and Wellesley</th>\n      <td>79</td>\n      <td>79</td>\n      <td>79</td>\n      <td>79</td>\n      <td>79</td>\n      <td>79</td>\n    </tr>\n    <tr>\n      <th>Commerce Court, Victoria Hotel</th>\n      <td>100</td>\n      <td>100</td>\n      <td>100</td>\n      <td>100</td>\n      <td>100</td>\n      <td>100</td>\n    </tr>\n    <tr>\n      <th>Enclave of M5E</th>\n      <td>99</td>\n      <td>99</td>\n      <td>99</td>\n      <td>99</td>\n      <td>99</td>\n      <td>99</td>\n    </tr>\n    <tr>\n      <th>First Canadian Place, Underground city</th>\n      <td>100</td>\n      <td>100</td>\n      <td>100</td>\n      <td>100</td>\n      <td>100</td>\n      <td>100</td>\n    </tr>\n    <tr>\n      <th>Garden District, Ryerson</th>\n      <td>100</td>\n      <td>100</td>\n      <td>100</td>\n      <td>100</td>\n      <td>100</td>\n      <td>100</td>\n    </tr>\n    <tr>\n      <th>Harbourfront East, Union Station, Toronto Islands</th>\n      <td>100</td>\n      <td>100</td>\n      <td>100</td>\n      <td>100</td>\n      <td>100</td>\n      <td>100</td>\n    </tr>\n    <tr>\n      <th>Kensington Market, Chinatown, Grange Park</th>\n      <td>66</td>\n      <td>66</td>\n      <td>66</td>\n      <td>66</td>\n      <td>66</td>\n      <td>66</td>\n    </tr>\n    <tr>\n      <th>Regent Park, Harbourfront</th>\n      <td>42</td>\n      <td>42</td>\n      <td>42</td>\n      <td>42</td>\n      <td>42</td>\n      <td>42</td>\n    </tr>\n    <tr>\n      <th>Richmond, Adelaide, King</th>\n      <td>98</td>\n      <td>98</td>\n      <td>98</td>\n      <td>98</td>\n      <td>98</td>\n      <td>98</td>\n    </tr>\n    <tr>\n      <th>Rosedale</th>\n      <td>4</td>\n      <td>4</td>\n      <td>4</td>\n      <td>4</td>\n      <td>4</td>\n      <td>4</td>\n    </tr>\n    <tr>\n      <th>St. James Town</th>\n      <td>81</td>\n      <td>81</td>\n      <td>81</td>\n      <td>81</td>\n      <td>81</td>\n      <td>81</td>\n    </tr>\n    <tr>\n      <th>St. James Town, Cabbagetown</th>\n      <td>43</td>\n      <td>43</td>\n      <td>43</td>\n      <td>43</td>\n      <td>43</td>\n      <td>43</td>\n    </tr>\n    <tr>\n      <th>Toronto Dominion Centre, Design Exchange</th>\n      <td>100</td>\n      <td>100</td>\n      <td>100</td>\n      <td>100</td>\n      <td>100</td>\n      <td>100</td>\n    </tr>\n    <tr>\n      <th>University of Toronto, Harbord</th>\n      <td>33</td>\n      <td>33</td>\n      <td>33</td>\n      <td>33</td>\n      <td>33</td>\n      <td>33</td>\n    </tr>\n  </tbody>\n</table>\n</div>"
          },
          "metadata": {},
          "execution_count": 30
        }
      ],
      "metadata": {}
    },
    {
      "cell_type": "markdown",
      "source": [
        "#### Let's find out how many unique categories can be curated from all the returned venues"
      ],
      "attachments": {},
      "metadata": {}
    },
    {
      "cell_type": "code",
      "source": [
        "print('There are {} uniques categories.'.format(len(toronto_venues['Venue Category'].unique())))"
      ],
      "execution_count": 31,
      "outputs": [
        {
          "output_type": "stream",
          "name": "stdout",
          "text": [
            "There are 204 uniques categories.\n"
          ]
        }
      ],
      "metadata": {}
    },
    {
      "cell_type": "markdown",
      "source": [
        "### 3. Analyze Each Neighborhood"
      ],
      "attachments": {},
      "metadata": {}
    },
    {
      "cell_type": "code",
      "source": [
        "# one hot encoding\n",
        "toronto_onehot = pd.get_dummies(toronto_venues[['Venue Category']], prefix=\"\", prefix_sep=\"\")\n",
        "\n",
        "# add neighborhood column back to dataframe\n",
        "toronto_onehot['Neighborhood'] = toronto_venues['Neighborhood'] \n",
        "\n",
        "# move neighborhood column to the first column\n",
        "fixed_columns = [toronto_onehot.columns[-1]] + list(toronto_onehot.columns[:-1])\n",
        "toronto_onehot = toronto_onehot[fixed_columns]\n",
        "\n",
        "toronto_onehot.head()"
      ],
      "execution_count": 32,
      "outputs": [
        {
          "output_type": "execute_result",
          "data": {
            "text/plain": [
              "   Yoga Studio  Adult Boutique  Airport  Airport Food Court  Airport Lounge  \\\n",
              "0            0               0        0                   0               0   \n",
              "1            0               0        0                   0               0   \n",
              "2            0               0        0                   0               0   \n",
              "3            0               0        0                   0               0   \n",
              "4            0               0        0                   0               0   \n",
              "\n",
              "   Airport Service  Airport Terminal  American Restaurant  Antique Shop  \\\n",
              "0                0                 0                    0             0   \n",
              "1                0                 0                    0             0   \n",
              "2                0                 0                    0             0   \n",
              "3                0                 0                    0             0   \n",
              "4                0                 0                    0             0   \n",
              "\n",
              "   Aquarium  ...  Tea Room  Thai Restaurant  Theater  Theme Restaurant  Trail  \\\n",
              "0         0  ...         0                0        0                 0      0   \n",
              "1         0  ...         0                0        0                 0      0   \n",
              "2         0  ...         0                0        0                 0      0   \n",
              "3         0  ...         0                0        0                 0      0   \n",
              "4         0  ...         0                0        0                 0      0   \n",
              "\n",
              "   Train Station  Vegetarian / Vegan Restaurant  Video Game Store  \\\n",
              "0              0                              0                 0   \n",
              "1              0                              0                 0   \n",
              "2              0                              0                 0   \n",
              "3              0                              0                 0   \n",
              "4              0                              0                 0   \n",
              "\n",
              "   Vietnamese Restaurant  Wine Bar  \n",
              "0                      0         0  \n",
              "1                      0         0  \n",
              "2                      0         0  \n",
              "3                      0         0  \n",
              "4                      0         0  \n",
              "\n",
              "[5 rows x 204 columns]"
            ],
            "text/html": "<div>\n<style scoped>\n    .dataframe tbody tr th:only-of-type {\n        vertical-align: middle;\n    }\n\n    .dataframe tbody tr th {\n        vertical-align: top;\n    }\n\n    .dataframe thead th {\n        text-align: right;\n    }\n</style>\n<table border=\"1\" class=\"dataframe\">\n  <thead>\n    <tr style=\"text-align: right;\">\n      <th></th>\n      <th>Yoga Studio</th>\n      <th>Adult Boutique</th>\n      <th>Airport</th>\n      <th>Airport Food Court</th>\n      <th>Airport Lounge</th>\n      <th>Airport Service</th>\n      <th>Airport Terminal</th>\n      <th>American Restaurant</th>\n      <th>Antique Shop</th>\n      <th>Aquarium</th>\n      <th>...</th>\n      <th>Tea Room</th>\n      <th>Thai Restaurant</th>\n      <th>Theater</th>\n      <th>Theme Restaurant</th>\n      <th>Trail</th>\n      <th>Train Station</th>\n      <th>Vegetarian / Vegan Restaurant</th>\n      <th>Video Game Store</th>\n      <th>Vietnamese Restaurant</th>\n      <th>Wine Bar</th>\n    </tr>\n  </thead>\n  <tbody>\n    <tr>\n      <th>0</th>\n      <td>0</td>\n      <td>0</td>\n      <td>0</td>\n      <td>0</td>\n      <td>0</td>\n      <td>0</td>\n      <td>0</td>\n      <td>0</td>\n      <td>0</td>\n      <td>0</td>\n      <td>...</td>\n      <td>0</td>\n      <td>0</td>\n      <td>0</td>\n      <td>0</td>\n      <td>0</td>\n      <td>0</td>\n      <td>0</td>\n      <td>0</td>\n      <td>0</td>\n      <td>0</td>\n    </tr>\n    <tr>\n      <th>1</th>\n      <td>0</td>\n      <td>0</td>\n      <td>0</td>\n      <td>0</td>\n      <td>0</td>\n      <td>0</td>\n      <td>0</td>\n      <td>0</td>\n      <td>0</td>\n      <td>0</td>\n      <td>...</td>\n      <td>0</td>\n      <td>0</td>\n      <td>0</td>\n      <td>0</td>\n      <td>0</td>\n      <td>0</td>\n      <td>0</td>\n      <td>0</td>\n      <td>0</td>\n      <td>0</td>\n    </tr>\n    <tr>\n      <th>2</th>\n      <td>0</td>\n      <td>0</td>\n      <td>0</td>\n      <td>0</td>\n      <td>0</td>\n      <td>0</td>\n      <td>0</td>\n      <td>0</td>\n      <td>0</td>\n      <td>0</td>\n      <td>...</td>\n      <td>0</td>\n      <td>0</td>\n      <td>0</td>\n      <td>0</td>\n      <td>0</td>\n      <td>0</td>\n      <td>0</td>\n      <td>0</td>\n      <td>0</td>\n      <td>0</td>\n    </tr>\n    <tr>\n      <th>3</th>\n      <td>0</td>\n      <td>0</td>\n      <td>0</td>\n      <td>0</td>\n      <td>0</td>\n      <td>0</td>\n      <td>0</td>\n      <td>0</td>\n      <td>0</td>\n      <td>0</td>\n      <td>...</td>\n      <td>0</td>\n      <td>0</td>\n      <td>0</td>\n      <td>0</td>\n      <td>0</td>\n      <td>0</td>\n      <td>0</td>\n      <td>0</td>\n      <td>0</td>\n      <td>0</td>\n    </tr>\n    <tr>\n      <th>4</th>\n      <td>0</td>\n      <td>0</td>\n      <td>0</td>\n      <td>0</td>\n      <td>0</td>\n      <td>0</td>\n      <td>0</td>\n      <td>0</td>\n      <td>0</td>\n      <td>0</td>\n      <td>...</td>\n      <td>0</td>\n      <td>0</td>\n      <td>0</td>\n      <td>0</td>\n      <td>0</td>\n      <td>0</td>\n      <td>0</td>\n      <td>0</td>\n      <td>0</td>\n      <td>0</td>\n    </tr>\n  </tbody>\n</table>\n<p>5 rows × 204 columns</p>\n</div>"
          },
          "metadata": {},
          "execution_count": 32
        }
      ],
      "metadata": {}
    },
    {
      "cell_type": "markdown",
      "source": [
        "let's examine the new dataframe size."
      ],
      "attachments": {},
      "metadata": {}
    },
    {
      "cell_type": "code",
      "source": [
        "toronto_onehot.shape"
      ],
      "execution_count": 33,
      "outputs": [
        {
          "output_type": "execute_result",
          "data": {
            "text/plain": [
              "(1200, 204)"
            ]
          },
          "metadata": {},
          "execution_count": 33
        }
      ],
      "metadata": {}
    },
    {
      "cell_type": "markdown",
      "source": [
        "#### Next, let's group rows by neighborhood and by taking the mean of the frequency of occurrence of each category"
      ],
      "attachments": {},
      "metadata": {}
    },
    {
      "cell_type": "code",
      "source": [
        "toronto_grouped = toronto_onehot.groupby('Neighborhood').mean().reset_index()\n",
        "toronto_grouped"
      ],
      "execution_count": 34,
      "outputs": [
        {
          "output_type": "execute_result",
          "data": {
            "text/plain": [
              "                                         Neighborhood  Yoga Studio  \\\n",
              "0                                         Berczy Park     0.000000   \n",
              "1   CN Tower, King and Spadina, Railway Lands, Har...     0.000000   \n",
              "2                                  Central Bay Street     0.015385   \n",
              "3                                            Christie     0.000000   \n",
              "4                                Church and Wellesley     0.025316   \n",
              "5                      Commerce Court, Victoria Hotel     0.000000   \n",
              "6                                      Enclave of M5E     0.010101   \n",
              "7              First Canadian Place, Underground city     0.000000   \n",
              "8                            Garden District, Ryerson     0.000000   \n",
              "9   Harbourfront East, Union Station, Toronto Islands     0.000000   \n",
              "10          Kensington Market, Chinatown, Grange Park     0.000000   \n",
              "11                          Regent Park, Harbourfront     0.023810   \n",
              "12                           Richmond, Adelaide, King     0.000000   \n",
              "13                                           Rosedale     0.000000   \n",
              "14                                     St. James Town     0.000000   \n",
              "15                        St. James Town, Cabbagetown     0.000000   \n",
              "16           Toronto Dominion Centre, Design Exchange     0.000000   \n",
              "17                     University of Toronto, Harbord     0.030303   \n",
              "\n",
              "    Adult Boutique  Airport  Airport Food Court  Airport Lounge  \\\n",
              "0         0.000000   0.0000              0.0000           0.000   \n",
              "1         0.000000   0.0625              0.0625           0.125   \n",
              "2         0.000000   0.0000              0.0000           0.000   \n",
              "3         0.000000   0.0000              0.0000           0.000   \n",
              "4         0.012658   0.0000              0.0000           0.000   \n",
              "5         0.000000   0.0000              0.0000           0.000   \n",
              "6         0.000000   0.0000              0.0000           0.000   \n",
              "7         0.000000   0.0000              0.0000           0.000   \n",
              "8         0.000000   0.0000              0.0000           0.000   \n",
              "9         0.000000   0.0000              0.0000           0.000   \n",
              "10        0.000000   0.0000              0.0000           0.000   \n",
              "11        0.000000   0.0000              0.0000           0.000   \n",
              "12        0.000000   0.0000              0.0000           0.000   \n",
              "13        0.000000   0.0000              0.0000           0.000   \n",
              "14        0.000000   0.0000              0.0000           0.000   \n",
              "15        0.000000   0.0000              0.0000           0.000   \n",
              "16        0.000000   0.0000              0.0000           0.000   \n",
              "17        0.000000   0.0000              0.0000           0.000   \n",
              "\n",
              "    Airport Service  Airport Terminal  American Restaurant  Antique Shop  ...  \\\n",
              "0             0.000             0.000             0.000000      0.000000  ...   \n",
              "1             0.125             0.125             0.000000      0.000000  ...   \n",
              "2             0.000             0.000             0.000000      0.000000  ...   \n",
              "3             0.000             0.000             0.000000      0.000000  ...   \n",
              "4             0.000             0.000             0.012658      0.000000  ...   \n",
              "5             0.000             0.000             0.020000      0.000000  ...   \n",
              "6             0.000             0.000             0.010101      0.010101  ...   \n",
              "7             0.000             0.000             0.020000      0.000000  ...   \n",
              "8             0.000             0.000             0.000000      0.000000  ...   \n",
              "9             0.000             0.000             0.000000      0.000000  ...   \n",
              "10            0.000             0.000             0.000000      0.000000  ...   \n",
              "11            0.000             0.000             0.000000      0.023810  ...   \n",
              "12            0.000             0.000             0.020408      0.000000  ...   \n",
              "13            0.000             0.000             0.000000      0.000000  ...   \n",
              "14            0.000             0.000             0.024691      0.000000  ...   \n",
              "15            0.000             0.000             0.023256      0.000000  ...   \n",
              "16            0.000             0.000             0.020000      0.000000  ...   \n",
              "17            0.000             0.000             0.000000      0.000000  ...   \n",
              "\n",
              "    Tea Room  Thai Restaurant   Theater  Theme Restaurant  Trail  \\\n",
              "0   0.000000         0.017241  0.000000          0.000000   0.00   \n",
              "1   0.000000         0.000000  0.000000          0.000000   0.00   \n",
              "2   0.015385         0.015385  0.000000          0.000000   0.00   \n",
              "3   0.000000         0.000000  0.000000          0.000000   0.00   \n",
              "4   0.000000         0.012658  0.012658          0.012658   0.00   \n",
              "5   0.010000         0.010000  0.000000          0.000000   0.00   \n",
              "6   0.000000         0.010101  0.000000          0.000000   0.00   \n",
              "7   0.010000         0.000000  0.010000          0.000000   0.00   \n",
              "8   0.010000         0.010000  0.020000          0.000000   0.00   \n",
              "9   0.010000         0.010000  0.000000          0.000000   0.00   \n",
              "10  0.015152         0.000000  0.000000          0.000000   0.00   \n",
              "11  0.000000         0.000000  0.047619          0.000000   0.00   \n",
              "12  0.000000         0.040816  0.010204          0.000000   0.00   \n",
              "13  0.000000         0.000000  0.000000          0.000000   0.25   \n",
              "14  0.000000         0.012346  0.012346          0.000000   0.00   \n",
              "15  0.000000         0.023256  0.000000          0.000000   0.00   \n",
              "16  0.010000         0.000000  0.010000          0.000000   0.00   \n",
              "17  0.000000         0.000000  0.030303          0.000000   0.00   \n",
              "\n",
              "    Train Station  Vegetarian / Vegan Restaurant  Video Game Store  \\\n",
              "0            0.00                       0.017241          0.000000   \n",
              "1            0.00                       0.000000          0.000000   \n",
              "2            0.00                       0.015385          0.000000   \n",
              "3            0.00                       0.000000          0.000000   \n",
              "4            0.00                       0.000000          0.000000   \n",
              "5            0.00                       0.020000          0.000000   \n",
              "6            0.00                       0.010101          0.000000   \n",
              "7            0.01                       0.010000          0.000000   \n",
              "8            0.00                       0.000000          0.010000   \n",
              "9            0.01                       0.000000          0.000000   \n",
              "10           0.00                       0.045455          0.000000   \n",
              "11           0.00                       0.000000          0.000000   \n",
              "12           0.00                       0.010204          0.000000   \n",
              "13           0.00                       0.000000          0.000000   \n",
              "14           0.00                       0.012346          0.000000   \n",
              "15           0.00                       0.000000          0.000000   \n",
              "16           0.01                       0.010000          0.000000   \n",
              "17           0.00                       0.000000          0.030303   \n",
              "\n",
              "    Vietnamese Restaurant  Wine Bar  \n",
              "0                0.000000  0.000000  \n",
              "1                0.000000  0.000000  \n",
              "2                0.000000  0.015385  \n",
              "3                0.000000  0.000000  \n",
              "4                0.000000  0.000000  \n",
              "5                0.000000  0.010000  \n",
              "6                0.000000  0.000000  \n",
              "7                0.000000  0.010000  \n",
              "8                0.010000  0.010000  \n",
              "9                0.000000  0.010000  \n",
              "10               0.045455  0.015152  \n",
              "11               0.000000  0.000000  \n",
              "12               0.000000  0.000000  \n",
              "13               0.000000  0.000000  \n",
              "14               0.000000  0.012346  \n",
              "15               0.000000  0.000000  \n",
              "16               0.000000  0.010000  \n",
              "17               0.000000  0.000000  \n",
              "\n",
              "[18 rows x 204 columns]"
            ],
            "text/html": "<div>\n<style scoped>\n    .dataframe tbody tr th:only-of-type {\n        vertical-align: middle;\n    }\n\n    .dataframe tbody tr th {\n        vertical-align: top;\n    }\n\n    .dataframe thead th {\n        text-align: right;\n    }\n</style>\n<table border=\"1\" class=\"dataframe\">\n  <thead>\n    <tr style=\"text-align: right;\">\n      <th></th>\n      <th>Neighborhood</th>\n      <th>Yoga Studio</th>\n      <th>Adult Boutique</th>\n      <th>Airport</th>\n      <th>Airport Food Court</th>\n      <th>Airport Lounge</th>\n      <th>Airport Service</th>\n      <th>Airport Terminal</th>\n      <th>American Restaurant</th>\n      <th>Antique Shop</th>\n      <th>...</th>\n      <th>Tea Room</th>\n      <th>Thai Restaurant</th>\n      <th>Theater</th>\n      <th>Theme Restaurant</th>\n      <th>Trail</th>\n      <th>Train Station</th>\n      <th>Vegetarian / Vegan Restaurant</th>\n      <th>Video Game Store</th>\n      <th>Vietnamese Restaurant</th>\n      <th>Wine Bar</th>\n    </tr>\n  </thead>\n  <tbody>\n    <tr>\n      <th>0</th>\n      <td>Berczy Park</td>\n      <td>0.000000</td>\n      <td>0.000000</td>\n      <td>0.0000</td>\n      <td>0.0000</td>\n      <td>0.000</td>\n      <td>0.000</td>\n      <td>0.000</td>\n      <td>0.000000</td>\n      <td>0.000000</td>\n      <td>...</td>\n      <td>0.000000</td>\n      <td>0.017241</td>\n      <td>0.000000</td>\n      <td>0.000000</td>\n      <td>0.00</td>\n      <td>0.00</td>\n      <td>0.017241</td>\n      <td>0.000000</td>\n      <td>0.000000</td>\n      <td>0.000000</td>\n    </tr>\n    <tr>\n      <th>1</th>\n      <td>CN Tower, King and Spadina, Railway Lands, Har...</td>\n      <td>0.000000</td>\n      <td>0.000000</td>\n      <td>0.0625</td>\n      <td>0.0625</td>\n      <td>0.125</td>\n      <td>0.125</td>\n      <td>0.125</td>\n      <td>0.000000</td>\n      <td>0.000000</td>\n      <td>...</td>\n      <td>0.000000</td>\n      <td>0.000000</td>\n      <td>0.000000</td>\n      <td>0.000000</td>\n      <td>0.00</td>\n      <td>0.00</td>\n      <td>0.000000</td>\n      <td>0.000000</td>\n      <td>0.000000</td>\n      <td>0.000000</td>\n    </tr>\n    <tr>\n      <th>2</th>\n      <td>Central Bay Street</td>\n      <td>0.015385</td>\n      <td>0.000000</td>\n      <td>0.0000</td>\n      <td>0.0000</td>\n      <td>0.000</td>\n      <td>0.000</td>\n      <td>0.000</td>\n      <td>0.000000</td>\n      <td>0.000000</td>\n      <td>...</td>\n      <td>0.015385</td>\n      <td>0.015385</td>\n      <td>0.000000</td>\n      <td>0.000000</td>\n      <td>0.00</td>\n      <td>0.00</td>\n      <td>0.015385</td>\n      <td>0.000000</td>\n      <td>0.000000</td>\n      <td>0.015385</td>\n    </tr>\n    <tr>\n      <th>3</th>\n      <td>Christie</td>\n      <td>0.000000</td>\n      <td>0.000000</td>\n      <td>0.0000</td>\n      <td>0.0000</td>\n      <td>0.000</td>\n      <td>0.000</td>\n      <td>0.000</td>\n      <td>0.000000</td>\n      <td>0.000000</td>\n      <td>...</td>\n      <td>0.000000</td>\n      <td>0.000000</td>\n      <td>0.000000</td>\n      <td>0.000000</td>\n      <td>0.00</td>\n      <td>0.00</td>\n      <td>0.000000</td>\n      <td>0.000000</td>\n      <td>0.000000</td>\n      <td>0.000000</td>\n    </tr>\n    <tr>\n      <th>4</th>\n      <td>Church and Wellesley</td>\n      <td>0.025316</td>\n      <td>0.012658</td>\n      <td>0.0000</td>\n      <td>0.0000</td>\n      <td>0.000</td>\n      <td>0.000</td>\n      <td>0.000</td>\n      <td>0.012658</td>\n      <td>0.000000</td>\n      <td>...</td>\n      <td>0.000000</td>\n      <td>0.012658</td>\n      <td>0.012658</td>\n      <td>0.012658</td>\n      <td>0.00</td>\n      <td>0.00</td>\n      <td>0.000000</td>\n      <td>0.000000</td>\n      <td>0.000000</td>\n      <td>0.000000</td>\n    </tr>\n    <tr>\n      <th>5</th>\n      <td>Commerce Court, Victoria Hotel</td>\n      <td>0.000000</td>\n      <td>0.000000</td>\n      <td>0.0000</td>\n      <td>0.0000</td>\n      <td>0.000</td>\n      <td>0.000</td>\n      <td>0.000</td>\n      <td>0.020000</td>\n      <td>0.000000</td>\n      <td>...</td>\n      <td>0.010000</td>\n      <td>0.010000</td>\n      <td>0.000000</td>\n      <td>0.000000</td>\n      <td>0.00</td>\n      <td>0.00</td>\n      <td>0.020000</td>\n      <td>0.000000</td>\n      <td>0.000000</td>\n      <td>0.010000</td>\n    </tr>\n    <tr>\n      <th>6</th>\n      <td>Enclave of M5E</td>\n      <td>0.010101</td>\n      <td>0.000000</td>\n      <td>0.0000</td>\n      <td>0.0000</td>\n      <td>0.000</td>\n      <td>0.000</td>\n      <td>0.000</td>\n      <td>0.010101</td>\n      <td>0.010101</td>\n      <td>...</td>\n      <td>0.000000</td>\n      <td>0.010101</td>\n      <td>0.000000</td>\n      <td>0.000000</td>\n      <td>0.00</td>\n      <td>0.00</td>\n      <td>0.010101</td>\n      <td>0.000000</td>\n      <td>0.000000</td>\n      <td>0.000000</td>\n    </tr>\n    <tr>\n      <th>7</th>\n      <td>First Canadian Place, Underground city</td>\n      <td>0.000000</td>\n      <td>0.000000</td>\n      <td>0.0000</td>\n      <td>0.0000</td>\n      <td>0.000</td>\n      <td>0.000</td>\n      <td>0.000</td>\n      <td>0.020000</td>\n      <td>0.000000</td>\n      <td>...</td>\n      <td>0.010000</td>\n      <td>0.000000</td>\n      <td>0.010000</td>\n      <td>0.000000</td>\n      <td>0.00</td>\n      <td>0.01</td>\n      <td>0.010000</td>\n      <td>0.000000</td>\n      <td>0.000000</td>\n      <td>0.010000</td>\n    </tr>\n    <tr>\n      <th>8</th>\n      <td>Garden District, Ryerson</td>\n      <td>0.000000</td>\n      <td>0.000000</td>\n      <td>0.0000</td>\n      <td>0.0000</td>\n      <td>0.000</td>\n      <td>0.000</td>\n      <td>0.000</td>\n      <td>0.000000</td>\n      <td>0.000000</td>\n      <td>...</td>\n      <td>0.010000</td>\n      <td>0.010000</td>\n      <td>0.020000</td>\n      <td>0.000000</td>\n      <td>0.00</td>\n      <td>0.00</td>\n      <td>0.000000</td>\n      <td>0.010000</td>\n      <td>0.010000</td>\n      <td>0.010000</td>\n    </tr>\n    <tr>\n      <th>9</th>\n      <td>Harbourfront East, Union Station, Toronto Islands</td>\n      <td>0.000000</td>\n      <td>0.000000</td>\n      <td>0.0000</td>\n      <td>0.0000</td>\n      <td>0.000</td>\n      <td>0.000</td>\n      <td>0.000</td>\n      <td>0.000000</td>\n      <td>0.000000</td>\n      <td>...</td>\n      <td>0.010000</td>\n      <td>0.010000</td>\n      <td>0.000000</td>\n      <td>0.000000</td>\n      <td>0.00</td>\n      <td>0.01</td>\n      <td>0.000000</td>\n      <td>0.000000</td>\n      <td>0.000000</td>\n      <td>0.010000</td>\n    </tr>\n    <tr>\n      <th>10</th>\n      <td>Kensington Market, Chinatown, Grange Park</td>\n      <td>0.000000</td>\n      <td>0.000000</td>\n      <td>0.0000</td>\n      <td>0.0000</td>\n      <td>0.000</td>\n      <td>0.000</td>\n      <td>0.000</td>\n      <td>0.000000</td>\n      <td>0.000000</td>\n      <td>...</td>\n      <td>0.015152</td>\n      <td>0.000000</td>\n      <td>0.000000</td>\n      <td>0.000000</td>\n      <td>0.00</td>\n      <td>0.00</td>\n      <td>0.045455</td>\n      <td>0.000000</td>\n      <td>0.045455</td>\n      <td>0.015152</td>\n    </tr>\n    <tr>\n      <th>11</th>\n      <td>Regent Park, Harbourfront</td>\n      <td>0.023810</td>\n      <td>0.000000</td>\n      <td>0.0000</td>\n      <td>0.0000</td>\n      <td>0.000</td>\n      <td>0.000</td>\n      <td>0.000</td>\n      <td>0.000000</td>\n      <td>0.023810</td>\n      <td>...</td>\n      <td>0.000000</td>\n      <td>0.000000</td>\n      <td>0.047619</td>\n      <td>0.000000</td>\n      <td>0.00</td>\n      <td>0.00</td>\n      <td>0.000000</td>\n      <td>0.000000</td>\n      <td>0.000000</td>\n      <td>0.000000</td>\n    </tr>\n    <tr>\n      <th>12</th>\n      <td>Richmond, Adelaide, King</td>\n      <td>0.000000</td>\n      <td>0.000000</td>\n      <td>0.0000</td>\n      <td>0.0000</td>\n      <td>0.000</td>\n      <td>0.000</td>\n      <td>0.000</td>\n      <td>0.020408</td>\n      <td>0.000000</td>\n      <td>...</td>\n      <td>0.000000</td>\n      <td>0.040816</td>\n      <td>0.010204</td>\n      <td>0.000000</td>\n      <td>0.00</td>\n      <td>0.00</td>\n      <td>0.010204</td>\n      <td>0.000000</td>\n      <td>0.000000</td>\n      <td>0.000000</td>\n    </tr>\n    <tr>\n      <th>13</th>\n      <td>Rosedale</td>\n      <td>0.000000</td>\n      <td>0.000000</td>\n      <td>0.0000</td>\n      <td>0.0000</td>\n      <td>0.000</td>\n      <td>0.000</td>\n      <td>0.000</td>\n      <td>0.000000</td>\n      <td>0.000000</td>\n      <td>...</td>\n      <td>0.000000</td>\n      <td>0.000000</td>\n      <td>0.000000</td>\n      <td>0.000000</td>\n      <td>0.25</td>\n      <td>0.00</td>\n      <td>0.000000</td>\n      <td>0.000000</td>\n      <td>0.000000</td>\n      <td>0.000000</td>\n    </tr>\n    <tr>\n      <th>14</th>\n      <td>St. James Town</td>\n      <td>0.000000</td>\n      <td>0.000000</td>\n      <td>0.0000</td>\n      <td>0.0000</td>\n      <td>0.000</td>\n      <td>0.000</td>\n      <td>0.000</td>\n      <td>0.024691</td>\n      <td>0.000000</td>\n      <td>...</td>\n      <td>0.000000</td>\n      <td>0.012346</td>\n      <td>0.012346</td>\n      <td>0.000000</td>\n      <td>0.00</td>\n      <td>0.00</td>\n      <td>0.012346</td>\n      <td>0.000000</td>\n      <td>0.000000</td>\n      <td>0.012346</td>\n    </tr>\n    <tr>\n      <th>15</th>\n      <td>St. James Town, Cabbagetown</td>\n      <td>0.000000</td>\n      <td>0.000000</td>\n      <td>0.0000</td>\n      <td>0.0000</td>\n      <td>0.000</td>\n      <td>0.000</td>\n      <td>0.000</td>\n      <td>0.023256</td>\n      <td>0.000000</td>\n      <td>...</td>\n      <td>0.000000</td>\n      <td>0.023256</td>\n      <td>0.000000</td>\n      <td>0.000000</td>\n      <td>0.00</td>\n      <td>0.00</td>\n      <td>0.000000</td>\n      <td>0.000000</td>\n      <td>0.000000</td>\n      <td>0.000000</td>\n    </tr>\n    <tr>\n      <th>16</th>\n      <td>Toronto Dominion Centre, Design Exchange</td>\n      <td>0.000000</td>\n      <td>0.000000</td>\n      <td>0.0000</td>\n      <td>0.0000</td>\n      <td>0.000</td>\n      <td>0.000</td>\n      <td>0.000</td>\n      <td>0.020000</td>\n      <td>0.000000</td>\n      <td>...</td>\n      <td>0.010000</td>\n      <td>0.000000</td>\n      <td>0.010000</td>\n      <td>0.000000</td>\n      <td>0.00</td>\n      <td>0.01</td>\n      <td>0.010000</td>\n      <td>0.000000</td>\n      <td>0.000000</td>\n      <td>0.010000</td>\n    </tr>\n    <tr>\n      <th>17</th>\n      <td>University of Toronto, Harbord</td>\n      <td>0.030303</td>\n      <td>0.000000</td>\n      <td>0.0000</td>\n      <td>0.0000</td>\n      <td>0.000</td>\n      <td>0.000</td>\n      <td>0.000</td>\n      <td>0.000000</td>\n      <td>0.000000</td>\n      <td>...</td>\n      <td>0.000000</td>\n      <td>0.000000</td>\n      <td>0.030303</td>\n      <td>0.000000</td>\n      <td>0.00</td>\n      <td>0.00</td>\n      <td>0.000000</td>\n      <td>0.030303</td>\n      <td>0.000000</td>\n      <td>0.000000</td>\n    </tr>\n  </tbody>\n</table>\n<p>18 rows × 204 columns</p>\n</div>"
          },
          "metadata": {},
          "execution_count": 34
        }
      ],
      "metadata": {}
    },
    {
      "cell_type": "markdown",
      "source": [
        "#### Let's confirm the new size"
      ],
      "attachments": {},
      "metadata": {}
    },
    {
      "cell_type": "code",
      "source": [
        "toronto_grouped.shape"
      ],
      "execution_count": 35,
      "outputs": [
        {
          "output_type": "execute_result",
          "data": {
            "text/plain": [
              "(18, 204)"
            ]
          },
          "metadata": {},
          "execution_count": 35
        }
      ],
      "metadata": {}
    },
    {
      "cell_type": "markdown",
      "source": [
        "#### Let's print each neighborhood along with the top 5 most common venues"
      ],
      "attachments": {},
      "metadata": {}
    },
    {
      "cell_type": "code",
      "source": [
        "num_top_venues = 5\n",
        "\n",
        "for hood in toronto_grouped['Neighborhood']:\n",
        "    print(\"----\"+hood+\"----\")\n",
        "    temp = toronto_grouped[toronto_grouped['Neighborhood'] == hood].T.reset_index()\n",
        "    temp.columns = ['venue','freq']\n",
        "    temp = temp.iloc[1:]\n",
        "    temp['freq'] = temp['freq'].astype(float)\n",
        "    temp = temp.round({'freq': 2})\n",
        "    print(temp.sort_values('freq', ascending=False).reset_index(drop=True).head(num_top_venues))\n",
        "    print('\\n')"
      ],
      "execution_count": 37,
      "outputs": [
        {
          "output_type": "stream",
          "name": "stdout",
          "text": [
            "----Berczy Park----\n                venue  freq\n0         Coffee Shop  0.10\n1        Cocktail Bar  0.05\n2              Bakery  0.05\n3  Seafood Restaurant  0.03\n4          Restaurant  0.03\n\n\n----CN Tower, King and Spadina, Railway Lands, Harbourfront West, Bathurst Quay, South Niagara, Island airport----\n              venue  freq\n0    Airport Lounge  0.12\n1   Airport Service  0.12\n2  Airport Terminal  0.12\n3     Boat or Ferry  0.06\n4             Plane  0.06\n\n\n----Central Bay Street----\n                 venue  freq\n0          Coffee Shop  0.17\n1       Sandwich Place  0.05\n2                 Café  0.05\n3   Italian Restaurant  0.05\n4  Japanese Restaurant  0.03\n\n\n----Christie----\n           venue  freq\n0  Grocery Store  0.25\n1           Café  0.19\n2           Park  0.12\n3      Nightclub  0.06\n4     Restaurant  0.06\n\n\n----Church and Wellesley----\n                 venue  freq\n0          Coffee Shop  0.08\n1     Sushi Restaurant  0.06\n2  Japanese Restaurant  0.06\n3              Gay Bar  0.04\n4           Restaurant  0.04\n\n\n----Commerce Court, Victoria Hotel----\n          venue  freq\n0   Coffee Shop  0.14\n1          Café  0.06\n2         Hotel  0.06\n3    Restaurant  0.05\n4  Cocktail Bar  0.04\n\n\n----Enclave of M5E----\n                venue  freq\n0         Coffee Shop  0.12\n1  Italian Restaurant  0.04\n2  Seafood Restaurant  0.04\n3              Bakery  0.03\n4                Café  0.03\n\n\n----First Canadian Place, Underground city----\n           venue  freq\n0    Coffee Shop  0.10\n1           Café  0.07\n2            Gym  0.05\n3          Hotel  0.05\n4  Deli / Bodega  0.04\n\n\n----Garden District, Ryerson----\n            venue  freq\n0     Coffee Shop  0.10\n1  Clothing Store  0.07\n2  Sandwich Place  0.04\n3           Hotel  0.04\n4            Café  0.04\n\n\n----Harbourfront East, Union Station, Toronto Islands----\n         venue  freq\n0  Coffee Shop  0.19\n1         Café  0.05\n2  Pizza Place  0.03\n3     Aquarium  0.03\n4   Restaurant  0.03\n\n\n----Kensington Market, Chinatown, Grange Park----\n                           venue  freq\n0                           Café  0.08\n1          Vietnamese Restaurant  0.05\n2  Vegetarian / Vegan Restaurant  0.05\n3                            Bar  0.05\n4                         Bakery  0.05\n\n\n----Regent Park, Harbourfront----\n            venue  freq\n0     Coffee Shop  0.19\n1          Bakery  0.07\n2             Pub  0.07\n3            Park  0.07\n4  Breakfast Spot  0.05\n\n\n----Richmond, Adelaide, King----\n             venue  freq\n0      Coffee Shop  0.10\n1             Café  0.05\n2  Thai Restaurant  0.04\n3       Restaurant  0.04\n4   Clothing Store  0.03\n\n\n----Rosedale----\n                 venue  freq\n0                 Park  0.50\n1                Trail  0.25\n2           Playground  0.25\n3  Monument / Landmark  0.00\n4               Market  0.00\n\n\n----St. James Town----\n          venue  freq\n0   Coffee Shop  0.06\n1          Café  0.05\n2  Cocktail Bar  0.04\n3      Beer Bar  0.04\n4     Gastropub  0.04\n\n\n----St. James Town, Cabbagetown----\n                venue  freq\n0              Bakery  0.07\n1         Coffee Shop  0.07\n2  Italian Restaurant  0.05\n3          Restaurant  0.05\n4         Pizza Place  0.05\n\n\n----Toronto Dominion Centre, Design Exchange----\n                 venue  freq\n0          Coffee Shop  0.11\n1                Hotel  0.08\n2                 Café  0.06\n3           Restaurant  0.03\n4  Japanese Restaurant  0.03\n\n\n----University of Toronto, Harbord----\n                 venue  freq\n0                 Café  0.15\n1               Bakery  0.06\n2  Japanese Restaurant  0.06\n3            Bookstore  0.06\n4                  Bar  0.06\n\n\n"
          ]
        }
      ],
      "metadata": {}
    },
    {
      "cell_type": "markdown",
      "source": [
        "#### Let's put that into a _pandas_ dataframe"
      ],
      "attachments": {},
      "metadata": {}
    },
    {
      "cell_type": "code",
      "source": [
        "# function to sort the venues in descending order.\n",
        "def return_most_common_venues(row, num_top_venues):\n",
        "    row_categories = row.iloc[1:]\n",
        "    row_categories_sorted = row_categories.sort_values(ascending=False)\n",
        "    \n",
        "    return row_categories_sorted.index.values[0:num_top_venues]"
      ],
      "execution_count": 38,
      "outputs": [],
      "metadata": {}
    },
    {
      "cell_type": "markdown",
      "source": [
        "let's create the new dataframe and display the top 10 venues for each neighborhood."
      ],
      "attachments": {},
      "metadata": {}
    },
    {
      "cell_type": "code",
      "source": [
        "num_top_venues = 10\n",
        "\n",
        "indicators = ['st', 'nd', 'rd']\n",
        "\n",
        "# create columns according to number of top venues\n",
        "columns = ['Neighborhood']\n",
        "for ind in np.arange(num_top_venues):\n",
        "    try:\n",
        "        columns.append('{}{} Most Common Venue'.format(ind+1, indicators[ind]))\n",
        "    except:\n",
        "        columns.append('{}th Most Common Venue'.format(ind+1))\n",
        "\n",
        "# create a new dataframe\n",
        "neighborhoods_venues_sorted = pd.DataFrame(columns=columns)\n",
        "neighborhoods_venues_sorted['Neighborhood'] = toronto_grouped['Neighborhood']\n",
        "\n",
        "for ind in np.arange(toronto_grouped.shape[0]):\n",
        "    neighborhoods_venues_sorted.iloc[ind, 1:] = return_most_common_venues(toronto_grouped.iloc[ind, :], num_top_venues)\n",
        "\n",
        "neighborhoods_venues_sorted.head()"
      ],
      "execution_count": 39,
      "outputs": [
        {
          "output_type": "execute_result",
          "data": {
            "text/plain": [
              "                                        Neighborhood 1st Most Common Venue  \\\n",
              "0                                        Berczy Park           Coffee Shop   \n",
              "1  CN Tower, King and Spadina, Railway Lands, Har...        Airport Lounge   \n",
              "2                                 Central Bay Street           Coffee Shop   \n",
              "3                                           Christie         Grocery Store   \n",
              "4                               Church and Wellesley           Coffee Shop   \n",
              "\n",
              "  2nd Most Common Venue 3rd Most Common Venue 4th Most Common Venue  \\\n",
              "0          Cocktail Bar                Bakery    Seafood Restaurant   \n",
              "1       Airport Service      Airport Terminal         Boat or Ferry   \n",
              "2        Sandwich Place                  Café    Italian Restaurant   \n",
              "3                  Café                  Park             Nightclub   \n",
              "4      Sushi Restaurant   Japanese Restaurant               Gay Bar   \n",
              "\n",
              "  5th Most Common Venue 6th Most Common Venue     7th Most Common Venue  \\\n",
              "0            Restaurant           Cheese Shop                  Beer Bar   \n",
              "1                 Plane              Boutique          Sculpture Garden   \n",
              "2   Japanese Restaurant          Burger Joint               Salad Place   \n",
              "3            Restaurant           Candy Store        Italian Restaurant   \n",
              "4            Restaurant           Yoga Studio  Mediterranean Restaurant   \n",
              "\n",
              "  8th Most Common Venue 9th Most Common Venue 10th Most Common Venue  \n",
              "0        Farmers Market        Breakfast Spot     Belgian Restaurant  \n",
              "1   Rental Car Location                   Bar            Coffee Shop  \n",
              "2            Restaurant       Bubble Tea Shop          Deli / Bodega  \n",
              "3            Baby Store    Athletics & Sports            Coffee Shop  \n",
              "4  Fast Food Restaurant                  Café            Men's Store  "
            ],
            "text/html": "<div>\n<style scoped>\n    .dataframe tbody tr th:only-of-type {\n        vertical-align: middle;\n    }\n\n    .dataframe tbody tr th {\n        vertical-align: top;\n    }\n\n    .dataframe thead th {\n        text-align: right;\n    }\n</style>\n<table border=\"1\" class=\"dataframe\">\n  <thead>\n    <tr style=\"text-align: right;\">\n      <th></th>\n      <th>Neighborhood</th>\n      <th>1st Most Common Venue</th>\n      <th>2nd Most Common Venue</th>\n      <th>3rd Most Common Venue</th>\n      <th>4th Most Common Venue</th>\n      <th>5th Most Common Venue</th>\n      <th>6th Most Common Venue</th>\n      <th>7th Most Common Venue</th>\n      <th>8th Most Common Venue</th>\n      <th>9th Most Common Venue</th>\n      <th>10th Most Common Venue</th>\n    </tr>\n  </thead>\n  <tbody>\n    <tr>\n      <th>0</th>\n      <td>Berczy Park</td>\n      <td>Coffee Shop</td>\n      <td>Cocktail Bar</td>\n      <td>Bakery</td>\n      <td>Seafood Restaurant</td>\n      <td>Restaurant</td>\n      <td>Cheese Shop</td>\n      <td>Beer Bar</td>\n      <td>Farmers Market</td>\n      <td>Breakfast Spot</td>\n      <td>Belgian Restaurant</td>\n    </tr>\n    <tr>\n      <th>1</th>\n      <td>CN Tower, King and Spadina, Railway Lands, Har...</td>\n      <td>Airport Lounge</td>\n      <td>Airport Service</td>\n      <td>Airport Terminal</td>\n      <td>Boat or Ferry</td>\n      <td>Plane</td>\n      <td>Boutique</td>\n      <td>Sculpture Garden</td>\n      <td>Rental Car Location</td>\n      <td>Bar</td>\n      <td>Coffee Shop</td>\n    </tr>\n    <tr>\n      <th>2</th>\n      <td>Central Bay Street</td>\n      <td>Coffee Shop</td>\n      <td>Sandwich Place</td>\n      <td>Café</td>\n      <td>Italian Restaurant</td>\n      <td>Japanese Restaurant</td>\n      <td>Burger Joint</td>\n      <td>Salad Place</td>\n      <td>Restaurant</td>\n      <td>Bubble Tea Shop</td>\n      <td>Deli / Bodega</td>\n    </tr>\n    <tr>\n      <th>3</th>\n      <td>Christie</td>\n      <td>Grocery Store</td>\n      <td>Café</td>\n      <td>Park</td>\n      <td>Nightclub</td>\n      <td>Restaurant</td>\n      <td>Candy Store</td>\n      <td>Italian Restaurant</td>\n      <td>Baby Store</td>\n      <td>Athletics &amp; Sports</td>\n      <td>Coffee Shop</td>\n    </tr>\n    <tr>\n      <th>4</th>\n      <td>Church and Wellesley</td>\n      <td>Coffee Shop</td>\n      <td>Sushi Restaurant</td>\n      <td>Japanese Restaurant</td>\n      <td>Gay Bar</td>\n      <td>Restaurant</td>\n      <td>Yoga Studio</td>\n      <td>Mediterranean Restaurant</td>\n      <td>Fast Food Restaurant</td>\n      <td>Café</td>\n      <td>Men's Store</td>\n    </tr>\n  </tbody>\n</table>\n</div>"
          },
          "metadata": {},
          "execution_count": 39
        }
      ],
      "metadata": {}
    },
    {
      "cell_type": "markdown",
      "source": [
        "### 4. Cluster Neighborhoods"
      ],
      "attachments": {},
      "metadata": {}
    },
    {
      "cell_type": "markdown",
      "source": [
        "Run _k_-means to cluster the neighborhood into 3 clusters."
      ],
      "attachments": {},
      "metadata": {}
    },
    {
      "cell_type": "code",
      "source": [
        "# set number of clusters\n",
        "kclusters = 5\n",
        "\n",
        "toronto_grouped_clustering = toronto_grouped.drop('Neighborhood', 1)\n",
        "\n",
        "# run k-means clustering\n",
        "kmeans = KMeans(n_clusters=kclusters, random_state=0).fit(toronto_grouped_clustering)\n",
        "\n",
        "# check cluster labels generated for each row in the dataframe\n",
        "kmeans.labels_[0:10] "
      ],
      "execution_count": 40,
      "outputs": [
        {
          "output_type": "execute_result",
          "data": {
            "text/plain": [
              "array([0, 3, 0, 2, 0, 0, 0, 0, 0, 0])"
            ]
          },
          "metadata": {},
          "execution_count": 40
        }
      ],
      "metadata": {}
    },
    {
      "cell_type": "markdown",
      "source": [
        "Let's create a new dataframe that includes the cluster as well as the top 10 venues for each neighborhood."
      ],
      "attachments": {},
      "metadata": {}
    },
    {
      "cell_type": "code",
      "source": [
        "# add clustering labels\n",
        "neighborhoods_venues_sorted.insert(0, 'Cluster Labels', kmeans.labels_)\n",
        "\n",
        "toronto_new_merged = toronto_data\n",
        "\n",
        "# merge manhattan_grouped with manhattan_data to add latitude/longitude for each neighborhood\n",
        "toronto_new_merged = toronto_new_merged.join(neighborhoods_venues_sorted.set_index('Neighborhood'), on='Neighborhood')\n",
        "\n",
        "toronto_new_merged.head() # check the last columns!"
      ],
      "execution_count": 41,
      "outputs": [
        {
          "output_type": "execute_result",
          "data": {
            "text/plain": [
              "  PostalCode           Borough               Neighborhood   Latitude  \\\n",
              "0        M5A  Downtown Toronto  Regent Park, Harbourfront  43.654260   \n",
              "1        M5B  Downtown Toronto   Garden District, Ryerson  43.657162   \n",
              "2        M5C  Downtown Toronto             St. James Town  43.651494   \n",
              "3        M5E  Downtown Toronto                Berczy Park  43.644771   \n",
              "4        M5G  Downtown Toronto         Central Bay Street  43.657952   \n",
              "\n",
              "   Longitude  Cluster Labels 1st Most Common Venue 2nd Most Common Venue  \\\n",
              "0 -79.360636               0           Coffee Shop                Bakery   \n",
              "1 -79.378937               0           Coffee Shop        Clothing Store   \n",
              "2 -79.375418               0           Coffee Shop                  Café   \n",
              "3 -79.373306               0           Coffee Shop          Cocktail Bar   \n",
              "4 -79.387383               0           Coffee Shop        Sandwich Place   \n",
              "\n",
              "  3rd Most Common Venue 4th Most Common Venue 5th Most Common Venue  \\\n",
              "0                   Pub                  Park        Breakfast Spot   \n",
              "1        Sandwich Place                 Hotel                  Café   \n",
              "2          Cocktail Bar              Beer Bar             Gastropub   \n",
              "3                Bakery    Seafood Restaurant            Restaurant   \n",
              "4                  Café    Italian Restaurant   Japanese Restaurant   \n",
              "\n",
              "       6th Most Common Venue 7th Most Common Venue 8th Most Common Venue  \\\n",
              "0                    Theater                  Café           Event Space   \n",
              "1  Middle Eastern Restaurant        Cosmetics Shop   Japanese Restaurant   \n",
              "2        Moroccan Restaurant    Seafood Restaurant        Clothing Store   \n",
              "3                Cheese Shop              Beer Bar        Farmers Market   \n",
              "4               Burger Joint           Salad Place            Restaurant   \n",
              "\n",
              "  9th Most Common Venue 10th Most Common Venue  \n",
              "0        Chocolate Shop           Dessert Shop  \n",
              "1    Italian Restaurant            Pizza Place  \n",
              "2            Restaurant               Creperie  \n",
              "3        Breakfast Spot     Belgian Restaurant  \n",
              "4       Bubble Tea Shop          Deli / Bodega  "
            ],
            "text/html": "<div>\n<style scoped>\n    .dataframe tbody tr th:only-of-type {\n        vertical-align: middle;\n    }\n\n    .dataframe tbody tr th {\n        vertical-align: top;\n    }\n\n    .dataframe thead th {\n        text-align: right;\n    }\n</style>\n<table border=\"1\" class=\"dataframe\">\n  <thead>\n    <tr style=\"text-align: right;\">\n      <th></th>\n      <th>PostalCode</th>\n      <th>Borough</th>\n      <th>Neighborhood</th>\n      <th>Latitude</th>\n      <th>Longitude</th>\n      <th>Cluster Labels</th>\n      <th>1st Most Common Venue</th>\n      <th>2nd Most Common Venue</th>\n      <th>3rd Most Common Venue</th>\n      <th>4th Most Common Venue</th>\n      <th>5th Most Common Venue</th>\n      <th>6th Most Common Venue</th>\n      <th>7th Most Common Venue</th>\n      <th>8th Most Common Venue</th>\n      <th>9th Most Common Venue</th>\n      <th>10th Most Common Venue</th>\n    </tr>\n  </thead>\n  <tbody>\n    <tr>\n      <th>0</th>\n      <td>M5A</td>\n      <td>Downtown Toronto</td>\n      <td>Regent Park, Harbourfront</td>\n      <td>43.654260</td>\n      <td>-79.360636</td>\n      <td>0</td>\n      <td>Coffee Shop</td>\n      <td>Bakery</td>\n      <td>Pub</td>\n      <td>Park</td>\n      <td>Breakfast Spot</td>\n      <td>Theater</td>\n      <td>Café</td>\n      <td>Event Space</td>\n      <td>Chocolate Shop</td>\n      <td>Dessert Shop</td>\n    </tr>\n    <tr>\n      <th>1</th>\n      <td>M5B</td>\n      <td>Downtown Toronto</td>\n      <td>Garden District, Ryerson</td>\n      <td>43.657162</td>\n      <td>-79.378937</td>\n      <td>0</td>\n      <td>Coffee Shop</td>\n      <td>Clothing Store</td>\n      <td>Sandwich Place</td>\n      <td>Hotel</td>\n      <td>Café</td>\n      <td>Middle Eastern Restaurant</td>\n      <td>Cosmetics Shop</td>\n      <td>Japanese Restaurant</td>\n      <td>Italian Restaurant</td>\n      <td>Pizza Place</td>\n    </tr>\n    <tr>\n      <th>2</th>\n      <td>M5C</td>\n      <td>Downtown Toronto</td>\n      <td>St. James Town</td>\n      <td>43.651494</td>\n      <td>-79.375418</td>\n      <td>0</td>\n      <td>Coffee Shop</td>\n      <td>Café</td>\n      <td>Cocktail Bar</td>\n      <td>Beer Bar</td>\n      <td>Gastropub</td>\n      <td>Moroccan Restaurant</td>\n      <td>Seafood Restaurant</td>\n      <td>Clothing Store</td>\n      <td>Restaurant</td>\n      <td>Creperie</td>\n    </tr>\n    <tr>\n      <th>3</th>\n      <td>M5E</td>\n      <td>Downtown Toronto</td>\n      <td>Berczy Park</td>\n      <td>43.644771</td>\n      <td>-79.373306</td>\n      <td>0</td>\n      <td>Coffee Shop</td>\n      <td>Cocktail Bar</td>\n      <td>Bakery</td>\n      <td>Seafood Restaurant</td>\n      <td>Restaurant</td>\n      <td>Cheese Shop</td>\n      <td>Beer Bar</td>\n      <td>Farmers Market</td>\n      <td>Breakfast Spot</td>\n      <td>Belgian Restaurant</td>\n    </tr>\n    <tr>\n      <th>4</th>\n      <td>M5G</td>\n      <td>Downtown Toronto</td>\n      <td>Central Bay Street</td>\n      <td>43.657952</td>\n      <td>-79.387383</td>\n      <td>0</td>\n      <td>Coffee Shop</td>\n      <td>Sandwich Place</td>\n      <td>Café</td>\n      <td>Italian Restaurant</td>\n      <td>Japanese Restaurant</td>\n      <td>Burger Joint</td>\n      <td>Salad Place</td>\n      <td>Restaurant</td>\n      <td>Bubble Tea Shop</td>\n      <td>Deli / Bodega</td>\n    </tr>\n  </tbody>\n</table>\n</div>"
          },
          "metadata": {},
          "execution_count": 41
        }
      ],
      "metadata": {}
    },
    {
      "cell_type": "code",
      "source": [
        "toronto_new_merged.dropna(inplace=True)"
      ],
      "execution_count": 42,
      "outputs": [],
      "metadata": {}
    },
    {
      "cell_type": "markdown",
      "source": [
        "Finally, let's visualize the resulting clusters"
      ],
      "attachments": {},
      "metadata": {}
    },
    {
      "cell_type": "code",
      "source": [
        "# create map\n",
        "map_clusters = folium.Map(location=[toronto_latitude, toronto_longitude], zoom_start=11)\n",
        "\n",
        "# set color scheme for the clusters\n",
        "x = np.arange(kclusters)\n",
        "ys = [i + x + (i*x)**2 for i in range(kclusters)]\n",
        "colors_array = cm.rainbow(np.linspace(0, 1, len(ys)))\n",
        "rainbow = [colors.rgb2hex(i) for i in colors_array]\n",
        "\n",
        "# add markers to the map\n",
        "markers_colors = []\n",
        "for lat, lon, poi, cluster in zip(toronto_new_merged['Latitude'],\n",
        "                                  toronto_new_merged['Longitude'],\n",
        "                                  toronto_new_merged['Neighborhood'],\n",
        "                                  toronto_new_merged['Cluster Labels']):\n",
        "    label = folium.Popup(str(poi) + ' Cluster ' + str(cluster), parse_html=True)\n",
        "    cluster = int(cluster)\n",
        "    folium.CircleMarker(\n",
        "        [lat, lon],\n",
        "        radius=5,\n",
        "        popup=label,\n",
        "        color=rainbow[cluster-1],\n",
        "        fill=True,\n",
        "        fill_color=rainbow[cluster-1],\n",
        "        fill_opacity=0.7).add_to(map_clusters)\n",
        "       \n",
        "map_clusters"
      ],
      "execution_count": 43,
      "outputs": [
        {
          "output_type": "execute_result",
          "data": {
            "text/plain": [
              "<folium.folium.Map at 0x2dfbd20d220>"
            ],
            "text/html": "<div style=\"width:100%;\"><div style=\"position:relative;width:100%;height:0;padding-bottom:60%;\"><span style=\"color:#565656\">Make this Notebook Trusted to load map: File -> Trust Notebook</span><iframe src=\"about:blank\" style=\"position:absolute;width:100%;height:100%;left:0;top:0;border:none !important;\" data-html=%3C%21DOCTYPE%20html%3E%0A%3Chead%3E%20%20%20%20%0A%20%20%20%20%3Cmeta%20http-equiv%3D%22content-type%22%20content%3D%22text/html%3B%20charset%3DUTF-8%22%20/%3E%0A%20%20%20%20%0A%20%20%20%20%20%20%20%20%3Cscript%3E%0A%20%20%20%20%20%20%20%20%20%20%20%20L_NO_TOUCH%20%3D%20false%3B%0A%20%20%20%20%20%20%20%20%20%20%20%20L_DISABLE_3D%20%3D%20false%3B%0A%20%20%20%20%20%20%20%20%3C/script%3E%0A%20%20%20%20%0A%20%20%20%20%3Cstyle%3Ehtml%2C%20body%20%7Bwidth%3A%20100%25%3Bheight%3A%20100%25%3Bmargin%3A%200%3Bpadding%3A%200%3B%7D%3C/style%3E%0A%20%20%20%20%3Cstyle%3E%23map%20%7Bposition%3Aabsolute%3Btop%3A0%3Bbottom%3A0%3Bright%3A0%3Bleft%3A0%3B%7D%3C/style%3E%0A%20%20%20%20%3Cscript%20src%3D%22https%3A//cdn.jsdelivr.net/npm/leaflet%401.6.0/dist/leaflet.js%22%3E%3C/script%3E%0A%20%20%20%20%3Cscript%20src%3D%22https%3A//code.jquery.com/jquery-1.12.4.min.js%22%3E%3C/script%3E%0A%20%20%20%20%3Cscript%20src%3D%22https%3A//maxcdn.bootstrapcdn.com/bootstrap/3.2.0/js/bootstrap.min.js%22%3E%3C/script%3E%0A%20%20%20%20%3Cscript%20src%3D%22https%3A//cdnjs.cloudflare.com/ajax/libs/Leaflet.awesome-markers/2.0.2/leaflet.awesome-markers.js%22%3E%3C/script%3E%0A%20%20%20%20%3Clink%20rel%3D%22stylesheet%22%20href%3D%22https%3A//cdn.jsdelivr.net/npm/leaflet%401.6.0/dist/leaflet.css%22/%3E%0A%20%20%20%20%3Clink%20rel%3D%22stylesheet%22%20href%3D%22https%3A//maxcdn.bootstrapcdn.com/bootstrap/3.2.0/css/bootstrap.min.css%22/%3E%0A%20%20%20%20%3Clink%20rel%3D%22stylesheet%22%20href%3D%22https%3A//maxcdn.bootstrapcdn.com/bootstrap/3.2.0/css/bootstrap-theme.min.css%22/%3E%0A%20%20%20%20%3Clink%20rel%3D%22stylesheet%22%20href%3D%22https%3A//maxcdn.bootstrapcdn.com/font-awesome/4.6.3/css/font-awesome.min.css%22/%3E%0A%20%20%20%20%3Clink%20rel%3D%22stylesheet%22%20href%3D%22https%3A//cdnjs.cloudflare.com/ajax/libs/Leaflet.awesome-markers/2.0.2/leaflet.awesome-markers.css%22/%3E%0A%20%20%20%20%3Clink%20rel%3D%22stylesheet%22%20href%3D%22https%3A//cdn.jsdelivr.net/gh/python-visualization/folium/folium/templates/leaflet.awesome.rotate.min.css%22/%3E%0A%20%20%20%20%0A%20%20%20%20%20%20%20%20%20%20%20%20%3Cmeta%20name%3D%22viewport%22%20content%3D%22width%3Ddevice-width%2C%0A%20%20%20%20%20%20%20%20%20%20%20%20%20%20%20%20initial-scale%3D1.0%2C%20maximum-scale%3D1.0%2C%20user-scalable%3Dno%22%20/%3E%0A%20%20%20%20%20%20%20%20%20%20%20%20%3Cstyle%3E%0A%20%20%20%20%20%20%20%20%20%20%20%20%20%20%20%20%23map_9800f923526c49d5ab71a9b4ef7e508e%20%7B%0A%20%20%20%20%20%20%20%20%20%20%20%20%20%20%20%20%20%20%20%20position%3A%20relative%3B%0A%20%20%20%20%20%20%20%20%20%20%20%20%20%20%20%20%20%20%20%20width%3A%20100.0%25%3B%0A%20%20%20%20%20%20%20%20%20%20%20%20%20%20%20%20%20%20%20%20height%3A%20100.0%25%3B%0A%20%20%20%20%20%20%20%20%20%20%20%20%20%20%20%20%20%20%20%20left%3A%200.0%25%3B%0A%20%20%20%20%20%20%20%20%20%20%20%20%20%20%20%20%20%20%20%20top%3A%200.0%25%3B%0A%20%20%20%20%20%20%20%20%20%20%20%20%20%20%20%20%7D%0A%20%20%20%20%20%20%20%20%20%20%20%20%3C/style%3E%0A%20%20%20%20%20%20%20%20%0A%3C/head%3E%0A%3Cbody%3E%20%20%20%20%0A%20%20%20%20%0A%20%20%20%20%20%20%20%20%20%20%20%20%3Cdiv%20class%3D%22folium-map%22%20id%3D%22map_9800f923526c49d5ab71a9b4ef7e508e%22%20%3E%3C/div%3E%0A%20%20%20%20%20%20%20%20%0A%3C/body%3E%0A%3Cscript%3E%20%20%20%20%0A%20%20%20%20%0A%20%20%20%20%20%20%20%20%20%20%20%20var%20map_9800f923526c49d5ab71a9b4ef7e508e%20%3D%20L.map%28%0A%20%20%20%20%20%20%20%20%20%20%20%20%20%20%20%20%22map_9800f923526c49d5ab71a9b4ef7e508e%22%2C%0A%20%20%20%20%20%20%20%20%20%20%20%20%20%20%20%20%7B%0A%20%20%20%20%20%20%20%20%20%20%20%20%20%20%20%20%20%20%20%20center%3A%20%5B43.6425637%2C%20-79.38708718320467%5D%2C%0A%20%20%20%20%20%20%20%20%20%20%20%20%20%20%20%20%20%20%20%20crs%3A%20L.CRS.EPSG3857%2C%0A%20%20%20%20%20%20%20%20%20%20%20%20%20%20%20%20%20%20%20%20zoom%3A%2011%2C%0A%20%20%20%20%20%20%20%20%20%20%20%20%20%20%20%20%20%20%20%20zoomControl%3A%20true%2C%0A%20%20%20%20%20%20%20%20%20%20%20%20%20%20%20%20%20%20%20%20preferCanvas%3A%20false%2C%0A%20%20%20%20%20%20%20%20%20%20%20%20%20%20%20%20%7D%0A%20%20%20%20%20%20%20%20%20%20%20%20%29%3B%0A%0A%20%20%20%20%20%20%20%20%20%20%20%20%0A%0A%20%20%20%20%20%20%20%20%0A%20%20%20%20%0A%20%20%20%20%20%20%20%20%20%20%20%20var%20tile_layer_8f6202bf6ffa40439118a1c2c7f9e9b4%20%3D%20L.tileLayer%28%0A%20%20%20%20%20%20%20%20%20%20%20%20%20%20%20%20%22https%3A//%7Bs%7D.tile.openstreetmap.org/%7Bz%7D/%7Bx%7D/%7By%7D.png%22%2C%0A%20%20%20%20%20%20%20%20%20%20%20%20%20%20%20%20%7B%22attribution%22%3A%20%22Data%20by%20%5Cu0026copy%3B%20%5Cu003ca%20href%3D%5C%22http%3A//openstreetmap.org%5C%22%5Cu003eOpenStreetMap%5Cu003c/a%5Cu003e%2C%20under%20%5Cu003ca%20href%3D%5C%22http%3A//www.openstreetmap.org/copyright%5C%22%5Cu003eODbL%5Cu003c/a%5Cu003e.%22%2C%20%22detectRetina%22%3A%20false%2C%20%22maxNativeZoom%22%3A%2018%2C%20%22maxZoom%22%3A%2018%2C%20%22minZoom%22%3A%200%2C%20%22noWrap%22%3A%20false%2C%20%22opacity%22%3A%201%2C%20%22subdomains%22%3A%20%22abc%22%2C%20%22tms%22%3A%20false%7D%0A%20%20%20%20%20%20%20%20%20%20%20%20%29.addTo%28map_9800f923526c49d5ab71a9b4ef7e508e%29%3B%0A%20%20%20%20%20%20%20%20%0A%20%20%20%20%0A%20%20%20%20%20%20%20%20%20%20%20%20var%20circle_marker_751d8eab1b8c40d1b4ccc8a8f496d345%20%3D%20L.circleMarker%28%0A%20%20%20%20%20%20%20%20%20%20%20%20%20%20%20%20%5B43.6542599%2C%20-79.3606359%5D%2C%0A%20%20%20%20%20%20%20%20%20%20%20%20%20%20%20%20%7B%22bubblingMouseEvents%22%3A%20true%2C%20%22color%22%3A%20%22%23ff0000%22%2C%20%22dashArray%22%3A%20null%2C%20%22dashOffset%22%3A%20null%2C%20%22fill%22%3A%20true%2C%20%22fillColor%22%3A%20%22%23ff0000%22%2C%20%22fillOpacity%22%3A%200.7%2C%20%22fillRule%22%3A%20%22evenodd%22%2C%20%22lineCap%22%3A%20%22round%22%2C%20%22lineJoin%22%3A%20%22round%22%2C%20%22opacity%22%3A%201.0%2C%20%22radius%22%3A%205%2C%20%22stroke%22%3A%20true%2C%20%22weight%22%3A%203%7D%0A%20%20%20%20%20%20%20%20%20%20%20%20%29.addTo%28map_9800f923526c49d5ab71a9b4ef7e508e%29%3B%0A%20%20%20%20%20%20%20%20%0A%20%20%20%20%0A%20%20%20%20%20%20%20%20var%20popup_1bab16f746bb4b8b9a9dc5bea58c19d7%20%3D%20L.popup%28%7B%22maxWidth%22%3A%20%22100%25%22%7D%29%3B%0A%0A%20%20%20%20%20%20%20%20%0A%20%20%20%20%20%20%20%20%20%20%20%20var%20html_371a53f00ab0498e821c6ecda2fad51c%20%3D%20%24%28%60%3Cdiv%20id%3D%22html_371a53f00ab0498e821c6ecda2fad51c%22%20style%3D%22width%3A%20100.0%25%3B%20height%3A%20100.0%25%3B%22%3ERegent%20Park%2C%20Harbourfront%20Cluster%200%3C/div%3E%60%29%5B0%5D%3B%0A%20%20%20%20%20%20%20%20%20%20%20%20popup_1bab16f746bb4b8b9a9dc5bea58c19d7.setContent%28html_371a53f00ab0498e821c6ecda2fad51c%29%3B%0A%20%20%20%20%20%20%20%20%0A%0A%20%20%20%20%20%20%20%20circle_marker_751d8eab1b8c40d1b4ccc8a8f496d345.bindPopup%28popup_1bab16f746bb4b8b9a9dc5bea58c19d7%29%0A%20%20%20%20%20%20%20%20%3B%0A%0A%20%20%20%20%20%20%20%20%0A%20%20%20%20%0A%20%20%20%20%0A%20%20%20%20%20%20%20%20%20%20%20%20var%20circle_marker_24c5fdee046245d89f62f3a6139b10ff%20%3D%20L.circleMarker%28%0A%20%20%20%20%20%20%20%20%20%20%20%20%20%20%20%20%5B43.6571618%2C%20-79.3789371%5D%2C%0A%20%20%20%20%20%20%20%20%20%20%20%20%20%20%20%20%7B%22bubblingMouseEvents%22%3A%20true%2C%20%22color%22%3A%20%22%23ff0000%22%2C%20%22dashArray%22%3A%20null%2C%20%22dashOffset%22%3A%20null%2C%20%22fill%22%3A%20true%2C%20%22fillColor%22%3A%20%22%23ff0000%22%2C%20%22fillOpacity%22%3A%200.7%2C%20%22fillRule%22%3A%20%22evenodd%22%2C%20%22lineCap%22%3A%20%22round%22%2C%20%22lineJoin%22%3A%20%22round%22%2C%20%22opacity%22%3A%201.0%2C%20%22radius%22%3A%205%2C%20%22stroke%22%3A%20true%2C%20%22weight%22%3A%203%7D%0A%20%20%20%20%20%20%20%20%20%20%20%20%29.addTo%28map_9800f923526c49d5ab71a9b4ef7e508e%29%3B%0A%20%20%20%20%20%20%20%20%0A%20%20%20%20%0A%20%20%20%20%20%20%20%20var%20popup_9c2348e95bfc48b28167d85cabae1760%20%3D%20L.popup%28%7B%22maxWidth%22%3A%20%22100%25%22%7D%29%3B%0A%0A%20%20%20%20%20%20%20%20%0A%20%20%20%20%20%20%20%20%20%20%20%20var%20html_9a8abd9f8f694ef092fa5d3ccfbdb61c%20%3D%20%24%28%60%3Cdiv%20id%3D%22html_9a8abd9f8f694ef092fa5d3ccfbdb61c%22%20style%3D%22width%3A%20100.0%25%3B%20height%3A%20100.0%25%3B%22%3EGarden%20District%2C%20Ryerson%20Cluster%200%3C/div%3E%60%29%5B0%5D%3B%0A%20%20%20%20%20%20%20%20%20%20%20%20popup_9c2348e95bfc48b28167d85cabae1760.setContent%28html_9a8abd9f8f694ef092fa5d3ccfbdb61c%29%3B%0A%20%20%20%20%20%20%20%20%0A%0A%20%20%20%20%20%20%20%20circle_marker_24c5fdee046245d89f62f3a6139b10ff.bindPopup%28popup_9c2348e95bfc48b28167d85cabae1760%29%0A%20%20%20%20%20%20%20%20%3B%0A%0A%20%20%20%20%20%20%20%20%0A%20%20%20%20%0A%20%20%20%20%0A%20%20%20%20%20%20%20%20%20%20%20%20var%20circle_marker_6b25397bb1a04e0399a2bf5b225b0f64%20%3D%20L.circleMarker%28%0A%20%20%20%20%20%20%20%20%20%20%20%20%20%20%20%20%5B43.6514939%2C%20-79.3754179%5D%2C%0A%20%20%20%20%20%20%20%20%20%20%20%20%20%20%20%20%7B%22bubblingMouseEvents%22%3A%20true%2C%20%22color%22%3A%20%22%23ff0000%22%2C%20%22dashArray%22%3A%20null%2C%20%22dashOffset%22%3A%20null%2C%20%22fill%22%3A%20true%2C%20%22fillColor%22%3A%20%22%23ff0000%22%2C%20%22fillOpacity%22%3A%200.7%2C%20%22fillRule%22%3A%20%22evenodd%22%2C%20%22lineCap%22%3A%20%22round%22%2C%20%22lineJoin%22%3A%20%22round%22%2C%20%22opacity%22%3A%201.0%2C%20%22radius%22%3A%205%2C%20%22stroke%22%3A%20true%2C%20%22weight%22%3A%203%7D%0A%20%20%20%20%20%20%20%20%20%20%20%20%29.addTo%28map_9800f923526c49d5ab71a9b4ef7e508e%29%3B%0A%20%20%20%20%20%20%20%20%0A%20%20%20%20%0A%20%20%20%20%20%20%20%20var%20popup_c5bb023a80fb4552b630865d68070a0a%20%3D%20L.popup%28%7B%22maxWidth%22%3A%20%22100%25%22%7D%29%3B%0A%0A%20%20%20%20%20%20%20%20%0A%20%20%20%20%20%20%20%20%20%20%20%20var%20html_264f1d424e804a1db5635ced926dffa0%20%3D%20%24%28%60%3Cdiv%20id%3D%22html_264f1d424e804a1db5635ced926dffa0%22%20style%3D%22width%3A%20100.0%25%3B%20height%3A%20100.0%25%3B%22%3ESt.%20James%20Town%20Cluster%200%3C/div%3E%60%29%5B0%5D%3B%0A%20%20%20%20%20%20%20%20%20%20%20%20popup_c5bb023a80fb4552b630865d68070a0a.setContent%28html_264f1d424e804a1db5635ced926dffa0%29%3B%0A%20%20%20%20%20%20%20%20%0A%0A%20%20%20%20%20%20%20%20circle_marker_6b25397bb1a04e0399a2bf5b225b0f64.bindPopup%28popup_c5bb023a80fb4552b630865d68070a0a%29%0A%20%20%20%20%20%20%20%20%3B%0A%0A%20%20%20%20%20%20%20%20%0A%20%20%20%20%0A%20%20%20%20%0A%20%20%20%20%20%20%20%20%20%20%20%20var%20circle_marker_4d73fa612eda4956af755672476ed6cf%20%3D%20L.circleMarker%28%0A%20%20%20%20%20%20%20%20%20%20%20%20%20%20%20%20%5B43.6447708%2C%20-79.3733064%5D%2C%0A%20%20%20%20%20%20%20%20%20%20%20%20%20%20%20%20%7B%22bubblingMouseEvents%22%3A%20true%2C%20%22color%22%3A%20%22%23ff0000%22%2C%20%22dashArray%22%3A%20null%2C%20%22dashOffset%22%3A%20null%2C%20%22fill%22%3A%20true%2C%20%22fillColor%22%3A%20%22%23ff0000%22%2C%20%22fillOpacity%22%3A%200.7%2C%20%22fillRule%22%3A%20%22evenodd%22%2C%20%22lineCap%22%3A%20%22round%22%2C%20%22lineJoin%22%3A%20%22round%22%2C%20%22opacity%22%3A%201.0%2C%20%22radius%22%3A%205%2C%20%22stroke%22%3A%20true%2C%20%22weight%22%3A%203%7D%0A%20%20%20%20%20%20%20%20%20%20%20%20%29.addTo%28map_9800f923526c49d5ab71a9b4ef7e508e%29%3B%0A%20%20%20%20%20%20%20%20%0A%20%20%20%20%0A%20%20%20%20%20%20%20%20var%20popup_5c449d04e2284102aff701618971b3be%20%3D%20L.popup%28%7B%22maxWidth%22%3A%20%22100%25%22%7D%29%3B%0A%0A%20%20%20%20%20%20%20%20%0A%20%20%20%20%20%20%20%20%20%20%20%20var%20html_eeacec14676a4514a7025180fb447b32%20%3D%20%24%28%60%3Cdiv%20id%3D%22html_eeacec14676a4514a7025180fb447b32%22%20style%3D%22width%3A%20100.0%25%3B%20height%3A%20100.0%25%3B%22%3EBerczy%20Park%20Cluster%200%3C/div%3E%60%29%5B0%5D%3B%0A%20%20%20%20%20%20%20%20%20%20%20%20popup_5c449d04e2284102aff701618971b3be.setContent%28html_eeacec14676a4514a7025180fb447b32%29%3B%0A%20%20%20%20%20%20%20%20%0A%0A%20%20%20%20%20%20%20%20circle_marker_4d73fa612eda4956af755672476ed6cf.bindPopup%28popup_5c449d04e2284102aff701618971b3be%29%0A%20%20%20%20%20%20%20%20%3B%0A%0A%20%20%20%20%20%20%20%20%0A%20%20%20%20%0A%20%20%20%20%0A%20%20%20%20%20%20%20%20%20%20%20%20var%20circle_marker_068d11eb7f01443085a199687a5f51c2%20%3D%20L.circleMarker%28%0A%20%20%20%20%20%20%20%20%20%20%20%20%20%20%20%20%5B43.6579524%2C%20-79.3873826%5D%2C%0A%20%20%20%20%20%20%20%20%20%20%20%20%20%20%20%20%7B%22bubblingMouseEvents%22%3A%20true%2C%20%22color%22%3A%20%22%23ff0000%22%2C%20%22dashArray%22%3A%20null%2C%20%22dashOffset%22%3A%20null%2C%20%22fill%22%3A%20true%2C%20%22fillColor%22%3A%20%22%23ff0000%22%2C%20%22fillOpacity%22%3A%200.7%2C%20%22fillRule%22%3A%20%22evenodd%22%2C%20%22lineCap%22%3A%20%22round%22%2C%20%22lineJoin%22%3A%20%22round%22%2C%20%22opacity%22%3A%201.0%2C%20%22radius%22%3A%205%2C%20%22stroke%22%3A%20true%2C%20%22weight%22%3A%203%7D%0A%20%20%20%20%20%20%20%20%20%20%20%20%29.addTo%28map_9800f923526c49d5ab71a9b4ef7e508e%29%3B%0A%20%20%20%20%20%20%20%20%0A%20%20%20%20%0A%20%20%20%20%20%20%20%20var%20popup_eced4ff252a448b0a132bb5347fab06d%20%3D%20L.popup%28%7B%22maxWidth%22%3A%20%22100%25%22%7D%29%3B%0A%0A%20%20%20%20%20%20%20%20%0A%20%20%20%20%20%20%20%20%20%20%20%20var%20html_672a7b8557ac412a9c8dd5a609a4b7ed%20%3D%20%24%28%60%3Cdiv%20id%3D%22html_672a7b8557ac412a9c8dd5a609a4b7ed%22%20style%3D%22width%3A%20100.0%25%3B%20height%3A%20100.0%25%3B%22%3ECentral%20Bay%20Street%20Cluster%200%3C/div%3E%60%29%5B0%5D%3B%0A%20%20%20%20%20%20%20%20%20%20%20%20popup_eced4ff252a448b0a132bb5347fab06d.setContent%28html_672a7b8557ac412a9c8dd5a609a4b7ed%29%3B%0A%20%20%20%20%20%20%20%20%0A%0A%20%20%20%20%20%20%20%20circle_marker_068d11eb7f01443085a199687a5f51c2.bindPopup%28popup_eced4ff252a448b0a132bb5347fab06d%29%0A%20%20%20%20%20%20%20%20%3B%0A%0A%20%20%20%20%20%20%20%20%0A%20%20%20%20%0A%20%20%20%20%0A%20%20%20%20%20%20%20%20%20%20%20%20var%20circle_marker_df215b626645486cb09c1231539e3ba7%20%3D%20L.circleMarker%28%0A%20%20%20%20%20%20%20%20%20%20%20%20%20%20%20%20%5B43.669542%2C%20-79.4225637%5D%2C%0A%20%20%20%20%20%20%20%20%20%20%20%20%20%20%20%20%7B%22bubblingMouseEvents%22%3A%20true%2C%20%22color%22%3A%20%22%2300b5eb%22%2C%20%22dashArray%22%3A%20null%2C%20%22dashOffset%22%3A%20null%2C%20%22fill%22%3A%20true%2C%20%22fillColor%22%3A%20%22%2300b5eb%22%2C%20%22fillOpacity%22%3A%200.7%2C%20%22fillRule%22%3A%20%22evenodd%22%2C%20%22lineCap%22%3A%20%22round%22%2C%20%22lineJoin%22%3A%20%22round%22%2C%20%22opacity%22%3A%201.0%2C%20%22radius%22%3A%205%2C%20%22stroke%22%3A%20true%2C%20%22weight%22%3A%203%7D%0A%20%20%20%20%20%20%20%20%20%20%20%20%29.addTo%28map_9800f923526c49d5ab71a9b4ef7e508e%29%3B%0A%20%20%20%20%20%20%20%20%0A%20%20%20%20%0A%20%20%20%20%20%20%20%20var%20popup_d5b69597037540e1a49afe445d3be5a4%20%3D%20L.popup%28%7B%22maxWidth%22%3A%20%22100%25%22%7D%29%3B%0A%0A%20%20%20%20%20%20%20%20%0A%20%20%20%20%20%20%20%20%20%20%20%20var%20html_adda6798afc4498aaf86c7a402b2d826%20%3D%20%24%28%60%3Cdiv%20id%3D%22html_adda6798afc4498aaf86c7a402b2d826%22%20style%3D%22width%3A%20100.0%25%3B%20height%3A%20100.0%25%3B%22%3EChristie%20Cluster%202%3C/div%3E%60%29%5B0%5D%3B%0A%20%20%20%20%20%20%20%20%20%20%20%20popup_d5b69597037540e1a49afe445d3be5a4.setContent%28html_adda6798afc4498aaf86c7a402b2d826%29%3B%0A%20%20%20%20%20%20%20%20%0A%0A%20%20%20%20%20%20%20%20circle_marker_df215b626645486cb09c1231539e3ba7.bindPopup%28popup_d5b69597037540e1a49afe445d3be5a4%29%0A%20%20%20%20%20%20%20%20%3B%0A%0A%20%20%20%20%20%20%20%20%0A%20%20%20%20%0A%20%20%20%20%0A%20%20%20%20%20%20%20%20%20%20%20%20var%20circle_marker_64aef949cb0240a48ea7d00280ef1864%20%3D%20L.circleMarker%28%0A%20%20%20%20%20%20%20%20%20%20%20%20%20%20%20%20%5B43.6505712%2C%20-79.3845675%5D%2C%0A%20%20%20%20%20%20%20%20%20%20%20%20%20%20%20%20%7B%22bubblingMouseEvents%22%3A%20true%2C%20%22color%22%3A%20%22%23ff0000%22%2C%20%22dashArray%22%3A%20null%2C%20%22dashOffset%22%3A%20null%2C%20%22fill%22%3A%20true%2C%20%22fillColor%22%3A%20%22%23ff0000%22%2C%20%22fillOpacity%22%3A%200.7%2C%20%22fillRule%22%3A%20%22evenodd%22%2C%20%22lineCap%22%3A%20%22round%22%2C%20%22lineJoin%22%3A%20%22round%22%2C%20%22opacity%22%3A%201.0%2C%20%22radius%22%3A%205%2C%20%22stroke%22%3A%20true%2C%20%22weight%22%3A%203%7D%0A%20%20%20%20%20%20%20%20%20%20%20%20%29.addTo%28map_9800f923526c49d5ab71a9b4ef7e508e%29%3B%0A%20%20%20%20%20%20%20%20%0A%20%20%20%20%0A%20%20%20%20%20%20%20%20var%20popup_c45442a21f9246baa8584193f9051322%20%3D%20L.popup%28%7B%22maxWidth%22%3A%20%22100%25%22%7D%29%3B%0A%0A%20%20%20%20%20%20%20%20%0A%20%20%20%20%20%20%20%20%20%20%20%20var%20html_992512fcd54847b98f64790a2e8c433c%20%3D%20%24%28%60%3Cdiv%20id%3D%22html_992512fcd54847b98f64790a2e8c433c%22%20style%3D%22width%3A%20100.0%25%3B%20height%3A%20100.0%25%3B%22%3ERichmond%2C%20Adelaide%2C%20King%20Cluster%200%3C/div%3E%60%29%5B0%5D%3B%0A%20%20%20%20%20%20%20%20%20%20%20%20popup_c45442a21f9246baa8584193f9051322.setContent%28html_992512fcd54847b98f64790a2e8c433c%29%3B%0A%20%20%20%20%20%20%20%20%0A%0A%20%20%20%20%20%20%20%20circle_marker_64aef949cb0240a48ea7d00280ef1864.bindPopup%28popup_c45442a21f9246baa8584193f9051322%29%0A%20%20%20%20%20%20%20%20%3B%0A%0A%20%20%20%20%20%20%20%20%0A%20%20%20%20%0A%20%20%20%20%0A%20%20%20%20%20%20%20%20%20%20%20%20var%20circle_marker_1120b4d9f26344d58d1a65d5366740d9%20%3D%20L.circleMarker%28%0A%20%20%20%20%20%20%20%20%20%20%20%20%20%20%20%20%5B43.6408157%2C%20-79.3817523%5D%2C%0A%20%20%20%20%20%20%20%20%20%20%20%20%20%20%20%20%7B%22bubblingMouseEvents%22%3A%20true%2C%20%22color%22%3A%20%22%23ff0000%22%2C%20%22dashArray%22%3A%20null%2C%20%22dashOffset%22%3A%20null%2C%20%22fill%22%3A%20true%2C%20%22fillColor%22%3A%20%22%23ff0000%22%2C%20%22fillOpacity%22%3A%200.7%2C%20%22fillRule%22%3A%20%22evenodd%22%2C%20%22lineCap%22%3A%20%22round%22%2C%20%22lineJoin%22%3A%20%22round%22%2C%20%22opacity%22%3A%201.0%2C%20%22radius%22%3A%205%2C%20%22stroke%22%3A%20true%2C%20%22weight%22%3A%203%7D%0A%20%20%20%20%20%20%20%20%20%20%20%20%29.addTo%28map_9800f923526c49d5ab71a9b4ef7e508e%29%3B%0A%20%20%20%20%20%20%20%20%0A%20%20%20%20%0A%20%20%20%20%20%20%20%20var%20popup_57e1d5c57f4349b19ca8b68c2f931754%20%3D%20L.popup%28%7B%22maxWidth%22%3A%20%22100%25%22%7D%29%3B%0A%0A%20%20%20%20%20%20%20%20%0A%20%20%20%20%20%20%20%20%20%20%20%20var%20html_33a8339123c94b47bf20632ca7ae14f4%20%3D%20%24%28%60%3Cdiv%20id%3D%22html_33a8339123c94b47bf20632ca7ae14f4%22%20style%3D%22width%3A%20100.0%25%3B%20height%3A%20100.0%25%3B%22%3EHarbourfront%20East%2C%20Union%20Station%2C%20Toronto%20Islands%20Cluster%200%3C/div%3E%60%29%5B0%5D%3B%0A%20%20%20%20%20%20%20%20%20%20%20%20popup_57e1d5c57f4349b19ca8b68c2f931754.setContent%28html_33a8339123c94b47bf20632ca7ae14f4%29%3B%0A%20%20%20%20%20%20%20%20%0A%0A%20%20%20%20%20%20%20%20circle_marker_1120b4d9f26344d58d1a65d5366740d9.bindPopup%28popup_57e1d5c57f4349b19ca8b68c2f931754%29%0A%20%20%20%20%20%20%20%20%3B%0A%0A%20%20%20%20%20%20%20%20%0A%20%20%20%20%0A%20%20%20%20%0A%20%20%20%20%20%20%20%20%20%20%20%20var%20circle_marker_9d90ef087cc54403b5f8314e9b65f3e2%20%3D%20L.circleMarker%28%0A%20%20%20%20%20%20%20%20%20%20%20%20%20%20%20%20%5B43.6471768%2C%20-79.3815764%5D%2C%0A%20%20%20%20%20%20%20%20%20%20%20%20%20%20%20%20%7B%22bubblingMouseEvents%22%3A%20true%2C%20%22color%22%3A%20%22%23ff0000%22%2C%20%22dashArray%22%3A%20null%2C%20%22dashOffset%22%3A%20null%2C%20%22fill%22%3A%20true%2C%20%22fillColor%22%3A%20%22%23ff0000%22%2C%20%22fillOpacity%22%3A%200.7%2C%20%22fillRule%22%3A%20%22evenodd%22%2C%20%22lineCap%22%3A%20%22round%22%2C%20%22lineJoin%22%3A%20%22round%22%2C%20%22opacity%22%3A%201.0%2C%20%22radius%22%3A%205%2C%20%22stroke%22%3A%20true%2C%20%22weight%22%3A%203%7D%0A%20%20%20%20%20%20%20%20%20%20%20%20%29.addTo%28map_9800f923526c49d5ab71a9b4ef7e508e%29%3B%0A%20%20%20%20%20%20%20%20%0A%20%20%20%20%0A%20%20%20%20%20%20%20%20var%20popup_bd7eb8d5fa2c4d5781afb3d5995da132%20%3D%20L.popup%28%7B%22maxWidth%22%3A%20%22100%25%22%7D%29%3B%0A%0A%20%20%20%20%20%20%20%20%0A%20%20%20%20%20%20%20%20%20%20%20%20var%20html_08f54b90697d4dd2a0338992e0cbd830%20%3D%20%24%28%60%3Cdiv%20id%3D%22html_08f54b90697d4dd2a0338992e0cbd830%22%20style%3D%22width%3A%20100.0%25%3B%20height%3A%20100.0%25%3B%22%3EToronto%20Dominion%20Centre%2C%20Design%20Exchange%20Cluster%200%3C/div%3E%60%29%5B0%5D%3B%0A%20%20%20%20%20%20%20%20%20%20%20%20popup_bd7eb8d5fa2c4d5781afb3d5995da132.setContent%28html_08f54b90697d4dd2a0338992e0cbd830%29%3B%0A%20%20%20%20%20%20%20%20%0A%0A%20%20%20%20%20%20%20%20circle_marker_9d90ef087cc54403b5f8314e9b65f3e2.bindPopup%28popup_bd7eb8d5fa2c4d5781afb3d5995da132%29%0A%20%20%20%20%20%20%20%20%3B%0A%0A%20%20%20%20%20%20%20%20%0A%20%20%20%20%0A%20%20%20%20%0A%20%20%20%20%20%20%20%20%20%20%20%20var%20circle_marker_cbda053671804e7694d317bbad8904ea%20%3D%20L.circleMarker%28%0A%20%20%20%20%20%20%20%20%20%20%20%20%20%20%20%20%5B43.6481985%2C%20-79.3798169%5D%2C%0A%20%20%20%20%20%20%20%20%20%20%20%20%20%20%20%20%7B%22bubblingMouseEvents%22%3A%20true%2C%20%22color%22%3A%20%22%23ff0000%22%2C%20%22dashArray%22%3A%20null%2C%20%22dashOffset%22%3A%20null%2C%20%22fill%22%3A%20true%2C%20%22fillColor%22%3A%20%22%23ff0000%22%2C%20%22fillOpacity%22%3A%200.7%2C%20%22fillRule%22%3A%20%22evenodd%22%2C%20%22lineCap%22%3A%20%22round%22%2C%20%22lineJoin%22%3A%20%22round%22%2C%20%22opacity%22%3A%201.0%2C%20%22radius%22%3A%205%2C%20%22stroke%22%3A%20true%2C%20%22weight%22%3A%203%7D%0A%20%20%20%20%20%20%20%20%20%20%20%20%29.addTo%28map_9800f923526c49d5ab71a9b4ef7e508e%29%3B%0A%20%20%20%20%20%20%20%20%0A%20%20%20%20%0A%20%20%20%20%20%20%20%20var%20popup_6e213453e5e44af4907edccae3b0e629%20%3D%20L.popup%28%7B%22maxWidth%22%3A%20%22100%25%22%7D%29%3B%0A%0A%20%20%20%20%20%20%20%20%0A%20%20%20%20%20%20%20%20%20%20%20%20var%20html_13fc0e4beddb422e9a74597c31af93e2%20%3D%20%24%28%60%3Cdiv%20id%3D%22html_13fc0e4beddb422e9a74597c31af93e2%22%20style%3D%22width%3A%20100.0%25%3B%20height%3A%20100.0%25%3B%22%3ECommerce%20Court%2C%20Victoria%20Hotel%20Cluster%200%3C/div%3E%60%29%5B0%5D%3B%0A%20%20%20%20%20%20%20%20%20%20%20%20popup_6e213453e5e44af4907edccae3b0e629.setContent%28html_13fc0e4beddb422e9a74597c31af93e2%29%3B%0A%20%20%20%20%20%20%20%20%0A%0A%20%20%20%20%20%20%20%20circle_marker_cbda053671804e7694d317bbad8904ea.bindPopup%28popup_6e213453e5e44af4907edccae3b0e629%29%0A%20%20%20%20%20%20%20%20%3B%0A%0A%20%20%20%20%20%20%20%20%0A%20%20%20%20%0A%20%20%20%20%0A%20%20%20%20%20%20%20%20%20%20%20%20var%20circle_marker_f9c3080ba10d4a9d812f73f309f02109%20%3D%20L.circleMarker%28%0A%20%20%20%20%20%20%20%20%20%20%20%20%20%20%20%20%5B43.6626956%2C%20-79.4000493%5D%2C%0A%20%20%20%20%20%20%20%20%20%20%20%20%20%20%20%20%7B%22bubblingMouseEvents%22%3A%20true%2C%20%22color%22%3A%20%22%23ffb360%22%2C%20%22dashArray%22%3A%20null%2C%20%22dashOffset%22%3A%20null%2C%20%22fill%22%3A%20true%2C%20%22fillColor%22%3A%20%22%23ffb360%22%2C%20%22fillOpacity%22%3A%200.7%2C%20%22fillRule%22%3A%20%22evenodd%22%2C%20%22lineCap%22%3A%20%22round%22%2C%20%22lineJoin%22%3A%20%22round%22%2C%20%22opacity%22%3A%201.0%2C%20%22radius%22%3A%205%2C%20%22stroke%22%3A%20true%2C%20%22weight%22%3A%203%7D%0A%20%20%20%20%20%20%20%20%20%20%20%20%29.addTo%28map_9800f923526c49d5ab71a9b4ef7e508e%29%3B%0A%20%20%20%20%20%20%20%20%0A%20%20%20%20%0A%20%20%20%20%20%20%20%20var%20popup_5de4579efd204772b9ddf5b9ff5fb777%20%3D%20L.popup%28%7B%22maxWidth%22%3A%20%22100%25%22%7D%29%3B%0A%0A%20%20%20%20%20%20%20%20%0A%20%20%20%20%20%20%20%20%20%20%20%20var%20html_3c56d81b1d1f4bc28926029aad613129%20%3D%20%24%28%60%3Cdiv%20id%3D%22html_3c56d81b1d1f4bc28926029aad613129%22%20style%3D%22width%3A%20100.0%25%3B%20height%3A%20100.0%25%3B%22%3EUniversity%20of%20Toronto%2C%20Harbord%20Cluster%204%3C/div%3E%60%29%5B0%5D%3B%0A%20%20%20%20%20%20%20%20%20%20%20%20popup_5de4579efd204772b9ddf5b9ff5fb777.setContent%28html_3c56d81b1d1f4bc28926029aad613129%29%3B%0A%20%20%20%20%20%20%20%20%0A%0A%20%20%20%20%20%20%20%20circle_marker_f9c3080ba10d4a9d812f73f309f02109.bindPopup%28popup_5de4579efd204772b9ddf5b9ff5fb777%29%0A%20%20%20%20%20%20%20%20%3B%0A%0A%20%20%20%20%20%20%20%20%0A%20%20%20%20%0A%20%20%20%20%0A%20%20%20%20%20%20%20%20%20%20%20%20var%20circle_marker_db1fcbce85d94f2fbe073d0c7d85af7c%20%3D%20L.circleMarker%28%0A%20%20%20%20%20%20%20%20%20%20%20%20%20%20%20%20%5B43.6532057%2C%20-79.4000493%5D%2C%0A%20%20%20%20%20%20%20%20%20%20%20%20%20%20%20%20%7B%22bubblingMouseEvents%22%3A%20true%2C%20%22color%22%3A%20%22%23ffb360%22%2C%20%22dashArray%22%3A%20null%2C%20%22dashOffset%22%3A%20null%2C%20%22fill%22%3A%20true%2C%20%22fillColor%22%3A%20%22%23ffb360%22%2C%20%22fillOpacity%22%3A%200.7%2C%20%22fillRule%22%3A%20%22evenodd%22%2C%20%22lineCap%22%3A%20%22round%22%2C%20%22lineJoin%22%3A%20%22round%22%2C%20%22opacity%22%3A%201.0%2C%20%22radius%22%3A%205%2C%20%22stroke%22%3A%20true%2C%20%22weight%22%3A%203%7D%0A%20%20%20%20%20%20%20%20%20%20%20%20%29.addTo%28map_9800f923526c49d5ab71a9b4ef7e508e%29%3B%0A%20%20%20%20%20%20%20%20%0A%20%20%20%20%0A%20%20%20%20%20%20%20%20var%20popup_22b9f6c40c454d15a2064bf2d90bf204%20%3D%20L.popup%28%7B%22maxWidth%22%3A%20%22100%25%22%7D%29%3B%0A%0A%20%20%20%20%20%20%20%20%0A%20%20%20%20%20%20%20%20%20%20%20%20var%20html_f213c47ead1f436da1d889de079d6965%20%3D%20%24%28%60%3Cdiv%20id%3D%22html_f213c47ead1f436da1d889de079d6965%22%20style%3D%22width%3A%20100.0%25%3B%20height%3A%20100.0%25%3B%22%3EKensington%20Market%2C%20Chinatown%2C%20Grange%20Park%20Cluster%204%3C/div%3E%60%29%5B0%5D%3B%0A%20%20%20%20%20%20%20%20%20%20%20%20popup_22b9f6c40c454d15a2064bf2d90bf204.setContent%28html_f213c47ead1f436da1d889de079d6965%29%3B%0A%20%20%20%20%20%20%20%20%0A%0A%20%20%20%20%20%20%20%20circle_marker_db1fcbce85d94f2fbe073d0c7d85af7c.bindPopup%28popup_22b9f6c40c454d15a2064bf2d90bf204%29%0A%20%20%20%20%20%20%20%20%3B%0A%0A%20%20%20%20%20%20%20%20%0A%20%20%20%20%0A%20%20%20%20%0A%20%20%20%20%20%20%20%20%20%20%20%20var%20circle_marker_c0c68b0936574cdfb5c750fda30ef553%20%3D%20L.circleMarker%28%0A%20%20%20%20%20%20%20%20%20%20%20%20%20%20%20%20%5B43.6289467%2C%20-79.3944199%5D%2C%0A%20%20%20%20%20%20%20%20%20%20%20%20%20%20%20%20%7B%22bubblingMouseEvents%22%3A%20true%2C%20%22color%22%3A%20%22%2380ffb4%22%2C%20%22dashArray%22%3A%20null%2C%20%22dashOffset%22%3A%20null%2C%20%22fill%22%3A%20true%2C%20%22fillColor%22%3A%20%22%2380ffb4%22%2C%20%22fillOpacity%22%3A%200.7%2C%20%22fillRule%22%3A%20%22evenodd%22%2C%20%22lineCap%22%3A%20%22round%22%2C%20%22lineJoin%22%3A%20%22round%22%2C%20%22opacity%22%3A%201.0%2C%20%22radius%22%3A%205%2C%20%22stroke%22%3A%20true%2C%20%22weight%22%3A%203%7D%0A%20%20%20%20%20%20%20%20%20%20%20%20%29.addTo%28map_9800f923526c49d5ab71a9b4ef7e508e%29%3B%0A%20%20%20%20%20%20%20%20%0A%20%20%20%20%0A%20%20%20%20%20%20%20%20var%20popup_9620f7a2244947caac05256f71da0aca%20%3D%20L.popup%28%7B%22maxWidth%22%3A%20%22100%25%22%7D%29%3B%0A%0A%20%20%20%20%20%20%20%20%0A%20%20%20%20%20%20%20%20%20%20%20%20var%20html_45e8d78ce29d45a996503684e448a86c%20%3D%20%24%28%60%3Cdiv%20id%3D%22html_45e8d78ce29d45a996503684e448a86c%22%20style%3D%22width%3A%20100.0%25%3B%20height%3A%20100.0%25%3B%22%3ECN%20Tower%2C%20King%20and%20Spadina%2C%20Railway%20Lands%2C%20Harbourfront%20West%2C%20Bathurst%20Quay%2C%20South%20Niagara%2C%20Island%20airport%20Cluster%203%3C/div%3E%60%29%5B0%5D%3B%0A%20%20%20%20%20%20%20%20%20%20%20%20popup_9620f7a2244947caac05256f71da0aca.setContent%28html_45e8d78ce29d45a996503684e448a86c%29%3B%0A%20%20%20%20%20%20%20%20%0A%0A%20%20%20%20%20%20%20%20circle_marker_c0c68b0936574cdfb5c750fda30ef553.bindPopup%28popup_9620f7a2244947caac05256f71da0aca%29%0A%20%20%20%20%20%20%20%20%3B%0A%0A%20%20%20%20%20%20%20%20%0A%20%20%20%20%0A%20%20%20%20%0A%20%20%20%20%20%20%20%20%20%20%20%20var%20circle_marker_e6be3d747fd842cbaa65084c6c70ad66%20%3D%20L.circleMarker%28%0A%20%20%20%20%20%20%20%20%20%20%20%20%20%20%20%20%5B43.6795626%2C%20-79.3775294%5D%2C%0A%20%20%20%20%20%20%20%20%20%20%20%20%20%20%20%20%7B%22bubblingMouseEvents%22%3A%20true%2C%20%22color%22%3A%20%22%238000ff%22%2C%20%22dashArray%22%3A%20null%2C%20%22dashOffset%22%3A%20null%2C%20%22fill%22%3A%20true%2C%20%22fillColor%22%3A%20%22%238000ff%22%2C%20%22fillOpacity%22%3A%200.7%2C%20%22fillRule%22%3A%20%22evenodd%22%2C%20%22lineCap%22%3A%20%22round%22%2C%20%22lineJoin%22%3A%20%22round%22%2C%20%22opacity%22%3A%201.0%2C%20%22radius%22%3A%205%2C%20%22stroke%22%3A%20true%2C%20%22weight%22%3A%203%7D%0A%20%20%20%20%20%20%20%20%20%20%20%20%29.addTo%28map_9800f923526c49d5ab71a9b4ef7e508e%29%3B%0A%20%20%20%20%20%20%20%20%0A%20%20%20%20%0A%20%20%20%20%20%20%20%20var%20popup_0eee0282537a4d7095d5c27c6e4dddd8%20%3D%20L.popup%28%7B%22maxWidth%22%3A%20%22100%25%22%7D%29%3B%0A%0A%20%20%20%20%20%20%20%20%0A%20%20%20%20%20%20%20%20%20%20%20%20var%20html_01f97b670cca4b3db1c80ec5920062de%20%3D%20%24%28%60%3Cdiv%20id%3D%22html_01f97b670cca4b3db1c80ec5920062de%22%20style%3D%22width%3A%20100.0%25%3B%20height%3A%20100.0%25%3B%22%3ERosedale%20Cluster%201%3C/div%3E%60%29%5B0%5D%3B%0A%20%20%20%20%20%20%20%20%20%20%20%20popup_0eee0282537a4d7095d5c27c6e4dddd8.setContent%28html_01f97b670cca4b3db1c80ec5920062de%29%3B%0A%20%20%20%20%20%20%20%20%0A%0A%20%20%20%20%20%20%20%20circle_marker_e6be3d747fd842cbaa65084c6c70ad66.bindPopup%28popup_0eee0282537a4d7095d5c27c6e4dddd8%29%0A%20%20%20%20%20%20%20%20%3B%0A%0A%20%20%20%20%20%20%20%20%0A%20%20%20%20%0A%20%20%20%20%0A%20%20%20%20%20%20%20%20%20%20%20%20var%20circle_marker_baee9a4213f2494489b525c489de4908%20%3D%20L.circleMarker%28%0A%20%20%20%20%20%20%20%20%20%20%20%20%20%20%20%20%5B43.6464352%2C%20-79.374846%5D%2C%0A%20%20%20%20%20%20%20%20%20%20%20%20%20%20%20%20%7B%22bubblingMouseEvents%22%3A%20true%2C%20%22color%22%3A%20%22%23ff0000%22%2C%20%22dashArray%22%3A%20null%2C%20%22dashOffset%22%3A%20null%2C%20%22fill%22%3A%20true%2C%20%22fillColor%22%3A%20%22%23ff0000%22%2C%20%22fillOpacity%22%3A%200.7%2C%20%22fillRule%22%3A%20%22evenodd%22%2C%20%22lineCap%22%3A%20%22round%22%2C%20%22lineJoin%22%3A%20%22round%22%2C%20%22opacity%22%3A%201.0%2C%20%22radius%22%3A%205%2C%20%22stroke%22%3A%20true%2C%20%22weight%22%3A%203%7D%0A%20%20%20%20%20%20%20%20%20%20%20%20%29.addTo%28map_9800f923526c49d5ab71a9b4ef7e508e%29%3B%0A%20%20%20%20%20%20%20%20%0A%20%20%20%20%0A%20%20%20%20%20%20%20%20var%20popup_0c27a8ff1d8f440d938abb8f72e5eecc%20%3D%20L.popup%28%7B%22maxWidth%22%3A%20%22100%25%22%7D%29%3B%0A%0A%20%20%20%20%20%20%20%20%0A%20%20%20%20%20%20%20%20%20%20%20%20var%20html_b26a89623fbe43c9a6cb2f7135b57e4f%20%3D%20%24%28%60%3Cdiv%20id%3D%22html_b26a89623fbe43c9a6cb2f7135b57e4f%22%20style%3D%22width%3A%20100.0%25%3B%20height%3A%20100.0%25%3B%22%3EEnclave%20of%20M5E%20Cluster%200%3C/div%3E%60%29%5B0%5D%3B%0A%20%20%20%20%20%20%20%20%20%20%20%20popup_0c27a8ff1d8f440d938abb8f72e5eecc.setContent%28html_b26a89623fbe43c9a6cb2f7135b57e4f%29%3B%0A%20%20%20%20%20%20%20%20%0A%0A%20%20%20%20%20%20%20%20circle_marker_baee9a4213f2494489b525c489de4908.bindPopup%28popup_0c27a8ff1d8f440d938abb8f72e5eecc%29%0A%20%20%20%20%20%20%20%20%3B%0A%0A%20%20%20%20%20%20%20%20%0A%20%20%20%20%0A%20%20%20%20%0A%20%20%20%20%20%20%20%20%20%20%20%20var%20circle_marker_c90580090c8041b2a11b53dd4e055979%20%3D%20L.circleMarker%28%0A%20%20%20%20%20%20%20%20%20%20%20%20%20%20%20%20%5B43.667967%2C%20-79.3676753%5D%2C%0A%20%20%20%20%20%20%20%20%20%20%20%20%20%20%20%20%7B%22bubblingMouseEvents%22%3A%20true%2C%20%22color%22%3A%20%22%23ff0000%22%2C%20%22dashArray%22%3A%20null%2C%20%22dashOffset%22%3A%20null%2C%20%22fill%22%3A%20true%2C%20%22fillColor%22%3A%20%22%23ff0000%22%2C%20%22fillOpacity%22%3A%200.7%2C%20%22fillRule%22%3A%20%22evenodd%22%2C%20%22lineCap%22%3A%20%22round%22%2C%20%22lineJoin%22%3A%20%22round%22%2C%20%22opacity%22%3A%201.0%2C%20%22radius%22%3A%205%2C%20%22stroke%22%3A%20true%2C%20%22weight%22%3A%203%7D%0A%20%20%20%20%20%20%20%20%20%20%20%20%29.addTo%28map_9800f923526c49d5ab71a9b4ef7e508e%29%3B%0A%20%20%20%20%20%20%20%20%0A%20%20%20%20%0A%20%20%20%20%20%20%20%20var%20popup_2d9a2793deae49b5ade3082348813e19%20%3D%20L.popup%28%7B%22maxWidth%22%3A%20%22100%25%22%7D%29%3B%0A%0A%20%20%20%20%20%20%20%20%0A%20%20%20%20%20%20%20%20%20%20%20%20var%20html_cc295d78455a4bd69d66e0d06a9243be%20%3D%20%24%28%60%3Cdiv%20id%3D%22html_cc295d78455a4bd69d66e0d06a9243be%22%20style%3D%22width%3A%20100.0%25%3B%20height%3A%20100.0%25%3B%22%3ESt.%20James%20Town%2C%20Cabbagetown%20Cluster%200%3C/div%3E%60%29%5B0%5D%3B%0A%20%20%20%20%20%20%20%20%20%20%20%20popup_2d9a2793deae49b5ade3082348813e19.setContent%28html_cc295d78455a4bd69d66e0d06a9243be%29%3B%0A%20%20%20%20%20%20%20%20%0A%0A%20%20%20%20%20%20%20%20circle_marker_c90580090c8041b2a11b53dd4e055979.bindPopup%28popup_2d9a2793deae49b5ade3082348813e19%29%0A%20%20%20%20%20%20%20%20%3B%0A%0A%20%20%20%20%20%20%20%20%0A%20%20%20%20%0A%20%20%20%20%0A%20%20%20%20%20%20%20%20%20%20%20%20var%20circle_marker_30432bf84cb24d4c9379ae53bd647c4f%20%3D%20L.circleMarker%28%0A%20%20%20%20%20%20%20%20%20%20%20%20%20%20%20%20%5B43.6484292%2C%20-79.3822802%5D%2C%0A%20%20%20%20%20%20%20%20%20%20%20%20%20%20%20%20%7B%22bubblingMouseEvents%22%3A%20true%2C%20%22color%22%3A%20%22%23ff0000%22%2C%20%22dashArray%22%3A%20null%2C%20%22dashOffset%22%3A%20null%2C%20%22fill%22%3A%20true%2C%20%22fillColor%22%3A%20%22%23ff0000%22%2C%20%22fillOpacity%22%3A%200.7%2C%20%22fillRule%22%3A%20%22evenodd%22%2C%20%22lineCap%22%3A%20%22round%22%2C%20%22lineJoin%22%3A%20%22round%22%2C%20%22opacity%22%3A%201.0%2C%20%22radius%22%3A%205%2C%20%22stroke%22%3A%20true%2C%20%22weight%22%3A%203%7D%0A%20%20%20%20%20%20%20%20%20%20%20%20%29.addTo%28map_9800f923526c49d5ab71a9b4ef7e508e%29%3B%0A%20%20%20%20%20%20%20%20%0A%20%20%20%20%0A%20%20%20%20%20%20%20%20var%20popup_b37cbbcd8f0a46c99fb19cc531af6455%20%3D%20L.popup%28%7B%22maxWidth%22%3A%20%22100%25%22%7D%29%3B%0A%0A%20%20%20%20%20%20%20%20%0A%20%20%20%20%20%20%20%20%20%20%20%20var%20html_20624335ec894521a05cb50e36edeaa3%20%3D%20%24%28%60%3Cdiv%20id%3D%22html_20624335ec894521a05cb50e36edeaa3%22%20style%3D%22width%3A%20100.0%25%3B%20height%3A%20100.0%25%3B%22%3EFirst%20Canadian%20Place%2C%20Underground%20city%20Cluster%200%3C/div%3E%60%29%5B0%5D%3B%0A%20%20%20%20%20%20%20%20%20%20%20%20popup_b37cbbcd8f0a46c99fb19cc531af6455.setContent%28html_20624335ec894521a05cb50e36edeaa3%29%3B%0A%20%20%20%20%20%20%20%20%0A%0A%20%20%20%20%20%20%20%20circle_marker_30432bf84cb24d4c9379ae53bd647c4f.bindPopup%28popup_b37cbbcd8f0a46c99fb19cc531af6455%29%0A%20%20%20%20%20%20%20%20%3B%0A%0A%20%20%20%20%20%20%20%20%0A%20%20%20%20%0A%20%20%20%20%0A%20%20%20%20%20%20%20%20%20%20%20%20var%20circle_marker_e0c0fb9cc70b42d0a55754ece0d77c45%20%3D%20L.circleMarker%28%0A%20%20%20%20%20%20%20%20%20%20%20%20%20%20%20%20%5B43.6658599%2C%20-79.3831599%5D%2C%0A%20%20%20%20%20%20%20%20%20%20%20%20%20%20%20%20%7B%22bubblingMouseEvents%22%3A%20true%2C%20%22color%22%3A%20%22%23ff0000%22%2C%20%22dashArray%22%3A%20null%2C%20%22dashOffset%22%3A%20null%2C%20%22fill%22%3A%20true%2C%20%22fillColor%22%3A%20%22%23ff0000%22%2C%20%22fillOpacity%22%3A%200.7%2C%20%22fillRule%22%3A%20%22evenodd%22%2C%20%22lineCap%22%3A%20%22round%22%2C%20%22lineJoin%22%3A%20%22round%22%2C%20%22opacity%22%3A%201.0%2C%20%22radius%22%3A%205%2C%20%22stroke%22%3A%20true%2C%20%22weight%22%3A%203%7D%0A%20%20%20%20%20%20%20%20%20%20%20%20%29.addTo%28map_9800f923526c49d5ab71a9b4ef7e508e%29%3B%0A%20%20%20%20%20%20%20%20%0A%20%20%20%20%0A%20%20%20%20%20%20%20%20var%20popup_5a89ce1d386b49419c4cf870bf511ce9%20%3D%20L.popup%28%7B%22maxWidth%22%3A%20%22100%25%22%7D%29%3B%0A%0A%20%20%20%20%20%20%20%20%0A%20%20%20%20%20%20%20%20%20%20%20%20var%20html_416815ddf1554c048f430b922f3e1f8a%20%3D%20%24%28%60%3Cdiv%20id%3D%22html_416815ddf1554c048f430b922f3e1f8a%22%20style%3D%22width%3A%20100.0%25%3B%20height%3A%20100.0%25%3B%22%3EChurch%20and%20Wellesley%20Cluster%200%3C/div%3E%60%29%5B0%5D%3B%0A%20%20%20%20%20%20%20%20%20%20%20%20popup_5a89ce1d386b49419c4cf870bf511ce9.setContent%28html_416815ddf1554c048f430b922f3e1f8a%29%3B%0A%20%20%20%20%20%20%20%20%0A%0A%20%20%20%20%20%20%20%20circle_marker_e0c0fb9cc70b42d0a55754ece0d77c45.bindPopup%28popup_5a89ce1d386b49419c4cf870bf511ce9%29%0A%20%20%20%20%20%20%20%20%3B%0A%0A%20%20%20%20%20%20%20%20%0A%20%20%20%20%0A%3C/script%3E onload=\"this.contentDocument.open();this.contentDocument.write(    decodeURIComponent(this.getAttribute('data-html')));this.contentDocument.close();\" allowfullscreen webkitallowfullscreen mozallowfullscreen></iframe></div></div>"
          },
          "metadata": {},
          "execution_count": 43
        }
      ],
      "metadata": {}
    },
    {
      "cell_type": "markdown",
      "source": [
        "\n",
        "### 5. Examine Clusters\n",
        "#### Cluster 1"
      ],
      "attachments": {},
      "metadata": {}
    },
    {
      "cell_type": "code",
      "source": [
        "toronto_new_merged.loc[toronto_new_merged['Cluster Labels'] == 0,\n",
        "                       toronto_new_merged.columns[[1] + list(range(5, toronto_new_merged.shape[1]))]]"
      ],
      "execution_count": 44,
      "outputs": [
        {
          "output_type": "execute_result",
          "data": {
            "text/plain": [
              "                                           Borough  Cluster Labels  \\\n",
              "0                                 Downtown Toronto               0   \n",
              "1                                 Downtown Toronto               0   \n",
              "2                                 Downtown Toronto               0   \n",
              "3                                 Downtown Toronto               0   \n",
              "4                                 Downtown Toronto               0   \n",
              "6                                 Downtown Toronto               0   \n",
              "7                                 Downtown Toronto               0   \n",
              "8                                 Downtown Toronto               0   \n",
              "9                                 Downtown Toronto               0   \n",
              "14  Downtown TorontoStn A PO Boxes25 The Esplanade               0   \n",
              "15                                Downtown Toronto               0   \n",
              "16                                Downtown Toronto               0   \n",
              "17                                Downtown Toronto               0   \n",
              "\n",
              "   1st Most Common Venue 2nd Most Common Venue 3rd Most Common Venue  \\\n",
              "0            Coffee Shop                Bakery                   Pub   \n",
              "1            Coffee Shop        Clothing Store        Sandwich Place   \n",
              "2            Coffee Shop                  Café          Cocktail Bar   \n",
              "3            Coffee Shop          Cocktail Bar                Bakery   \n",
              "4            Coffee Shop        Sandwich Place                  Café   \n",
              "6            Coffee Shop                  Café       Thai Restaurant   \n",
              "7            Coffee Shop                  Café           Pizza Place   \n",
              "8            Coffee Shop                 Hotel                  Café   \n",
              "9            Coffee Shop                  Café                 Hotel   \n",
              "14           Coffee Shop    Italian Restaurant    Seafood Restaurant   \n",
              "15                Bakery           Coffee Shop    Italian Restaurant   \n",
              "16           Coffee Shop                  Café                   Gym   \n",
              "17           Coffee Shop      Sushi Restaurant   Japanese Restaurant   \n",
              "\n",
              "   4th Most Common Venue 5th Most Common Venue      6th Most Common Venue  \\\n",
              "0                   Park        Breakfast Spot                    Theater   \n",
              "1                  Hotel                  Café  Middle Eastern Restaurant   \n",
              "2               Beer Bar             Gastropub        Moroccan Restaurant   \n",
              "3     Seafood Restaurant            Restaurant                Cheese Shop   \n",
              "4     Italian Restaurant   Japanese Restaurant               Burger Joint   \n",
              "6             Restaurant        Clothing Store              Deli / Bodega   \n",
              "7               Aquarium            Restaurant                      Hotel   \n",
              "8             Restaurant   Japanese Restaurant                     Bakery   \n",
              "9             Restaurant          Cocktail Bar                        Gym   \n",
              "14                Bakery                  Café               Cocktail Bar   \n",
              "15            Restaurant           Pizza Place                        Pub   \n",
              "16                 Hotel         Deli / Bodega           Sushi Restaurant   \n",
              "17               Gay Bar            Restaurant                Yoga Studio   \n",
              "\n",
              "       7th Most Common Venue 8th Most Common Venue 9th Most Common Venue  \\\n",
              "0                       Café           Event Space        Chocolate Shop   \n",
              "1             Cosmetics Shop   Japanese Restaurant    Italian Restaurant   \n",
              "2         Seafood Restaurant        Clothing Store            Restaurant   \n",
              "3                   Beer Bar        Farmers Market        Breakfast Spot   \n",
              "4                Salad Place            Restaurant       Bubble Tea Shop   \n",
              "6                        Gym                 Hotel    Seafood Restaurant   \n",
              "7             Scenic Lookout    Italian Restaurant        Sandwich Place   \n",
              "8                Salad Place    Seafood Restaurant                Lounge   \n",
              "9         Italian Restaurant   Japanese Restaurant         Deli / Bodega   \n",
              "14                Restaurant   Japanese Restaurant                   Pub   \n",
              "15                      Café            Beer Store          Liquor Store   \n",
              "16       Japanese Restaurant            Restaurant      Asian Restaurant   \n",
              "17  Mediterranean Restaurant  Fast Food Restaurant                  Café   \n",
              "\n",
              "   10th Most Common Venue  \n",
              "0            Dessert Shop  \n",
              "1             Pizza Place  \n",
              "2                Creperie  \n",
              "3      Belgian Restaurant  \n",
              "4           Deli / Bodega  \n",
              "6        Sushi Restaurant  \n",
              "7              Steakhouse  \n",
              "8          Breakfast Spot  \n",
              "9        Asian Restaurant  \n",
              "14                  Hotel  \n",
              "15                 Market  \n",
              "16           Concert Hall  \n",
              "17            Men's Store  "
            ],
            "text/html": "<div>\n<style scoped>\n    .dataframe tbody tr th:only-of-type {\n        vertical-align: middle;\n    }\n\n    .dataframe tbody tr th {\n        vertical-align: top;\n    }\n\n    .dataframe thead th {\n        text-align: right;\n    }\n</style>\n<table border=\"1\" class=\"dataframe\">\n  <thead>\n    <tr style=\"text-align: right;\">\n      <th></th>\n      <th>Borough</th>\n      <th>Cluster Labels</th>\n      <th>1st Most Common Venue</th>\n      <th>2nd Most Common Venue</th>\n      <th>3rd Most Common Venue</th>\n      <th>4th Most Common Venue</th>\n      <th>5th Most Common Venue</th>\n      <th>6th Most Common Venue</th>\n      <th>7th Most Common Venue</th>\n      <th>8th Most Common Venue</th>\n      <th>9th Most Common Venue</th>\n      <th>10th Most Common Venue</th>\n    </tr>\n  </thead>\n  <tbody>\n    <tr>\n      <th>0</th>\n      <td>Downtown Toronto</td>\n      <td>0</td>\n      <td>Coffee Shop</td>\n      <td>Bakery</td>\n      <td>Pub</td>\n      <td>Park</td>\n      <td>Breakfast Spot</td>\n      <td>Theater</td>\n      <td>Café</td>\n      <td>Event Space</td>\n      <td>Chocolate Shop</td>\n      <td>Dessert Shop</td>\n    </tr>\n    <tr>\n      <th>1</th>\n      <td>Downtown Toronto</td>\n      <td>0</td>\n      <td>Coffee Shop</td>\n      <td>Clothing Store</td>\n      <td>Sandwich Place</td>\n      <td>Hotel</td>\n      <td>Café</td>\n      <td>Middle Eastern Restaurant</td>\n      <td>Cosmetics Shop</td>\n      <td>Japanese Restaurant</td>\n      <td>Italian Restaurant</td>\n      <td>Pizza Place</td>\n    </tr>\n    <tr>\n      <th>2</th>\n      <td>Downtown Toronto</td>\n      <td>0</td>\n      <td>Coffee Shop</td>\n      <td>Café</td>\n      <td>Cocktail Bar</td>\n      <td>Beer Bar</td>\n      <td>Gastropub</td>\n      <td>Moroccan Restaurant</td>\n      <td>Seafood Restaurant</td>\n      <td>Clothing Store</td>\n      <td>Restaurant</td>\n      <td>Creperie</td>\n    </tr>\n    <tr>\n      <th>3</th>\n      <td>Downtown Toronto</td>\n      <td>0</td>\n      <td>Coffee Shop</td>\n      <td>Cocktail Bar</td>\n      <td>Bakery</td>\n      <td>Seafood Restaurant</td>\n      <td>Restaurant</td>\n      <td>Cheese Shop</td>\n      <td>Beer Bar</td>\n      <td>Farmers Market</td>\n      <td>Breakfast Spot</td>\n      <td>Belgian Restaurant</td>\n    </tr>\n    <tr>\n      <th>4</th>\n      <td>Downtown Toronto</td>\n      <td>0</td>\n      <td>Coffee Shop</td>\n      <td>Sandwich Place</td>\n      <td>Café</td>\n      <td>Italian Restaurant</td>\n      <td>Japanese Restaurant</td>\n      <td>Burger Joint</td>\n      <td>Salad Place</td>\n      <td>Restaurant</td>\n      <td>Bubble Tea Shop</td>\n      <td>Deli / Bodega</td>\n    </tr>\n    <tr>\n      <th>6</th>\n      <td>Downtown Toronto</td>\n      <td>0</td>\n      <td>Coffee Shop</td>\n      <td>Café</td>\n      <td>Thai Restaurant</td>\n      <td>Restaurant</td>\n      <td>Clothing Store</td>\n      <td>Deli / Bodega</td>\n      <td>Gym</td>\n      <td>Hotel</td>\n      <td>Seafood Restaurant</td>\n      <td>Sushi Restaurant</td>\n    </tr>\n    <tr>\n      <th>7</th>\n      <td>Downtown Toronto</td>\n      <td>0</td>\n      <td>Coffee Shop</td>\n      <td>Café</td>\n      <td>Pizza Place</td>\n      <td>Aquarium</td>\n      <td>Restaurant</td>\n      <td>Hotel</td>\n      <td>Scenic Lookout</td>\n      <td>Italian Restaurant</td>\n      <td>Sandwich Place</td>\n      <td>Steakhouse</td>\n    </tr>\n    <tr>\n      <th>8</th>\n      <td>Downtown Toronto</td>\n      <td>0</td>\n      <td>Coffee Shop</td>\n      <td>Hotel</td>\n      <td>Café</td>\n      <td>Restaurant</td>\n      <td>Japanese Restaurant</td>\n      <td>Bakery</td>\n      <td>Salad Place</td>\n      <td>Seafood Restaurant</td>\n      <td>Lounge</td>\n      <td>Breakfast Spot</td>\n    </tr>\n    <tr>\n      <th>9</th>\n      <td>Downtown Toronto</td>\n      <td>0</td>\n      <td>Coffee Shop</td>\n      <td>Café</td>\n      <td>Hotel</td>\n      <td>Restaurant</td>\n      <td>Cocktail Bar</td>\n      <td>Gym</td>\n      <td>Italian Restaurant</td>\n      <td>Japanese Restaurant</td>\n      <td>Deli / Bodega</td>\n      <td>Asian Restaurant</td>\n    </tr>\n    <tr>\n      <th>14</th>\n      <td>Downtown TorontoStn A PO Boxes25 The Esplanade</td>\n      <td>0</td>\n      <td>Coffee Shop</td>\n      <td>Italian Restaurant</td>\n      <td>Seafood Restaurant</td>\n      <td>Bakery</td>\n      <td>Café</td>\n      <td>Cocktail Bar</td>\n      <td>Restaurant</td>\n      <td>Japanese Restaurant</td>\n      <td>Pub</td>\n      <td>Hotel</td>\n    </tr>\n    <tr>\n      <th>15</th>\n      <td>Downtown Toronto</td>\n      <td>0</td>\n      <td>Bakery</td>\n      <td>Coffee Shop</td>\n      <td>Italian Restaurant</td>\n      <td>Restaurant</td>\n      <td>Pizza Place</td>\n      <td>Pub</td>\n      <td>Café</td>\n      <td>Beer Store</td>\n      <td>Liquor Store</td>\n      <td>Market</td>\n    </tr>\n    <tr>\n      <th>16</th>\n      <td>Downtown Toronto</td>\n      <td>0</td>\n      <td>Coffee Shop</td>\n      <td>Café</td>\n      <td>Gym</td>\n      <td>Hotel</td>\n      <td>Deli / Bodega</td>\n      <td>Sushi Restaurant</td>\n      <td>Japanese Restaurant</td>\n      <td>Restaurant</td>\n      <td>Asian Restaurant</td>\n      <td>Concert Hall</td>\n    </tr>\n    <tr>\n      <th>17</th>\n      <td>Downtown Toronto</td>\n      <td>0</td>\n      <td>Coffee Shop</td>\n      <td>Sushi Restaurant</td>\n      <td>Japanese Restaurant</td>\n      <td>Gay Bar</td>\n      <td>Restaurant</td>\n      <td>Yoga Studio</td>\n      <td>Mediterranean Restaurant</td>\n      <td>Fast Food Restaurant</td>\n      <td>Café</td>\n      <td>Men's Store</td>\n    </tr>\n  </tbody>\n</table>\n</div>"
          },
          "metadata": {},
          "execution_count": 44
        }
      ],
      "metadata": {}
    },
    {
      "cell_type": "markdown",
      "source": [
        "#### Cluster 2"
      ],
      "attachments": {},
      "metadata": {}
    },
    {
      "cell_type": "code",
      "source": [
        "toronto_new_merged.loc[toronto_new_merged['Cluster Labels'] == 1,\n",
        "                       toronto_new_merged.columns[[1] + list(range(5, toronto_new_merged.shape[1]))]]"
      ],
      "execution_count": 45,
      "outputs": [
        {
          "output_type": "execute_result",
          "data": {
            "text/plain": [
              "             Borough  Cluster Labels 1st Most Common Venue  \\\n",
              "13  Downtown Toronto               1                  Park   \n",
              "\n",
              "   2nd Most Common Venue 3rd Most Common Venue 4th Most Common Venue  \\\n",
              "13                 Trail            Playground   Monument / Landmark   \n",
              "\n",
              "   5th Most Common Venue 6th Most Common Venue     7th Most Common Venue  \\\n",
              "13                Market   Martial Arts School  Mediterranean Restaurant   \n",
              "\n",
              "   8th Most Common Venue 9th Most Common Venue 10th Most Common Venue  \n",
              "13           Men's Store         Metro Station     Mexican Restaurant  "
            ],
            "text/html": "<div>\n<style scoped>\n    .dataframe tbody tr th:only-of-type {\n        vertical-align: middle;\n    }\n\n    .dataframe tbody tr th {\n        vertical-align: top;\n    }\n\n    .dataframe thead th {\n        text-align: right;\n    }\n</style>\n<table border=\"1\" class=\"dataframe\">\n  <thead>\n    <tr style=\"text-align: right;\">\n      <th></th>\n      <th>Borough</th>\n      <th>Cluster Labels</th>\n      <th>1st Most Common Venue</th>\n      <th>2nd Most Common Venue</th>\n      <th>3rd Most Common Venue</th>\n      <th>4th Most Common Venue</th>\n      <th>5th Most Common Venue</th>\n      <th>6th Most Common Venue</th>\n      <th>7th Most Common Venue</th>\n      <th>8th Most Common Venue</th>\n      <th>9th Most Common Venue</th>\n      <th>10th Most Common Venue</th>\n    </tr>\n  </thead>\n  <tbody>\n    <tr>\n      <th>13</th>\n      <td>Downtown Toronto</td>\n      <td>1</td>\n      <td>Park</td>\n      <td>Trail</td>\n      <td>Playground</td>\n      <td>Monument / Landmark</td>\n      <td>Market</td>\n      <td>Martial Arts School</td>\n      <td>Mediterranean Restaurant</td>\n      <td>Men's Store</td>\n      <td>Metro Station</td>\n      <td>Mexican Restaurant</td>\n    </tr>\n  </tbody>\n</table>\n</div>"
          },
          "metadata": {},
          "execution_count": 45
        }
      ],
      "metadata": {}
    },
    {
      "cell_type": "markdown",
      "source": [
        "#### Cluster 3"
      ],
      "attachments": {},
      "metadata": {}
    },
    {
      "cell_type": "code",
      "source": [
        "toronto_new_merged.loc[toronto_new_merged['Cluster Labels'] == 2,\n",
        "                       toronto_new_merged.columns[[1] + list(range(5, toronto_new_merged.shape[1]))]]"
      ],
      "execution_count": 47,
      "outputs": [
        {
          "output_type": "execute_result",
          "data": {
            "text/plain": [
              "            Borough  Cluster Labels 1st Most Common Venue  \\\n",
              "5  Downtown Toronto               2         Grocery Store   \n",
              "\n",
              "  2nd Most Common Venue 3rd Most Common Venue 4th Most Common Venue  \\\n",
              "5                  Café                  Park             Nightclub   \n",
              "\n",
              "  5th Most Common Venue 6th Most Common Venue 7th Most Common Venue  \\\n",
              "5            Restaurant           Candy Store    Italian Restaurant   \n",
              "\n",
              "  8th Most Common Venue 9th Most Common Venue 10th Most Common Venue  \n",
              "5            Baby Store    Athletics & Sports            Coffee Shop  "
            ],
            "text/html": "<div>\n<style scoped>\n    .dataframe tbody tr th:only-of-type {\n        vertical-align: middle;\n    }\n\n    .dataframe tbody tr th {\n        vertical-align: top;\n    }\n\n    .dataframe thead th {\n        text-align: right;\n    }\n</style>\n<table border=\"1\" class=\"dataframe\">\n  <thead>\n    <tr style=\"text-align: right;\">\n      <th></th>\n      <th>Borough</th>\n      <th>Cluster Labels</th>\n      <th>1st Most Common Venue</th>\n      <th>2nd Most Common Venue</th>\n      <th>3rd Most Common Venue</th>\n      <th>4th Most Common Venue</th>\n      <th>5th Most Common Venue</th>\n      <th>6th Most Common Venue</th>\n      <th>7th Most Common Venue</th>\n      <th>8th Most Common Venue</th>\n      <th>9th Most Common Venue</th>\n      <th>10th Most Common Venue</th>\n    </tr>\n  </thead>\n  <tbody>\n    <tr>\n      <th>5</th>\n      <td>Downtown Toronto</td>\n      <td>2</td>\n      <td>Grocery Store</td>\n      <td>Café</td>\n      <td>Park</td>\n      <td>Nightclub</td>\n      <td>Restaurant</td>\n      <td>Candy Store</td>\n      <td>Italian Restaurant</td>\n      <td>Baby Store</td>\n      <td>Athletics &amp; Sports</td>\n      <td>Coffee Shop</td>\n    </tr>\n  </tbody>\n</table>\n</div>"
          },
          "metadata": {},
          "execution_count": 47
        }
      ],
      "metadata": {}
    },
    {
      "source": [
        "#### Cluster 4"
      ],
      "cell_type": "markdown",
      "metadata": {}
    },
    {
      "cell_type": "code",
      "execution_count": 48,
      "metadata": {},
      "outputs": [
        {
          "output_type": "execute_result",
          "data": {
            "text/plain": [
              "             Borough  Cluster Labels 1st Most Common Venue  \\\n",
              "12  Downtown Toronto               3        Airport Lounge   \n",
              "\n",
              "   2nd Most Common Venue 3rd Most Common Venue 4th Most Common Venue  \\\n",
              "12       Airport Service      Airport Terminal         Boat or Ferry   \n",
              "\n",
              "   5th Most Common Venue 6th Most Common Venue 7th Most Common Venue  \\\n",
              "12                 Plane              Boutique      Sculpture Garden   \n",
              "\n",
              "   8th Most Common Venue 9th Most Common Venue 10th Most Common Venue  \n",
              "12   Rental Car Location                   Bar            Coffee Shop  "
            ],
            "text/html": "<div>\n<style scoped>\n    .dataframe tbody tr th:only-of-type {\n        vertical-align: middle;\n    }\n\n    .dataframe tbody tr th {\n        vertical-align: top;\n    }\n\n    .dataframe thead th {\n        text-align: right;\n    }\n</style>\n<table border=\"1\" class=\"dataframe\">\n  <thead>\n    <tr style=\"text-align: right;\">\n      <th></th>\n      <th>Borough</th>\n      <th>Cluster Labels</th>\n      <th>1st Most Common Venue</th>\n      <th>2nd Most Common Venue</th>\n      <th>3rd Most Common Venue</th>\n      <th>4th Most Common Venue</th>\n      <th>5th Most Common Venue</th>\n      <th>6th Most Common Venue</th>\n      <th>7th Most Common Venue</th>\n      <th>8th Most Common Venue</th>\n      <th>9th Most Common Venue</th>\n      <th>10th Most Common Venue</th>\n    </tr>\n  </thead>\n  <tbody>\n    <tr>\n      <th>12</th>\n      <td>Downtown Toronto</td>\n      <td>3</td>\n      <td>Airport Lounge</td>\n      <td>Airport Service</td>\n      <td>Airport Terminal</td>\n      <td>Boat or Ferry</td>\n      <td>Plane</td>\n      <td>Boutique</td>\n      <td>Sculpture Garden</td>\n      <td>Rental Car Location</td>\n      <td>Bar</td>\n      <td>Coffee Shop</td>\n    </tr>\n  </tbody>\n</table>\n</div>"
          },
          "metadata": {},
          "execution_count": 48
        }
      ],
      "source": [
        "toronto_new_merged.loc[toronto_new_merged['Cluster Labels'] == 3,\n",
        "                       toronto_new_merged.columns[[1] + list(range(5, toronto_new_merged.shape[1]))]]"
      ]
    },
    {
      "source": [
        "#### Cluster 5"
      ],
      "cell_type": "markdown",
      "metadata": {}
    },
    {
      "cell_type": "code",
      "execution_count": 49,
      "metadata": {},
      "outputs": [
        {
          "output_type": "execute_result",
          "data": {
            "text/plain": [
              "             Borough  Cluster Labels 1st Most Common Venue  \\\n",
              "10  Downtown Toronto               4                  Café   \n",
              "11  Downtown Toronto               4                  Café   \n",
              "\n",
              "    2nd Most Common Venue          3rd Most Common Venue  \\\n",
              "10                 Bakery            Japanese Restaurant   \n",
              "11  Vietnamese Restaurant  Vegetarian / Vegan Restaurant   \n",
              "\n",
              "   4th Most Common Venue 5th Most Common Venue 6th Most Common Venue  \\\n",
              "10             Bookstore                   Bar           Yoga Studio   \n",
              "11                   Bar                Bakery           Coffee Shop   \n",
              "\n",
              "   7th Most Common Venue 8th Most Common Venue 9th Most Common Venue  \\\n",
              "10         Poutine Place            Beer Store        Sandwich Place   \n",
              "11                  Park    Mexican Restaurant          Burger Joint   \n",
              "\n",
              "   10th Most Common Venue  \n",
              "10             Restaurant  \n",
              "11   Caribbean Restaurant  "
            ],
            "text/html": "<div>\n<style scoped>\n    .dataframe tbody tr th:only-of-type {\n        vertical-align: middle;\n    }\n\n    .dataframe tbody tr th {\n        vertical-align: top;\n    }\n\n    .dataframe thead th {\n        text-align: right;\n    }\n</style>\n<table border=\"1\" class=\"dataframe\">\n  <thead>\n    <tr style=\"text-align: right;\">\n      <th></th>\n      <th>Borough</th>\n      <th>Cluster Labels</th>\n      <th>1st Most Common Venue</th>\n      <th>2nd Most Common Venue</th>\n      <th>3rd Most Common Venue</th>\n      <th>4th Most Common Venue</th>\n      <th>5th Most Common Venue</th>\n      <th>6th Most Common Venue</th>\n      <th>7th Most Common Venue</th>\n      <th>8th Most Common Venue</th>\n      <th>9th Most Common Venue</th>\n      <th>10th Most Common Venue</th>\n    </tr>\n  </thead>\n  <tbody>\n    <tr>\n      <th>10</th>\n      <td>Downtown Toronto</td>\n      <td>4</td>\n      <td>Café</td>\n      <td>Bakery</td>\n      <td>Japanese Restaurant</td>\n      <td>Bookstore</td>\n      <td>Bar</td>\n      <td>Yoga Studio</td>\n      <td>Poutine Place</td>\n      <td>Beer Store</td>\n      <td>Sandwich Place</td>\n      <td>Restaurant</td>\n    </tr>\n    <tr>\n      <th>11</th>\n      <td>Downtown Toronto</td>\n      <td>4</td>\n      <td>Café</td>\n      <td>Vietnamese Restaurant</td>\n      <td>Vegetarian / Vegan Restaurant</td>\n      <td>Bar</td>\n      <td>Bakery</td>\n      <td>Coffee Shop</td>\n      <td>Park</td>\n      <td>Mexican Restaurant</td>\n      <td>Burger Joint</td>\n      <td>Caribbean Restaurant</td>\n    </tr>\n  </tbody>\n</table>\n</div>"
          },
          "metadata": {},
          "execution_count": 49
        }
      ],
      "source": [
        "toronto_new_merged.loc[toronto_new_merged['Cluster Labels'] == 4,\n",
        "                       toronto_new_merged.columns[[1] + list(range(5, toronto_new_merged.shape[1]))]]"
      ]
    }
  ],
  "metadata": {
    "kernelspec": {
      "name": "python3",
      "display_name": "Python 3.9.5 64-bit"
    },
    "interpreter": {
      "hash": "c159a77db371254e06fdd23e8e2ea5467ba30f69a4e058cfb7f096fc94f2a10a"
    }
  },
  "nbformat": 4,
  "nbformat_minor": 0
}